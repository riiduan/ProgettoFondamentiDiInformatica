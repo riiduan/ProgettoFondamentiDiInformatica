{
 "cells": [
  {
   "cell_type": "code",
   "execution_count": 2,
   "metadata": {},
   "outputs": [],
   "source": [
    "import pandas as pd\n",
    "import re\n",
    "import math\n",
    "import numpy as np"
   ]
  },
  {
   "cell_type": "markdown",
   "metadata": {},
   "source": [
    "## Preprocessing"
   ]
  },
  {
   "cell_type": "code",
   "execution_count": 3,
   "metadata": {},
   "outputs": [],
   "source": [
    "shanghaiDataset = \"https://raw.githubusercontent.com/riiduan/ProgettoFondamentiDiInformatica/main/data/shanghai.csv\"\n",
    "timesDataset = \"https://raw.githubusercontent.com/riiduan/ProgettoFondamentiDiInformatica/main/data/times.csv\"\n",
    "worldDataset=\"https://raw.githubusercontent.com/riiduan/ProgettoFondamentiDiInformatica/main/data/world.csv\"\n",
    "educational_attainment_supplementary_data =\"https://raw.githubusercontent.com/riiduan/ProgettoFondamentiDiInformatica/main/data/educational_attainment_supplementary_data.csv\""
   ]
  },
  {
   "cell_type": "code",
   "execution_count": null,
   "metadata": {},
   "outputs": [],
   "source": []
  },
  {
   "cell_type": "code",
   "execution_count": 4,
   "metadata": {},
   "outputs": [],
   "source": [
    "#funzione che legge file csv e restituisce pandas dataframe\n",
    "def readDataSet(url , sep =',' , encoding='utf8',header='infer'):\n",
    "    return pd.read_csv(url,sep=sep ,header=header,encoding=encoding)"
   ]
  },
  {
   "cell_type": "code",
   "execution_count": 5,
   "metadata": {},
   "outputs": [
    {
     "data": {
      "text/html": [
       "<div>\n",
       "<style scoped>\n",
       "    .dataframe tbody tr th:only-of-type {\n",
       "        vertical-align: middle;\n",
       "    }\n",
       "\n",
       "    .dataframe tbody tr th {\n",
       "        vertical-align: top;\n",
       "    }\n",
       "\n",
       "    .dataframe thead th {\n",
       "        text-align: right;\n",
       "    }\n",
       "</style>\n",
       "<table border=\"1\" class=\"dataframe\">\n",
       "  <thead>\n",
       "    <tr style=\"text-align: right;\">\n",
       "      <th></th>\n",
       "      <th>Unnamed: 0</th>\n",
       "      <th>world_rank</th>\n",
       "      <th>institution</th>\n",
       "      <th>country</th>\n",
       "      <th>national_rank</th>\n",
       "      <th>quality_of_education</th>\n",
       "      <th>alumni_employment</th>\n",
       "      <th>quality_of_faculty</th>\n",
       "      <th>publications</th>\n",
       "      <th>influence</th>\n",
       "      <th>citations</th>\n",
       "      <th>broad_impact</th>\n",
       "      <th>patents</th>\n",
       "      <th>score</th>\n",
       "      <th>year</th>\n",
       "    </tr>\n",
       "  </thead>\n",
       "  <tbody>\n",
       "    <tr>\n",
       "      <th>0</th>\n",
       "      <td>0</td>\n",
       "      <td>1</td>\n",
       "      <td>Harvard University</td>\n",
       "      <td>USA</td>\n",
       "      <td>1</td>\n",
       "      <td>7</td>\n",
       "      <td>9</td>\n",
       "      <td>1</td>\n",
       "      <td>1</td>\n",
       "      <td>1</td>\n",
       "      <td>1</td>\n",
       "      <td>NaN</td>\n",
       "      <td>5</td>\n",
       "      <td>100.00</td>\n",
       "      <td>2012</td>\n",
       "    </tr>\n",
       "    <tr>\n",
       "      <th>1</th>\n",
       "      <td>1</td>\n",
       "      <td>2</td>\n",
       "      <td>Massachusetts Institute of Technology</td>\n",
       "      <td>USA</td>\n",
       "      <td>2</td>\n",
       "      <td>9</td>\n",
       "      <td>17</td>\n",
       "      <td>3</td>\n",
       "      <td>12</td>\n",
       "      <td>4</td>\n",
       "      <td>4</td>\n",
       "      <td>NaN</td>\n",
       "      <td>1</td>\n",
       "      <td>91.67</td>\n",
       "      <td>2012</td>\n",
       "    </tr>\n",
       "    <tr>\n",
       "      <th>2</th>\n",
       "      <td>2</td>\n",
       "      <td>3</td>\n",
       "      <td>Stanford University</td>\n",
       "      <td>USA</td>\n",
       "      <td>3</td>\n",
       "      <td>17</td>\n",
       "      <td>11</td>\n",
       "      <td>5</td>\n",
       "      <td>4</td>\n",
       "      <td>2</td>\n",
       "      <td>2</td>\n",
       "      <td>NaN</td>\n",
       "      <td>15</td>\n",
       "      <td>89.50</td>\n",
       "      <td>2012</td>\n",
       "    </tr>\n",
       "    <tr>\n",
       "      <th>3</th>\n",
       "      <td>3</td>\n",
       "      <td>4</td>\n",
       "      <td>University of Cambridge</td>\n",
       "      <td>United Kingdom</td>\n",
       "      <td>1</td>\n",
       "      <td>10</td>\n",
       "      <td>24</td>\n",
       "      <td>4</td>\n",
       "      <td>16</td>\n",
       "      <td>16</td>\n",
       "      <td>11</td>\n",
       "      <td>NaN</td>\n",
       "      <td>50</td>\n",
       "      <td>86.17</td>\n",
       "      <td>2012</td>\n",
       "    </tr>\n",
       "    <tr>\n",
       "      <th>4</th>\n",
       "      <td>4</td>\n",
       "      <td>5</td>\n",
       "      <td>California Institute of Technology</td>\n",
       "      <td>USA</td>\n",
       "      <td>4</td>\n",
       "      <td>2</td>\n",
       "      <td>29</td>\n",
       "      <td>7</td>\n",
       "      <td>37</td>\n",
       "      <td>22</td>\n",
       "      <td>22</td>\n",
       "      <td>NaN</td>\n",
       "      <td>18</td>\n",
       "      <td>85.21</td>\n",
       "      <td>2012</td>\n",
       "    </tr>\n",
       "    <tr>\n",
       "      <th>...</th>\n",
       "      <td>...</td>\n",
       "      <td>...</td>\n",
       "      <td>...</td>\n",
       "      <td>...</td>\n",
       "      <td>...</td>\n",
       "      <td>...</td>\n",
       "      <td>...</td>\n",
       "      <td>...</td>\n",
       "      <td>...</td>\n",
       "      <td>...</td>\n",
       "      <td>...</td>\n",
       "      <td>...</td>\n",
       "      <td>...</td>\n",
       "      <td>...</td>\n",
       "      <td>...</td>\n",
       "    </tr>\n",
       "    <tr>\n",
       "      <th>2195</th>\n",
       "      <td>2195</td>\n",
       "      <td>996</td>\n",
       "      <td>University of the Algarve</td>\n",
       "      <td>Portugal</td>\n",
       "      <td>7</td>\n",
       "      <td>367</td>\n",
       "      <td>567</td>\n",
       "      <td>218</td>\n",
       "      <td>926</td>\n",
       "      <td>845</td>\n",
       "      <td>812</td>\n",
       "      <td>969.0</td>\n",
       "      <td>816</td>\n",
       "      <td>44.03</td>\n",
       "      <td>2015</td>\n",
       "    </tr>\n",
       "    <tr>\n",
       "      <th>2196</th>\n",
       "      <td>2196</td>\n",
       "      <td>997</td>\n",
       "      <td>Alexandria University</td>\n",
       "      <td>Egypt</td>\n",
       "      <td>4</td>\n",
       "      <td>236</td>\n",
       "      <td>566</td>\n",
       "      <td>218</td>\n",
       "      <td>997</td>\n",
       "      <td>908</td>\n",
       "      <td>645</td>\n",
       "      <td>981.0</td>\n",
       "      <td>871</td>\n",
       "      <td>44.03</td>\n",
       "      <td>2015</td>\n",
       "    </tr>\n",
       "    <tr>\n",
       "      <th>2197</th>\n",
       "      <td>2197</td>\n",
       "      <td>998</td>\n",
       "      <td>Federal University of Ceará</td>\n",
       "      <td>Brazil</td>\n",
       "      <td>18</td>\n",
       "      <td>367</td>\n",
       "      <td>549</td>\n",
       "      <td>218</td>\n",
       "      <td>830</td>\n",
       "      <td>823</td>\n",
       "      <td>812</td>\n",
       "      <td>975.0</td>\n",
       "      <td>824</td>\n",
       "      <td>44.03</td>\n",
       "      <td>2015</td>\n",
       "    </tr>\n",
       "    <tr>\n",
       "      <th>2198</th>\n",
       "      <td>2198</td>\n",
       "      <td>999</td>\n",
       "      <td>University of A Coruña</td>\n",
       "      <td>Spain</td>\n",
       "      <td>40</td>\n",
       "      <td>367</td>\n",
       "      <td>567</td>\n",
       "      <td>218</td>\n",
       "      <td>886</td>\n",
       "      <td>974</td>\n",
       "      <td>812</td>\n",
       "      <td>975.0</td>\n",
       "      <td>651</td>\n",
       "      <td>44.02</td>\n",
       "      <td>2015</td>\n",
       "    </tr>\n",
       "    <tr>\n",
       "      <th>2199</th>\n",
       "      <td>2199</td>\n",
       "      <td>1000</td>\n",
       "      <td>China Pharmaceutical University</td>\n",
       "      <td>China</td>\n",
       "      <td>83</td>\n",
       "      <td>367</td>\n",
       "      <td>567</td>\n",
       "      <td>218</td>\n",
       "      <td>861</td>\n",
       "      <td>991</td>\n",
       "      <td>812</td>\n",
       "      <td>981.0</td>\n",
       "      <td>547</td>\n",
       "      <td>44.02</td>\n",
       "      <td>2015</td>\n",
       "    </tr>\n",
       "  </tbody>\n",
       "</table>\n",
       "<p>2200 rows × 15 columns</p>\n",
       "</div>"
      ],
      "text/plain": [
       "      Unnamed: 0  world_rank                            institution  \\\n",
       "0              0           1                     Harvard University   \n",
       "1              1           2  Massachusetts Institute of Technology   \n",
       "2              2           3                    Stanford University   \n",
       "3              3           4                University of Cambridge   \n",
       "4              4           5     California Institute of Technology   \n",
       "...          ...         ...                                    ...   \n",
       "2195        2195         996              University of the Algarve   \n",
       "2196        2196         997                  Alexandria University   \n",
       "2197        2197         998            Federal University of Ceará   \n",
       "2198        2198         999                 University of A Coruña   \n",
       "2199        2199        1000        China Pharmaceutical University   \n",
       "\n",
       "             country  national_rank  quality_of_education  alumni_employment  \\\n",
       "0                USA              1                     7                  9   \n",
       "1                USA              2                     9                 17   \n",
       "2                USA              3                    17                 11   \n",
       "3     United Kingdom              1                    10                 24   \n",
       "4                USA              4                     2                 29   \n",
       "...              ...            ...                   ...                ...   \n",
       "2195        Portugal              7                   367                567   \n",
       "2196           Egypt              4                   236                566   \n",
       "2197          Brazil             18                   367                549   \n",
       "2198           Spain             40                   367                567   \n",
       "2199           China             83                   367                567   \n",
       "\n",
       "      quality_of_faculty  publications  influence  citations  broad_impact  \\\n",
       "0                      1             1          1          1           NaN   \n",
       "1                      3            12          4          4           NaN   \n",
       "2                      5             4          2          2           NaN   \n",
       "3                      4            16         16         11           NaN   \n",
       "4                      7            37         22         22           NaN   \n",
       "...                  ...           ...        ...        ...           ...   \n",
       "2195                 218           926        845        812         969.0   \n",
       "2196                 218           997        908        645         981.0   \n",
       "2197                 218           830        823        812         975.0   \n",
       "2198                 218           886        974        812         975.0   \n",
       "2199                 218           861        991        812         981.0   \n",
       "\n",
       "      patents   score  year  \n",
       "0           5  100.00  2012  \n",
       "1           1   91.67  2012  \n",
       "2          15   89.50  2012  \n",
       "3          50   86.17  2012  \n",
       "4          18   85.21  2012  \n",
       "...       ...     ...   ...  \n",
       "2195      816   44.03  2015  \n",
       "2196      871   44.03  2015  \n",
       "2197      824   44.03  2015  \n",
       "2198      651   44.02  2015  \n",
       "2199      547   44.02  2015  \n",
       "\n",
       "[2200 rows x 15 columns]"
      ]
     },
     "execution_count": 5,
     "metadata": {},
     "output_type": "execute_result"
    }
   ],
   "source": [
    "# leggo i dataset\n",
    "shanghai_df=readDataSet(shanghaiDataset)\n",
    "times_df=readDataSet(timesDataset)\n",
    "world_df=readDataSet(worldDataset)\n",
    "world_df"
   ]
  },
  {
   "cell_type": "code",
   "execution_count": null,
   "metadata": {},
   "outputs": [],
   "source": [
    "# tolgo le rige dove nome di universita è null\n",
    "\n",
    "index =shanghai_df[shanghai_df['university_name'].isnull()==True]\n",
    "shanghai_df.drop(index.index,inplace = True)\n",
    "shanghai_df.reset_index(drop=True, inplace=True)"
   ]
  },
  {
   "cell_type": "code",
   "execution_count": null,
   "metadata": {},
   "outputs": [],
   "source": []
  },
  {
   "cell_type": "code",
   "execution_count": null,
   "metadata": {},
   "outputs": [],
   "source": [
    "# rinomino institutution in \"university_name\" per averla uguale come i altri dataframe\n",
    "\n",
    "world_df.rename(columns={'institution':'university_name'},inplace=True)"
   ]
  },
  {
   "cell_type": "code",
   "execution_count": null,
   "metadata": {},
   "outputs": [],
   "source": [
    "shanghai_df.info()"
   ]
  },
  {
   "cell_type": "markdown",
   "metadata": {},
   "source": [
    "#### controllo le informazioni riguarda ogni dataframe per avere un visione di quanto rige ci sono e i tipo di colone"
   ]
  },
  {
   "cell_type": "code",
   "execution_count": null,
   "metadata": {},
   "outputs": [],
   "source": [
    "times_df.info()"
   ]
  },
  {
   "cell_type": "code",
   "execution_count": null,
   "metadata": {},
   "outputs": [],
   "source": [
    "world_df.info()"
   ]
  },
  {
   "cell_type": "markdown",
   "metadata": {},
   "source": [
    "## 1. For each university, extract from the times dataset the most recent and the least recent data, obtaining two separate dataframes"
   ]
  },
  {
   "cell_type": "code",
   "execution_count": null,
   "metadata": {},
   "outputs": [],
   "source": [
    "'''\n",
    "questo funzione prende come input il dataframe,  il flag ,e di default nome di universita ,anno,\n",
    "e in base se è max faccio groupby nome di universita e in base a anno prendo idmax altrimenti idxmin\n",
    " \n",
    "\n",
    "'''\n",
    "def extract_dataset_min_max(dataframe, flag ,university_name='university_name',year='year' ):\n",
    "    '''\n",
    "    find most recent or least recent of data\n",
    "    @dataframe : dataframe in input\n",
    "    @university_name  : column university name \n",
    "    @year : column year\n",
    "    @index : max or min\n",
    "    \n",
    "    '''\n",
    "    dataset = pd.DataFrame()\n",
    "    if(flag == 'max'):\n",
    "          dataset = dataframe.iloc[times_df.groupby(university_name)[year].idxmax()].copy()\n",
    "            \n",
    "    else: dataset = dataframe.iloc[times_df.groupby(university_name)[year].idxmin()].copy()\n",
    "    return dataset"
   ]
  },
  {
   "cell_type": "code",
   "execution_count": null,
   "metadata": {},
   "outputs": [],
   "source": []
  },
  {
   "cell_type": "code",
   "execution_count": null,
   "metadata": {},
   "outputs": [],
   "source": [
    "times_most_recent_data = extract_dataset_min_max(times_df,'max')"
   ]
  },
  {
   "cell_type": "code",
   "execution_count": null,
   "metadata": {},
   "outputs": [],
   "source": [
    "times_least_recent_data = extract_dataset_min_max(times_df,'min')"
   ]
  },
  {
   "cell_type": "code",
   "execution_count": null,
   "metadata": {},
   "outputs": [],
   "source": [
    "times_most_recent_data[['world_rank','university_name','year']].head(10)"
   ]
  },
  {
   "cell_type": "code",
   "execution_count": null,
   "metadata": {},
   "outputs": [],
   "source": []
  },
  {
   "cell_type": "code",
   "execution_count": null,
   "metadata": {},
   "outputs": [],
   "source": [
    "times_least_recent_data[['world_rank','university_name','year']].head(10)"
   ]
  },
  {
   "cell_type": "code",
   "execution_count": null,
   "metadata": {},
   "outputs": [],
   "source": []
  },
  {
   "cell_type": "markdown",
   "metadata": {},
   "source": [
    "\n",
    "## 2. For each university, compute the improvement in income between the least recent and the most recent data points"
   ]
  },
  {
   "cell_type": "markdown",
   "metadata": {},
   "source": [
    "nota : la colona \"income\" contiene valori \"-\" , percui prosego prima alla pulizia e poi lo converto in float"
   ]
  },
  {
   "cell_type": "code",
   "execution_count": null,
   "metadata": {},
   "outputs": [],
   "source": [
    "'''\n",
    "In questa funzione filtro le rige dove la colona income coniente il charatere '-' , prendo tre colone che mi intressano\n",
    "e converto la collona income in tipo float\n",
    "'''\n",
    "def clean_column_income(dataset):\n",
    "    dataset=dataset[dataset.income.str.contains('-') ==False][['university_name','income','year']].copy()\n",
    "    dataset.income=dataset.income.astype(float)\n",
    "    return dataset\n",
    "            "
   ]
  },
  {
   "cell_type": "code",
   "execution_count": null,
   "metadata": {},
   "outputs": [],
   "source": [
    "times_least_recent_data_clean = clean_column_income(times_least_recent_data)"
   ]
  },
  {
   "cell_type": "code",
   "execution_count": null,
   "metadata": {},
   "outputs": [],
   "source": [
    "times_most_recent_data_clean= clean_column_income(times_most_recent_data)"
   ]
  },
  {
   "cell_type": "markdown",
   "metadata": {},
   "source": [
    "Unisco i due dataset tramite la colona \"university_name\""
   ]
  },
  {
   "cell_type": "code",
   "execution_count": null,
   "metadata": {},
   "outputs": [],
   "source": [
    "union_most_and_least_data =pd.merge(times_least_recent_data_clean,times_most_recent_data_clean,on='university_name')"
   ]
  },
  {
   "cell_type": "markdown",
   "metadata": {},
   "source": [
    "rinomino le colone "
   ]
  },
  {
   "cell_type": "code",
   "execution_count": null,
   "metadata": {},
   "outputs": [],
   "source": [
    "union_most_and_least_data.rename(columns={'income_x':'income_level_least_recent','year_x':'year_least_recent','income_y':'income_level_most_recent','year_y':'year_most_recent'},inplace=True)\n",
    "union_most_and_least_data"
   ]
  },
  {
   "cell_type": "markdown",
   "metadata": {},
   "source": [
    "##### nota : alcuni universita hanno come \"year_most_recent\" e \"year_most_recent\" uguale percui non ha senso tenerli"
   ]
  },
  {
   "cell_type": "code",
   "execution_count": null,
   "metadata": {
    "scrolled": true
   },
   "outputs": [],
   "source": [
    "union_most_and_least_data[union_most_and_least_data['year_least_recent']==union_most_and_least_data['year_most_recent']].head(100)"
   ]
  },
  {
   "cell_type": "markdown",
   "metadata": {},
   "source": [
    "elimino queste colone"
   ]
  },
  {
   "cell_type": "code",
   "execution_count": null,
   "metadata": {},
   "outputs": [],
   "source": [
    "union_most_and_least_data.drop(union_most_and_least_data[union_most_and_least_data['year_least_recent']==union_most_and_least_data['year_most_recent']].index,inplace=True)"
   ]
  },
  {
   "cell_type": "markdown",
   "metadata": {},
   "source": [
    "calcolo la diferenza"
   ]
  },
  {
   "cell_type": "code",
   "execution_count": null,
   "metadata": {},
   "outputs": [],
   "source": [
    "union_most_and_least_data[\"diference_income\"] = union_most_and_least_data.income_level_most_recent - union_most_and_least_data.income_level_least_recent"
   ]
  },
  {
   "cell_type": "markdown",
   "metadata": {},
   "source": [
    "creo una colona \"improvement\" che mi indica UP o Down in base se la income è positiva o negativa"
   ]
  },
  {
   "cell_type": "code",
   "execution_count": null,
   "metadata": {},
   "outputs": [],
   "source": [
    "union_most_and_least_data[\"improvement\"] = np.where(union_most_and_least_data[\"diference_income\"] >= 0, \"UP\", \"Down\")"
   ]
  },
  {
   "cell_type": "code",
   "execution_count": null,
   "metadata": {},
   "outputs": [],
   "source": [
    "union_most_and_least_data.head(5)"
   ]
  },
  {
   "cell_type": "markdown",
   "metadata": {},
   "source": [
    "## 3. Find the university with the largest increase computed in the previous point"
   ]
  },
  {
   "cell_type": "code",
   "execution_count": null,
   "metadata": {},
   "outputs": [],
   "source": [
    "# filtro la colona diference_income dal dataset sopra che ha valore piu alto\n",
    "union_most_and_least_data[union_most_and_least_data.diference_income ==union_most_and_least_data.diference_income.max()]"
   ]
  },
  {
   "cell_type": "markdown",
   "metadata": {},
   "source": [
    "## 4. For each ranking, consider only the most recent data point. For each university, compute the maximum difference between the rankings (e.g. for Aarhus University the value is 122-73=49). Notice that some rankings are expressed as a range"
   ]
  },
  {
   "cell_type": "markdown",
   "metadata": {},
   "source": [
    "#### preprocessing "
   ]
  },
  {
   "cell_type": "markdown",
   "metadata": {},
   "source": [
    "nota: dataset shanghai_df , times_df ha alcuni valori espressi in range"
   ]
  },
  {
   "cell_type": "code",
   "execution_count": null,
   "metadata": {},
   "outputs": [],
   "source": [
    "shanghai_df[shanghai_df['world_rank'].str.contains('-')==True]['world_rank'].head(3)"
   ]
  },
  {
   "cell_type": "markdown",
   "metadata": {},
   "source": [
    "nota : time_df porta con se alcuni valri con segno '=' davanti, che significa valore uguale, percui se lo tolgo non perde significato"
   ]
  },
  {
   "cell_type": "code",
   "execution_count": null,
   "metadata": {},
   "outputs": [],
   "source": [
    "times_df[times_df['world_rank'].str.contains('=')==True]['world_rank'].head(3)"
   ]
  },
  {
   "cell_type": "code",
   "execution_count": null,
   "metadata": {},
   "outputs": [],
   "source": [
    "times_df['world_rank']=times_df['world_rank'].str.replace('=','')"
   ]
  },
  {
   "cell_type": "markdown",
   "metadata": {},
   "source": [
    "nota: world_df sembra ok , non ha valori in range e valori strani"
   ]
  },
  {
   "cell_type": "code",
   "execution_count": null,
   "metadata": {},
   "outputs": [],
   "source": [
    "world_df['world_rank'].dtype"
   ]
  },
  {
   "cell_type": "markdown",
   "metadata": {},
   "source": [
    " ### Dati più recenti per le tabelle 'shanghai_ranking', 'times_ranking' e 'world_ranking"
   ]
  },
  {
   "cell_type": "markdown",
   "metadata": {},
   "source": [
    "Shanghai"
   ]
  },
  {
   "cell_type": "code",
   "execution_count": null,
   "metadata": {},
   "outputs": [],
   "source": [
    "shanghai_most_recent_data = extract_dataset_min_max(shanghai_df,'max')"
   ]
  },
  {
   "cell_type": "code",
   "execution_count": null,
   "metadata": {},
   "outputs": [],
   "source": [
    "shanghai_most_recent_data.info()"
   ]
  },
  {
   "cell_type": "markdown",
   "metadata": {},
   "source": [
    "Times"
   ]
  },
  {
   "cell_type": "code",
   "execution_count": null,
   "metadata": {},
   "outputs": [],
   "source": [
    "times_most_recent_data = extract_dataset_min_max(times_df,'max')"
   ]
  },
  {
   "cell_type": "code",
   "execution_count": null,
   "metadata": {},
   "outputs": [],
   "source": [
    "times_most_recent_data.info()"
   ]
  },
  {
   "cell_type": "markdown",
   "metadata": {},
   "source": [
    "World  "
   ]
  },
  {
   "cell_type": "code",
   "execution_count": null,
   "metadata": {},
   "outputs": [],
   "source": [
    "world_df"
   ]
  },
  {
   "cell_type": "code",
   "execution_count": null,
   "metadata": {},
   "outputs": [],
   "source": [
    "world_df"
   ]
  },
  {
   "cell_type": "code",
   "execution_count": null,
   "metadata": {},
   "outputs": [],
   "source": [
    "world_most_recent_data = extract_dataset_min_max(world_df,'max','university_name','year')"
   ]
  },
  {
   "cell_type": "code",
   "execution_count": null,
   "metadata": {},
   "outputs": [],
   "source": [
    "world_most_recent_data.info()\n"
   ]
  },
  {
   "cell_type": "markdown",
   "metadata": {},
   "source": [
    "### Creo nuova colona con nomi di universita puliti (spazi,virgole,tutti minuscoli ect) cosi combaciano"
   ]
  },
  {
   "cell_type": "code",
   "execution_count": null,
   "metadata": {},
   "outputs": [],
   "source": [
    "def cleanNames(name):\n",
    "    cleanname =name.lower().replace(\"'\", \"\").replace(\" \", \"\").replace(\",\", \"\").replace(\"-\", \"\")\n",
    "    return cleanname"
   ]
  },
  {
   "cell_type": "code",
   "execution_count": null,
   "metadata": {},
   "outputs": [],
   "source": [
    "shanghai_most_recent_data['CleanUniNames'] = shanghai_most_recent_data.university_name.apply(cleanNames)"
   ]
  },
  {
   "cell_type": "code",
   "execution_count": null,
   "metadata": {},
   "outputs": [],
   "source": [
    "times_most_recent_data['CleanUniNames'] = times_most_recent_data.university_name.apply(cleanNames)\n"
   ]
  },
  {
   "cell_type": "code",
   "execution_count": null,
   "metadata": {},
   "outputs": [],
   "source": [
    "world_most_recent_data['CleanUniNames'] = world_most_recent_data.university_name.apply(cleanNames)"
   ]
  },
  {
   "cell_type": "markdown",
   "metadata": {},
   "source": [
    "### Prendo solo le colone che mi interessano"
   ]
  },
  {
   "cell_type": "code",
   "execution_count": null,
   "metadata": {},
   "outputs": [],
   "source": [
    "shanghai_sh=shanghai_most_recent_data[['CleanUniNames','university_name','world_rank']].rename(columns={\"world_rank\" : \"world_rank_shanghai\"})"
   ]
  },
  {
   "cell_type": "code",
   "execution_count": null,
   "metadata": {},
   "outputs": [],
   "source": [
    "print(shanghai_sh)"
   ]
  },
  {
   "cell_type": "code",
   "execution_count": null,
   "metadata": {},
   "outputs": [],
   "source": [
    "times_sh=times_most_recent_data[['CleanUniNames','world_rank']].rename(columns={\"world_rank\" : \"world_rank_times\"})"
   ]
  },
  {
   "cell_type": "code",
   "execution_count": null,
   "metadata": {},
   "outputs": [],
   "source": [
    "world_sh=world_most_recent_data[['CleanUniNames','world_rank']].rename(columns={\"world_rank\" : \"world_rank_world\"})"
   ]
  },
  {
   "cell_type": "markdown",
   "metadata": {},
   "source": [
    "### Inner join, prendo solo i nomi in comune"
   ]
  },
  {
   "cell_type": "code",
   "execution_count": null,
   "metadata": {},
   "outputs": [],
   "source": [
    "JoinTableFirst = shanghai_sh.join(times_sh.set_index('CleanUniNames'), on='CleanUniNames', how='inner')"
   ]
  },
  {
   "cell_type": "code",
   "execution_count": null,
   "metadata": {},
   "outputs": [],
   "source": [
    "JoinTable = JoinTableFirst.join(world_sh.set_index('CleanUniNames'), on='CleanUniNames', how='inner')"
   ]
  },
  {
   "cell_type": "code",
   "execution_count": null,
   "metadata": {},
   "outputs": [],
   "source": [
    "JoinTable"
   ]
  },
  {
   "cell_type": "markdown",
   "metadata": {},
   "source": [
    "### divido i range in due colone"
   ]
  },
  {
   "cell_type": "code",
   "execution_count": null,
   "metadata": {},
   "outputs": [],
   "source": [
    "def splitRange(columnValue):\n",
    "      result=columnValue.split('-')\n",
    "      if len(result) >1 :\n",
    "                return [int(result[0]),int(result[1])]\n",
    "      else:\n",
    "                return [int(result[0]),int(result[0])]"
   ]
  },
  {
   "cell_type": "code",
   "execution_count": null,
   "metadata": {},
   "outputs": [],
   "source": [
    "Mylist =[]\n",
    "def FindDiff(col1,col2,col3):\n",
    "    \n",
    "    Mylist.extend(splitRange(col1))\n",
    "    Mylist.extend(splitRange(col2))\n",
    "    Mylist.extend(splitRange(str(col3)))\n",
    "    Mylist.sort()\n",
    "    min1 = int(Mylist[0])\n",
    "    max1 =int(Mylist[-1])\n",
    "    Mylist.clear()\n",
    "    return max1-min1"
   ]
  },
  {
   "cell_type": "code",
   "execution_count": null,
   "metadata": {},
   "outputs": [],
   "source": [
    "JoinTable[\"MaxDiff\"]=JoinTable.apply(lambda x: FindDiff(x.world_rank_shanghai, x.world_rank_times,x.world_rank_world), axis=1 )"
   ]
  },
  {
   "cell_type": "code",
   "execution_count": null,
   "metadata": {},
   "outputs": [],
   "source": [
    "FinalTable = JoinTable[['university_name','world_rank_shanghai','world_rank_times', 'world_rank_world', 'MaxDiff']]"
   ]
  },
  {
   "cell_type": "code",
   "execution_count": null,
   "metadata": {},
   "outputs": [],
   "source": [
    "FinalTable.head(5)"
   ]
  },
  {
   "cell_type": "markdown",
   "metadata": {},
   "source": [
    "\n",
    "## 5. Consider only the most recent data point of the times dataset. Compute the number of male and female students for each country."
   ]
  },
  {
   "cell_type": "code",
   "execution_count": null,
   "metadata": {},
   "outputs": [],
   "source": [
    "times_most_recent_data.num_students"
   ]
  },
  {
   "cell_type": "code",
   "execution_count": null,
   "metadata": {},
   "outputs": [],
   "source": [
    "times_most_recent_data.num_students.hasnans"
   ]
  },
  {
   "cell_type": "markdown",
   "metadata": {},
   "source": [
    "#### Nota: vedo che la colona num_students usa la virgoa come seperatore di mille , percui gli tolgo"
   ]
  },
  {
   "cell_type": "code",
   "execution_count": null,
   "metadata": {},
   "outputs": [],
   "source": [
    "times_most_recent_data['num_students']=times_most_recent_data.num_students.str.replace(',','').astype(float)"
   ]
  },
  {
   "cell_type": "markdown",
   "metadata": {},
   "source": [
    "#### Controllo la collona female_male_ratio"
   ]
  },
  {
   "cell_type": "code",
   "execution_count": null,
   "metadata": {},
   "outputs": [],
   "source": [
    "times_most_recent_data.female_male_ratio.hasnans"
   ]
  },
  {
   "cell_type": "code",
   "execution_count": null,
   "metadata": {},
   "outputs": [],
   "source": [
    "times_most_recent_data.female_male_ratio.values"
   ]
  },
  {
   "cell_type": "markdown",
   "metadata": {},
   "source": [
    "#### Vedo che ha valori  \"-\" e valori \"nan\" , percui gli devo ignorare"
   ]
  },
  {
   "cell_type": "code",
   "execution_count": null,
   "metadata": {},
   "outputs": [],
   "source": [
    "times_most_recent_data.female_male_ratio"
   ]
  },
  {
   "cell_type": "code",
   "execution_count": null,
   "metadata": {},
   "outputs": [],
   "source": [
    "times_most_recent_data['first_condition'] = times_most_recent_data['female_male_ratio'].str.contains('-')==True\n",
    "times_most_recent_data['second_condition'] = times_most_recent_data['female_male_ratio'].isnull()\n",
    "times_most_recent_data['third_condition'] = times_most_recent_data['num_students'].isnull()"
   ]
  },
  {
   "cell_type": "markdown",
   "metadata": {},
   "source": [
    "### Costruisco due colone uno per numeri di maschi e uno per numero di femmine"
   ]
  },
  {
   "cell_type": "code",
   "execution_count": null,
   "metadata": {},
   "outputs": [],
   "source": [
    "def CalculateFemale(row):\n",
    "    if( row[\"first_condition\"] | row[\"second_condition\"] | row[\"third_condition\"]):\n",
    "        return None\n",
    "    \n",
    "    femaleratio = int(row[\"female_male_ratio\"].split(':')[0])\n",
    "    totalnrStudents = row[\"num_students\"]\n",
    "    return round((femaleratio/100) *totalnrStudents,0)\n",
    "    "
   ]
  },
  {
   "cell_type": "code",
   "execution_count": null,
   "metadata": {},
   "outputs": [],
   "source": [
    "times_most_recent_data[\"nr_female\"]= times_most_recent_data.apply(CalculateFemale , axis=1)"
   ]
  },
  {
   "cell_type": "code",
   "execution_count": null,
   "metadata": {},
   "outputs": [],
   "source": [
    "# Il numero di maschi è la differenza tra numero totale e numero di femmine\n",
    "times_most_recent_data[\"nr_male\"]=times_most_recent_data.num_students - times_most_recent_data.nr_female"
   ]
  },
  {
   "cell_type": "code",
   "execution_count": null,
   "metadata": {},
   "outputs": [],
   "source": [
    "times_most_recent_data[[\"country\",\"nr_female\",\"nr_male\",\"num_students\",\"female_male_ratio\"]]"
   ]
  },
  {
   "cell_type": "code",
   "execution_count": null,
   "metadata": {},
   "outputs": [],
   "source": [
    "lista =[\"nr_female\",\"nr_male\",\"num_students\"]"
   ]
  },
  {
   "cell_type": "code",
   "execution_count": null,
   "metadata": {},
   "outputs": [],
   "source": [
    "# raggruppo per country e faccio la somma\n",
    "\n",
    "female_male_df = times_most_recent_data.groupby('country', as_index=False)[lista].sum()"
   ]
  },
  {
   "cell_type": "code",
   "execution_count": null,
   "metadata": {},
   "outputs": [],
   "source": [
    "female_male_df.tail(16)"
   ]
  },
  {
   "cell_type": "markdown",
   "metadata": {},
   "source": [
    "### Note : Vedo che 2 nomi di universita sono scritti male percui gli elimino"
   ]
  },
  {
   "cell_type": "code",
   "execution_count": null,
   "metadata": {},
   "outputs": [],
   "source": [
    "female_male_df.drop([67,71], inplace=True)"
   ]
  },
  {
   "cell_type": "markdown",
   "metadata": {},
   "source": [
    "## 6. Find the universities where the ratio between female and male is below the average ratio (computed over all universities)"
   ]
  },
  {
   "cell_type": "code",
   "execution_count": null,
   "metadata": {},
   "outputs": [],
   "source": [
    "def Calcolate_ratio(row):\n",
    "    if math.isnan(row[\"nr_male\"]) or math.isnan(row[\"nr_female\"]) or row[\"nr_male\"] == 0:\n",
    "        return None\n",
    "    else:\n",
    "        return round((row[\"nr_female\"]/row[\"nr_male\"])*100)"
   ]
  },
  {
   "cell_type": "code",
   "execution_count": null,
   "metadata": {},
   "outputs": [],
   "source": [
    "times_most_recent_data[\"Ratio\"] = times_most_recent_data.apply(Calcolate_ratio,axis=1)"
   ]
  },
  {
   "cell_type": "code",
   "execution_count": null,
   "metadata": {},
   "outputs": [],
   "source": [
    "times_most_recent_data.Ratio"
   ]
  },
  {
   "cell_type": "code",
   "execution_count": null,
   "metadata": {},
   "outputs": [],
   "source": [
    "avarage_ratio = round(times_most_recent_data.Ratio.mean(),2)"
   ]
  },
  {
   "cell_type": "code",
   "execution_count": null,
   "metadata": {},
   "outputs": [],
   "source": [
    "avarage_ratio"
   ]
  },
  {
   "cell_type": "code",
   "execution_count": null,
   "metadata": {},
   "outputs": [],
   "source": [
    "female_male_below_ratio = times_most_recent_data[times_most_recent_data.Ratio < avarage_ratio]"
   ]
  },
  {
   "cell_type": "code",
   "execution_count": null,
   "metadata": {},
   "outputs": [],
   "source": [
    "female_male_below_ratio[[\"university_name\",\"Ratio\"]]"
   ]
  },
  {
   "cell_type": "markdown",
   "metadata": {},
   "source": [
    "## 7. For each country, compute the fraction of the students in the country that are in one of the universities computed in the previous point (that is, the denominator of the ratio is the total number of students over all universities in the country)."
   ]
  },
  {
   "cell_type": "code",
   "execution_count": null,
   "metadata": {},
   "outputs": [],
   "source": [
    "# Number of total student for country i have it from \"female_male_df\"\n",
    "female_male_df.head()"
   ]
  },
  {
   "cell_type": "code",
   "execution_count": null,
   "metadata": {},
   "outputs": [],
   "source": [
    "list_of_columns=[\"num_students\",\"country\"]\n",
    "students_below_ratio=female_male_below_ratio.groupby('country', as_index=False)[list_of_columns].sum()"
   ]
  },
  {
   "cell_type": "code",
   "execution_count": null,
   "metadata": {},
   "outputs": [],
   "source": []
  },
  {
   "cell_type": "code",
   "execution_count": null,
   "metadata": {},
   "outputs": [],
   "source": [
    "ratio_below_and_total = pd.merge(female_male_df, students_below_ratio, how=\"inner\", on=[\"country\"])\n",
    "ratio_below_and_total[\"Ratio\"] = round((ratio_below_and_total.num_students_y/ratio_below_and_total.num_students_x)*100,2)"
   ]
  },
  {
   "cell_type": "code",
   "execution_count": null,
   "metadata": {},
   "outputs": [],
   "source": [
    "#rename \"num_students_x\" to \"num_students_total\"  and \"num_students_y\" to \"num_students_below\"\n",
    "ratio_below_and_total = ratio_below_and_total.rename(columns={'num_students_x': 'num_students_total', 'num_students_y': 'num_students_below'})"
   ]
  },
  {
   "cell_type": "code",
   "execution_count": null,
   "metadata": {},
   "outputs": [],
   "source": [
    "ratio_below_and_total.head(10)"
   ]
  },
  {
   "cell_type": "markdown",
   "metadata": {},
   "source": [
    "## 8. Read the file educational_attainment_supplementary_data.csv, discarding any row with missing country_name or series_name"
   ]
  },
  {
   "cell_type": "code",
   "execution_count": null,
   "metadata": {},
   "outputs": [],
   "source": [
    "educational_attainment_supplementary =readDataSet(educational_attainment_supplementary_data)"
   ]
  },
  {
   "cell_type": "code",
   "execution_count": null,
   "metadata": {},
   "outputs": [],
   "source": [
    "index_to_drop=educational_attainment_supplementary[(educational_attainment_supplementary.country_name.isnull() ==True) | (educational_attainment_supplementary.series_name.isnull() ==True) ].index.values"
   ]
  },
  {
   "cell_type": "code",
   "execution_count": null,
   "metadata": {},
   "outputs": [],
   "source": [
    "educational_attainment_supplementary.drop(index_to_drop, inplace=True)"
   ]
  },
  {
   "cell_type": "markdown",
   "metadata": {},
   "source": [
    "\n",
    "## 9. From attainment build a dataframe with the same data, but with 4 columns: country_name, series_name, year, value"
   ]
  },
  {
   "cell_type": "code",
   "execution_count": null,
   "metadata": {},
   "outputs": [],
   "source": [
    "value_vars= ['1985', '1986', '1987', '1990', '1991',\n",
    "       '1992', '1993', '1995', '1996', '1997', '1998', '1999', '2000', '2001',\n",
    "       '2002', '2003', '2004', '2005', '2006', '2007', '2008', '2009', '2010',\n",
    "       '2011', '2012', '2013', '2015']\n",
    "id_vars=['country_name', 'series_name']"
   ]
  },
  {
   "cell_type": "code",
   "execution_count": null,
   "metadata": {},
   "outputs": [],
   "source": [
    "unpivot_attainment=pd.melt(educational_attainment_supplementary,id_vars=id_vars , value_vars=value_vars, var_name='year', value_name='value')"
   ]
  },
  {
   "cell_type": "code",
   "execution_count": null,
   "metadata": {},
   "outputs": [],
   "source": [
    "unpivot_attainment.head(5)"
   ]
  },
  {
   "cell_type": "markdown",
   "metadata": {},
   "source": [
    "## 10. For each university, find the number of rankings in which they appear (it suffices to appear in one year for each ranking)."
   ]
  },
  {
   "cell_type": "markdown",
   "metadata": {},
   "source": [
    "### nota : normalizo i nomi di universita utilizando la funzione cleanNames"
   ]
  },
  {
   "cell_type": "code",
   "execution_count": null,
   "metadata": {},
   "outputs": [],
   "source": [
    "times_df[\"uni_name_normalazed\"] = times_df.university_name.apply(cleanNames)"
   ]
  },
  {
   "cell_type": "code",
   "execution_count": null,
   "metadata": {},
   "outputs": [],
   "source": [
    "shanghai_df[\"uni_name_normalazed\"]= shanghai_df.university_name.apply(cleanNames)"
   ]
  },
  {
   "cell_type": "code",
   "execution_count": null,
   "metadata": {},
   "outputs": [],
   "source": [
    "world_df[\"uni_name_normalazed\"] = world_df.university_name.apply(cleanNames)"
   ]
  },
  {
   "cell_type": "code",
   "execution_count": null,
   "metadata": {},
   "outputs": [],
   "source": [
    "world_df.uni_name_normalazed"
   ]
  },
  {
   "cell_type": "code",
   "execution_count": null,
   "metadata": {},
   "outputs": [],
   "source": [
    "### procedo a prendere i nomi di universta per ciascun dataframe"
   ]
  },
  {
   "cell_type": "code",
   "execution_count": null,
   "metadata": {},
   "outputs": [],
   "source": [
    "times_df"
   ]
  },
  {
   "cell_type": "code",
   "execution_count": null,
   "metadata": {},
   "outputs": [],
   "source": [
    "times_uni = times_df[[\"university_name\",\"uni_name_normalazed\"]].groupby(\"uni_name_normalazed\").max()"
   ]
  },
  {
   "cell_type": "code",
   "execution_count": null,
   "metadata": {},
   "outputs": [],
   "source": [
    "times_uni"
   ]
  },
  {
   "cell_type": "code",
   "execution_count": null,
   "metadata": {},
   "outputs": [],
   "source": [
    "shanghai_uni = shanghai_df[[\"university_name\",\"uni_name_normalazed\"]].groupby(\"uni_name_normalazed\").max()"
   ]
  },
  {
   "cell_type": "code",
   "execution_count": null,
   "metadata": {},
   "outputs": [],
   "source": [
    "world_uni = world_df[[\"university_name\",\"uni_name_normalazed\"]].groupby(\"uni_name_normalazed\").max()"
   ]
  },
  {
   "cell_type": "code",
   "execution_count": null,
   "metadata": {},
   "outputs": [],
   "source": [
    "all_uni = times_uni.append(shanghai_uni).append(world_uni)"
   ]
  },
  {
   "cell_type": "code",
   "execution_count": null,
   "metadata": {},
   "outputs": [],
   "source": [
    "all_uni_group=all_uni.groupby(\"uni_name_normalazed\").count()"
   ]
  },
  {
   "cell_type": "code",
   "execution_count": null,
   "metadata": {},
   "outputs": [],
   "source": [
    "#i want to take back normal university name so i make a join\n",
    "all_uni_count_merge = pd.merge(all_uni,all_uni_group, on=\"uni_name_normalazed\")"
   ]
  },
  {
   "cell_type": "code",
   "execution_count": null,
   "metadata": {},
   "outputs": [],
   "source": [
    "# i have duplicates so i remove them, take off index, and rename all\n",
    "all_uni_count=all_uni_count_merge.drop_duplicates().reset_index()\\\n",
    "                .drop(\"uni_name_normalazed\" ,axis=1)\\\n",
    "                .rename(columns={'university_name_x': 'university_name','university_name_y':'count'}) "
   ]
  },
  {
   "cell_type": "code",
   "execution_count": null,
   "metadata": {},
   "outputs": [],
   "source": [
    "all_uni_count.head(5)"
   ]
  },
  {
   "cell_type": "markdown",
   "metadata": {},
   "source": [
    "## 11. In the times ranking, compute the number of times each university appears"
   ]
  },
  {
   "cell_type": "code",
   "execution_count": null,
   "metadata": {},
   "outputs": [],
   "source": [
    "times_count_uni=times_df.copy()"
   ]
  },
  {
   "cell_type": "code",
   "execution_count": null,
   "metadata": {},
   "outputs": [],
   "source": [
    "times_count_uni_pc =times_count_uni[[\"university_name\",\"uni_name_normalazed\"]]\\\n",
    "                    .groupby(\"university_name\" , as_index=False).count() \\\n",
    "                     .rename(columns={'uni_name_normalazed': 'count'}) "
   ]
  },
  {
   "cell_type": "code",
   "execution_count": null,
   "metadata": {},
   "outputs": [],
   "source": [
    "times_count_uni_pc.head(10)"
   ]
  },
  {
   "cell_type": "markdown",
   "metadata": {},
   "source": [
    "## 12. Find the universities that appear at most twice in the times ranking."
   ]
  },
  {
   "cell_type": "code",
   "execution_count": null,
   "metadata": {},
   "outputs": [],
   "source": [
    "uni_most_twice = times_count_uni_pc[times_count_uni_pc['count'] >= 2]"
   ]
  },
  {
   "cell_type": "code",
   "execution_count": null,
   "metadata": {},
   "outputs": [],
   "source": [
    "uni_most_twice.head(5)"
   ]
  },
  {
   "cell_type": "markdown",
   "metadata": {},
   "source": [
    "## 13. The universities that, in any year, have the same position in all three rankings (they must have the same position in a year)."
   ]
  },
  {
   "cell_type": "code",
   "execution_count": null,
   "metadata": {},
   "outputs": [],
   "source": [
    "shanghai_no_range = shanghai_df[shanghai_df['world_rank'].str.contains('-')==False]"
   ]
  },
  {
   "cell_type": "code",
   "execution_count": null,
   "metadata": {},
   "outputs": [],
   "source": [
    "times_no_range = times_df[times_df['world_rank'].str.contains('-')==False]"
   ]
  },
  {
   "cell_type": "code",
   "execution_count": null,
   "metadata": {},
   "outputs": [],
   "source": []
  },
  {
   "cell_type": "code",
   "execution_count": null,
   "metadata": {},
   "outputs": [],
   "source": [
    "shanghai_no_range =shanghai_no_range[[\"uni_name_normalazed\",\"university_name\",\"world_rank\",\"year\"]]"
   ]
  },
  {
   "cell_type": "code",
   "execution_count": null,
   "metadata": {},
   "outputs": [],
   "source": [
    "shanghai_no_range.world_rank = shanghai_no_range.world_rank.astype('int')"
   ]
  },
  {
   "cell_type": "code",
   "execution_count": null,
   "metadata": {},
   "outputs": [],
   "source": [
    "times_no_range=times_no_range[[\"uni_name_normalazed\",\"university_name\",\"world_rank\",\"year\"]]"
   ]
  },
  {
   "cell_type": "code",
   "execution_count": null,
   "metadata": {},
   "outputs": [],
   "source": [
    "times_no_range.world_rank=times_no_range.world_rank.astype('int')"
   ]
  },
  {
   "cell_type": "code",
   "execution_count": null,
   "metadata": {},
   "outputs": [],
   "source": [
    "worlddf=world_df[world_df[\"world_rank\"].isnull() == False][[\"uni_name_normalazed\",\"university_name\",\"world_rank\",\"year\"]]"
   ]
  },
  {
   "cell_type": "code",
   "execution_count": null,
   "metadata": {},
   "outputs": [],
   "source": [
    "first_union_df =pd.merge(shanghai_no_range,times_no_range,on=[\"uni_name_normalazed\",\"year\"])\\\n",
    "                            .drop(\"university_name_y\",axis=1)\\\n",
    "                             .rename(columns={'university_name_x': 'university','world_rank_x':'shanghai_rank','world_rank_y':'times_rank'}) "
   ]
  },
  {
   "cell_type": "code",
   "execution_count": null,
   "metadata": {},
   "outputs": [],
   "source": [
    "first_union_df"
   ]
  },
  {
   "cell_type": "code",
   "execution_count": null,
   "metadata": {},
   "outputs": [],
   "source": [
    "same_position = pd.merge(first_union_df,worlddf, on=[\"uni_name_normalazed\",\"year\"] )\\\n",
    "                        .drop(['university_name','uni_name_normalazed'],axis=1)"
   ]
  },
  {
   "cell_type": "code",
   "execution_count": null,
   "metadata": {},
   "outputs": [],
   "source": [
    "result = same_position[(same_position['shanghai_rank'] == same_position['times_rank'])\\\n",
    "                              & (same_position['times_rank'] == same_position['world_rank']) ]"
   ]
  },
  {
   "cell_type": "code",
   "execution_count": null,
   "metadata": {},
   "outputs": [],
   "source": [
    "result"
   ]
  },
  {
   "cell_type": "code",
   "execution_count": null,
   "metadata": {},
   "outputs": [],
   "source": []
  }
 ],
 "metadata": {
  "kernelspec": {
   "display_name": "Python 3",
   "language": "python",
   "name": "python3"
  },
  "language_info": {
   "codemirror_mode": {
    "name": "ipython",
    "version": 3
   },
   "file_extension": ".py",
   "mimetype": "text/x-python",
   "name": "python",
   "nbconvert_exporter": "python",
   "pygments_lexer": "ipython3",
   "version": "3.8.5"
  }
 },
 "nbformat": 4,
 "nbformat_minor": 4
}
