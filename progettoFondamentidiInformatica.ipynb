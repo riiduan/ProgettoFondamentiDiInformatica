{
 "cells": [
  {
   "cell_type": "code",
   "execution_count": 1,
   "metadata": {},
   "outputs": [],
   "source": [
    "import pandas as pd\n",
    "import re\n",
    "import math\n",
    "import numpy as np"
   ]
  },
  {
   "cell_type": "markdown",
   "metadata": {},
   "source": [
    "## Preprocessing"
   ]
  },
  {
   "cell_type": "code",
   "execution_count": 2,
   "metadata": {},
   "outputs": [],
   "source": [
    "shanghaiDataset = \"https://raw.githubusercontent.com/riiduan/ProgettoFondamentiDiInformatica/main/data/shanghai.csv\"\n",
    "timesDataset = \"https://raw.githubusercontent.com/riiduan/ProgettoFondamentiDiInformatica/main/data/times.csv\"\n",
    "worldDataset=\"https://raw.githubusercontent.com/riiduan/ProgettoFondamentiDiInformatica/main/data/world.csv\"\n",
    "educational_attainment_supplementary_data =\"https://raw.githubusercontent.com/riiduan/ProgettoFondamentiDiInformatica/main/data/educational_attainment_supplementary_data.csv\""
   ]
  },
  {
   "cell_type": "code",
   "execution_count": null,
   "metadata": {},
   "outputs": [],
   "source": []
  },
  {
   "cell_type": "code",
   "execution_count": 3,
   "metadata": {},
   "outputs": [],
   "source": [
    "#funzione che legge file csv e restituisce pandas dataframe\n",
    "def readDataSet(url , sep =',' , encoding='utf8',header='infer'):\n",
    "    return pd.read_csv(url,sep=sep ,header=header,encoding=encoding)"
   ]
  },
  {
   "cell_type": "code",
   "execution_count": 4,
   "metadata": {},
   "outputs": [],
   "source": [
    "# leggo i dataset\n",
    "shanghai_df=readDataSet(shanghaiDataset)\n",
    "times_df=readDataSet(timesDataset)\n",
    "world_df=readDataSet(worldDataset)"
   ]
  },
  {
   "cell_type": "code",
   "execution_count": 5,
   "metadata": {},
   "outputs": [],
   "source": [
    "# tolgo le rige dove nome di universita è null\n",
    "\n",
    "index =shanghai_df[shanghai_df['university_name'].isnull()==True]\n",
    "shanghai_df.drop(index.index,inplace = True)\n",
    "shanghai_df.reset_index(drop=True, inplace=True)"
   ]
  },
  {
   "cell_type": "code",
   "execution_count": null,
   "metadata": {},
   "outputs": [],
   "source": []
  },
  {
   "cell_type": "code",
   "execution_count": 6,
   "metadata": {},
   "outputs": [],
   "source": [
    "# rinomino institutution in \"university_name\" per averla uguale come i altri dataframe\n",
    "\n",
    "world_df.rename(columns={'institution':'university_name'},inplace=True)"
   ]
  },
  {
   "cell_type": "code",
   "execution_count": 7,
   "metadata": {},
   "outputs": [
    {
     "name": "stdout",
     "output_type": "stream",
     "text": [
      "<class 'pandas.core.frame.DataFrame'>\n",
      "RangeIndex: 4896 entries, 0 to 4895\n",
      "Data columns (total 11 columns):\n",
      " #   Column           Non-Null Count  Dtype  \n",
      "---  ------           --------------  -----  \n",
      " 0   world_rank       4896 non-null   object \n",
      " 1   university_name  4896 non-null   object \n",
      " 2   national_rank    4896 non-null   object \n",
      " 3   total_score      1101 non-null   float64\n",
      " 4   alumni           4896 non-null   float64\n",
      " 5   award            4895 non-null   float64\n",
      " 6   hici             4895 non-null   float64\n",
      " 7   ns               4875 non-null   float64\n",
      " 8   pub              4895 non-null   float64\n",
      " 9   pcp              4895 non-null   float64\n",
      " 10  year             4896 non-null   int64  \n",
      "dtypes: float64(7), int64(1), object(3)\n",
      "memory usage: 420.9+ KB\n"
     ]
    }
   ],
   "source": [
    "shanghai_df.info()"
   ]
  },
  {
   "cell_type": "markdown",
   "metadata": {},
   "source": [
    "#### controllo le informazioni riguarda ogni dataframe per avere un visione di quanto rige ci sono e i tipo di colone"
   ]
  },
  {
   "cell_type": "code",
   "execution_count": 8,
   "metadata": {},
   "outputs": [
    {
     "name": "stdout",
     "output_type": "stream",
     "text": [
      "<class 'pandas.core.frame.DataFrame'>\n",
      "RangeIndex: 2603 entries, 0 to 2602\n",
      "Data columns (total 14 columns):\n",
      " #   Column                  Non-Null Count  Dtype  \n",
      "---  ------                  --------------  -----  \n",
      " 0   world_rank              2603 non-null   object \n",
      " 1   university_name         2603 non-null   object \n",
      " 2   country                 2603 non-null   object \n",
      " 3   teaching                2603 non-null   float64\n",
      " 4   international           2603 non-null   object \n",
      " 5   research                2603 non-null   float64\n",
      " 6   citations               2603 non-null   float64\n",
      " 7   income                  2603 non-null   object \n",
      " 8   total_score             2603 non-null   object \n",
      " 9   num_students            2544 non-null   object \n",
      " 10  student_staff_ratio     2544 non-null   float64\n",
      " 11  international_students  2536 non-null   object \n",
      " 12  female_male_ratio       2370 non-null   object \n",
      " 13  year                    2603 non-null   int64  \n",
      "dtypes: float64(4), int64(1), object(9)\n",
      "memory usage: 284.8+ KB\n"
     ]
    }
   ],
   "source": [
    "times_df.info()"
   ]
  },
  {
   "cell_type": "code",
   "execution_count": 9,
   "metadata": {},
   "outputs": [
    {
     "name": "stdout",
     "output_type": "stream",
     "text": [
      "<class 'pandas.core.frame.DataFrame'>\n",
      "RangeIndex: 2200 entries, 0 to 2199\n",
      "Data columns (total 14 columns):\n",
      " #   Column                Non-Null Count  Dtype  \n",
      "---  ------                --------------  -----  \n",
      " 0   world_rank            2200 non-null   int64  \n",
      " 1   university_name       2200 non-null   object \n",
      " 2   country               2200 non-null   object \n",
      " 3   national_rank         2200 non-null   int64  \n",
      " 4   quality_of_education  2200 non-null   int64  \n",
      " 5   alumni_employment     2200 non-null   int64  \n",
      " 6   quality_of_faculty    2200 non-null   int64  \n",
      " 7   publications          2200 non-null   int64  \n",
      " 8   influence             2200 non-null   int64  \n",
      " 9   citations             2200 non-null   int64  \n",
      " 10  broad_impact          2000 non-null   float64\n",
      " 11  patents               2200 non-null   int64  \n",
      " 12  score                 2200 non-null   float64\n",
      " 13  year                  2200 non-null   int64  \n",
      "dtypes: float64(2), int64(10), object(2)\n",
      "memory usage: 240.8+ KB\n"
     ]
    }
   ],
   "source": [
    "world_df.info()"
   ]
  },
  {
   "cell_type": "markdown",
   "metadata": {},
   "source": [
    "## 1. For each university, extract from the times dataset the most recent and the least recent data, obtaining two separate dataframes"
   ]
  },
  {
   "cell_type": "code",
   "execution_count": 40,
   "metadata": {},
   "outputs": [],
   "source": [
    "'''\n",
    "questo funzione prende come input il dataframe,  il flag ,e di default nome di universita ,anno,\n",
    "e in base se è max faccio groupby nome di universita e in base a anno prendo idmax altrimenti idxmin\n",
    " \n",
    "\n",
    "'''\n",
    "def extract_dataset_min_max(dataframe, flag ,university_name='university_name',year='year' ):\n",
    "    '''\n",
    "    find most recent or least recent of data\n",
    "    @dataframe : dataframe in input\n",
    "    @university_name  : column university name \n",
    "    @year : column year\n",
    "    @index : max or min\n",
    "    \n",
    "    '''\n",
    "    dataset = pd.DataFrame()\n",
    "    if(flag == 'max'):\n",
    "          dataset = dataframe.iloc[dataframe.groupby(university_name)[year].idxmax()].copy()\n",
    "            \n",
    "    else: dataset = dataframe.iloc[dataframe.groupby(university_name)[year].idxmin()].copy()\n",
    "    return dataset"
   ]
  },
  {
   "cell_type": "code",
   "execution_count": null,
   "metadata": {},
   "outputs": [],
   "source": []
  },
  {
   "cell_type": "code",
   "execution_count": 41,
   "metadata": {},
   "outputs": [],
   "source": [
    "times_most_recent_data = extract_dataset_min_max(times_df,'max')"
   ]
  },
  {
   "cell_type": "code",
   "execution_count": 42,
   "metadata": {},
   "outputs": [],
   "source": [
    "times_least_recent_data = extract_dataset_min_max(times_df,'min')"
   ]
  },
  {
   "cell_type": "code",
   "execution_count": 43,
   "metadata": {},
   "outputs": [
    {
     "data": {
      "text/html": [
       "<div>\n",
       "<style scoped>\n",
       "    .dataframe tbody tr th:only-of-type {\n",
       "        vertical-align: middle;\n",
       "    }\n",
       "\n",
       "    .dataframe tbody tr th {\n",
       "        vertical-align: top;\n",
       "    }\n",
       "\n",
       "    .dataframe thead th {\n",
       "        text-align: right;\n",
       "    }\n",
       "</style>\n",
       "<table border=\"1\" class=\"dataframe\">\n",
       "  <thead>\n",
       "    <tr style=\"text-align: right;\">\n",
       "      <th></th>\n",
       "      <th>world_rank</th>\n",
       "      <th>university_name</th>\n",
       "      <th>year</th>\n",
       "    </tr>\n",
       "  </thead>\n",
       "  <tbody>\n",
       "    <tr>\n",
       "      <th>2405</th>\n",
       "      <td>601-800</td>\n",
       "      <td>AGH University of Science and Technology</td>\n",
       "      <td>2016</td>\n",
       "    </tr>\n",
       "    <tr>\n",
       "      <th>2003</th>\n",
       "      <td>201-250</td>\n",
       "      <td>Aalborg University</td>\n",
       "      <td>2016</td>\n",
       "    </tr>\n",
       "    <tr>\n",
       "      <th>2056</th>\n",
       "      <td>251-300</td>\n",
       "      <td>Aalto University</td>\n",
       "      <td>2016</td>\n",
       "    </tr>\n",
       "    <tr>\n",
       "      <th>1908</th>\n",
       "      <td>106</td>\n",
       "      <td>Aarhus University</td>\n",
       "      <td>2016</td>\n",
       "    </tr>\n",
       "    <tr>\n",
       "      <th>2105</th>\n",
       "      <td>301-350</td>\n",
       "      <td>Aberystwyth University</td>\n",
       "      <td>2016</td>\n",
       "    </tr>\n",
       "    <tr>\n",
       "      <th>2404</th>\n",
       "      <td>601-800</td>\n",
       "      <td>Adam Mickiewicz University</td>\n",
       "      <td>2016</td>\n",
       "    </tr>\n",
       "    <tr>\n",
       "      <th>2057</th>\n",
       "      <td>251-300</td>\n",
       "      <td>Aix-Marseille University</td>\n",
       "      <td>2016</td>\n",
       "    </tr>\n",
       "    <tr>\n",
       "      <th>2406</th>\n",
       "      <td>601-800</td>\n",
       "      <td>Ajou University</td>\n",
       "      <td>2016</td>\n",
       "    </tr>\n",
       "    <tr>\n",
       "      <th>2408</th>\n",
       "      <td>601-800</td>\n",
       "      <td>Alexandria University</td>\n",
       "      <td>2016</td>\n",
       "    </tr>\n",
       "    <tr>\n",
       "      <th>2409</th>\n",
       "      <td>601-800</td>\n",
       "      <td>Alexandru Ioan Cuza University</td>\n",
       "      <td>2016</td>\n",
       "    </tr>\n",
       "  </tbody>\n",
       "</table>\n",
       "</div>"
      ],
      "text/plain": [
       "     world_rank                           university_name  year\n",
       "2405    601-800  AGH University of Science and Technology  2016\n",
       "2003    201-250                        Aalborg University  2016\n",
       "2056    251-300                          Aalto University  2016\n",
       "1908        106                         Aarhus University  2016\n",
       "2105    301-350                    Aberystwyth University  2016\n",
       "2404    601-800                Adam Mickiewicz University  2016\n",
       "2057    251-300                  Aix-Marseille University  2016\n",
       "2406    601-800                           Ajou University  2016\n",
       "2408    601-800                     Alexandria University  2016\n",
       "2409    601-800            Alexandru Ioan Cuza University  2016"
      ]
     },
     "execution_count": 43,
     "metadata": {},
     "output_type": "execute_result"
    }
   ],
   "source": [
    "times_most_recent_data[['world_rank','university_name','year']].head(10)"
   ]
  },
  {
   "cell_type": "code",
   "execution_count": null,
   "metadata": {},
   "outputs": [],
   "source": []
  },
  {
   "cell_type": "code",
   "execution_count": 44,
   "metadata": {},
   "outputs": [
    {
     "data": {
      "text/html": [
       "<div>\n",
       "<style scoped>\n",
       "    .dataframe tbody tr th:only-of-type {\n",
       "        vertical-align: middle;\n",
       "    }\n",
       "\n",
       "    .dataframe tbody tr th {\n",
       "        vertical-align: top;\n",
       "    }\n",
       "\n",
       "    .dataframe thead th {\n",
       "        text-align: right;\n",
       "    }\n",
       "</style>\n",
       "<table border=\"1\" class=\"dataframe\">\n",
       "  <thead>\n",
       "    <tr style=\"text-align: right;\">\n",
       "      <th></th>\n",
       "      <th>world_rank</th>\n",
       "      <th>university_name</th>\n",
       "      <th>year</th>\n",
       "    </tr>\n",
       "  </thead>\n",
       "  <tbody>\n",
       "    <tr>\n",
       "      <th>2405</th>\n",
       "      <td>601-800</td>\n",
       "      <td>AGH University of Science and Technology</td>\n",
       "      <td>2016</td>\n",
       "    </tr>\n",
       "    <tr>\n",
       "      <th>501</th>\n",
       "      <td>301-350</td>\n",
       "      <td>Aalborg University</td>\n",
       "      <td>2012</td>\n",
       "    </tr>\n",
       "    <tr>\n",
       "      <th>502</th>\n",
       "      <td>301-350</td>\n",
       "      <td>Aalto University</td>\n",
       "      <td>2012</td>\n",
       "    </tr>\n",
       "    <tr>\n",
       "      <th>166</th>\n",
       "      <td>167</td>\n",
       "      <td>Aarhus University</td>\n",
       "      <td>2011</td>\n",
       "    </tr>\n",
       "    <tr>\n",
       "      <th>476</th>\n",
       "      <td>276-300</td>\n",
       "      <td>Aberystwyth University</td>\n",
       "      <td>2012</td>\n",
       "    </tr>\n",
       "    <tr>\n",
       "      <th>2404</th>\n",
       "      <td>601-800</td>\n",
       "      <td>Adam Mickiewicz University</td>\n",
       "      <td>2016</td>\n",
       "    </tr>\n",
       "    <tr>\n",
       "      <th>2057</th>\n",
       "      <td>251-300</td>\n",
       "      <td>Aix-Marseille University</td>\n",
       "      <td>2016</td>\n",
       "    </tr>\n",
       "    <tr>\n",
       "      <th>2406</th>\n",
       "      <td>601-800</td>\n",
       "      <td>Ajou University</td>\n",
       "      <td>2016</td>\n",
       "    </tr>\n",
       "    <tr>\n",
       "      <th>146</th>\n",
       "      <td>147</td>\n",
       "      <td>Alexandria University</td>\n",
       "      <td>2011</td>\n",
       "    </tr>\n",
       "    <tr>\n",
       "      <th>2409</th>\n",
       "      <td>601-800</td>\n",
       "      <td>Alexandru Ioan Cuza University</td>\n",
       "      <td>2016</td>\n",
       "    </tr>\n",
       "  </tbody>\n",
       "</table>\n",
       "</div>"
      ],
      "text/plain": [
       "     world_rank                           university_name  year\n",
       "2405    601-800  AGH University of Science and Technology  2016\n",
       "501     301-350                        Aalborg University  2012\n",
       "502     301-350                          Aalto University  2012\n",
       "166         167                         Aarhus University  2011\n",
       "476     276-300                    Aberystwyth University  2012\n",
       "2404    601-800                Adam Mickiewicz University  2016\n",
       "2057    251-300                  Aix-Marseille University  2016\n",
       "2406    601-800                           Ajou University  2016\n",
       "146         147                     Alexandria University  2011\n",
       "2409    601-800            Alexandru Ioan Cuza University  2016"
      ]
     },
     "execution_count": 44,
     "metadata": {},
     "output_type": "execute_result"
    }
   ],
   "source": [
    "times_least_recent_data[['world_rank','university_name','year']].head(10)"
   ]
  },
  {
   "cell_type": "code",
   "execution_count": null,
   "metadata": {},
   "outputs": [],
   "source": []
  },
  {
   "cell_type": "markdown",
   "metadata": {},
   "source": [
    "\n",
    "## 2. For each university, compute the improvement in income between the least recent and the most recent data points"
   ]
  },
  {
   "cell_type": "markdown",
   "metadata": {},
   "source": [
    "nota : la colona \"income\" contiene valori \"-\" , percui prosego prima alla pulizia e poi lo converto in float"
   ]
  },
  {
   "cell_type": "code",
   "execution_count": 45,
   "metadata": {},
   "outputs": [],
   "source": [
    "'''\n",
    "In questa funzione filtro le rige dove la colona income coniente il charatere '-' , prendo tre colone che mi intressano\n",
    "e converto la collona income in tipo float\n",
    "'''\n",
    "def clean_column_income(dataset):\n",
    "    dataset=dataset[dataset.income.str.contains('-') ==False][['university_name','income','year']].copy()\n",
    "    dataset.income=dataset.income.astype(float)\n",
    "    return dataset\n",
    "            "
   ]
  },
  {
   "cell_type": "code",
   "execution_count": 46,
   "metadata": {},
   "outputs": [],
   "source": [
    "times_least_recent_data_clean = clean_column_income(times_least_recent_data)"
   ]
  },
  {
   "cell_type": "code",
   "execution_count": 47,
   "metadata": {},
   "outputs": [],
   "source": [
    "times_most_recent_data_clean= clean_column_income(times_most_recent_data)"
   ]
  },
  {
   "cell_type": "markdown",
   "metadata": {},
   "source": [
    "Unisco i due dataset tramite la colona \"university_name\""
   ]
  },
  {
   "cell_type": "code",
   "execution_count": 48,
   "metadata": {},
   "outputs": [],
   "source": [
    "union_most_and_least_data =pd.merge(times_least_recent_data_clean,times_most_recent_data_clean,on='university_name')"
   ]
  },
  {
   "cell_type": "markdown",
   "metadata": {},
   "source": [
    "rinomino le colone "
   ]
  },
  {
   "cell_type": "code",
   "execution_count": 49,
   "metadata": {},
   "outputs": [
    {
     "data": {
      "text/html": [
       "<div>\n",
       "<style scoped>\n",
       "    .dataframe tbody tr th:only-of-type {\n",
       "        vertical-align: middle;\n",
       "    }\n",
       "\n",
       "    .dataframe tbody tr th {\n",
       "        vertical-align: top;\n",
       "    }\n",
       "\n",
       "    .dataframe thead th {\n",
       "        text-align: right;\n",
       "    }\n",
       "</style>\n",
       "<table border=\"1\" class=\"dataframe\">\n",
       "  <thead>\n",
       "    <tr style=\"text-align: right;\">\n",
       "      <th></th>\n",
       "      <th>university_name</th>\n",
       "      <th>income_level_least_recent</th>\n",
       "      <th>year_least_recent</th>\n",
       "      <th>income_level_most_recent</th>\n",
       "      <th>year_most_recent</th>\n",
       "    </tr>\n",
       "  </thead>\n",
       "  <tbody>\n",
       "    <tr>\n",
       "      <th>0</th>\n",
       "      <td>Aalborg University</td>\n",
       "      <td>36.4</td>\n",
       "      <td>2012</td>\n",
       "      <td>43.7</td>\n",
       "      <td>2016</td>\n",
       "    </tr>\n",
       "    <tr>\n",
       "      <th>1</th>\n",
       "      <td>Aalto University</td>\n",
       "      <td>61.9</td>\n",
       "      <td>2012</td>\n",
       "      <td>61.6</td>\n",
       "      <td>2016</td>\n",
       "    </tr>\n",
       "    <tr>\n",
       "      <th>2</th>\n",
       "      <td>Aarhus University</td>\n",
       "      <td>61.5</td>\n",
       "      <td>2011</td>\n",
       "      <td>68.3</td>\n",
       "      <td>2016</td>\n",
       "    </tr>\n",
       "    <tr>\n",
       "      <th>3</th>\n",
       "      <td>Aberystwyth University</td>\n",
       "      <td>35.5</td>\n",
       "      <td>2012</td>\n",
       "      <td>31.3</td>\n",
       "      <td>2016</td>\n",
       "    </tr>\n",
       "    <tr>\n",
       "      <th>4</th>\n",
       "      <td>Adam Mickiewicz University</td>\n",
       "      <td>28.7</td>\n",
       "      <td>2016</td>\n",
       "      <td>28.7</td>\n",
       "      <td>2016</td>\n",
       "    </tr>\n",
       "    <tr>\n",
       "      <th>...</th>\n",
       "      <td>...</td>\n",
       "      <td>...</td>\n",
       "      <td>...</td>\n",
       "      <td>...</td>\n",
       "      <td>...</td>\n",
       "    </tr>\n",
       "    <tr>\n",
       "      <th>699</th>\n",
       "      <td>Zhejiang University</td>\n",
       "      <td>70.3</td>\n",
       "      <td>2011</td>\n",
       "      <td>96.2</td>\n",
       "      <td>2016</td>\n",
       "    </tr>\n",
       "    <tr>\n",
       "      <th>700</th>\n",
       "      <td>École Normale Supérieure</td>\n",
       "      <td>30.7</td>\n",
       "      <td>2011</td>\n",
       "      <td>37.1</td>\n",
       "      <td>2016</td>\n",
       "    </tr>\n",
       "    <tr>\n",
       "      <th>701</th>\n",
       "      <td>École Normale Supérieure de Lyon</td>\n",
       "      <td>26.1</td>\n",
       "      <td>2011</td>\n",
       "      <td>31.7</td>\n",
       "      <td>2016</td>\n",
       "    </tr>\n",
       "    <tr>\n",
       "      <th>702</th>\n",
       "      <td>École Polytechnique Fédérale de Lausanne</td>\n",
       "      <td>38.0</td>\n",
       "      <td>2011</td>\n",
       "      <td>65.4</td>\n",
       "      <td>2016</td>\n",
       "    </tr>\n",
       "    <tr>\n",
       "      <th>703</th>\n",
       "      <td>Örebro University</td>\n",
       "      <td>29.8</td>\n",
       "      <td>2016</td>\n",
       "      <td>29.8</td>\n",
       "      <td>2016</td>\n",
       "    </tr>\n",
       "  </tbody>\n",
       "</table>\n",
       "<p>704 rows × 5 columns</p>\n",
       "</div>"
      ],
      "text/plain": [
       "                              university_name  income_level_least_recent  \\\n",
       "0                          Aalborg University                       36.4   \n",
       "1                            Aalto University                       61.9   \n",
       "2                           Aarhus University                       61.5   \n",
       "3                      Aberystwyth University                       35.5   \n",
       "4                  Adam Mickiewicz University                       28.7   \n",
       "..                                        ...                        ...   \n",
       "699                       Zhejiang University                       70.3   \n",
       "700                  École Normale Supérieure                       30.7   \n",
       "701          École Normale Supérieure de Lyon                       26.1   \n",
       "702  École Polytechnique Fédérale de Lausanne                       38.0   \n",
       "703                         Örebro University                       29.8   \n",
       "\n",
       "     year_least_recent  income_level_most_recent  year_most_recent  \n",
       "0                 2012                      43.7              2016  \n",
       "1                 2012                      61.6              2016  \n",
       "2                 2011                      68.3              2016  \n",
       "3                 2012                      31.3              2016  \n",
       "4                 2016                      28.7              2016  \n",
       "..                 ...                       ...               ...  \n",
       "699               2011                      96.2              2016  \n",
       "700               2011                      37.1              2016  \n",
       "701               2011                      31.7              2016  \n",
       "702               2011                      65.4              2016  \n",
       "703               2016                      29.8              2016  \n",
       "\n",
       "[704 rows x 5 columns]"
      ]
     },
     "execution_count": 49,
     "metadata": {},
     "output_type": "execute_result"
    }
   ],
   "source": [
    "union_most_and_least_data.rename(columns={'income_x':'income_level_least_recent','year_x':'year_least_recent','income_y':'income_level_most_recent','year_y':'year_most_recent'},inplace=True)\n",
    "union_most_and_least_data"
   ]
  },
  {
   "cell_type": "markdown",
   "metadata": {},
   "source": [
    "##### nota : alcuni universita hanno come \"year_most_recent\" e \"year_most_recent\" uguale percui non ha senso tenerli"
   ]
  },
  {
   "cell_type": "code",
   "execution_count": 50,
   "metadata": {
    "scrolled": true
   },
   "outputs": [
    {
     "data": {
      "text/html": [
       "<div>\n",
       "<style scoped>\n",
       "    .dataframe tbody tr th:only-of-type {\n",
       "        vertical-align: middle;\n",
       "    }\n",
       "\n",
       "    .dataframe tbody tr th {\n",
       "        vertical-align: top;\n",
       "    }\n",
       "\n",
       "    .dataframe thead th {\n",
       "        text-align: right;\n",
       "    }\n",
       "</style>\n",
       "<table border=\"1\" class=\"dataframe\">\n",
       "  <thead>\n",
       "    <tr style=\"text-align: right;\">\n",
       "      <th></th>\n",
       "      <th>university_name</th>\n",
       "      <th>income_level_least_recent</th>\n",
       "      <th>year_least_recent</th>\n",
       "      <th>income_level_most_recent</th>\n",
       "      <th>year_most_recent</th>\n",
       "    </tr>\n",
       "  </thead>\n",
       "  <tbody>\n",
       "    <tr>\n",
       "      <th>4</th>\n",
       "      <td>Adam Mickiewicz University</td>\n",
       "      <td>28.7</td>\n",
       "      <td>2016</td>\n",
       "      <td>28.7</td>\n",
       "      <td>2016</td>\n",
       "    </tr>\n",
       "    <tr>\n",
       "      <th>5</th>\n",
       "      <td>Aix-Marseille University</td>\n",
       "      <td>33.1</td>\n",
       "      <td>2016</td>\n",
       "      <td>33.1</td>\n",
       "      <td>2016</td>\n",
       "    </tr>\n",
       "    <tr>\n",
       "      <th>6</th>\n",
       "      <td>Ajou University</td>\n",
       "      <td>45.7</td>\n",
       "      <td>2016</td>\n",
       "      <td>45.7</td>\n",
       "      <td>2016</td>\n",
       "    </tr>\n",
       "    <tr>\n",
       "      <th>8</th>\n",
       "      <td>Alexandru Ioan Cuza University</td>\n",
       "      <td>28.2</td>\n",
       "      <td>2016</td>\n",
       "      <td>28.2</td>\n",
       "      <td>2016</td>\n",
       "    </tr>\n",
       "    <tr>\n",
       "      <th>9</th>\n",
       "      <td>Aligarh Muslim University</td>\n",
       "      <td>29.6</td>\n",
       "      <td>2016</td>\n",
       "      <td>29.6</td>\n",
       "      <td>2016</td>\n",
       "    </tr>\n",
       "    <tr>\n",
       "      <th>...</th>\n",
       "      <td>...</td>\n",
       "      <td>...</td>\n",
       "      <td>...</td>\n",
       "      <td>...</td>\n",
       "      <td>...</td>\n",
       "    </tr>\n",
       "    <tr>\n",
       "      <th>179</th>\n",
       "      <td>Khon Kaen University</td>\n",
       "      <td>35.7</td>\n",
       "      <td>2016</td>\n",
       "      <td>35.7</td>\n",
       "      <td>2016</td>\n",
       "    </tr>\n",
       "    <tr>\n",
       "      <th>181</th>\n",
       "      <td>King Fahd University of Petroleum and Minerals</td>\n",
       "      <td>81.2</td>\n",
       "      <td>2016</td>\n",
       "      <td>81.2</td>\n",
       "      <td>2016</td>\n",
       "    </tr>\n",
       "    <tr>\n",
       "      <th>184</th>\n",
       "      <td>Kingston University</td>\n",
       "      <td>28.5</td>\n",
       "      <td>2016</td>\n",
       "      <td>28.5</td>\n",
       "      <td>2016</td>\n",
       "    </tr>\n",
       "    <tr>\n",
       "      <th>186</th>\n",
       "      <td>Kinki University</td>\n",
       "      <td>33.2</td>\n",
       "      <td>2016</td>\n",
       "      <td>33.2</td>\n",
       "      <td>2016</td>\n",
       "    </tr>\n",
       "    <tr>\n",
       "      <th>188</th>\n",
       "      <td>Konkuk University</td>\n",
       "      <td>36.0</td>\n",
       "      <td>2016</td>\n",
       "      <td>36.0</td>\n",
       "      <td>2016</td>\n",
       "    </tr>\n",
       "  </tbody>\n",
       "</table>\n",
       "<p>100 rows × 5 columns</p>\n",
       "</div>"
      ],
      "text/plain": [
       "                                    university_name  \\\n",
       "4                        Adam Mickiewicz University   \n",
       "5                          Aix-Marseille University   \n",
       "6                                   Ajou University   \n",
       "8                    Alexandru Ioan Cuza University   \n",
       "9                         Aligarh Muslim University   \n",
       "..                                              ...   \n",
       "179                            Khon Kaen University   \n",
       "181  King Fahd University of Petroleum and Minerals   \n",
       "184                             Kingston University   \n",
       "186                                Kinki University   \n",
       "188                               Konkuk University   \n",
       "\n",
       "     income_level_least_recent  year_least_recent  income_level_most_recent  \\\n",
       "4                         28.7               2016                      28.7   \n",
       "5                         33.1               2016                      33.1   \n",
       "6                         45.7               2016                      45.7   \n",
       "8                         28.2               2016                      28.2   \n",
       "9                         29.6               2016                      29.6   \n",
       "..                         ...                ...                       ...   \n",
       "179                       35.7               2016                      35.7   \n",
       "181                       81.2               2016                      81.2   \n",
       "184                       28.5               2016                      28.5   \n",
       "186                       33.2               2016                      33.2   \n",
       "188                       36.0               2016                      36.0   \n",
       "\n",
       "     year_most_recent  \n",
       "4                2016  \n",
       "5                2016  \n",
       "6                2016  \n",
       "8                2016  \n",
       "9                2016  \n",
       "..                ...  \n",
       "179              2016  \n",
       "181              2016  \n",
       "184              2016  \n",
       "186              2016  \n",
       "188              2016  \n",
       "\n",
       "[100 rows x 5 columns]"
      ]
     },
     "execution_count": 50,
     "metadata": {},
     "output_type": "execute_result"
    }
   ],
   "source": [
    "union_most_and_least_data[union_most_and_least_data['year_least_recent']==union_most_and_least_data['year_most_recent']].head(100)"
   ]
  },
  {
   "cell_type": "markdown",
   "metadata": {},
   "source": [
    "elimino queste colone"
   ]
  },
  {
   "cell_type": "code",
   "execution_count": 51,
   "metadata": {},
   "outputs": [],
   "source": [
    "union_most_and_least_data.drop(union_most_and_least_data[union_most_and_least_data['year_least_recent']==union_most_and_least_data['year_most_recent']].index,inplace=True)"
   ]
  },
  {
   "cell_type": "markdown",
   "metadata": {},
   "source": [
    "calcolo la diferenza"
   ]
  },
  {
   "cell_type": "code",
   "execution_count": 52,
   "metadata": {},
   "outputs": [],
   "source": [
    "union_most_and_least_data[\"diference_income\"] = union_most_and_least_data.income_level_most_recent - union_most_and_least_data.income_level_least_recent"
   ]
  },
  {
   "cell_type": "markdown",
   "metadata": {},
   "source": [
    "creo una colona \"improvement\" che mi indica UP o Down in base se la income è positiva o negativa"
   ]
  },
  {
   "cell_type": "code",
   "execution_count": 53,
   "metadata": {},
   "outputs": [],
   "source": [
    "union_most_and_least_data[\"improvement\"] = np.where(union_most_and_least_data[\"diference_income\"] >= 0, \"UP\", \"Down\")"
   ]
  },
  {
   "cell_type": "code",
   "execution_count": 54,
   "metadata": {},
   "outputs": [
    {
     "data": {
      "text/html": [
       "<div>\n",
       "<style scoped>\n",
       "    .dataframe tbody tr th:only-of-type {\n",
       "        vertical-align: middle;\n",
       "    }\n",
       "\n",
       "    .dataframe tbody tr th {\n",
       "        vertical-align: top;\n",
       "    }\n",
       "\n",
       "    .dataframe thead th {\n",
       "        text-align: right;\n",
       "    }\n",
       "</style>\n",
       "<table border=\"1\" class=\"dataframe\">\n",
       "  <thead>\n",
       "    <tr style=\"text-align: right;\">\n",
       "      <th></th>\n",
       "      <th>university_name</th>\n",
       "      <th>income_level_least_recent</th>\n",
       "      <th>year_least_recent</th>\n",
       "      <th>income_level_most_recent</th>\n",
       "      <th>year_most_recent</th>\n",
       "      <th>diference_income</th>\n",
       "      <th>improvement</th>\n",
       "    </tr>\n",
       "  </thead>\n",
       "  <tbody>\n",
       "    <tr>\n",
       "      <th>0</th>\n",
       "      <td>Aalborg University</td>\n",
       "      <td>36.4</td>\n",
       "      <td>2012</td>\n",
       "      <td>43.7</td>\n",
       "      <td>2016</td>\n",
       "      <td>7.3</td>\n",
       "      <td>UP</td>\n",
       "    </tr>\n",
       "    <tr>\n",
       "      <th>1</th>\n",
       "      <td>Aalto University</td>\n",
       "      <td>61.9</td>\n",
       "      <td>2012</td>\n",
       "      <td>61.6</td>\n",
       "      <td>2016</td>\n",
       "      <td>-0.3</td>\n",
       "      <td>Down</td>\n",
       "    </tr>\n",
       "    <tr>\n",
       "      <th>2</th>\n",
       "      <td>Aarhus University</td>\n",
       "      <td>61.5</td>\n",
       "      <td>2011</td>\n",
       "      <td>68.3</td>\n",
       "      <td>2016</td>\n",
       "      <td>6.8</td>\n",
       "      <td>UP</td>\n",
       "    </tr>\n",
       "    <tr>\n",
       "      <th>3</th>\n",
       "      <td>Aberystwyth University</td>\n",
       "      <td>35.5</td>\n",
       "      <td>2012</td>\n",
       "      <td>31.3</td>\n",
       "      <td>2016</td>\n",
       "      <td>-4.2</td>\n",
       "      <td>Down</td>\n",
       "    </tr>\n",
       "    <tr>\n",
       "      <th>7</th>\n",
       "      <td>Alexandria University</td>\n",
       "      <td>36.0</td>\n",
       "      <td>2011</td>\n",
       "      <td>29.7</td>\n",
       "      <td>2016</td>\n",
       "      <td>-6.3</td>\n",
       "      <td>Down</td>\n",
       "    </tr>\n",
       "  </tbody>\n",
       "</table>\n",
       "</div>"
      ],
      "text/plain": [
       "          university_name  income_level_least_recent  year_least_recent  \\\n",
       "0      Aalborg University                       36.4               2012   \n",
       "1        Aalto University                       61.9               2012   \n",
       "2       Aarhus University                       61.5               2011   \n",
       "3  Aberystwyth University                       35.5               2012   \n",
       "7   Alexandria University                       36.0               2011   \n",
       "\n",
       "   income_level_most_recent  year_most_recent  diference_income improvement  \n",
       "0                      43.7              2016               7.3          UP  \n",
       "1                      61.6              2016              -0.3        Down  \n",
       "2                      68.3              2016               6.8          UP  \n",
       "3                      31.3              2016              -4.2        Down  \n",
       "7                      29.7              2016              -6.3        Down  "
      ]
     },
     "execution_count": 54,
     "metadata": {},
     "output_type": "execute_result"
    }
   ],
   "source": [
    "union_most_and_least_data.head(5)"
   ]
  },
  {
   "cell_type": "markdown",
   "metadata": {},
   "source": [
    "## 3. Find the university with the largest increase computed in the previous point"
   ]
  },
  {
   "cell_type": "code",
   "execution_count": 55,
   "metadata": {},
   "outputs": [
    {
     "data": {
      "text/html": [
       "<div>\n",
       "<style scoped>\n",
       "    .dataframe tbody tr th:only-of-type {\n",
       "        vertical-align: middle;\n",
       "    }\n",
       "\n",
       "    .dataframe tbody tr th {\n",
       "        vertical-align: top;\n",
       "    }\n",
       "\n",
       "    .dataframe thead th {\n",
       "        text-align: right;\n",
       "    }\n",
       "</style>\n",
       "<table border=\"1\" class=\"dataframe\">\n",
       "  <thead>\n",
       "    <tr style=\"text-align: right;\">\n",
       "      <th></th>\n",
       "      <th>university_name</th>\n",
       "      <th>income_level_least_recent</th>\n",
       "      <th>year_least_recent</th>\n",
       "      <th>income_level_most_recent</th>\n",
       "      <th>year_most_recent</th>\n",
       "      <th>diference_income</th>\n",
       "      <th>improvement</th>\n",
       "    </tr>\n",
       "  </thead>\n",
       "  <tbody>\n",
       "    <tr>\n",
       "      <th>373</th>\n",
       "      <td>TU Dresden</td>\n",
       "      <td>31.9</td>\n",
       "      <td>2012</td>\n",
       "      <td>99.7</td>\n",
       "      <td>2016</td>\n",
       "      <td>67.8</td>\n",
       "      <td>UP</td>\n",
       "    </tr>\n",
       "  </tbody>\n",
       "</table>\n",
       "</div>"
      ],
      "text/plain": [
       "    university_name  income_level_least_recent  year_least_recent  \\\n",
       "373      TU Dresden                       31.9               2012   \n",
       "\n",
       "     income_level_most_recent  year_most_recent  diference_income improvement  \n",
       "373                      99.7              2016              67.8          UP  "
      ]
     },
     "execution_count": 55,
     "metadata": {},
     "output_type": "execute_result"
    }
   ],
   "source": [
    "# filtro la colona diference_income dal dataset sopra che ha valore piu alto\n",
    "union_most_and_least_data[union_most_and_least_data.diference_income ==union_most_and_least_data.diference_income.max()]"
   ]
  },
  {
   "cell_type": "markdown",
   "metadata": {},
   "source": [
    "## 4. For each ranking, consider only the most recent data point. For each university, compute the maximum difference between the rankings (e.g. for Aarhus University the value is 122-73=49). Notice that some rankings are expressed as a range"
   ]
  },
  {
   "cell_type": "markdown",
   "metadata": {},
   "source": [
    "#### preprocessing "
   ]
  },
  {
   "cell_type": "markdown",
   "metadata": {},
   "source": [
    "nota: dataset shanghai_df , times_df ha alcuni valori espressi in range"
   ]
  },
  {
   "cell_type": "code",
   "execution_count": 56,
   "metadata": {},
   "outputs": [
    {
     "data": {
      "text/plain": [
       "100    101-152\n",
       "101    101-152\n",
       "102    101-152\n",
       "Name: world_rank, dtype: object"
      ]
     },
     "execution_count": 56,
     "metadata": {},
     "output_type": "execute_result"
    }
   ],
   "source": [
    "shanghai_df[shanghai_df['world_rank'].str.contains('-')==True]['world_rank'].head(3)"
   ]
  },
  {
   "cell_type": "markdown",
   "metadata": {},
   "source": [
    "nota : time_df porta con se alcuni valri con segno '=' davanti, che significa valore uguale, percui se lo tolgo non perde significato"
   ]
  },
  {
   "cell_type": "code",
   "execution_count": 57,
   "metadata": {},
   "outputs": [
    {
     "data": {
      "text/plain": [
       "Series([], Name: world_rank, dtype: object)"
      ]
     },
     "execution_count": 57,
     "metadata": {},
     "output_type": "execute_result"
    }
   ],
   "source": [
    "times_df[times_df['world_rank'].str.contains('=')==True]['world_rank'].head(3)"
   ]
  },
  {
   "cell_type": "code",
   "execution_count": 58,
   "metadata": {},
   "outputs": [],
   "source": [
    "times_df['world_rank']=times_df['world_rank'].str.replace('=','')"
   ]
  },
  {
   "cell_type": "markdown",
   "metadata": {},
   "source": [
    "nota: world_df sembra ok , non ha valori in range e valori strani"
   ]
  },
  {
   "cell_type": "code",
   "execution_count": 59,
   "metadata": {},
   "outputs": [
    {
     "data": {
      "text/plain": [
       "dtype('int64')"
      ]
     },
     "execution_count": 59,
     "metadata": {},
     "output_type": "execute_result"
    }
   ],
   "source": [
    "world_df['world_rank'].dtype"
   ]
  },
  {
   "cell_type": "markdown",
   "metadata": {},
   "source": [
    " ### Dati più recenti per le tabelle 'shanghai_ranking', 'times_ranking' e 'world_ranking"
   ]
  },
  {
   "cell_type": "markdown",
   "metadata": {},
   "source": [
    "Shanghai"
   ]
  },
  {
   "cell_type": "code",
   "execution_count": 60,
   "metadata": {},
   "outputs": [],
   "source": [
    "shanghai_most_recent_data = extract_dataset_min_max(shanghai_df,'max')"
   ]
  },
  {
   "cell_type": "code",
   "execution_count": 61,
   "metadata": {},
   "outputs": [
    {
     "name": "stdout",
     "output_type": "stream",
     "text": [
      "<class 'pandas.core.frame.DataFrame'>\n",
      "Int64Index: 658 entries, 4696 to 4545\n",
      "Data columns (total 11 columns):\n",
      " #   Column           Non-Null Count  Dtype  \n",
      "---  ------           --------------  -----  \n",
      " 0   world_rank       658 non-null    object \n",
      " 1   university_name  658 non-null    object \n",
      " 2   national_rank    658 non-null    object \n",
      " 3   total_score      112 non-null    float64\n",
      " 4   alumni           658 non-null    float64\n",
      " 5   award            658 non-null    float64\n",
      " 6   hici             658 non-null    float64\n",
      " 7   ns               655 non-null    float64\n",
      " 8   pub              658 non-null    float64\n",
      " 9   pcp              658 non-null    float64\n",
      " 10  year             658 non-null    int64  \n",
      "dtypes: float64(7), int64(1), object(3)\n",
      "memory usage: 61.7+ KB\n"
     ]
    }
   ],
   "source": [
    "shanghai_most_recent_data.info()"
   ]
  },
  {
   "cell_type": "markdown",
   "metadata": {},
   "source": [
    "Times"
   ]
  },
  {
   "cell_type": "code",
   "execution_count": 62,
   "metadata": {},
   "outputs": [],
   "source": [
    "times_most_recent_data = extract_dataset_min_max(times_df,'max')"
   ]
  },
  {
   "cell_type": "code",
   "execution_count": 63,
   "metadata": {},
   "outputs": [
    {
     "name": "stdout",
     "output_type": "stream",
     "text": [
      "<class 'pandas.core.frame.DataFrame'>\n",
      "Int64Index: 818 entries, 2405 to 2134\n",
      "Data columns (total 14 columns):\n",
      " #   Column                  Non-Null Count  Dtype  \n",
      "---  ------                  --------------  -----  \n",
      " 0   world_rank              818 non-null    object \n",
      " 1   university_name         818 non-null    object \n",
      " 2   country                 818 non-null    object \n",
      " 3   teaching                818 non-null    float64\n",
      " 4   international           818 non-null    object \n",
      " 5   research                818 non-null    float64\n",
      " 6   citations               818 non-null    float64\n",
      " 7   income                  818 non-null    object \n",
      " 8   total_score             818 non-null    object \n",
      " 9   num_students            796 non-null    object \n",
      " 10  student_staff_ratio     796 non-null    float64\n",
      " 11  international_students  793 non-null    object \n",
      " 12  female_male_ratio       742 non-null    object \n",
      " 13  year                    818 non-null    int64  \n",
      "dtypes: float64(4), int64(1), object(9)\n",
      "memory usage: 95.9+ KB\n"
     ]
    }
   ],
   "source": [
    "times_most_recent_data.info()"
   ]
  },
  {
   "cell_type": "markdown",
   "metadata": {},
   "source": [
    "World  "
   ]
  },
  {
   "cell_type": "code",
   "execution_count": 67,
   "metadata": {},
   "outputs": [],
   "source": [
    "world_most_recent_data = extract_dataset_min_max(world_df,\"max\")"
   ]
  },
  {
   "cell_type": "code",
   "execution_count": 68,
   "metadata": {},
   "outputs": [
    {
     "name": "stdout",
     "output_type": "stream",
     "text": [
      "<class 'pandas.core.frame.DataFrame'>\n",
      "Int64Index: 1024 entries, 1981 to 1838\n",
      "Data columns (total 14 columns):\n",
      " #   Column                Non-Null Count  Dtype  \n",
      "---  ------                --------------  -----  \n",
      " 0   world_rank            1024 non-null   int64  \n",
      " 1   university_name       1024 non-null   object \n",
      " 2   country               1024 non-null   object \n",
      " 3   national_rank         1024 non-null   int64  \n",
      " 4   quality_of_education  1024 non-null   int64  \n",
      " 5   alumni_employment     1024 non-null   int64  \n",
      " 6   quality_of_faculty    1024 non-null   int64  \n",
      " 7   publications          1024 non-null   int64  \n",
      " 8   influence             1024 non-null   int64  \n",
      " 9   citations             1024 non-null   int64  \n",
      " 10  broad_impact          1023 non-null   float64\n",
      " 11  patents               1024 non-null   int64  \n",
      " 12  score                 1024 non-null   float64\n",
      " 13  year                  1024 non-null   int64  \n",
      "dtypes: float64(2), int64(10), object(2)\n",
      "memory usage: 120.0+ KB\n"
     ]
    }
   ],
   "source": [
    "world_most_recent_data.info()\n"
   ]
  },
  {
   "cell_type": "markdown",
   "metadata": {},
   "source": [
    "### Creo nuova colona con nomi di universita puliti (spazi,virgole,tutti minuscoli ect) cosi combaciano"
   ]
  },
  {
   "cell_type": "code",
   "execution_count": 69,
   "metadata": {},
   "outputs": [],
   "source": [
    "def cleanNames(name):\n",
    "    cleanname =name.lower().replace(\"'\", \"\").replace(\" \", \"\").replace(\",\", \"\").replace(\"-\", \"\")\n",
    "    return cleanname"
   ]
  },
  {
   "cell_type": "code",
   "execution_count": 70,
   "metadata": {},
   "outputs": [],
   "source": [
    "shanghai_most_recent_data['CleanUniNames'] = shanghai_most_recent_data.university_name.apply(cleanNames)"
   ]
  },
  {
   "cell_type": "code",
   "execution_count": 71,
   "metadata": {},
   "outputs": [],
   "source": [
    "times_most_recent_data['CleanUniNames'] = times_most_recent_data.university_name.apply(cleanNames)\n"
   ]
  },
  {
   "cell_type": "code",
   "execution_count": 72,
   "metadata": {},
   "outputs": [],
   "source": [
    "world_most_recent_data['CleanUniNames'] = world_most_recent_data.university_name.apply(cleanNames)"
   ]
  },
  {
   "cell_type": "markdown",
   "metadata": {},
   "source": [
    "### Prendo solo le colone che mi interessano"
   ]
  },
  {
   "cell_type": "code",
   "execution_count": 73,
   "metadata": {},
   "outputs": [],
   "source": [
    "shanghai_sh=shanghai_most_recent_data[['CleanUniNames','university_name','world_rank']].rename(columns={\"world_rank\" : \"world_rank_shanghai\"})"
   ]
  },
  {
   "cell_type": "code",
   "execution_count": 74,
   "metadata": {},
   "outputs": [
    {
     "name": "stdout",
     "output_type": "stream",
     "text": [
      "               CleanUniNames           university_name world_rank_shanghai\n",
      "4696       aalborguniversity        Aalborg University             301-400\n",
      "4796         aaltouniversity          Aalto University             401-500\n",
      "4468        aarhusuniversity         Aarhus University                  73\n",
      "4496  aixmarseilleuniversity  Aix Marseille University             101-150\n",
      "3115  aixmarseilleuniversity  Aix-Marseille University             102-150\n",
      "...                      ...                       ...                 ...\n",
      "3512     yamaguchiuniversity      Yamaguchi University             401-500\n",
      "4694       yeshivauniversity        Yeshiva University             201-300\n",
      "4695        yonseiuniversity         Yonsei University             201-300\n",
      "4395          yorkuniversity           York University             401-500\n",
      "4545      zhejianguniversity       Zhejiang University             101-150\n",
      "\n",
      "[658 rows x 3 columns]\n"
     ]
    }
   ],
   "source": [
    "print(shanghai_sh)"
   ]
  },
  {
   "cell_type": "code",
   "execution_count": 78,
   "metadata": {},
   "outputs": [],
   "source": [
    "times_sh=times_most_recent_data[['CleanUniNames','world_rank']].rename(columns={\"world_rank\" : \"world_rank_times\"})"
   ]
  },
  {
   "cell_type": "code",
   "execution_count": 79,
   "metadata": {},
   "outputs": [],
   "source": [
    "world_sh=world_most_recent_data[['CleanUniNames','world_rank']].rename(columns={\"world_rank\" : \"world_rank_world\"})"
   ]
  },
  {
   "cell_type": "markdown",
   "metadata": {},
   "source": [
    "### Inner join, prendo solo i nomi in comune"
   ]
  },
  {
   "cell_type": "code",
   "execution_count": 80,
   "metadata": {},
   "outputs": [],
   "source": [
    "JoinTableFirst = shanghai_sh.join(times_sh.set_index('CleanUniNames'), on='CleanUniNames', how='inner')"
   ]
  },
  {
   "cell_type": "code",
   "execution_count": 81,
   "metadata": {},
   "outputs": [],
   "source": [
    "JoinTable = JoinTableFirst.join(world_sh.set_index('CleanUniNames'), on='CleanUniNames', how='inner')"
   ]
  },
  {
   "cell_type": "code",
   "execution_count": 82,
   "metadata": {},
   "outputs": [
    {
     "data": {
      "text/html": [
       "<div>\n",
       "<style scoped>\n",
       "    .dataframe tbody tr th:only-of-type {\n",
       "        vertical-align: middle;\n",
       "    }\n",
       "\n",
       "    .dataframe tbody tr th {\n",
       "        vertical-align: top;\n",
       "    }\n",
       "\n",
       "    .dataframe thead th {\n",
       "        text-align: right;\n",
       "    }\n",
       "</style>\n",
       "<table border=\"1\" class=\"dataframe\">\n",
       "  <thead>\n",
       "    <tr style=\"text-align: right;\">\n",
       "      <th></th>\n",
       "      <th>CleanUniNames</th>\n",
       "      <th>university_name</th>\n",
       "      <th>world_rank_shanghai</th>\n",
       "      <th>world_rank_times</th>\n",
       "      <th>world_rank_world</th>\n",
       "    </tr>\n",
       "  </thead>\n",
       "  <tbody>\n",
       "    <tr>\n",
       "      <th>4696</th>\n",
       "      <td>aalborguniversity</td>\n",
       "      <td>Aalborg University</td>\n",
       "      <td>301-400</td>\n",
       "      <td>201-250</td>\n",
       "      <td>565</td>\n",
       "    </tr>\n",
       "    <tr>\n",
       "      <th>4796</th>\n",
       "      <td>aaltouniversity</td>\n",
       "      <td>Aalto University</td>\n",
       "      <td>401-500</td>\n",
       "      <td>251-300</td>\n",
       "      <td>421</td>\n",
       "    </tr>\n",
       "    <tr>\n",
       "      <th>4468</th>\n",
       "      <td>aarhusuniversity</td>\n",
       "      <td>Aarhus University</td>\n",
       "      <td>73</td>\n",
       "      <td>106</td>\n",
       "      <td>122</td>\n",
       "    </tr>\n",
       "    <tr>\n",
       "      <th>4496</th>\n",
       "      <td>aixmarseilleuniversity</td>\n",
       "      <td>Aix Marseille University</td>\n",
       "      <td>101-150</td>\n",
       "      <td>251-300</td>\n",
       "      <td>206</td>\n",
       "    </tr>\n",
       "    <tr>\n",
       "      <th>3115</th>\n",
       "      <td>aixmarseilleuniversity</td>\n",
       "      <td>Aix-Marseille University</td>\n",
       "      <td>102-150</td>\n",
       "      <td>251-300</td>\n",
       "      <td>206</td>\n",
       "    </tr>\n",
       "    <tr>\n",
       "      <th>...</th>\n",
       "      <td>...</td>\n",
       "      <td>...</td>\n",
       "      <td>...</td>\n",
       "      <td>...</td>\n",
       "      <td>...</td>\n",
       "    </tr>\n",
       "    <tr>\n",
       "      <th>4406</th>\n",
       "      <td>yaleuniversity</td>\n",
       "      <td>Yale University</td>\n",
       "      <td>11</td>\n",
       "      <td>12</td>\n",
       "      <td>11</td>\n",
       "    </tr>\n",
       "    <tr>\n",
       "      <th>4694</th>\n",
       "      <td>yeshivauniversity</td>\n",
       "      <td>Yeshiva University</td>\n",
       "      <td>201-300</td>\n",
       "      <td>164</td>\n",
       "      <td>171</td>\n",
       "    </tr>\n",
       "    <tr>\n",
       "      <th>4695</th>\n",
       "      <td>yonseiuniversity</td>\n",
       "      <td>Yonsei University</td>\n",
       "      <td>201-300</td>\n",
       "      <td>301-350</td>\n",
       "      <td>98</td>\n",
       "    </tr>\n",
       "    <tr>\n",
       "      <th>4395</th>\n",
       "      <td>yorkuniversity</td>\n",
       "      <td>York University</td>\n",
       "      <td>401-500</td>\n",
       "      <td>301-350</td>\n",
       "      <td>337</td>\n",
       "    </tr>\n",
       "    <tr>\n",
       "      <th>4545</th>\n",
       "      <td>zhejianguniversity</td>\n",
       "      <td>Zhejiang University</td>\n",
       "      <td>101-150</td>\n",
       "      <td>251-300</td>\n",
       "      <td>191</td>\n",
       "    </tr>\n",
       "  </tbody>\n",
       "</table>\n",
       "<p>373 rows × 5 columns</p>\n",
       "</div>"
      ],
      "text/plain": [
       "               CleanUniNames           university_name world_rank_shanghai  \\\n",
       "4696       aalborguniversity        Aalborg University             301-400   \n",
       "4796         aaltouniversity          Aalto University             401-500   \n",
       "4468        aarhusuniversity         Aarhus University                  73   \n",
       "4496  aixmarseilleuniversity  Aix Marseille University             101-150   \n",
       "3115  aixmarseilleuniversity  Aix-Marseille University             102-150   \n",
       "...                      ...                       ...                 ...   \n",
       "4406          yaleuniversity           Yale University                  11   \n",
       "4694       yeshivauniversity        Yeshiva University             201-300   \n",
       "4695        yonseiuniversity         Yonsei University             201-300   \n",
       "4395          yorkuniversity           York University             401-500   \n",
       "4545      zhejianguniversity       Zhejiang University             101-150   \n",
       "\n",
       "     world_rank_times  world_rank_world  \n",
       "4696          201-250               565  \n",
       "4796          251-300               421  \n",
       "4468              106               122  \n",
       "4496          251-300               206  \n",
       "3115          251-300               206  \n",
       "...               ...               ...  \n",
       "4406               12                11  \n",
       "4694              164               171  \n",
       "4695          301-350                98  \n",
       "4395          301-350               337  \n",
       "4545          251-300               191  \n",
       "\n",
       "[373 rows x 5 columns]"
      ]
     },
     "execution_count": 82,
     "metadata": {},
     "output_type": "execute_result"
    }
   ],
   "source": [
    "JoinTable"
   ]
  },
  {
   "cell_type": "markdown",
   "metadata": {},
   "source": [
    "### divido i range in due colone"
   ]
  },
  {
   "cell_type": "code",
   "execution_count": null,
   "metadata": {},
   "outputs": [],
   "source": [
    "def splitRange(columnValue):\n",
    "      result=columnValue.split('-')\n",
    "      if len(result) >1 :\n",
    "                return [int(result[0]),int(result[1])]\n",
    "      else:\n",
    "                return [int(result[0]),int(result[0])]"
   ]
  },
  {
   "cell_type": "code",
   "execution_count": null,
   "metadata": {},
   "outputs": [],
   "source": [
    "Mylist =[]\n",
    "def FindDiff(col1,col2,col3):\n",
    "    \n",
    "    Mylist.extend(splitRange(col1))\n",
    "    Mylist.extend(splitRange(col2))\n",
    "    Mylist.extend(splitRange(str(col3)))\n",
    "    Mylist.sort()\n",
    "    min1 = int(Mylist[0])\n",
    "    max1 =int(Mylist[-1])\n",
    "    Mylist.clear()\n",
    "    return max1-min1"
   ]
  },
  {
   "cell_type": "code",
   "execution_count": null,
   "metadata": {},
   "outputs": [],
   "source": [
    "JoinTable[\"MaxDiff\"]=JoinTable.apply(lambda x: FindDiff(x.world_rank_shanghai, x.world_rank_times,x.world_rank_world), axis=1 )"
   ]
  },
  {
   "cell_type": "code",
   "execution_count": null,
   "metadata": {},
   "outputs": [],
   "source": [
    "FinalTable = JoinTable[['university_name','world_rank_shanghai','world_rank_times', 'world_rank_world', 'MaxDiff']]"
   ]
  },
  {
   "cell_type": "code",
   "execution_count": null,
   "metadata": {},
   "outputs": [],
   "source": [
    "FinalTable.head(5)"
   ]
  },
  {
   "cell_type": "markdown",
   "metadata": {},
   "source": [
    "\n",
    "## 5. Consider only the most recent data point of the times dataset. Compute the number of male and female students for each country."
   ]
  },
  {
   "cell_type": "code",
   "execution_count": null,
   "metadata": {},
   "outputs": [],
   "source": [
    "times_most_recent_data.num_students"
   ]
  },
  {
   "cell_type": "code",
   "execution_count": null,
   "metadata": {},
   "outputs": [],
   "source": [
    "times_most_recent_data.num_students.hasnans"
   ]
  },
  {
   "cell_type": "markdown",
   "metadata": {},
   "source": [
    "#### Nota: vedo che la colona num_students usa la virgoa come seperatore di mille , percui gli tolgo"
   ]
  },
  {
   "cell_type": "code",
   "execution_count": null,
   "metadata": {},
   "outputs": [],
   "source": [
    "times_most_recent_data['num_students']=times_most_recent_data.num_students.str.replace(',','').astype(float)"
   ]
  },
  {
   "cell_type": "markdown",
   "metadata": {},
   "source": [
    "#### Controllo la collona female_male_ratio"
   ]
  },
  {
   "cell_type": "code",
   "execution_count": null,
   "metadata": {},
   "outputs": [],
   "source": [
    "times_most_recent_data.female_male_ratio.hasnans"
   ]
  },
  {
   "cell_type": "code",
   "execution_count": null,
   "metadata": {},
   "outputs": [],
   "source": [
    "times_most_recent_data.female_male_ratio.values"
   ]
  },
  {
   "cell_type": "markdown",
   "metadata": {},
   "source": [
    "#### Vedo che ha valori  \"-\" e valori \"nan\" , percui gli devo ignorare"
   ]
  },
  {
   "cell_type": "code",
   "execution_count": null,
   "metadata": {},
   "outputs": [],
   "source": [
    "times_most_recent_data.female_male_ratio"
   ]
  },
  {
   "cell_type": "code",
   "execution_count": null,
   "metadata": {},
   "outputs": [],
   "source": [
    "times_most_recent_data['first_condition'] = times_most_recent_data['female_male_ratio'].str.contains('-')==True\n",
    "times_most_recent_data['second_condition'] = times_most_recent_data['female_male_ratio'].isnull()\n",
    "times_most_recent_data['third_condition'] = times_most_recent_data['num_students'].isnull()"
   ]
  },
  {
   "cell_type": "markdown",
   "metadata": {},
   "source": [
    "### Costruisco due colone uno per numeri di maschi e uno per numero di femmine"
   ]
  },
  {
   "cell_type": "code",
   "execution_count": null,
   "metadata": {},
   "outputs": [],
   "source": [
    "def CalculateFemale(row):\n",
    "    if( row[\"first_condition\"] | row[\"second_condition\"] | row[\"third_condition\"]):\n",
    "        return None\n",
    "    \n",
    "    femaleratio = int(row[\"female_male_ratio\"].split(':')[0])\n",
    "    totalnrStudents = row[\"num_students\"]\n",
    "    return round((femaleratio/100) *totalnrStudents,0)\n",
    "    "
   ]
  },
  {
   "cell_type": "code",
   "execution_count": null,
   "metadata": {},
   "outputs": [],
   "source": [
    "times_most_recent_data[\"nr_female\"]= times_most_recent_data.apply(CalculateFemale , axis=1)"
   ]
  },
  {
   "cell_type": "code",
   "execution_count": null,
   "metadata": {},
   "outputs": [],
   "source": [
    "# Il numero di maschi è la differenza tra numero totale e numero di femmine\n",
    "times_most_recent_data[\"nr_male\"]=times_most_recent_data.num_students - times_most_recent_data.nr_female"
   ]
  },
  {
   "cell_type": "code",
   "execution_count": null,
   "metadata": {},
   "outputs": [],
   "source": [
    "times_most_recent_data[[\"country\",\"nr_female\",\"nr_male\",\"num_students\",\"female_male_ratio\"]]"
   ]
  },
  {
   "cell_type": "code",
   "execution_count": null,
   "metadata": {},
   "outputs": [],
   "source": [
    "lista =[\"nr_female\",\"nr_male\",\"num_students\"]"
   ]
  },
  {
   "cell_type": "code",
   "execution_count": null,
   "metadata": {},
   "outputs": [],
   "source": [
    "# raggruppo per country e faccio la somma\n",
    "\n",
    "female_male_df = times_most_recent_data.groupby('country', as_index=False)[lista].sum()"
   ]
  },
  {
   "cell_type": "code",
   "execution_count": null,
   "metadata": {},
   "outputs": [],
   "source": [
    "female_male_df.tail(16)"
   ]
  },
  {
   "cell_type": "markdown",
   "metadata": {},
   "source": [
    "### Note : Vedo che 2 nomi di universita sono scritti male percui gli elimino"
   ]
  },
  {
   "cell_type": "code",
   "execution_count": null,
   "metadata": {},
   "outputs": [],
   "source": [
    "female_male_df.drop([67,71], inplace=True)"
   ]
  },
  {
   "cell_type": "markdown",
   "metadata": {},
   "source": [
    "## 6. Find the universities where the ratio between female and male is below the average ratio (computed over all universities)"
   ]
  },
  {
   "cell_type": "code",
   "execution_count": null,
   "metadata": {},
   "outputs": [],
   "source": [
    "def Calcolate_ratio(row):\n",
    "    if math.isnan(row[\"nr_male\"]) or math.isnan(row[\"nr_female\"]) or row[\"nr_male\"] == 0:\n",
    "        return None\n",
    "    else:\n",
    "        return round((row[\"nr_female\"]/row[\"nr_male\"])*100)"
   ]
  },
  {
   "cell_type": "code",
   "execution_count": null,
   "metadata": {},
   "outputs": [],
   "source": [
    "times_most_recent_data[\"Ratio\"] = times_most_recent_data.apply(Calcolate_ratio,axis=1)"
   ]
  },
  {
   "cell_type": "code",
   "execution_count": null,
   "metadata": {},
   "outputs": [],
   "source": [
    "times_most_recent_data.Ratio"
   ]
  },
  {
   "cell_type": "code",
   "execution_count": null,
   "metadata": {},
   "outputs": [],
   "source": [
    "avarage_ratio = round(times_most_recent_data.Ratio.mean(),2)"
   ]
  },
  {
   "cell_type": "code",
   "execution_count": null,
   "metadata": {},
   "outputs": [],
   "source": [
    "avarage_ratio"
   ]
  },
  {
   "cell_type": "code",
   "execution_count": null,
   "metadata": {},
   "outputs": [],
   "source": [
    "female_male_below_ratio = times_most_recent_data[times_most_recent_data.Ratio < avarage_ratio]"
   ]
  },
  {
   "cell_type": "code",
   "execution_count": null,
   "metadata": {},
   "outputs": [],
   "source": [
    "female_male_below_ratio[[\"university_name\",\"Ratio\"]]"
   ]
  },
  {
   "cell_type": "markdown",
   "metadata": {},
   "source": [
    "## 7. For each country, compute the fraction of the students in the country that are in one of the universities computed in the previous point (that is, the denominator of the ratio is the total number of students over all universities in the country)."
   ]
  },
  {
   "cell_type": "code",
   "execution_count": null,
   "metadata": {},
   "outputs": [],
   "source": [
    "# Number of total student for country i have it from \"female_male_df\"\n",
    "female_male_df.head()"
   ]
  },
  {
   "cell_type": "code",
   "execution_count": null,
   "metadata": {},
   "outputs": [],
   "source": [
    "list_of_columns=[\"num_students\",\"country\"]\n",
    "students_below_ratio=female_male_below_ratio.groupby('country', as_index=False)[list_of_columns].sum()"
   ]
  },
  {
   "cell_type": "code",
   "execution_count": null,
   "metadata": {},
   "outputs": [],
   "source": []
  },
  {
   "cell_type": "code",
   "execution_count": null,
   "metadata": {},
   "outputs": [],
   "source": [
    "ratio_below_and_total = pd.merge(female_male_df, students_below_ratio, how=\"inner\", on=[\"country\"])\n",
    "ratio_below_and_total[\"Ratio\"] = round((ratio_below_and_total.num_students_y/ratio_below_and_total.num_students_x)*100,2)"
   ]
  },
  {
   "cell_type": "code",
   "execution_count": null,
   "metadata": {},
   "outputs": [],
   "source": [
    "#rename \"num_students_x\" to \"num_students_total\"  and \"num_students_y\" to \"num_students_below\"\n",
    "ratio_below_and_total = ratio_below_and_total.rename(columns={'num_students_x': 'num_students_total', 'num_students_y': 'num_students_below'})"
   ]
  },
  {
   "cell_type": "code",
   "execution_count": null,
   "metadata": {},
   "outputs": [],
   "source": [
    "ratio_below_and_total.head(10)"
   ]
  },
  {
   "cell_type": "markdown",
   "metadata": {},
   "source": [
    "## 8. Read the file educational_attainment_supplementary_data.csv, discarding any row with missing country_name or series_name"
   ]
  },
  {
   "cell_type": "code",
   "execution_count": null,
   "metadata": {},
   "outputs": [],
   "source": [
    "educational_attainment_supplementary =readDataSet(educational_attainment_supplementary_data)"
   ]
  },
  {
   "cell_type": "code",
   "execution_count": null,
   "metadata": {},
   "outputs": [],
   "source": [
    "index_to_drop=educational_attainment_supplementary[(educational_attainment_supplementary.country_name.isnull() ==True) | (educational_attainment_supplementary.series_name.isnull() ==True) ].index.values"
   ]
  },
  {
   "cell_type": "code",
   "execution_count": null,
   "metadata": {},
   "outputs": [],
   "source": [
    "educational_attainment_supplementary.drop(index_to_drop, inplace=True)"
   ]
  },
  {
   "cell_type": "markdown",
   "metadata": {},
   "source": [
    "\n",
    "## 9. From attainment build a dataframe with the same data, but with 4 columns: country_name, series_name, year, value"
   ]
  },
  {
   "cell_type": "code",
   "execution_count": null,
   "metadata": {},
   "outputs": [],
   "source": [
    "value_vars= ['1985', '1986', '1987', '1990', '1991',\n",
    "       '1992', '1993', '1995', '1996', '1997', '1998', '1999', '2000', '2001',\n",
    "       '2002', '2003', '2004', '2005', '2006', '2007', '2008', '2009', '2010',\n",
    "       '2011', '2012', '2013', '2015']\n",
    "id_vars=['country_name', 'series_name']"
   ]
  },
  {
   "cell_type": "code",
   "execution_count": null,
   "metadata": {},
   "outputs": [],
   "source": [
    "unpivot_attainment=pd.melt(educational_attainment_supplementary,id_vars=id_vars , value_vars=value_vars, var_name='year', value_name='value')"
   ]
  },
  {
   "cell_type": "code",
   "execution_count": null,
   "metadata": {},
   "outputs": [],
   "source": [
    "unpivot_attainment.head(5)"
   ]
  },
  {
   "cell_type": "markdown",
   "metadata": {},
   "source": [
    "## 10. For each university, find the number of rankings in which they appear (it suffices to appear in one year for each ranking)."
   ]
  },
  {
   "cell_type": "markdown",
   "metadata": {},
   "source": [
    "### nota : normalizo i nomi di universita utilizando la funzione cleanNames"
   ]
  },
  {
   "cell_type": "code",
   "execution_count": null,
   "metadata": {},
   "outputs": [],
   "source": [
    "times_df[\"uni_name_normalazed\"] = times_df.university_name.apply(cleanNames)"
   ]
  },
  {
   "cell_type": "code",
   "execution_count": null,
   "metadata": {},
   "outputs": [],
   "source": [
    "shanghai_df[\"uni_name_normalazed\"]= shanghai_df.university_name.apply(cleanNames)"
   ]
  },
  {
   "cell_type": "code",
   "execution_count": null,
   "metadata": {},
   "outputs": [],
   "source": [
    "world_df[\"uni_name_normalazed\"] = world_df.university_name.apply(cleanNames)"
   ]
  },
  {
   "cell_type": "code",
   "execution_count": null,
   "metadata": {},
   "outputs": [],
   "source": [
    "world_df.uni_name_normalazed"
   ]
  },
  {
   "cell_type": "code",
   "execution_count": null,
   "metadata": {},
   "outputs": [],
   "source": [
    "### procedo a prendere i nomi di universta per ciascun dataframe"
   ]
  },
  {
   "cell_type": "code",
   "execution_count": null,
   "metadata": {},
   "outputs": [],
   "source": [
    "times_df"
   ]
  },
  {
   "cell_type": "code",
   "execution_count": null,
   "metadata": {},
   "outputs": [],
   "source": [
    "times_uni = times_df[[\"university_name\",\"uni_name_normalazed\"]].groupby(\"uni_name_normalazed\").max()"
   ]
  },
  {
   "cell_type": "code",
   "execution_count": null,
   "metadata": {},
   "outputs": [],
   "source": [
    "times_uni"
   ]
  },
  {
   "cell_type": "code",
   "execution_count": null,
   "metadata": {},
   "outputs": [],
   "source": [
    "shanghai_uni = shanghai_df[[\"university_name\",\"uni_name_normalazed\"]].groupby(\"uni_name_normalazed\").max()"
   ]
  },
  {
   "cell_type": "code",
   "execution_count": null,
   "metadata": {},
   "outputs": [],
   "source": [
    "world_uni = world_df[[\"university_name\",\"uni_name_normalazed\"]].groupby(\"uni_name_normalazed\").max()"
   ]
  },
  {
   "cell_type": "code",
   "execution_count": null,
   "metadata": {},
   "outputs": [],
   "source": [
    "all_uni = times_uni.append(shanghai_uni).append(world_uni)"
   ]
  },
  {
   "cell_type": "code",
   "execution_count": null,
   "metadata": {},
   "outputs": [],
   "source": [
    "all_uni_group=all_uni.groupby(\"uni_name_normalazed\").count()"
   ]
  },
  {
   "cell_type": "code",
   "execution_count": null,
   "metadata": {},
   "outputs": [],
   "source": [
    "#i want to take back normal university name so i make a join\n",
    "all_uni_count_merge = pd.merge(all_uni,all_uni_group, on=\"uni_name_normalazed\")"
   ]
  },
  {
   "cell_type": "code",
   "execution_count": null,
   "metadata": {},
   "outputs": [],
   "source": [
    "# i have duplicates so i remove them, take off index, and rename all\n",
    "all_uni_count=all_uni_count_merge.drop_duplicates().reset_index()\\\n",
    "                .drop(\"uni_name_normalazed\" ,axis=1)\\\n",
    "                .rename(columns={'university_name_x': 'university_name','university_name_y':'count'}) "
   ]
  },
  {
   "cell_type": "code",
   "execution_count": null,
   "metadata": {},
   "outputs": [],
   "source": [
    "all_uni_count.head(5)"
   ]
  },
  {
   "cell_type": "markdown",
   "metadata": {},
   "source": [
    "## 11. In the times ranking, compute the number of times each university appears"
   ]
  },
  {
   "cell_type": "code",
   "execution_count": null,
   "metadata": {},
   "outputs": [],
   "source": [
    "times_count_uni=times_df.copy()"
   ]
  },
  {
   "cell_type": "code",
   "execution_count": null,
   "metadata": {},
   "outputs": [],
   "source": [
    "times_count_uni_pc =times_count_uni[[\"university_name\",\"uni_name_normalazed\"]]\\\n",
    "                    .groupby(\"university_name\" , as_index=False).count() \\\n",
    "                     .rename(columns={'uni_name_normalazed': 'count'}) "
   ]
  },
  {
   "cell_type": "code",
   "execution_count": null,
   "metadata": {},
   "outputs": [],
   "source": [
    "times_count_uni_pc.head(10)"
   ]
  },
  {
   "cell_type": "markdown",
   "metadata": {},
   "source": [
    "## 12. Find the universities that appear at most twice in the times ranking."
   ]
  },
  {
   "cell_type": "code",
   "execution_count": null,
   "metadata": {},
   "outputs": [],
   "source": [
    "uni_most_twice = times_count_uni_pc[times_count_uni_pc['count'] >= 2]"
   ]
  },
  {
   "cell_type": "code",
   "execution_count": null,
   "metadata": {},
   "outputs": [],
   "source": [
    "uni_most_twice.head(5)"
   ]
  },
  {
   "cell_type": "markdown",
   "metadata": {},
   "source": [
    "## 13. The universities that, in any year, have the same position in all three rankings (they must have the same position in a year)."
   ]
  },
  {
   "cell_type": "code",
   "execution_count": null,
   "metadata": {},
   "outputs": [],
   "source": [
    "shanghai_no_range = shanghai_df[shanghai_df['world_rank'].str.contains('-')==False]"
   ]
  },
  {
   "cell_type": "code",
   "execution_count": null,
   "metadata": {},
   "outputs": [],
   "source": [
    "times_no_range = times_df[times_df['world_rank'].str.contains('-')==False]"
   ]
  },
  {
   "cell_type": "code",
   "execution_count": null,
   "metadata": {},
   "outputs": [],
   "source": []
  },
  {
   "cell_type": "code",
   "execution_count": null,
   "metadata": {},
   "outputs": [],
   "source": [
    "shanghai_no_range =shanghai_no_range[[\"uni_name_normalazed\",\"university_name\",\"world_rank\",\"year\"]]"
   ]
  },
  {
   "cell_type": "code",
   "execution_count": null,
   "metadata": {},
   "outputs": [],
   "source": [
    "shanghai_no_range.world_rank = shanghai_no_range.world_rank.astype('int')"
   ]
  },
  {
   "cell_type": "code",
   "execution_count": null,
   "metadata": {},
   "outputs": [],
   "source": [
    "times_no_range=times_no_range[[\"uni_name_normalazed\",\"university_name\",\"world_rank\",\"year\"]]"
   ]
  },
  {
   "cell_type": "code",
   "execution_count": null,
   "metadata": {},
   "outputs": [],
   "source": [
    "times_no_range.world_rank=times_no_range.world_rank.astype('int')"
   ]
  },
  {
   "cell_type": "code",
   "execution_count": null,
   "metadata": {},
   "outputs": [],
   "source": [
    "worlddf=world_df[world_df[\"world_rank\"].isnull() == False][[\"uni_name_normalazed\",\"university_name\",\"world_rank\",\"year\"]]"
   ]
  },
  {
   "cell_type": "code",
   "execution_count": null,
   "metadata": {},
   "outputs": [],
   "source": [
    "first_union_df =pd.merge(shanghai_no_range,times_no_range,on=[\"uni_name_normalazed\",\"year\"])\\\n",
    "                            .drop(\"university_name_y\",axis=1)\\\n",
    "                             .rename(columns={'university_name_x': 'university','world_rank_x':'shanghai_rank','world_rank_y':'times_rank'}) "
   ]
  },
  {
   "cell_type": "code",
   "execution_count": null,
   "metadata": {},
   "outputs": [],
   "source": [
    "first_union_df"
   ]
  },
  {
   "cell_type": "code",
   "execution_count": null,
   "metadata": {},
   "outputs": [],
   "source": [
    "same_position = pd.merge(first_union_df,worlddf, on=[\"uni_name_normalazed\",\"year\"] )\\\n",
    "                        .drop(['university_name','uni_name_normalazed'],axis=1)"
   ]
  },
  {
   "cell_type": "code",
   "execution_count": null,
   "metadata": {},
   "outputs": [],
   "source": [
    "result = same_position[(same_position['shanghai_rank'] == same_position['times_rank'])\\\n",
    "                              & (same_position['times_rank'] == same_position['world_rank']) ]"
   ]
  },
  {
   "cell_type": "code",
   "execution_count": null,
   "metadata": {},
   "outputs": [],
   "source": [
    "result"
   ]
  },
  {
   "cell_type": "code",
   "execution_count": null,
   "metadata": {},
   "outputs": [],
   "source": []
  }
 ],
 "metadata": {
  "kernelspec": {
   "display_name": "Python 3",
   "language": "python",
   "name": "python3"
  },
  "language_info": {
   "codemirror_mode": {
    "name": "ipython",
    "version": 3
   },
   "file_extension": ".py",
   "mimetype": "text/x-python",
   "name": "python",
   "nbconvert_exporter": "python",
   "pygments_lexer": "ipython3",
   "version": "3.8.5"
  }
 },
 "nbformat": 4,
 "nbformat_minor": 4
}
