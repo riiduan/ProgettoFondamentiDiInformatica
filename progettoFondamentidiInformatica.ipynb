{
 "cells": [
  {
   "cell_type": "code",
   "execution_count": 1,
   "metadata": {},
   "outputs": [],
   "source": [
    "import pandas as pd\n",
    "import re\n",
    "import math\n",
    "import numpy as np"
   ]
  },
  {
   "cell_type": "markdown",
   "metadata": {},
   "source": [
    "## Preprocessing"
   ]
  },
  {
   "cell_type": "code",
   "execution_count": 2,
   "metadata": {},
   "outputs": [],
   "source": [
    "shanghaiDataset = \"https://raw.githubusercontent.com/riiduan/ProgettoFondamentiDiInformatica/main/data/shanghai.csv\"\n",
    "timesDataset = \"https://raw.githubusercontent.com/riiduan/ProgettoFondamentiDiInformatica/main/data/times.csv\"\n",
    "worldDataset=\"https://raw.githubusercontent.com/riiduan/ProgettoFondamentiDiInformatica/main/data/world.csv\"\n",
    "educational_attainment_supplementary_data =\"https://raw.githubusercontent.com/riiduan/ProgettoFondamentiDiInformatica/main/data/educational_attainment_supplementary_data.csv\""
   ]
  },
  {
   "cell_type": "code",
   "execution_count": null,
   "metadata": {},
   "outputs": [],
   "source": []
  },
  {
   "cell_type": "code",
   "execution_count": 3,
   "metadata": {},
   "outputs": [],
   "source": [
    "#funzione che legge file csv e restituisce pandas dataframe\n",
    "def readDataSet(url , sep =',' , encoding='utf8',header='infer'):\n",
    "    return pd.read_csv(url,sep=sep ,header=header,encoding=encoding)"
   ]
  },
  {
   "cell_type": "code",
   "execution_count": 4,
   "metadata": {},
   "outputs": [],
   "source": [
    "# leggo i dataset\n",
    "shanghai_df=readDataSet(shanghaiDataset)\n",
    "times_df=readDataSet(timesDataset)\n",
    "world_df=readDataSet(worldDataset)"
   ]
  },
  {
   "cell_type": "code",
   "execution_count": 5,
   "metadata": {},
   "outputs": [],
   "source": [
    "# tolgo le rige dove nome di universita è null\n",
    "\n",
    "index =shanghai_df[shanghai_df['university_name'].isnull()==True]\n",
    "shanghai_df.drop(index.index,inplace = True)\n",
    "shanghai_df.reset_index(drop=True, inplace=True)"
   ]
  },
  {
   "cell_type": "code",
   "execution_count": null,
   "metadata": {},
   "outputs": [],
   "source": []
  },
  {
   "cell_type": "code",
   "execution_count": 6,
   "metadata": {},
   "outputs": [],
   "source": [
    "# rinomino institutution in \"university_name\" per averla uguale come i altri dataframe\n",
    "\n",
    "world_df.rename(columns={'institution':'university_name'},inplace=True)"
   ]
  },
  {
   "cell_type": "code",
   "execution_count": 7,
   "metadata": {},
   "outputs": [
    {
     "name": "stdout",
     "output_type": "stream",
     "text": [
      "<class 'pandas.core.frame.DataFrame'>\n",
      "RangeIndex: 4896 entries, 0 to 4895\n",
      "Data columns (total 11 columns):\n",
      " #   Column           Non-Null Count  Dtype  \n",
      "---  ------           --------------  -----  \n",
      " 0   world_rank       4896 non-null   object \n",
      " 1   university_name  4896 non-null   object \n",
      " 2   national_rank    4896 non-null   object \n",
      " 3   total_score      1101 non-null   float64\n",
      " 4   alumni           4896 non-null   float64\n",
      " 5   award            4895 non-null   float64\n",
      " 6   hici             4895 non-null   float64\n",
      " 7   ns               4875 non-null   float64\n",
      " 8   pub              4895 non-null   float64\n",
      " 9   pcp              4895 non-null   float64\n",
      " 10  year             4896 non-null   int64  \n",
      "dtypes: float64(7), int64(1), object(3)\n",
      "memory usage: 420.9+ KB\n"
     ]
    }
   ],
   "source": [
    "shanghai_df.info()"
   ]
  },
  {
   "cell_type": "markdown",
   "metadata": {},
   "source": [
    "#### controllo le informazioni riguarda ogni dataframe per avere un visione di quanto rige ci sono e i tipo di colone"
   ]
  },
  {
   "cell_type": "code",
   "execution_count": 8,
   "metadata": {},
   "outputs": [
    {
     "name": "stdout",
     "output_type": "stream",
     "text": [
      "<class 'pandas.core.frame.DataFrame'>\n",
      "RangeIndex: 2603 entries, 0 to 2602\n",
      "Data columns (total 14 columns):\n",
      " #   Column                  Non-Null Count  Dtype  \n",
      "---  ------                  --------------  -----  \n",
      " 0   world_rank              2603 non-null   object \n",
      " 1   university_name         2603 non-null   object \n",
      " 2   country                 2603 non-null   object \n",
      " 3   teaching                2603 non-null   float64\n",
      " 4   international           2603 non-null   object \n",
      " 5   research                2603 non-null   float64\n",
      " 6   citations               2603 non-null   float64\n",
      " 7   income                  2603 non-null   object \n",
      " 8   total_score             2603 non-null   object \n",
      " 9   num_students            2544 non-null   object \n",
      " 10  student_staff_ratio     2544 non-null   float64\n",
      " 11  international_students  2536 non-null   object \n",
      " 12  female_male_ratio       2370 non-null   object \n",
      " 13  year                    2603 non-null   int64  \n",
      "dtypes: float64(4), int64(1), object(9)\n",
      "memory usage: 284.8+ KB\n"
     ]
    }
   ],
   "source": [
    "times_df.info()"
   ]
  },
  {
   "cell_type": "code",
   "execution_count": 9,
   "metadata": {},
   "outputs": [
    {
     "name": "stdout",
     "output_type": "stream",
     "text": [
      "<class 'pandas.core.frame.DataFrame'>\n",
      "RangeIndex: 2200 entries, 0 to 2199\n",
      "Data columns (total 14 columns):\n",
      " #   Column                Non-Null Count  Dtype  \n",
      "---  ------                --------------  -----  \n",
      " 0   world_rank            2200 non-null   int64  \n",
      " 1   university_name       2200 non-null   object \n",
      " 2   country               2200 non-null   object \n",
      " 3   national_rank         2200 non-null   int64  \n",
      " 4   quality_of_education  2200 non-null   int64  \n",
      " 5   alumni_employment     2200 non-null   int64  \n",
      " 6   quality_of_faculty    2200 non-null   int64  \n",
      " 7   publications          2200 non-null   int64  \n",
      " 8   influence             2200 non-null   int64  \n",
      " 9   citations             2200 non-null   int64  \n",
      " 10  broad_impact          2000 non-null   float64\n",
      " 11  patents               2200 non-null   int64  \n",
      " 12  score                 2200 non-null   float64\n",
      " 13  year                  2200 non-null   int64  \n",
      "dtypes: float64(2), int64(10), object(2)\n",
      "memory usage: 240.8+ KB\n"
     ]
    }
   ],
   "source": [
    "world_df.info()"
   ]
  },
  {
   "cell_type": "markdown",
   "metadata": {},
   "source": [
    "## 1. For each university, extract from the times dataset the most recent and the least recent data, obtaining two separate dataframes"
   ]
  },
  {
   "cell_type": "code",
   "execution_count": 10,
   "metadata": {},
   "outputs": [],
   "source": [
    "'''\n",
    "questo funzione prende come input il dataframe,  il flag ,e di default nome di universita ,anno,\n",
    "e in base se è max faccio groupby nome di universita e in base a anno prendo idmax altrimenti idxmin\n",
    " \n",
    "\n",
    "'''\n",
    "def extract_dataset_min_max(dataframe, flag ,university_name='university_name',year='year' ):\n",
    "    '''\n",
    "    find most recent or least recent of data\n",
    "    @dataframe : dataframe in input\n",
    "    @university_name  : column university name \n",
    "    @year : column year\n",
    "    @index : max or min\n",
    "    \n",
    "    '''\n",
    "    dataset = pd.DataFrame()\n",
    "    if(flag == 'max'):\n",
    "          dataset = dataframe.iloc[dataframe.groupby(university_name)[year].idxmax()].copy()\n",
    "            \n",
    "    else: dataset = dataframe.iloc[dataframe.groupby(university_name)[year].idxmin()].copy()\n",
    "    return dataset"
   ]
  },
  {
   "cell_type": "code",
   "execution_count": null,
   "metadata": {},
   "outputs": [],
   "source": []
  },
  {
   "cell_type": "code",
   "execution_count": 11,
   "metadata": {},
   "outputs": [],
   "source": [
    "times_most_recent_data = extract_dataset_min_max(times_df,'max')"
   ]
  },
  {
   "cell_type": "code",
   "execution_count": 12,
   "metadata": {},
   "outputs": [],
   "source": [
    "times_least_recent_data = extract_dataset_min_max(times_df,'min')"
   ]
  },
  {
   "cell_type": "code",
   "execution_count": 13,
   "metadata": {},
   "outputs": [
    {
     "data": {
      "text/html": [
       "<div>\n",
       "<style scoped>\n",
       "    .dataframe tbody tr th:only-of-type {\n",
       "        vertical-align: middle;\n",
       "    }\n",
       "\n",
       "    .dataframe tbody tr th {\n",
       "        vertical-align: top;\n",
       "    }\n",
       "\n",
       "    .dataframe thead th {\n",
       "        text-align: right;\n",
       "    }\n",
       "</style>\n",
       "<table border=\"1\" class=\"dataframe\">\n",
       "  <thead>\n",
       "    <tr style=\"text-align: right;\">\n",
       "      <th></th>\n",
       "      <th>world_rank</th>\n",
       "      <th>university_name</th>\n",
       "      <th>year</th>\n",
       "    </tr>\n",
       "  </thead>\n",
       "  <tbody>\n",
       "    <tr>\n",
       "      <th>2405</th>\n",
       "      <td>601-800</td>\n",
       "      <td>AGH University of Science and Technology</td>\n",
       "      <td>2016</td>\n",
       "    </tr>\n",
       "    <tr>\n",
       "      <th>2003</th>\n",
       "      <td>201-250</td>\n",
       "      <td>Aalborg University</td>\n",
       "      <td>2016</td>\n",
       "    </tr>\n",
       "    <tr>\n",
       "      <th>2056</th>\n",
       "      <td>251-300</td>\n",
       "      <td>Aalto University</td>\n",
       "      <td>2016</td>\n",
       "    </tr>\n",
       "    <tr>\n",
       "      <th>1908</th>\n",
       "      <td>106</td>\n",
       "      <td>Aarhus University</td>\n",
       "      <td>2016</td>\n",
       "    </tr>\n",
       "    <tr>\n",
       "      <th>2105</th>\n",
       "      <td>301-350</td>\n",
       "      <td>Aberystwyth University</td>\n",
       "      <td>2016</td>\n",
       "    </tr>\n",
       "    <tr>\n",
       "      <th>2404</th>\n",
       "      <td>601-800</td>\n",
       "      <td>Adam Mickiewicz University</td>\n",
       "      <td>2016</td>\n",
       "    </tr>\n",
       "    <tr>\n",
       "      <th>2057</th>\n",
       "      <td>251-300</td>\n",
       "      <td>Aix-Marseille University</td>\n",
       "      <td>2016</td>\n",
       "    </tr>\n",
       "    <tr>\n",
       "      <th>2406</th>\n",
       "      <td>601-800</td>\n",
       "      <td>Ajou University</td>\n",
       "      <td>2016</td>\n",
       "    </tr>\n",
       "    <tr>\n",
       "      <th>2408</th>\n",
       "      <td>601-800</td>\n",
       "      <td>Alexandria University</td>\n",
       "      <td>2016</td>\n",
       "    </tr>\n",
       "    <tr>\n",
       "      <th>2409</th>\n",
       "      <td>601-800</td>\n",
       "      <td>Alexandru Ioan Cuza University</td>\n",
       "      <td>2016</td>\n",
       "    </tr>\n",
       "  </tbody>\n",
       "</table>\n",
       "</div>"
      ],
      "text/plain": [
       "     world_rank                           university_name  year\n",
       "2405    601-800  AGH University of Science and Technology  2016\n",
       "2003    201-250                        Aalborg University  2016\n",
       "2056    251-300                          Aalto University  2016\n",
       "1908        106                         Aarhus University  2016\n",
       "2105    301-350                    Aberystwyth University  2016\n",
       "2404    601-800                Adam Mickiewicz University  2016\n",
       "2057    251-300                  Aix-Marseille University  2016\n",
       "2406    601-800                           Ajou University  2016\n",
       "2408    601-800                     Alexandria University  2016\n",
       "2409    601-800            Alexandru Ioan Cuza University  2016"
      ]
     },
     "execution_count": 13,
     "metadata": {},
     "output_type": "execute_result"
    }
   ],
   "source": [
    "times_most_recent_data[['world_rank','university_name','year']].head(10)"
   ]
  },
  {
   "cell_type": "code",
   "execution_count": null,
   "metadata": {},
   "outputs": [],
   "source": []
  },
  {
   "cell_type": "code",
   "execution_count": 14,
   "metadata": {},
   "outputs": [
    {
     "data": {
      "text/html": [
       "<div>\n",
       "<style scoped>\n",
       "    .dataframe tbody tr th:only-of-type {\n",
       "        vertical-align: middle;\n",
       "    }\n",
       "\n",
       "    .dataframe tbody tr th {\n",
       "        vertical-align: top;\n",
       "    }\n",
       "\n",
       "    .dataframe thead th {\n",
       "        text-align: right;\n",
       "    }\n",
       "</style>\n",
       "<table border=\"1\" class=\"dataframe\">\n",
       "  <thead>\n",
       "    <tr style=\"text-align: right;\">\n",
       "      <th></th>\n",
       "      <th>world_rank</th>\n",
       "      <th>university_name</th>\n",
       "      <th>year</th>\n",
       "    </tr>\n",
       "  </thead>\n",
       "  <tbody>\n",
       "    <tr>\n",
       "      <th>2405</th>\n",
       "      <td>601-800</td>\n",
       "      <td>AGH University of Science and Technology</td>\n",
       "      <td>2016</td>\n",
       "    </tr>\n",
       "    <tr>\n",
       "      <th>501</th>\n",
       "      <td>301-350</td>\n",
       "      <td>Aalborg University</td>\n",
       "      <td>2012</td>\n",
       "    </tr>\n",
       "    <tr>\n",
       "      <th>502</th>\n",
       "      <td>301-350</td>\n",
       "      <td>Aalto University</td>\n",
       "      <td>2012</td>\n",
       "    </tr>\n",
       "    <tr>\n",
       "      <th>166</th>\n",
       "      <td>167</td>\n",
       "      <td>Aarhus University</td>\n",
       "      <td>2011</td>\n",
       "    </tr>\n",
       "    <tr>\n",
       "      <th>476</th>\n",
       "      <td>276-300</td>\n",
       "      <td>Aberystwyth University</td>\n",
       "      <td>2012</td>\n",
       "    </tr>\n",
       "    <tr>\n",
       "      <th>2404</th>\n",
       "      <td>601-800</td>\n",
       "      <td>Adam Mickiewicz University</td>\n",
       "      <td>2016</td>\n",
       "    </tr>\n",
       "    <tr>\n",
       "      <th>2057</th>\n",
       "      <td>251-300</td>\n",
       "      <td>Aix-Marseille University</td>\n",
       "      <td>2016</td>\n",
       "    </tr>\n",
       "    <tr>\n",
       "      <th>2406</th>\n",
       "      <td>601-800</td>\n",
       "      <td>Ajou University</td>\n",
       "      <td>2016</td>\n",
       "    </tr>\n",
       "    <tr>\n",
       "      <th>146</th>\n",
       "      <td>147</td>\n",
       "      <td>Alexandria University</td>\n",
       "      <td>2011</td>\n",
       "    </tr>\n",
       "    <tr>\n",
       "      <th>2409</th>\n",
       "      <td>601-800</td>\n",
       "      <td>Alexandru Ioan Cuza University</td>\n",
       "      <td>2016</td>\n",
       "    </tr>\n",
       "  </tbody>\n",
       "</table>\n",
       "</div>"
      ],
      "text/plain": [
       "     world_rank                           university_name  year\n",
       "2405    601-800  AGH University of Science and Technology  2016\n",
       "501     301-350                        Aalborg University  2012\n",
       "502     301-350                          Aalto University  2012\n",
       "166         167                         Aarhus University  2011\n",
       "476     276-300                    Aberystwyth University  2012\n",
       "2404    601-800                Adam Mickiewicz University  2016\n",
       "2057    251-300                  Aix-Marseille University  2016\n",
       "2406    601-800                           Ajou University  2016\n",
       "146         147                     Alexandria University  2011\n",
       "2409    601-800            Alexandru Ioan Cuza University  2016"
      ]
     },
     "execution_count": 14,
     "metadata": {},
     "output_type": "execute_result"
    }
   ],
   "source": [
    "times_least_recent_data[['world_rank','university_name','year']].head(10)"
   ]
  },
  {
   "cell_type": "code",
   "execution_count": null,
   "metadata": {},
   "outputs": [],
   "source": []
  },
  {
   "cell_type": "markdown",
   "metadata": {},
   "source": [
    "\n",
    "## 2. For each university, compute the improvement in income between the least recent and the most recent data points"
   ]
  },
  {
   "cell_type": "markdown",
   "metadata": {},
   "source": [
    "nota : la colona \"income\" contiene valori \"-\" , percui prosego prima alla pulizia e poi lo converto in float"
   ]
  },
  {
   "cell_type": "code",
   "execution_count": 15,
   "metadata": {},
   "outputs": [],
   "source": [
    "'''\n",
    "In questa funzione filtro le rige dove la colona income coniente il charatere '-' , prendo tre colone che mi intressano\n",
    "e converto la collona income in tipo float\n",
    "'''\n",
    "def clean_column_income(dataset):\n",
    "    dataset=dataset[dataset.income.str.contains('-') ==False][['university_name','income','year']].copy()\n",
    "    dataset.income=dataset.income.astype(float)\n",
    "    return dataset\n",
    "            "
   ]
  },
  {
   "cell_type": "code",
   "execution_count": 16,
   "metadata": {},
   "outputs": [],
   "source": [
    "times_least_recent_data_clean = clean_column_income(times_least_recent_data)"
   ]
  },
  {
   "cell_type": "code",
   "execution_count": 17,
   "metadata": {},
   "outputs": [],
   "source": [
    "times_most_recent_data_clean= clean_column_income(times_most_recent_data)"
   ]
  },
  {
   "cell_type": "markdown",
   "metadata": {},
   "source": [
    "Unisco i due dataset tramite la colona \"university_name\""
   ]
  },
  {
   "cell_type": "code",
   "execution_count": 18,
   "metadata": {},
   "outputs": [],
   "source": [
    "union_most_and_least_data =pd.merge(times_least_recent_data_clean,times_most_recent_data_clean,on='university_name')"
   ]
  },
  {
   "cell_type": "markdown",
   "metadata": {},
   "source": [
    "rinomino le colone "
   ]
  },
  {
   "cell_type": "code",
   "execution_count": 19,
   "metadata": {},
   "outputs": [
    {
     "data": {
      "text/html": [
       "<div>\n",
       "<style scoped>\n",
       "    .dataframe tbody tr th:only-of-type {\n",
       "        vertical-align: middle;\n",
       "    }\n",
       "\n",
       "    .dataframe tbody tr th {\n",
       "        vertical-align: top;\n",
       "    }\n",
       "\n",
       "    .dataframe thead th {\n",
       "        text-align: right;\n",
       "    }\n",
       "</style>\n",
       "<table border=\"1\" class=\"dataframe\">\n",
       "  <thead>\n",
       "    <tr style=\"text-align: right;\">\n",
       "      <th></th>\n",
       "      <th>university_name</th>\n",
       "      <th>income_level_least_recent</th>\n",
       "      <th>year_least_recent</th>\n",
       "      <th>income_level_most_recent</th>\n",
       "      <th>year_most_recent</th>\n",
       "    </tr>\n",
       "  </thead>\n",
       "  <tbody>\n",
       "    <tr>\n",
       "      <th>0</th>\n",
       "      <td>Aalborg University</td>\n",
       "      <td>36.4</td>\n",
       "      <td>2012</td>\n",
       "      <td>43.7</td>\n",
       "      <td>2016</td>\n",
       "    </tr>\n",
       "    <tr>\n",
       "      <th>1</th>\n",
       "      <td>Aalto University</td>\n",
       "      <td>61.9</td>\n",
       "      <td>2012</td>\n",
       "      <td>61.6</td>\n",
       "      <td>2016</td>\n",
       "    </tr>\n",
       "    <tr>\n",
       "      <th>2</th>\n",
       "      <td>Aarhus University</td>\n",
       "      <td>61.5</td>\n",
       "      <td>2011</td>\n",
       "      <td>68.3</td>\n",
       "      <td>2016</td>\n",
       "    </tr>\n",
       "    <tr>\n",
       "      <th>3</th>\n",
       "      <td>Aberystwyth University</td>\n",
       "      <td>35.5</td>\n",
       "      <td>2012</td>\n",
       "      <td>31.3</td>\n",
       "      <td>2016</td>\n",
       "    </tr>\n",
       "    <tr>\n",
       "      <th>4</th>\n",
       "      <td>Adam Mickiewicz University</td>\n",
       "      <td>28.7</td>\n",
       "      <td>2016</td>\n",
       "      <td>28.7</td>\n",
       "      <td>2016</td>\n",
       "    </tr>\n",
       "    <tr>\n",
       "      <th>...</th>\n",
       "      <td>...</td>\n",
       "      <td>...</td>\n",
       "      <td>...</td>\n",
       "      <td>...</td>\n",
       "      <td>...</td>\n",
       "    </tr>\n",
       "    <tr>\n",
       "      <th>699</th>\n",
       "      <td>Zhejiang University</td>\n",
       "      <td>70.3</td>\n",
       "      <td>2011</td>\n",
       "      <td>96.2</td>\n",
       "      <td>2016</td>\n",
       "    </tr>\n",
       "    <tr>\n",
       "      <th>700</th>\n",
       "      <td>École Normale Supérieure</td>\n",
       "      <td>30.7</td>\n",
       "      <td>2011</td>\n",
       "      <td>37.1</td>\n",
       "      <td>2016</td>\n",
       "    </tr>\n",
       "    <tr>\n",
       "      <th>701</th>\n",
       "      <td>École Normale Supérieure de Lyon</td>\n",
       "      <td>26.1</td>\n",
       "      <td>2011</td>\n",
       "      <td>31.7</td>\n",
       "      <td>2016</td>\n",
       "    </tr>\n",
       "    <tr>\n",
       "      <th>702</th>\n",
       "      <td>École Polytechnique Fédérale de Lausanne</td>\n",
       "      <td>38.0</td>\n",
       "      <td>2011</td>\n",
       "      <td>65.4</td>\n",
       "      <td>2016</td>\n",
       "    </tr>\n",
       "    <tr>\n",
       "      <th>703</th>\n",
       "      <td>Örebro University</td>\n",
       "      <td>29.8</td>\n",
       "      <td>2016</td>\n",
       "      <td>29.8</td>\n",
       "      <td>2016</td>\n",
       "    </tr>\n",
       "  </tbody>\n",
       "</table>\n",
       "<p>704 rows × 5 columns</p>\n",
       "</div>"
      ],
      "text/plain": [
       "                              university_name  income_level_least_recent  \\\n",
       "0                          Aalborg University                       36.4   \n",
       "1                            Aalto University                       61.9   \n",
       "2                           Aarhus University                       61.5   \n",
       "3                      Aberystwyth University                       35.5   \n",
       "4                  Adam Mickiewicz University                       28.7   \n",
       "..                                        ...                        ...   \n",
       "699                       Zhejiang University                       70.3   \n",
       "700                  École Normale Supérieure                       30.7   \n",
       "701          École Normale Supérieure de Lyon                       26.1   \n",
       "702  École Polytechnique Fédérale de Lausanne                       38.0   \n",
       "703                         Örebro University                       29.8   \n",
       "\n",
       "     year_least_recent  income_level_most_recent  year_most_recent  \n",
       "0                 2012                      43.7              2016  \n",
       "1                 2012                      61.6              2016  \n",
       "2                 2011                      68.3              2016  \n",
       "3                 2012                      31.3              2016  \n",
       "4                 2016                      28.7              2016  \n",
       "..                 ...                       ...               ...  \n",
       "699               2011                      96.2              2016  \n",
       "700               2011                      37.1              2016  \n",
       "701               2011                      31.7              2016  \n",
       "702               2011                      65.4              2016  \n",
       "703               2016                      29.8              2016  \n",
       "\n",
       "[704 rows x 5 columns]"
      ]
     },
     "execution_count": 19,
     "metadata": {},
     "output_type": "execute_result"
    }
   ],
   "source": [
    "union_most_and_least_data.rename(columns={'income_x':'income_level_least_recent','year_x':'year_least_recent','income_y':'income_level_most_recent','year_y':'year_most_recent'},inplace=True)\n",
    "union_most_and_least_data"
   ]
  },
  {
   "cell_type": "markdown",
   "metadata": {},
   "source": [
    "##### nota : alcuni universita hanno come \"year_most_recent\" e \"year_most_recent\" uguale percui non ha senso tenerli"
   ]
  },
  {
   "cell_type": "code",
   "execution_count": 20,
   "metadata": {
    "scrolled": true
   },
   "outputs": [
    {
     "data": {
      "text/html": [
       "<div>\n",
       "<style scoped>\n",
       "    .dataframe tbody tr th:only-of-type {\n",
       "        vertical-align: middle;\n",
       "    }\n",
       "\n",
       "    .dataframe tbody tr th {\n",
       "        vertical-align: top;\n",
       "    }\n",
       "\n",
       "    .dataframe thead th {\n",
       "        text-align: right;\n",
       "    }\n",
       "</style>\n",
       "<table border=\"1\" class=\"dataframe\">\n",
       "  <thead>\n",
       "    <tr style=\"text-align: right;\">\n",
       "      <th></th>\n",
       "      <th>university_name</th>\n",
       "      <th>income_level_least_recent</th>\n",
       "      <th>year_least_recent</th>\n",
       "      <th>income_level_most_recent</th>\n",
       "      <th>year_most_recent</th>\n",
       "    </tr>\n",
       "  </thead>\n",
       "  <tbody>\n",
       "    <tr>\n",
       "      <th>4</th>\n",
       "      <td>Adam Mickiewicz University</td>\n",
       "      <td>28.7</td>\n",
       "      <td>2016</td>\n",
       "      <td>28.7</td>\n",
       "      <td>2016</td>\n",
       "    </tr>\n",
       "    <tr>\n",
       "      <th>5</th>\n",
       "      <td>Aix-Marseille University</td>\n",
       "      <td>33.1</td>\n",
       "      <td>2016</td>\n",
       "      <td>33.1</td>\n",
       "      <td>2016</td>\n",
       "    </tr>\n",
       "    <tr>\n",
       "      <th>6</th>\n",
       "      <td>Ajou University</td>\n",
       "      <td>45.7</td>\n",
       "      <td>2016</td>\n",
       "      <td>45.7</td>\n",
       "      <td>2016</td>\n",
       "    </tr>\n",
       "    <tr>\n",
       "      <th>8</th>\n",
       "      <td>Alexandru Ioan Cuza University</td>\n",
       "      <td>28.2</td>\n",
       "      <td>2016</td>\n",
       "      <td>28.2</td>\n",
       "      <td>2016</td>\n",
       "    </tr>\n",
       "    <tr>\n",
       "      <th>9</th>\n",
       "      <td>Aligarh Muslim University</td>\n",
       "      <td>29.6</td>\n",
       "      <td>2016</td>\n",
       "      <td>29.6</td>\n",
       "      <td>2016</td>\n",
       "    </tr>\n",
       "    <tr>\n",
       "      <th>...</th>\n",
       "      <td>...</td>\n",
       "      <td>...</td>\n",
       "      <td>...</td>\n",
       "      <td>...</td>\n",
       "      <td>...</td>\n",
       "    </tr>\n",
       "    <tr>\n",
       "      <th>179</th>\n",
       "      <td>Khon Kaen University</td>\n",
       "      <td>35.7</td>\n",
       "      <td>2016</td>\n",
       "      <td>35.7</td>\n",
       "      <td>2016</td>\n",
       "    </tr>\n",
       "    <tr>\n",
       "      <th>181</th>\n",
       "      <td>King Fahd University of Petroleum and Minerals</td>\n",
       "      <td>81.2</td>\n",
       "      <td>2016</td>\n",
       "      <td>81.2</td>\n",
       "      <td>2016</td>\n",
       "    </tr>\n",
       "    <tr>\n",
       "      <th>184</th>\n",
       "      <td>Kingston University</td>\n",
       "      <td>28.5</td>\n",
       "      <td>2016</td>\n",
       "      <td>28.5</td>\n",
       "      <td>2016</td>\n",
       "    </tr>\n",
       "    <tr>\n",
       "      <th>186</th>\n",
       "      <td>Kinki University</td>\n",
       "      <td>33.2</td>\n",
       "      <td>2016</td>\n",
       "      <td>33.2</td>\n",
       "      <td>2016</td>\n",
       "    </tr>\n",
       "    <tr>\n",
       "      <th>188</th>\n",
       "      <td>Konkuk University</td>\n",
       "      <td>36.0</td>\n",
       "      <td>2016</td>\n",
       "      <td>36.0</td>\n",
       "      <td>2016</td>\n",
       "    </tr>\n",
       "  </tbody>\n",
       "</table>\n",
       "<p>100 rows × 5 columns</p>\n",
       "</div>"
      ],
      "text/plain": [
       "                                    university_name  \\\n",
       "4                        Adam Mickiewicz University   \n",
       "5                          Aix-Marseille University   \n",
       "6                                   Ajou University   \n",
       "8                    Alexandru Ioan Cuza University   \n",
       "9                         Aligarh Muslim University   \n",
       "..                                              ...   \n",
       "179                            Khon Kaen University   \n",
       "181  King Fahd University of Petroleum and Minerals   \n",
       "184                             Kingston University   \n",
       "186                                Kinki University   \n",
       "188                               Konkuk University   \n",
       "\n",
       "     income_level_least_recent  year_least_recent  income_level_most_recent  \\\n",
       "4                         28.7               2016                      28.7   \n",
       "5                         33.1               2016                      33.1   \n",
       "6                         45.7               2016                      45.7   \n",
       "8                         28.2               2016                      28.2   \n",
       "9                         29.6               2016                      29.6   \n",
       "..                         ...                ...                       ...   \n",
       "179                       35.7               2016                      35.7   \n",
       "181                       81.2               2016                      81.2   \n",
       "184                       28.5               2016                      28.5   \n",
       "186                       33.2               2016                      33.2   \n",
       "188                       36.0               2016                      36.0   \n",
       "\n",
       "     year_most_recent  \n",
       "4                2016  \n",
       "5                2016  \n",
       "6                2016  \n",
       "8                2016  \n",
       "9                2016  \n",
       "..                ...  \n",
       "179              2016  \n",
       "181              2016  \n",
       "184              2016  \n",
       "186              2016  \n",
       "188              2016  \n",
       "\n",
       "[100 rows x 5 columns]"
      ]
     },
     "execution_count": 20,
     "metadata": {},
     "output_type": "execute_result"
    }
   ],
   "source": [
    "union_most_and_least_data[union_most_and_least_data['year_least_recent']==union_most_and_least_data['year_most_recent']].head(100)"
   ]
  },
  {
   "cell_type": "markdown",
   "metadata": {},
   "source": [
    "elimino queste colone"
   ]
  },
  {
   "cell_type": "code",
   "execution_count": 21,
   "metadata": {},
   "outputs": [],
   "source": [
    "union_most_and_least_data.drop(union_most_and_least_data[union_most_and_least_data['year_least_recent']==union_most_and_least_data['year_most_recent']].index,inplace=True)"
   ]
  },
  {
   "cell_type": "markdown",
   "metadata": {},
   "source": [
    "calcolo la diferenza"
   ]
  },
  {
   "cell_type": "code",
   "execution_count": 22,
   "metadata": {},
   "outputs": [],
   "source": [
    "union_most_and_least_data[\"diference_income\"] = union_most_and_least_data.income_level_most_recent - union_most_and_least_data.income_level_least_recent"
   ]
  },
  {
   "cell_type": "markdown",
   "metadata": {},
   "source": [
    "creo una colona \"improvement\" che mi indica UP o Down in base se la income è positiva o negativa"
   ]
  },
  {
   "cell_type": "code",
   "execution_count": 23,
   "metadata": {},
   "outputs": [],
   "source": [
    "union_most_and_least_data[\"improvement\"] = np.where(union_most_and_least_data[\"diference_income\"] >= 0, \"UP\", \"Down\")"
   ]
  },
  {
   "cell_type": "code",
   "execution_count": 24,
   "metadata": {},
   "outputs": [
    {
     "data": {
      "text/html": [
       "<div>\n",
       "<style scoped>\n",
       "    .dataframe tbody tr th:only-of-type {\n",
       "        vertical-align: middle;\n",
       "    }\n",
       "\n",
       "    .dataframe tbody tr th {\n",
       "        vertical-align: top;\n",
       "    }\n",
       "\n",
       "    .dataframe thead th {\n",
       "        text-align: right;\n",
       "    }\n",
       "</style>\n",
       "<table border=\"1\" class=\"dataframe\">\n",
       "  <thead>\n",
       "    <tr style=\"text-align: right;\">\n",
       "      <th></th>\n",
       "      <th>university_name</th>\n",
       "      <th>income_level_least_recent</th>\n",
       "      <th>year_least_recent</th>\n",
       "      <th>income_level_most_recent</th>\n",
       "      <th>year_most_recent</th>\n",
       "      <th>diference_income</th>\n",
       "      <th>improvement</th>\n",
       "    </tr>\n",
       "  </thead>\n",
       "  <tbody>\n",
       "    <tr>\n",
       "      <th>0</th>\n",
       "      <td>Aalborg University</td>\n",
       "      <td>36.4</td>\n",
       "      <td>2012</td>\n",
       "      <td>43.7</td>\n",
       "      <td>2016</td>\n",
       "      <td>7.3</td>\n",
       "      <td>UP</td>\n",
       "    </tr>\n",
       "    <tr>\n",
       "      <th>1</th>\n",
       "      <td>Aalto University</td>\n",
       "      <td>61.9</td>\n",
       "      <td>2012</td>\n",
       "      <td>61.6</td>\n",
       "      <td>2016</td>\n",
       "      <td>-0.3</td>\n",
       "      <td>Down</td>\n",
       "    </tr>\n",
       "    <tr>\n",
       "      <th>2</th>\n",
       "      <td>Aarhus University</td>\n",
       "      <td>61.5</td>\n",
       "      <td>2011</td>\n",
       "      <td>68.3</td>\n",
       "      <td>2016</td>\n",
       "      <td>6.8</td>\n",
       "      <td>UP</td>\n",
       "    </tr>\n",
       "    <tr>\n",
       "      <th>3</th>\n",
       "      <td>Aberystwyth University</td>\n",
       "      <td>35.5</td>\n",
       "      <td>2012</td>\n",
       "      <td>31.3</td>\n",
       "      <td>2016</td>\n",
       "      <td>-4.2</td>\n",
       "      <td>Down</td>\n",
       "    </tr>\n",
       "    <tr>\n",
       "      <th>7</th>\n",
       "      <td>Alexandria University</td>\n",
       "      <td>36.0</td>\n",
       "      <td>2011</td>\n",
       "      <td>29.7</td>\n",
       "      <td>2016</td>\n",
       "      <td>-6.3</td>\n",
       "      <td>Down</td>\n",
       "    </tr>\n",
       "  </tbody>\n",
       "</table>\n",
       "</div>"
      ],
      "text/plain": [
       "          university_name  income_level_least_recent  year_least_recent  \\\n",
       "0      Aalborg University                       36.4               2012   \n",
       "1        Aalto University                       61.9               2012   \n",
       "2       Aarhus University                       61.5               2011   \n",
       "3  Aberystwyth University                       35.5               2012   \n",
       "7   Alexandria University                       36.0               2011   \n",
       "\n",
       "   income_level_most_recent  year_most_recent  diference_income improvement  \n",
       "0                      43.7              2016               7.3          UP  \n",
       "1                      61.6              2016              -0.3        Down  \n",
       "2                      68.3              2016               6.8          UP  \n",
       "3                      31.3              2016              -4.2        Down  \n",
       "7                      29.7              2016              -6.3        Down  "
      ]
     },
     "execution_count": 24,
     "metadata": {},
     "output_type": "execute_result"
    }
   ],
   "source": [
    "union_most_and_least_data.head(5)"
   ]
  },
  {
   "cell_type": "markdown",
   "metadata": {},
   "source": [
    "## 3. Find the university with the largest increase computed in the previous point"
   ]
  },
  {
   "cell_type": "code",
   "execution_count": 25,
   "metadata": {},
   "outputs": [
    {
     "data": {
      "text/html": [
       "<div>\n",
       "<style scoped>\n",
       "    .dataframe tbody tr th:only-of-type {\n",
       "        vertical-align: middle;\n",
       "    }\n",
       "\n",
       "    .dataframe tbody tr th {\n",
       "        vertical-align: top;\n",
       "    }\n",
       "\n",
       "    .dataframe thead th {\n",
       "        text-align: right;\n",
       "    }\n",
       "</style>\n",
       "<table border=\"1\" class=\"dataframe\">\n",
       "  <thead>\n",
       "    <tr style=\"text-align: right;\">\n",
       "      <th></th>\n",
       "      <th>university_name</th>\n",
       "      <th>income_level_least_recent</th>\n",
       "      <th>year_least_recent</th>\n",
       "      <th>income_level_most_recent</th>\n",
       "      <th>year_most_recent</th>\n",
       "      <th>diference_income</th>\n",
       "      <th>improvement</th>\n",
       "    </tr>\n",
       "  </thead>\n",
       "  <tbody>\n",
       "    <tr>\n",
       "      <th>373</th>\n",
       "      <td>TU Dresden</td>\n",
       "      <td>31.9</td>\n",
       "      <td>2012</td>\n",
       "      <td>99.7</td>\n",
       "      <td>2016</td>\n",
       "      <td>67.8</td>\n",
       "      <td>UP</td>\n",
       "    </tr>\n",
       "  </tbody>\n",
       "</table>\n",
       "</div>"
      ],
      "text/plain": [
       "    university_name  income_level_least_recent  year_least_recent  \\\n",
       "373      TU Dresden                       31.9               2012   \n",
       "\n",
       "     income_level_most_recent  year_most_recent  diference_income improvement  \n",
       "373                      99.7              2016              67.8          UP  "
      ]
     },
     "execution_count": 25,
     "metadata": {},
     "output_type": "execute_result"
    }
   ],
   "source": [
    "# filtro la colona diference_income dal dataset sopra che ha valore piu alto\n",
    "union_most_and_least_data[union_most_and_least_data.diference_income ==union_most_and_least_data.diference_income.max()]"
   ]
  },
  {
   "cell_type": "markdown",
   "metadata": {},
   "source": [
    "## 4. For each ranking, consider only the most recent data point. For each university, compute the maximum difference between the rankings (e.g. for Aarhus University the value is 122-73=49). Notice that some rankings are expressed as a range"
   ]
  },
  {
   "cell_type": "markdown",
   "metadata": {},
   "source": [
    "#### preprocessing "
   ]
  },
  {
   "cell_type": "markdown",
   "metadata": {},
   "source": [
    "nota: dataset shanghai_df , times_df ha alcuni valori espressi in range"
   ]
  },
  {
   "cell_type": "code",
   "execution_count": 26,
   "metadata": {},
   "outputs": [
    {
     "data": {
      "text/plain": [
       "100    101-152\n",
       "101    101-152\n",
       "102    101-152\n",
       "Name: world_rank, dtype: object"
      ]
     },
     "execution_count": 26,
     "metadata": {},
     "output_type": "execute_result"
    }
   ],
   "source": [
    "shanghai_df[shanghai_df['world_rank'].str.contains('-')==True]['world_rank'].head(3)"
   ]
  },
  {
   "cell_type": "markdown",
   "metadata": {},
   "source": [
    "nota : time_df porta con se alcuni valri con segno '=' davanti, che significa valore uguale, percui se lo tolgo non perde significato"
   ]
  },
  {
   "cell_type": "code",
   "execution_count": 27,
   "metadata": {},
   "outputs": [
    {
     "data": {
      "text/plain": [
       "Series([], Name: world_rank, dtype: object)"
      ]
     },
     "execution_count": 27,
     "metadata": {},
     "output_type": "execute_result"
    }
   ],
   "source": [
    "times_df[times_df['world_rank'].str.contains('=')==True]['world_rank'].head(3)"
   ]
  },
  {
   "cell_type": "code",
   "execution_count": 28,
   "metadata": {},
   "outputs": [],
   "source": [
    "times_df['world_rank']=times_df['world_rank'].str.replace('=','')"
   ]
  },
  {
   "cell_type": "markdown",
   "metadata": {},
   "source": [
    "nota: world_df sembra ok , non ha valori in range e valori strani"
   ]
  },
  {
   "cell_type": "code",
   "execution_count": 29,
   "metadata": {},
   "outputs": [
    {
     "data": {
      "text/plain": [
       "dtype('int64')"
      ]
     },
     "execution_count": 29,
     "metadata": {},
     "output_type": "execute_result"
    }
   ],
   "source": [
    "world_df['world_rank'].dtype"
   ]
  },
  {
   "cell_type": "markdown",
   "metadata": {},
   "source": [
    " ### Dati più recenti per le tabelle 'shanghai_ranking', 'times_ranking' e 'world_ranking"
   ]
  },
  {
   "cell_type": "markdown",
   "metadata": {},
   "source": [
    "Shanghai"
   ]
  },
  {
   "cell_type": "code",
   "execution_count": 30,
   "metadata": {},
   "outputs": [],
   "source": [
    "shanghai_most_recent_data = extract_dataset_min_max(shanghai_df,'max')"
   ]
  },
  {
   "cell_type": "code",
   "execution_count": 31,
   "metadata": {},
   "outputs": [
    {
     "name": "stdout",
     "output_type": "stream",
     "text": [
      "<class 'pandas.core.frame.DataFrame'>\n",
      "Int64Index: 658 entries, 4696 to 4545\n",
      "Data columns (total 11 columns):\n",
      " #   Column           Non-Null Count  Dtype  \n",
      "---  ------           --------------  -----  \n",
      " 0   world_rank       658 non-null    object \n",
      " 1   university_name  658 non-null    object \n",
      " 2   national_rank    658 non-null    object \n",
      " 3   total_score      112 non-null    float64\n",
      " 4   alumni           658 non-null    float64\n",
      " 5   award            658 non-null    float64\n",
      " 6   hici             658 non-null    float64\n",
      " 7   ns               655 non-null    float64\n",
      " 8   pub              658 non-null    float64\n",
      " 9   pcp              658 non-null    float64\n",
      " 10  year             658 non-null    int64  \n",
      "dtypes: float64(7), int64(1), object(3)\n",
      "memory usage: 61.7+ KB\n"
     ]
    }
   ],
   "source": [
    "shanghai_most_recent_data.info()"
   ]
  },
  {
   "cell_type": "markdown",
   "metadata": {},
   "source": [
    "Times"
   ]
  },
  {
   "cell_type": "code",
   "execution_count": 32,
   "metadata": {},
   "outputs": [],
   "source": [
    "times_most_recent_data = extract_dataset_min_max(times_df,'max')"
   ]
  },
  {
   "cell_type": "code",
   "execution_count": 33,
   "metadata": {},
   "outputs": [
    {
     "name": "stdout",
     "output_type": "stream",
     "text": [
      "<class 'pandas.core.frame.DataFrame'>\n",
      "Int64Index: 818 entries, 2405 to 2134\n",
      "Data columns (total 14 columns):\n",
      " #   Column                  Non-Null Count  Dtype  \n",
      "---  ------                  --------------  -----  \n",
      " 0   world_rank              818 non-null    object \n",
      " 1   university_name         818 non-null    object \n",
      " 2   country                 818 non-null    object \n",
      " 3   teaching                818 non-null    float64\n",
      " 4   international           818 non-null    object \n",
      " 5   research                818 non-null    float64\n",
      " 6   citations               818 non-null    float64\n",
      " 7   income                  818 non-null    object \n",
      " 8   total_score             818 non-null    object \n",
      " 9   num_students            796 non-null    object \n",
      " 10  student_staff_ratio     796 non-null    float64\n",
      " 11  international_students  793 non-null    object \n",
      " 12  female_male_ratio       742 non-null    object \n",
      " 13  year                    818 non-null    int64  \n",
      "dtypes: float64(4), int64(1), object(9)\n",
      "memory usage: 95.9+ KB\n"
     ]
    }
   ],
   "source": [
    "times_most_recent_data.info()"
   ]
  },
  {
   "cell_type": "markdown",
   "metadata": {},
   "source": [
    "World  "
   ]
  },
  {
   "cell_type": "code",
   "execution_count": 34,
   "metadata": {},
   "outputs": [],
   "source": [
    "world_most_recent_data = extract_dataset_min_max(world_df,\"max\")"
   ]
  },
  {
   "cell_type": "code",
   "execution_count": 35,
   "metadata": {},
   "outputs": [
    {
     "name": "stdout",
     "output_type": "stream",
     "text": [
      "<class 'pandas.core.frame.DataFrame'>\n",
      "Int64Index: 1024 entries, 1981 to 1838\n",
      "Data columns (total 14 columns):\n",
      " #   Column                Non-Null Count  Dtype  \n",
      "---  ------                --------------  -----  \n",
      " 0   world_rank            1024 non-null   int64  \n",
      " 1   university_name       1024 non-null   object \n",
      " 2   country               1024 non-null   object \n",
      " 3   national_rank         1024 non-null   int64  \n",
      " 4   quality_of_education  1024 non-null   int64  \n",
      " 5   alumni_employment     1024 non-null   int64  \n",
      " 6   quality_of_faculty    1024 non-null   int64  \n",
      " 7   publications          1024 non-null   int64  \n",
      " 8   influence             1024 non-null   int64  \n",
      " 9   citations             1024 non-null   int64  \n",
      " 10  broad_impact          1023 non-null   float64\n",
      " 11  patents               1024 non-null   int64  \n",
      " 12  score                 1024 non-null   float64\n",
      " 13  year                  1024 non-null   int64  \n",
      "dtypes: float64(2), int64(10), object(2)\n",
      "memory usage: 120.0+ KB\n"
     ]
    }
   ],
   "source": [
    "world_most_recent_data.info()\n"
   ]
  },
  {
   "cell_type": "markdown",
   "metadata": {},
   "source": [
    "### Creo nuova colona con nomi di universita puliti (spazi,virgole,tutti minuscoli ect) cosi combaciano"
   ]
  },
  {
   "cell_type": "code",
   "execution_count": 36,
   "metadata": {},
   "outputs": [],
   "source": [
    "def cleanNames(name):\n",
    "    cleanname =name.lower().replace(\"'\", \"\").replace(\" \", \"\").replace(\",\", \"\").replace(\"-\", \"\")\n",
    "    return cleanname"
   ]
  },
  {
   "cell_type": "code",
   "execution_count": 37,
   "metadata": {},
   "outputs": [],
   "source": [
    "shanghai_most_recent_data['CleanUniNames'] = shanghai_most_recent_data.university_name.apply(cleanNames)"
   ]
  },
  {
   "cell_type": "code",
   "execution_count": 38,
   "metadata": {},
   "outputs": [],
   "source": [
    "times_most_recent_data['CleanUniNames'] = times_most_recent_data.university_name.apply(cleanNames)\n"
   ]
  },
  {
   "cell_type": "code",
   "execution_count": 39,
   "metadata": {},
   "outputs": [],
   "source": [
    "world_most_recent_data['CleanUniNames'] = world_most_recent_data.university_name.apply(cleanNames)"
   ]
  },
  {
   "cell_type": "markdown",
   "metadata": {},
   "source": [
    "### Prendo solo le colone che mi interessano"
   ]
  },
  {
   "cell_type": "code",
   "execution_count": 40,
   "metadata": {},
   "outputs": [],
   "source": [
    "shanghai_sh=shanghai_most_recent_data[['CleanUniNames','university_name','world_rank']].rename(columns={\"world_rank\" : \"world_rank_shanghai\"})"
   ]
  },
  {
   "cell_type": "code",
   "execution_count": 41,
   "metadata": {},
   "outputs": [
    {
     "name": "stdout",
     "output_type": "stream",
     "text": [
      "               CleanUniNames           university_name world_rank_shanghai\n",
      "4696       aalborguniversity        Aalborg University             301-400\n",
      "4796         aaltouniversity          Aalto University             401-500\n",
      "4468        aarhusuniversity         Aarhus University                  73\n",
      "4496  aixmarseilleuniversity  Aix Marseille University             101-150\n",
      "3115  aixmarseilleuniversity  Aix-Marseille University             102-150\n",
      "...                      ...                       ...                 ...\n",
      "3512     yamaguchiuniversity      Yamaguchi University             401-500\n",
      "4694       yeshivauniversity        Yeshiva University             201-300\n",
      "4695        yonseiuniversity         Yonsei University             201-300\n",
      "4395          yorkuniversity           York University             401-500\n",
      "4545      zhejianguniversity       Zhejiang University             101-150\n",
      "\n",
      "[658 rows x 3 columns]\n"
     ]
    }
   ],
   "source": [
    "print(shanghai_sh)"
   ]
  },
  {
   "cell_type": "code",
   "execution_count": 42,
   "metadata": {},
   "outputs": [],
   "source": [
    "times_sh=times_most_recent_data[['CleanUniNames','world_rank']].rename(columns={\"world_rank\" : \"world_rank_times\"})"
   ]
  },
  {
   "cell_type": "code",
   "execution_count": 43,
   "metadata": {},
   "outputs": [],
   "source": [
    "world_sh=world_most_recent_data[['CleanUniNames','world_rank']].rename(columns={\"world_rank\" : \"world_rank_world\"})"
   ]
  },
  {
   "cell_type": "markdown",
   "metadata": {},
   "source": [
    "### Inner join, prendo solo i nomi in comune"
   ]
  },
  {
   "cell_type": "code",
   "execution_count": 44,
   "metadata": {},
   "outputs": [],
   "source": [
    "JoinTableFirst = shanghai_sh.join(times_sh.set_index('CleanUniNames'), on='CleanUniNames', how='inner')"
   ]
  },
  {
   "cell_type": "code",
   "execution_count": 45,
   "metadata": {},
   "outputs": [],
   "source": [
    "JoinTable = JoinTableFirst.join(world_sh.set_index('CleanUniNames'), on='CleanUniNames', how='inner')"
   ]
  },
  {
   "cell_type": "code",
   "execution_count": 46,
   "metadata": {},
   "outputs": [
    {
     "data": {
      "text/html": [
       "<div>\n",
       "<style scoped>\n",
       "    .dataframe tbody tr th:only-of-type {\n",
       "        vertical-align: middle;\n",
       "    }\n",
       "\n",
       "    .dataframe tbody tr th {\n",
       "        vertical-align: top;\n",
       "    }\n",
       "\n",
       "    .dataframe thead th {\n",
       "        text-align: right;\n",
       "    }\n",
       "</style>\n",
       "<table border=\"1\" class=\"dataframe\">\n",
       "  <thead>\n",
       "    <tr style=\"text-align: right;\">\n",
       "      <th></th>\n",
       "      <th>CleanUniNames</th>\n",
       "      <th>university_name</th>\n",
       "      <th>world_rank_shanghai</th>\n",
       "      <th>world_rank_times</th>\n",
       "      <th>world_rank_world</th>\n",
       "    </tr>\n",
       "  </thead>\n",
       "  <tbody>\n",
       "    <tr>\n",
       "      <th>4696</th>\n",
       "      <td>aalborguniversity</td>\n",
       "      <td>Aalborg University</td>\n",
       "      <td>301-400</td>\n",
       "      <td>201-250</td>\n",
       "      <td>565</td>\n",
       "    </tr>\n",
       "    <tr>\n",
       "      <th>4796</th>\n",
       "      <td>aaltouniversity</td>\n",
       "      <td>Aalto University</td>\n",
       "      <td>401-500</td>\n",
       "      <td>251-300</td>\n",
       "      <td>421</td>\n",
       "    </tr>\n",
       "    <tr>\n",
       "      <th>4468</th>\n",
       "      <td>aarhusuniversity</td>\n",
       "      <td>Aarhus University</td>\n",
       "      <td>73</td>\n",
       "      <td>106</td>\n",
       "      <td>122</td>\n",
       "    </tr>\n",
       "    <tr>\n",
       "      <th>4496</th>\n",
       "      <td>aixmarseilleuniversity</td>\n",
       "      <td>Aix Marseille University</td>\n",
       "      <td>101-150</td>\n",
       "      <td>251-300</td>\n",
       "      <td>206</td>\n",
       "    </tr>\n",
       "    <tr>\n",
       "      <th>3115</th>\n",
       "      <td>aixmarseilleuniversity</td>\n",
       "      <td>Aix-Marseille University</td>\n",
       "      <td>102-150</td>\n",
       "      <td>251-300</td>\n",
       "      <td>206</td>\n",
       "    </tr>\n",
       "    <tr>\n",
       "      <th>...</th>\n",
       "      <td>...</td>\n",
       "      <td>...</td>\n",
       "      <td>...</td>\n",
       "      <td>...</td>\n",
       "      <td>...</td>\n",
       "    </tr>\n",
       "    <tr>\n",
       "      <th>4406</th>\n",
       "      <td>yaleuniversity</td>\n",
       "      <td>Yale University</td>\n",
       "      <td>11</td>\n",
       "      <td>12</td>\n",
       "      <td>11</td>\n",
       "    </tr>\n",
       "    <tr>\n",
       "      <th>4694</th>\n",
       "      <td>yeshivauniversity</td>\n",
       "      <td>Yeshiva University</td>\n",
       "      <td>201-300</td>\n",
       "      <td>164</td>\n",
       "      <td>171</td>\n",
       "    </tr>\n",
       "    <tr>\n",
       "      <th>4695</th>\n",
       "      <td>yonseiuniversity</td>\n",
       "      <td>Yonsei University</td>\n",
       "      <td>201-300</td>\n",
       "      <td>301-350</td>\n",
       "      <td>98</td>\n",
       "    </tr>\n",
       "    <tr>\n",
       "      <th>4395</th>\n",
       "      <td>yorkuniversity</td>\n",
       "      <td>York University</td>\n",
       "      <td>401-500</td>\n",
       "      <td>301-350</td>\n",
       "      <td>337</td>\n",
       "    </tr>\n",
       "    <tr>\n",
       "      <th>4545</th>\n",
       "      <td>zhejianguniversity</td>\n",
       "      <td>Zhejiang University</td>\n",
       "      <td>101-150</td>\n",
       "      <td>251-300</td>\n",
       "      <td>191</td>\n",
       "    </tr>\n",
       "  </tbody>\n",
       "</table>\n",
       "<p>373 rows × 5 columns</p>\n",
       "</div>"
      ],
      "text/plain": [
       "               CleanUniNames           university_name world_rank_shanghai  \\\n",
       "4696       aalborguniversity        Aalborg University             301-400   \n",
       "4796         aaltouniversity          Aalto University             401-500   \n",
       "4468        aarhusuniversity         Aarhus University                  73   \n",
       "4496  aixmarseilleuniversity  Aix Marseille University             101-150   \n",
       "3115  aixmarseilleuniversity  Aix-Marseille University             102-150   \n",
       "...                      ...                       ...                 ...   \n",
       "4406          yaleuniversity           Yale University                  11   \n",
       "4694       yeshivauniversity        Yeshiva University             201-300   \n",
       "4695        yonseiuniversity         Yonsei University             201-300   \n",
       "4395          yorkuniversity           York University             401-500   \n",
       "4545      zhejianguniversity       Zhejiang University             101-150   \n",
       "\n",
       "     world_rank_times  world_rank_world  \n",
       "4696          201-250               565  \n",
       "4796          251-300               421  \n",
       "4468              106               122  \n",
       "4496          251-300               206  \n",
       "3115          251-300               206  \n",
       "...               ...               ...  \n",
       "4406               12                11  \n",
       "4694              164               171  \n",
       "4695          301-350                98  \n",
       "4395          301-350               337  \n",
       "4545          251-300               191  \n",
       "\n",
       "[373 rows x 5 columns]"
      ]
     },
     "execution_count": 46,
     "metadata": {},
     "output_type": "execute_result"
    }
   ],
   "source": [
    "JoinTable"
   ]
  },
  {
   "cell_type": "markdown",
   "metadata": {},
   "source": [
    "### divido i range in due colone"
   ]
  },
  {
   "cell_type": "code",
   "execution_count": 47,
   "metadata": {},
   "outputs": [],
   "source": [
    "def splitRange(columnValue):\n",
    "      result=columnValue.split('-')\n",
    "      if len(result) >1 :\n",
    "                return [int(result[0]),int(result[1])]\n",
    "      else:\n",
    "                return [int(result[0]),int(result[0])]"
   ]
  },
  {
   "cell_type": "code",
   "execution_count": 48,
   "metadata": {},
   "outputs": [],
   "source": [
    "Mylist =[]\n",
    "def FindDiff(col1,col2,col3):\n",
    "    \n",
    "    Mylist.extend(splitRange(col1))\n",
    "    Mylist.extend(splitRange(col2))\n",
    "    Mylist.extend(splitRange(str(col3)))\n",
    "    Mylist.sort()\n",
    "    min1 = int(Mylist[0])\n",
    "    max1 =int(Mylist[-1])\n",
    "    Mylist.clear()\n",
    "    return max1-min1"
   ]
  },
  {
   "cell_type": "code",
   "execution_count": 49,
   "metadata": {},
   "outputs": [],
   "source": [
    "JoinTable[\"MaxDiff\"]=JoinTable.apply(lambda x: FindDiff(x.world_rank_shanghai, x.world_rank_times,x.world_rank_world), axis=1 )"
   ]
  },
  {
   "cell_type": "code",
   "execution_count": 50,
   "metadata": {},
   "outputs": [],
   "source": [
    "FinalTable = JoinTable[['university_name','world_rank_shanghai','world_rank_times', 'world_rank_world', 'MaxDiff']]"
   ]
  },
  {
   "cell_type": "code",
   "execution_count": 51,
   "metadata": {},
   "outputs": [
    {
     "data": {
      "text/html": [
       "<div>\n",
       "<style scoped>\n",
       "    .dataframe tbody tr th:only-of-type {\n",
       "        vertical-align: middle;\n",
       "    }\n",
       "\n",
       "    .dataframe tbody tr th {\n",
       "        vertical-align: top;\n",
       "    }\n",
       "\n",
       "    .dataframe thead th {\n",
       "        text-align: right;\n",
       "    }\n",
       "</style>\n",
       "<table border=\"1\" class=\"dataframe\">\n",
       "  <thead>\n",
       "    <tr style=\"text-align: right;\">\n",
       "      <th></th>\n",
       "      <th>university_name</th>\n",
       "      <th>world_rank_shanghai</th>\n",
       "      <th>world_rank_times</th>\n",
       "      <th>world_rank_world</th>\n",
       "      <th>MaxDiff</th>\n",
       "    </tr>\n",
       "  </thead>\n",
       "  <tbody>\n",
       "    <tr>\n",
       "      <th>4696</th>\n",
       "      <td>Aalborg University</td>\n",
       "      <td>301-400</td>\n",
       "      <td>201-250</td>\n",
       "      <td>565</td>\n",
       "      <td>364</td>\n",
       "    </tr>\n",
       "    <tr>\n",
       "      <th>4796</th>\n",
       "      <td>Aalto University</td>\n",
       "      <td>401-500</td>\n",
       "      <td>251-300</td>\n",
       "      <td>421</td>\n",
       "      <td>249</td>\n",
       "    </tr>\n",
       "    <tr>\n",
       "      <th>4468</th>\n",
       "      <td>Aarhus University</td>\n",
       "      <td>73</td>\n",
       "      <td>106</td>\n",
       "      <td>122</td>\n",
       "      <td>49</td>\n",
       "    </tr>\n",
       "    <tr>\n",
       "      <th>4496</th>\n",
       "      <td>Aix Marseille University</td>\n",
       "      <td>101-150</td>\n",
       "      <td>251-300</td>\n",
       "      <td>206</td>\n",
       "      <td>199</td>\n",
       "    </tr>\n",
       "    <tr>\n",
       "      <th>3115</th>\n",
       "      <td>Aix-Marseille University</td>\n",
       "      <td>102-150</td>\n",
       "      <td>251-300</td>\n",
       "      <td>206</td>\n",
       "      <td>198</td>\n",
       "    </tr>\n",
       "  </tbody>\n",
       "</table>\n",
       "</div>"
      ],
      "text/plain": [
       "               university_name world_rank_shanghai world_rank_times  \\\n",
       "4696        Aalborg University             301-400          201-250   \n",
       "4796          Aalto University             401-500          251-300   \n",
       "4468         Aarhus University                  73              106   \n",
       "4496  Aix Marseille University             101-150          251-300   \n",
       "3115  Aix-Marseille University             102-150          251-300   \n",
       "\n",
       "      world_rank_world  MaxDiff  \n",
       "4696               565      364  \n",
       "4796               421      249  \n",
       "4468               122       49  \n",
       "4496               206      199  \n",
       "3115               206      198  "
      ]
     },
     "execution_count": 51,
     "metadata": {},
     "output_type": "execute_result"
    }
   ],
   "source": [
    "FinalTable.head(5)"
   ]
  },
  {
   "cell_type": "markdown",
   "metadata": {},
   "source": [
    "\n",
    "## 5. Consider only the most recent data point of the times dataset. Compute the number of male and female students for each country."
   ]
  },
  {
   "cell_type": "code",
   "execution_count": 52,
   "metadata": {},
   "outputs": [
    {
     "data": {
      "text/plain": [
       "2405    35,569\n",
       "2003    17,422\n",
       "2056    16,099\n",
       "1908    23,895\n",
       "2105     9,252\n",
       "         ...  \n",
       "1856     2,400\n",
       "2013     2,218\n",
       "1904     2,429\n",
       "1833     9,666\n",
       "2134     8,788\n",
       "Name: num_students, Length: 818, dtype: object"
      ]
     },
     "execution_count": 52,
     "metadata": {},
     "output_type": "execute_result"
    }
   ],
   "source": [
    "times_most_recent_data.num_students"
   ]
  },
  {
   "cell_type": "code",
   "execution_count": 53,
   "metadata": {},
   "outputs": [
    {
     "data": {
      "text/plain": [
       "True"
      ]
     },
     "execution_count": 53,
     "metadata": {},
     "output_type": "execute_result"
    }
   ],
   "source": [
    "times_most_recent_data.num_students.hasnans"
   ]
  },
  {
   "cell_type": "markdown",
   "metadata": {},
   "source": [
    "#### Nota: vedo che la colona num_students usa la virgoa come seperatore di mille , percui gli tolgo"
   ]
  },
  {
   "cell_type": "code",
   "execution_count": 54,
   "metadata": {},
   "outputs": [],
   "source": [
    "times_most_recent_data['num_students']=times_most_recent_data.num_students.str.replace(',','').astype(float)"
   ]
  },
  {
   "cell_type": "markdown",
   "metadata": {},
   "source": [
    "#### Controllo la collona female_male_ratio"
   ]
  },
  {
   "cell_type": "code",
   "execution_count": 55,
   "metadata": {},
   "outputs": [
    {
     "data": {
      "text/plain": [
       "True"
      ]
     },
     "execution_count": 55,
     "metadata": {},
     "output_type": "execute_result"
    }
   ],
   "source": [
    "times_most_recent_data.female_male_ratio.hasnans"
   ]
  },
  {
   "cell_type": "code",
   "execution_count": 56,
   "metadata": {},
   "outputs": [
    {
     "data": {
      "text/plain": [
       "array(['-', '48:52:00', '32 : 68', '54:46:00', '48:52:00', '71:29:00',\n",
       "       '61:39:00', '33 : 67', '46:54:00', '63:37:00', '0.765972222',\n",
       "       '60:40:00', '51:49:00', '48:52:00', '34 : 66', nan, '78:22:00',\n",
       "       '36 : 64', '52:48:00', '50:50:00', '53:47:00', nan, '47:53:00',\n",
       "       '51:49:00', '58:42:00', '47:53:00', '52:48:00', '59:41:00',\n",
       "       '56:44:00', '67:33:00', '55:45:00', '59:41:00', '1.011805556',\n",
       "       '46:54:00', nan, '69:31:00', '49:51:00', '57:43:00', nan,\n",
       "       '48:52:00', '55:45:00', '0.970833333', '55:45:00', '54:46:00',\n",
       "       '58:42:00', '53:47:00', '50:50:00', '55:45:00', '27 : 73', nan,\n",
       "       '46:54:00', '32 : 68', '47:53:00', '33 : 67', '58:42:00',\n",
       "       '70:30:00', '57:43:00', '47:53:00', '43:57:00', '39 : 61',\n",
       "       '48:52:00', nan, '66:34:00', '59:41:00', '30 : 70', '42:58:00',\n",
       "       '64:36:00', '67:33:00', '62:38:00', '0.847916667', '37 : 63',\n",
       "       '57:43:00', '53:47:00', nan, nan, '53:47:00', '45:55:00', nan,\n",
       "       '41:59:00', '59:41:00', '41:59:00', '45:55:00', nan, '55:45:00',\n",
       "       '51:49:00', '50:50:00', '46:54:00', '26 : 74', '52:48:00', nan,\n",
       "       '54:46:00', '62:38:00', '50:50:00', '48:52:00', '48:52:00',\n",
       "       '47:53:00', '57:43:00', '53:47:00', '-', '55:45:00', '33 : 67',\n",
       "       '47:53:00', '57:43:00', '60:40:00', '26 : 74', '48:52:00',\n",
       "       '51:49:00', '41:59:00', '49:51:00', '54:46:00', '31 : 69',\n",
       "       '63:37:00', nan, '61:39:00', '39 : 61', '0.847916667', '56:44:00',\n",
       "       '48:52:00', '46:54:00', '100:00:00', nan, '47:53:00', '53:47:00',\n",
       "       '55:45:00', nan, '50:50:00', '54:46:00', '48:52:00', nan,\n",
       "       '70:30:00', '24 : 76', '36 : 64', '63:37:00', '34 : 66',\n",
       "       '56:44:00', '55:45:00', '58:42:00', '59:41:00', '50:50:00',\n",
       "       '39 : 61', '54:46:00', '56:44:00', '53:47:00', nan, '31 : 69',\n",
       "       '59:41:00', '57:43:00', '35 : 65', '60:40:00', '60:40:00',\n",
       "       '0.970833333', nan, '25 : 75', '56:44:00', nan, '29 : 71', nan,\n",
       "       '55:45:00', '55:45:00', '41:59:00', '36 : 64', '29 : 71',\n",
       "       '61:39:00', '51:49:00', nan, '65:35:00', '34 : 66', nan,\n",
       "       '43:57:00', '45:55:00', nan, '37 : 63', '0.847916667', '0.725',\n",
       "       '0.806944444', '0.643055556', '0.602083333', '0.684027778',\n",
       "       '0.847916667', '0.765972222', '53:47:00', '36 : 64', '27 : 73',\n",
       "       '44:56:00', '24 : 76', '39 : 61', '34 : 66', '44:56:00', '30 : 70',\n",
       "       '67:33:00', '63:37:00', '46:54:00', '58:42:00', '48:52:00',\n",
       "       '50:50:00', '55:45:00', nan, '52:48:00', '62:38:00', '32 : 68',\n",
       "       '30 : 70', '54:46:00', '36 : 64', '50:50:00', '56:44:00',\n",
       "       '26 : 74', '70:30:00', '69:31:00', '55:45:00', '32 : 68',\n",
       "       '58:42:00', '62:38:00', '57:43:00', '-', '42:58:00', nan,\n",
       "       '53:47:00', '61:39:00', nan, '33 : 67', '47:53:00', '0.888888889',\n",
       "       nan, '52:48:00', '37 : 63', nan, nan, '42:58:00', '0.520138889',\n",
       "       '28 : 72', '62:38:00', '63:37:00', '52:48:00', '31 : 69', nan,\n",
       "       '44:56:00', '41:59:00', '59:41:00', '41:59:00', '58:42:00',\n",
       "       '52:48:00', '52:48:00', '43:57:00', nan, '38 : 62', '52:48:00',\n",
       "       nan, '56:44:00', '55:45:00', '63:37:00', '50:50:00', '57:43:00',\n",
       "       '45:55:00', '62:38:00', '37 : 63', '62:38:00', '56:44:00',\n",
       "       '53:47:00', '48:52:00', nan, '50:50:00', '59:41:00', '53:47:00',\n",
       "       '51:49:00', nan, '44:56:00', '59:41:00', '28 : 72', '1.011805556',\n",
       "       '56:44:00', '46:54:00', '40 : 60', '51:49:00', nan, '59:41:00',\n",
       "       '36 : 64', '29 : 71', '46:54:00', '48:52:00', '51:49:00',\n",
       "       '31 : 69', '36 : 64', '57:43:00', '27 : 73', nan, '39 : 61',\n",
       "       '31 : 69', '29 : 71', '37 : 63', '25 : 75', '57:43:00', '30 : 70',\n",
       "       '39 : 61', '34 : 66', '36 : 64', '33 : 67', '62:38:00', '56:44:00',\n",
       "       '55:45:00', '43:57:00', '27 : 73', '49:51:00', '48:52:00',\n",
       "       '61:39:00', '25 : 75', '54:46:00', '49:51:00', '55:45:00',\n",
       "       '50:50:00', '37 : 63', '44:56:00', '50:50:00', '55:45:00',\n",
       "       '25 : 75', '48:52:00', '46:54:00', '55:45:00', '52:48:00',\n",
       "       '60:40:00', '40 : 60', '49:51:00', '50:50:00', '38 : 62',\n",
       "       '49:51:00', nan, '65:35:00', '47:53:00', '36 : 64', '36 : 64',\n",
       "       '31 : 69', '42:58:00', '57:43:00', '70:30:00', '46:54:00',\n",
       "       '59:41:00', '53:47:00', '63:37:00', '63:37:00', '69:31:00', nan,\n",
       "       nan, '46:54:00', '40 : 60', '48:52:00', '52:48:00', '0.888888889',\n",
       "       '0.561111111', '34 : 66', '29 : 71', '36 : 64', '59:41:00', nan,\n",
       "       '0.110416667', '50:50:00', '49:51:00', '45:55:00', '54:46:00',\n",
       "       '69:31:00', '45:55:00', '42:58:00', '51:49:00', '74:26:00',\n",
       "       '53:47:00', '52:48:00', '54:46:00', '58:42:00', '54:46:00',\n",
       "       '47:53:00', '31 : 69', '58:42:00', nan, '30 : 70', '44:56:00',\n",
       "       '46:54:00', '34 : 66', '55:45:00', '57:43:00', '77:23:00',\n",
       "       '48:52:00', '71:29:00', '51:49:00', '39 : 61', '58:42:00',\n",
       "       '60:40:00', '33 : 67', '57:43:00', '59:41:00', '25 : 75',\n",
       "       '28 : 72', '35 : 65', '43:57:00', '64:36:00', nan, '52:48:00',\n",
       "       '37 : 63', '48:52:00', '48:52:00', '27 : 73', '53:47:00', nan,\n",
       "       '57:43:00', '48:52:00', '55:45:00', '31 : 69', '43:57:00',\n",
       "       '78:22:00', '53:47:00', '33 : 67', '66:34:00', '56:44:00', nan,\n",
       "       '61:39:00', '42:58:00', '48:52:00', '51:49:00', '53:47:00',\n",
       "       '62:38:00', '50:50:00', '65:35:00', '50:50:00', '51:49:00',\n",
       "       '39 : 61', '50:50:00', '49:51:00', '67:33:00', '44:56:00',\n",
       "       '55:45:00', '52:48:00', '42:58:00', '58:42:00', '44:56:00',\n",
       "       '1.011805556', '45:55:00', nan, '28 : 72', '27 : 73', '47:53:00',\n",
       "       '32 : 68', '33 : 67', '35 : 65', '62:38:00', nan, '51:49:00',\n",
       "       '47:53:00', '46:54:00', '61:39:00', '53:47:00', nan, '49:51:00',\n",
       "       '25 : 75', '27 : 73', '34 : 66', '0.602083333', '51:49:00',\n",
       "       '35 : 65', '27 : 73', '34 : 66', '0.888888889', '39 : 61',\n",
       "       '60:40:00', '38 : 62', '34 : 66', '59:41:00', '0.438194444',\n",
       "       '57:43:00', '32 : 68', '54:46:00', '56:44:00', '60:40:00',\n",
       "       '47:53:00', '55:45:00', '60:40:00', '76:24:00', '62:38:00',\n",
       "       '63:37:00', '61:39:00', '65:35:00', '43:57:00', '55:45:00', nan,\n",
       "       '56:44:00', '47:53:00', '52:48:00', '54:46:00', '48:52:00',\n",
       "       '53:47:00', '55:45:00', '53:47:00', '53:47:00', '50:50:00',\n",
       "       '56:44:00', '52:48:00', '50:50:00', '54:46:00', '51:49:00',\n",
       "       '62:38:00', '65:35:00', '54:46:00', '46:54:00', '60:40:00',\n",
       "       '60:40:00', '54:46:00', '54:46:00', '56:44:00', '55:45:00',\n",
       "       '58:42:00', '53:47:00', '52:48:00', '50:50:00', '48:52:00',\n",
       "       '58:42:00', '53:47:00', '54:46:00', '70:30:00', '54:46:00',\n",
       "       '62:38:00', nan, '53:47:00', '50:50:00', '54:46:00', '52:48:00',\n",
       "       '52:48:00', '51:49:00', '48:52:00', '52:48:00', '53:47:00',\n",
       "       '46:54:00', '54:46:00', '51:49:00', '53:47:00', '56:44:00',\n",
       "       '61:39:00', '57:43:00', '53:47:00', nan, '42:58:00', '47:53:00',\n",
       "       '54:46:00', '55:45:00', '60:40:00', '45:55:00', '51:49:00',\n",
       "       '67:33:00', '63:37:00', '69:31:00', '57:43:00', '56:44:00',\n",
       "       '50:50:00', '34 : 66', '49:51:00', '60:40:00', '58:42:00',\n",
       "       '64:36:00', '58:42:00', '0.929861111', '49:51:00', '55:45:00',\n",
       "       '54:46:00', '56:44:00', '59:41:00', '54:46:00', '52:48:00',\n",
       "       '58:42:00', '61:39:00', '56:44:00', '57:43:00', '41:59:00',\n",
       "       '57:43:00', nan, '56:44:00', '65:35:00', '53:47:00', '55:45:00',\n",
       "       '52:48:00', '60:40:00', '51:49:00', '65:35:00', nan, nan,\n",
       "       '66:34:00', '54:46:00', '56:44:00', '53:47:00', '50:50:00',\n",
       "       '54:46:00', '52:48:00', '45:55:00', '66:34:00', '47:53:00',\n",
       "       '53:47:00', '47:53:00', '51:49:00', '54:46:00', '58:42:00',\n",
       "       '52:48:00', '67:33:00', '62:38:00', '36 : 64', nan, '53:47:00',\n",
       "       nan, '53:47:00', '54:46:00', '58:42:00', '58:42:00', '68:32:00',\n",
       "       nan, '58:42:00', '54:46:00', '46:54:00', '54:46:00', '51:49:00',\n",
       "       '52:48:00', '54:46:00', '60:40:00', '50:50:00', '58:42:00',\n",
       "       '52:48:00', '55:45:00', '55:45:00', nan, '46:54:00', '46:54:00',\n",
       "       '48:52:00', '49:51:00', nan, '55:45:00', '50:50:00', '48:52:00',\n",
       "       '60:40:00', '60:40:00', '52:48:00', '52:48:00', '53:47:00',\n",
       "       '54:46:00', '54:46:00', '57:43:00', '62:38:00', '53:47:00',\n",
       "       '40 : 60', '56:44:00', nan, '52:48:00', '67:33:00', '46:54:00',\n",
       "       '59:41:00', nan, '47:53:00', '56:44:00', '56:44:00', '58:42:00',\n",
       "       '66:34:00', '44:56:00', '54:46:00', nan, '52:48:00', nan,\n",
       "       '57:43:00', '60:40:00', '49:51:00', '54:46:00', '46:54:00',\n",
       "       '56:44:00', '60:40:00', '55:45:00', '60:40:00', '56:44:00',\n",
       "       '46:54:00', '56:44:00', '51:49:00', '52:48:00', '51:49:00',\n",
       "       '54:46:00', '45:55:00', '57:43:00', nan, '55:45:00', '61:39:00',\n",
       "       '50:50:00', '49:51:00', '52:48:00', '59:41:00', '61:39:00',\n",
       "       '58:42:00', '64:36:00', '51:49:00', '63:37:00', '63:37:00',\n",
       "       '39 : 61', '57:43:00', '36 : 64', nan, '36 : 64', '55:45:00',\n",
       "       '50:50:00', '59:41:00', '65:35:00', '65:35:00', '59:41:00',\n",
       "       '55:45:00', '61:39:00', nan, '53:47:00', '52:48:00', '52:48:00',\n",
       "       '63:37:00', '55:45:00', '56:44:00', '32 : 68', '61:39:00',\n",
       "       '58:42:00', '50:50:00', '31 : 69', '55:45:00', '54:46:00',\n",
       "       '57:43:00', '58:42:00', '48:52:00', '66:34:00', '66:34:00',\n",
       "       '57:43:00', '53:47:00', '45:55:00', nan, '60:40:00', '51:49:00',\n",
       "       '44:56:00', '54:46:00', '48:52:00', nan, '50:50:00', nan,\n",
       "       '51:49:00', '56:44:00', '38 : 62', '43:57:00', '62:38:00',\n",
       "       '61:39:00', '37 : 63', '58:42:00', nan, '61:39:00', '45:55:00',\n",
       "       '60:40:00', nan, '56:44:00', '67:33:00', '51:49:00', '52:48:00',\n",
       "       '57:43:00', '67:33:00', '48:52:00', '53:47:00', '45:55:00',\n",
       "       '52:48:00', '50:50:00', '54:46:00', '57:43:00', nan, '51:49:00',\n",
       "       '52:48:00', '50:50:00', nan, '57:43:00', nan, '55:45:00',\n",
       "       '57:43:00', '44:56:00', '53:47:00', '53:47:00', '56:44:00',\n",
       "       '54:46:00', '54:46:00', '54:46:00', '61:39:00', '57:43:00',\n",
       "       '48:52:00', '59:41:00', '53:47:00', '56:44:00', '52:48:00',\n",
       "       '65:35:00', '55:45:00', '27 : 73', '65:35:00', '42:58:00',\n",
       "       '55:45:00', '49:51:00', '56:44:00', '51:49:00', '34 : 66',\n",
       "       '35 : 65', '50:50:00', nan, '57:43:00', '62:38:00', '56:44:00',\n",
       "       '54:46:00', nan, '31 : 69', '52:48:00', '29 : 71', '34 : 66',\n",
       "       '50:50:00', '53:47:00', '48:52:00', nan, '28 : 72', nan,\n",
       "       '59:41:00', '43:57:00', '36 : 64', '41:59:00', '46:54:00',\n",
       "       '49:51:00', '0.806944444', '27 : 73', '61:39:00'], dtype=object)"
      ]
     },
     "execution_count": 56,
     "metadata": {},
     "output_type": "execute_result"
    }
   ],
   "source": [
    "times_most_recent_data.female_male_ratio.values"
   ]
  },
  {
   "cell_type": "markdown",
   "metadata": {},
   "source": [
    "#### Vedo che ha valori  \"-\" e valori \"nan\" , percui gli devo ignorare"
   ]
  },
  {
   "cell_type": "code",
   "execution_count": 57,
   "metadata": {},
   "outputs": [
    {
     "data": {
      "text/plain": [
       "2405              -\n",
       "2003       48:52:00\n",
       "2056        32 : 68\n",
       "1908       54:46:00\n",
       "2105       48:52:00\n",
       "           ...     \n",
       "1856       46:54:00\n",
       "2013       49:51:00\n",
       "1904    0.806944444\n",
       "1833        27 : 73\n",
       "2134       61:39:00\n",
       "Name: female_male_ratio, Length: 818, dtype: object"
      ]
     },
     "execution_count": 57,
     "metadata": {},
     "output_type": "execute_result"
    }
   ],
   "source": [
    "times_most_recent_data.female_male_ratio"
   ]
  },
  {
   "cell_type": "code",
   "execution_count": 58,
   "metadata": {},
   "outputs": [],
   "source": [
    "times_most_recent_data['first_condition'] = times_most_recent_data['female_male_ratio'].str.contains('-')==True\n",
    "times_most_recent_data['second_condition'] = times_most_recent_data['female_male_ratio'].isnull()\n",
    "times_most_recent_data['third_condition'] = times_most_recent_data['num_students'].isnull()"
   ]
  },
  {
   "cell_type": "markdown",
   "metadata": {},
   "source": [
    "### Costruisco due colone uno per numeri di maschi e uno per numero di femmine"
   ]
  },
  {
   "cell_type": "code",
   "execution_count": 59,
   "metadata": {},
   "outputs": [],
   "source": [
    "def CalculateFemale(row):\n",
    "    if( row[\"first_condition\"] | row[\"second_condition\"] | row[\"third_condition\"]):\n",
    "        return None\n",
    "    \n",
    "    femaleratio = row[\"female_male_ratio\"].split(':')[0]\n",
    "    totalnrStudents = row[\"num_students\"]\n",
    "    return round((femaleratio/100) *totalnrStudents,0)\n",
    "    "
   ]
  },
  {
   "cell_type": "code",
   "execution_count": 60,
   "metadata": {},
   "outputs": [
    {
     "data": {
      "text/html": [
       "<div>\n",
       "<style scoped>\n",
       "    .dataframe tbody tr th:only-of-type {\n",
       "        vertical-align: middle;\n",
       "    }\n",
       "\n",
       "    .dataframe tbody tr th {\n",
       "        vertical-align: top;\n",
       "    }\n",
       "\n",
       "    .dataframe thead th {\n",
       "        text-align: right;\n",
       "    }\n",
       "</style>\n",
       "<table border=\"1\" class=\"dataframe\">\n",
       "  <thead>\n",
       "    <tr style=\"text-align: right;\">\n",
       "      <th></th>\n",
       "      <th>world_rank</th>\n",
       "      <th>university_name</th>\n",
       "      <th>country</th>\n",
       "      <th>teaching</th>\n",
       "      <th>international</th>\n",
       "      <th>research</th>\n",
       "      <th>citations</th>\n",
       "      <th>income</th>\n",
       "      <th>total_score</th>\n",
       "      <th>num_students</th>\n",
       "      <th>student_staff_ratio</th>\n",
       "      <th>international_students</th>\n",
       "      <th>female_male_ratio</th>\n",
       "      <th>year</th>\n",
       "      <th>CleanUniNames</th>\n",
       "      <th>first_condition</th>\n",
       "      <th>second_condition</th>\n",
       "      <th>third_condition</th>\n",
       "    </tr>\n",
       "  </thead>\n",
       "  <tbody>\n",
       "    <tr>\n",
       "      <th>2405</th>\n",
       "      <td>601-800</td>\n",
       "      <td>AGH University of Science and Technology</td>\n",
       "      <td>Poland</td>\n",
       "      <td>14.2</td>\n",
       "      <td>17.9</td>\n",
       "      <td>3.7</td>\n",
       "      <td>35.7</td>\n",
       "      <td>-</td>\n",
       "      <td>-</td>\n",
       "      <td>35569.0</td>\n",
       "      <td>17.0</td>\n",
       "      <td>1%</td>\n",
       "      <td>-</td>\n",
       "      <td>2016</td>\n",
       "      <td>aghuniversityofscienceandtechnology</td>\n",
       "      <td>True</td>\n",
       "      <td>False</td>\n",
       "      <td>False</td>\n",
       "    </tr>\n",
       "    <tr>\n",
       "      <th>2003</th>\n",
       "      <td>201-250</td>\n",
       "      <td>Aalborg University</td>\n",
       "      <td>Denmark</td>\n",
       "      <td>25.1</td>\n",
       "      <td>71</td>\n",
       "      <td>28.4</td>\n",
       "      <td>73.8</td>\n",
       "      <td>43.7</td>\n",
       "      <td>-</td>\n",
       "      <td>17422.0</td>\n",
       "      <td>15.9</td>\n",
       "      <td>15%</td>\n",
       "      <td>48:52:00</td>\n",
       "      <td>2016</td>\n",
       "      <td>aalborguniversity</td>\n",
       "      <td>False</td>\n",
       "      <td>False</td>\n",
       "      <td>False</td>\n",
       "    </tr>\n",
       "    <tr>\n",
       "      <th>2056</th>\n",
       "      <td>251-300</td>\n",
       "      <td>Aalto University</td>\n",
       "      <td>Finland</td>\n",
       "      <td>31.1</td>\n",
       "      <td>65.4</td>\n",
       "      <td>32.8</td>\n",
       "      <td>62.1</td>\n",
       "      <td>61.6</td>\n",
       "      <td>-</td>\n",
       "      <td>16099.0</td>\n",
       "      <td>24.2</td>\n",
       "      <td>17%</td>\n",
       "      <td>32 : 68</td>\n",
       "      <td>2016</td>\n",
       "      <td>aaltouniversity</td>\n",
       "      <td>False</td>\n",
       "      <td>False</td>\n",
       "      <td>False</td>\n",
       "    </tr>\n",
       "    <tr>\n",
       "      <th>1908</th>\n",
       "      <td>106</td>\n",
       "      <td>Aarhus University</td>\n",
       "      <td>Denmark</td>\n",
       "      <td>36.9</td>\n",
       "      <td>76.8</td>\n",
       "      <td>50.7</td>\n",
       "      <td>79.8</td>\n",
       "      <td>68.3</td>\n",
       "      <td>57.7</td>\n",
       "      <td>23895.0</td>\n",
       "      <td>13.6</td>\n",
       "      <td>14%</td>\n",
       "      <td>54:46:00</td>\n",
       "      <td>2016</td>\n",
       "      <td>aarhusuniversity</td>\n",
       "      <td>False</td>\n",
       "      <td>False</td>\n",
       "      <td>False</td>\n",
       "    </tr>\n",
       "    <tr>\n",
       "      <th>2105</th>\n",
       "      <td>301-350</td>\n",
       "      <td>Aberystwyth University</td>\n",
       "      <td>United Kingdom</td>\n",
       "      <td>21.6</td>\n",
       "      <td>72.2</td>\n",
       "      <td>18.9</td>\n",
       "      <td>67.2</td>\n",
       "      <td>31.3</td>\n",
       "      <td>-</td>\n",
       "      <td>9252.0</td>\n",
       "      <td>19.2</td>\n",
       "      <td>18%</td>\n",
       "      <td>48:52:00</td>\n",
       "      <td>2016</td>\n",
       "      <td>aberystwythuniversity</td>\n",
       "      <td>False</td>\n",
       "      <td>False</td>\n",
       "      <td>False</td>\n",
       "    </tr>\n",
       "    <tr>\n",
       "      <th>...</th>\n",
       "      <td>...</td>\n",
       "      <td>...</td>\n",
       "      <td>...</td>\n",
       "      <td>...</td>\n",
       "      <td>...</td>\n",
       "      <td>...</td>\n",
       "      <td>...</td>\n",
       "      <td>...</td>\n",
       "      <td>...</td>\n",
       "      <td>...</td>\n",
       "      <td>...</td>\n",
       "      <td>...</td>\n",
       "      <td>...</td>\n",
       "      <td>...</td>\n",
       "      <td>...</td>\n",
       "      <td>...</td>\n",
       "      <td>...</td>\n",
       "      <td>...</td>\n",
       "    </tr>\n",
       "    <tr>\n",
       "      <th>1856</th>\n",
       "      <td>54</td>\n",
       "      <td>École Normale Supérieure</td>\n",
       "      <td>France</td>\n",
       "      <td>70.6</td>\n",
       "      <td>85.5</td>\n",
       "      <td>47.7</td>\n",
       "      <td>87.1</td>\n",
       "      <td>37.1</td>\n",
       "      <td>69</td>\n",
       "      <td>2400.0</td>\n",
       "      <td>7.9</td>\n",
       "      <td>20%</td>\n",
       "      <td>46:54:00</td>\n",
       "      <td>2016</td>\n",
       "      <td>écolenormalesupérieure</td>\n",
       "      <td>False</td>\n",
       "      <td>False</td>\n",
       "      <td>False</td>\n",
       "    </tr>\n",
       "    <tr>\n",
       "      <th>2013</th>\n",
       "      <td>201-250</td>\n",
       "      <td>École Normale Supérieure de Lyon</td>\n",
       "      <td>France</td>\n",
       "      <td>41.6</td>\n",
       "      <td>65.6</td>\n",
       "      <td>30.0</td>\n",
       "      <td>69.0</td>\n",
       "      <td>31.7</td>\n",
       "      <td>-</td>\n",
       "      <td>2218.0</td>\n",
       "      <td>8.0</td>\n",
       "      <td>14%</td>\n",
       "      <td>49:51:00</td>\n",
       "      <td>2016</td>\n",
       "      <td>écolenormalesupérieuredelyon</td>\n",
       "      <td>False</td>\n",
       "      <td>False</td>\n",
       "      <td>False</td>\n",
       "    </tr>\n",
       "    <tr>\n",
       "      <th>1904</th>\n",
       "      <td>101</td>\n",
       "      <td>École Polytechnique</td>\n",
       "      <td>France</td>\n",
       "      <td>53.5</td>\n",
       "      <td>92.8</td>\n",
       "      <td>44.6</td>\n",
       "      <td>64.7</td>\n",
       "      <td>82.3</td>\n",
       "      <td>57.9</td>\n",
       "      <td>2429.0</td>\n",
       "      <td>4.8</td>\n",
       "      <td>30%</td>\n",
       "      <td>0.806944444</td>\n",
       "      <td>2016</td>\n",
       "      <td>écolepolytechnique</td>\n",
       "      <td>False</td>\n",
       "      <td>False</td>\n",
       "      <td>False</td>\n",
       "    </tr>\n",
       "    <tr>\n",
       "      <th>1833</th>\n",
       "      <td>31</td>\n",
       "      <td>École Polytechnique Fédérale de Lausanne</td>\n",
       "      <td>Switzerland</td>\n",
       "      <td>61.3</td>\n",
       "      <td>98.6</td>\n",
       "      <td>67.5</td>\n",
       "      <td>94.6</td>\n",
       "      <td>65.4</td>\n",
       "      <td>76.1</td>\n",
       "      <td>9666.0</td>\n",
       "      <td>10.5</td>\n",
       "      <td>54%</td>\n",
       "      <td>27 : 73</td>\n",
       "      <td>2016</td>\n",
       "      <td>écolepolytechniquefédéraledelausanne</td>\n",
       "      <td>False</td>\n",
       "      <td>False</td>\n",
       "      <td>False</td>\n",
       "    </tr>\n",
       "    <tr>\n",
       "      <th>2134</th>\n",
       "      <td>301-350</td>\n",
       "      <td>Örebro University</td>\n",
       "      <td>Sweden</td>\n",
       "      <td>18.3</td>\n",
       "      <td>39.4</td>\n",
       "      <td>10.4</td>\n",
       "      <td>87.8</td>\n",
       "      <td>29.8</td>\n",
       "      <td>-</td>\n",
       "      <td>8788.0</td>\n",
       "      <td>15.8</td>\n",
       "      <td>2%</td>\n",
       "      <td>61:39:00</td>\n",
       "      <td>2016</td>\n",
       "      <td>örebrouniversity</td>\n",
       "      <td>False</td>\n",
       "      <td>False</td>\n",
       "      <td>False</td>\n",
       "    </tr>\n",
       "  </tbody>\n",
       "</table>\n",
       "<p>818 rows × 18 columns</p>\n",
       "</div>"
      ],
      "text/plain": [
       "     world_rank                           university_name         country  \\\n",
       "2405    601-800  AGH University of Science and Technology          Poland   \n",
       "2003    201-250                        Aalborg University         Denmark   \n",
       "2056    251-300                          Aalto University         Finland   \n",
       "1908        106                         Aarhus University         Denmark   \n",
       "2105    301-350                    Aberystwyth University  United Kingdom   \n",
       "...         ...                                       ...             ...   \n",
       "1856         54                  École Normale Supérieure          France   \n",
       "2013    201-250          École Normale Supérieure de Lyon          France   \n",
       "1904        101                       École Polytechnique          France   \n",
       "1833         31  École Polytechnique Fédérale de Lausanne     Switzerland   \n",
       "2134    301-350                         Örebro University          Sweden   \n",
       "\n",
       "      teaching international  research  citations income total_score  \\\n",
       "2405      14.2          17.9       3.7       35.7      -           -   \n",
       "2003      25.1            71      28.4       73.8   43.7           -   \n",
       "2056      31.1          65.4      32.8       62.1   61.6           -   \n",
       "1908      36.9          76.8      50.7       79.8   68.3        57.7   \n",
       "2105      21.6          72.2      18.9       67.2   31.3           -   \n",
       "...        ...           ...       ...        ...    ...         ...   \n",
       "1856      70.6          85.5      47.7       87.1   37.1          69   \n",
       "2013      41.6          65.6      30.0       69.0   31.7           -   \n",
       "1904      53.5          92.8      44.6       64.7   82.3        57.9   \n",
       "1833      61.3          98.6      67.5       94.6   65.4        76.1   \n",
       "2134      18.3          39.4      10.4       87.8   29.8           -   \n",
       "\n",
       "      num_students  student_staff_ratio international_students  \\\n",
       "2405       35569.0                 17.0                     1%   \n",
       "2003       17422.0                 15.9                    15%   \n",
       "2056       16099.0                 24.2                    17%   \n",
       "1908       23895.0                 13.6                    14%   \n",
       "2105        9252.0                 19.2                    18%   \n",
       "...            ...                  ...                    ...   \n",
       "1856        2400.0                  7.9                    20%   \n",
       "2013        2218.0                  8.0                    14%   \n",
       "1904        2429.0                  4.8                    30%   \n",
       "1833        9666.0                 10.5                    54%   \n",
       "2134        8788.0                 15.8                     2%   \n",
       "\n",
       "     female_male_ratio  year                         CleanUniNames  \\\n",
       "2405                 -  2016   aghuniversityofscienceandtechnology   \n",
       "2003          48:52:00  2016                     aalborguniversity   \n",
       "2056           32 : 68  2016                       aaltouniversity   \n",
       "1908          54:46:00  2016                      aarhusuniversity   \n",
       "2105          48:52:00  2016                 aberystwythuniversity   \n",
       "...                ...   ...                                   ...   \n",
       "1856          46:54:00  2016                écolenormalesupérieure   \n",
       "2013          49:51:00  2016          écolenormalesupérieuredelyon   \n",
       "1904       0.806944444  2016                    écolepolytechnique   \n",
       "1833           27 : 73  2016  écolepolytechniquefédéraledelausanne   \n",
       "2134          61:39:00  2016                      örebrouniversity   \n",
       "\n",
       "      first_condition  second_condition  third_condition  \n",
       "2405             True             False            False  \n",
       "2003            False             False            False  \n",
       "2056            False             False            False  \n",
       "1908            False             False            False  \n",
       "2105            False             False            False  \n",
       "...               ...               ...              ...  \n",
       "1856            False             False            False  \n",
       "2013            False             False            False  \n",
       "1904            False             False            False  \n",
       "1833            False             False            False  \n",
       "2134            False             False            False  \n",
       "\n",
       "[818 rows x 18 columns]"
      ]
     },
     "execution_count": 60,
     "metadata": {},
     "output_type": "execute_result"
    }
   ],
   "source": [
    "times_most_recent_data"
   ]
  },
  {
   "cell_type": "code",
   "execution_count": 61,
   "metadata": {},
   "outputs": [
    {
     "ename": "TypeError",
     "evalue": "unsupported operand type(s) for /: 'str' and 'int'",
     "output_type": "error",
     "traceback": [
      "\u001b[1;31m---------------------------------------------------------------------------\u001b[0m",
      "\u001b[1;31mTypeError\u001b[0m                                 Traceback (most recent call last)",
      "\u001b[1;32m<ipython-input-61-e9160afa2a41>\u001b[0m in \u001b[0;36m<module>\u001b[1;34m\u001b[0m\n\u001b[1;32m----> 1\u001b[1;33m \u001b[0mtimes_most_recent_data\u001b[0m\u001b[1;33m[\u001b[0m\u001b[1;34m\"nr_female\"\u001b[0m\u001b[1;33m]\u001b[0m\u001b[1;33m=\u001b[0m \u001b[0mtimes_most_recent_data\u001b[0m\u001b[1;33m.\u001b[0m\u001b[0mapply\u001b[0m\u001b[1;33m(\u001b[0m\u001b[0mCalculateFemale\u001b[0m \u001b[1;33m,\u001b[0m \u001b[0maxis\u001b[0m\u001b[1;33m=\u001b[0m\u001b[1;36m1\u001b[0m\u001b[1;33m)\u001b[0m\u001b[1;33m\u001b[0m\u001b[1;33m\u001b[0m\u001b[0m\n\u001b[0m",
      "\u001b[1;32m~\\anaconda3\\lib\\site-packages\\pandas\\core\\frame.py\u001b[0m in \u001b[0;36mapply\u001b[1;34m(self, func, axis, raw, result_type, args, **kwds)\u001b[0m\n\u001b[0;32m   7546\u001b[0m             \u001b[0mkwds\u001b[0m\u001b[1;33m=\u001b[0m\u001b[0mkwds\u001b[0m\u001b[1;33m,\u001b[0m\u001b[1;33m\u001b[0m\u001b[1;33m\u001b[0m\u001b[0m\n\u001b[0;32m   7547\u001b[0m         )\n\u001b[1;32m-> 7548\u001b[1;33m         \u001b[1;32mreturn\u001b[0m \u001b[0mop\u001b[0m\u001b[1;33m.\u001b[0m\u001b[0mget_result\u001b[0m\u001b[1;33m(\u001b[0m\u001b[1;33m)\u001b[0m\u001b[1;33m\u001b[0m\u001b[1;33m\u001b[0m\u001b[0m\n\u001b[0m\u001b[0;32m   7549\u001b[0m \u001b[1;33m\u001b[0m\u001b[0m\n\u001b[0;32m   7550\u001b[0m     \u001b[1;32mdef\u001b[0m \u001b[0mapplymap\u001b[0m\u001b[1;33m(\u001b[0m\u001b[0mself\u001b[0m\u001b[1;33m,\u001b[0m \u001b[0mfunc\u001b[0m\u001b[1;33m)\u001b[0m \u001b[1;33m->\u001b[0m \u001b[1;34m\"DataFrame\"\u001b[0m\u001b[1;33m:\u001b[0m\u001b[1;33m\u001b[0m\u001b[1;33m\u001b[0m\u001b[0m\n",
      "\u001b[1;32m~\\anaconda3\\lib\\site-packages\\pandas\\core\\apply.py\u001b[0m in \u001b[0;36mget_result\u001b[1;34m(self)\u001b[0m\n\u001b[0;32m    178\u001b[0m             \u001b[1;32mreturn\u001b[0m \u001b[0mself\u001b[0m\u001b[1;33m.\u001b[0m\u001b[0mapply_raw\u001b[0m\u001b[1;33m(\u001b[0m\u001b[1;33m)\u001b[0m\u001b[1;33m\u001b[0m\u001b[1;33m\u001b[0m\u001b[0m\n\u001b[0;32m    179\u001b[0m \u001b[1;33m\u001b[0m\u001b[0m\n\u001b[1;32m--> 180\u001b[1;33m         \u001b[1;32mreturn\u001b[0m \u001b[0mself\u001b[0m\u001b[1;33m.\u001b[0m\u001b[0mapply_standard\u001b[0m\u001b[1;33m(\u001b[0m\u001b[1;33m)\u001b[0m\u001b[1;33m\u001b[0m\u001b[1;33m\u001b[0m\u001b[0m\n\u001b[0m\u001b[0;32m    181\u001b[0m \u001b[1;33m\u001b[0m\u001b[0m\n\u001b[0;32m    182\u001b[0m     \u001b[1;32mdef\u001b[0m \u001b[0mapply_empty_result\u001b[0m\u001b[1;33m(\u001b[0m\u001b[0mself\u001b[0m\u001b[1;33m)\u001b[0m\u001b[1;33m:\u001b[0m\u001b[1;33m\u001b[0m\u001b[1;33m\u001b[0m\u001b[0m\n",
      "\u001b[1;32m~\\anaconda3\\lib\\site-packages\\pandas\\core\\apply.py\u001b[0m in \u001b[0;36mapply_standard\u001b[1;34m(self)\u001b[0m\n\u001b[0;32m    269\u001b[0m \u001b[1;33m\u001b[0m\u001b[0m\n\u001b[0;32m    270\u001b[0m     \u001b[1;32mdef\u001b[0m \u001b[0mapply_standard\u001b[0m\u001b[1;33m(\u001b[0m\u001b[0mself\u001b[0m\u001b[1;33m)\u001b[0m\u001b[1;33m:\u001b[0m\u001b[1;33m\u001b[0m\u001b[1;33m\u001b[0m\u001b[0m\n\u001b[1;32m--> 271\u001b[1;33m         \u001b[0mresults\u001b[0m\u001b[1;33m,\u001b[0m \u001b[0mres_index\u001b[0m \u001b[1;33m=\u001b[0m \u001b[0mself\u001b[0m\u001b[1;33m.\u001b[0m\u001b[0mapply_series_generator\u001b[0m\u001b[1;33m(\u001b[0m\u001b[1;33m)\u001b[0m\u001b[1;33m\u001b[0m\u001b[1;33m\u001b[0m\u001b[0m\n\u001b[0m\u001b[0;32m    272\u001b[0m \u001b[1;33m\u001b[0m\u001b[0m\n\u001b[0;32m    273\u001b[0m         \u001b[1;31m# wrap results\u001b[0m\u001b[1;33m\u001b[0m\u001b[1;33m\u001b[0m\u001b[1;33m\u001b[0m\u001b[0m\n",
      "\u001b[1;32m~\\anaconda3\\lib\\site-packages\\pandas\\core\\apply.py\u001b[0m in \u001b[0;36mapply_series_generator\u001b[1;34m(self)\u001b[0m\n\u001b[0;32m    298\u001b[0m                 \u001b[1;32mfor\u001b[0m \u001b[0mi\u001b[0m\u001b[1;33m,\u001b[0m \u001b[0mv\u001b[0m \u001b[1;32min\u001b[0m \u001b[0menumerate\u001b[0m\u001b[1;33m(\u001b[0m\u001b[0mseries_gen\u001b[0m\u001b[1;33m)\u001b[0m\u001b[1;33m:\u001b[0m\u001b[1;33m\u001b[0m\u001b[1;33m\u001b[0m\u001b[0m\n\u001b[0;32m    299\u001b[0m                     \u001b[1;31m# ignore SettingWithCopy here in case the user mutates\u001b[0m\u001b[1;33m\u001b[0m\u001b[1;33m\u001b[0m\u001b[1;33m\u001b[0m\u001b[0m\n\u001b[1;32m--> 300\u001b[1;33m                     \u001b[0mresults\u001b[0m\u001b[1;33m[\u001b[0m\u001b[0mi\u001b[0m\u001b[1;33m]\u001b[0m \u001b[1;33m=\u001b[0m \u001b[0mself\u001b[0m\u001b[1;33m.\u001b[0m\u001b[0mf\u001b[0m\u001b[1;33m(\u001b[0m\u001b[0mv\u001b[0m\u001b[1;33m)\u001b[0m\u001b[1;33m\u001b[0m\u001b[1;33m\u001b[0m\u001b[0m\n\u001b[0m\u001b[0;32m    301\u001b[0m                     \u001b[1;32mif\u001b[0m \u001b[0misinstance\u001b[0m\u001b[1;33m(\u001b[0m\u001b[0mresults\u001b[0m\u001b[1;33m[\u001b[0m\u001b[0mi\u001b[0m\u001b[1;33m]\u001b[0m\u001b[1;33m,\u001b[0m \u001b[0mABCSeries\u001b[0m\u001b[1;33m)\u001b[0m\u001b[1;33m:\u001b[0m\u001b[1;33m\u001b[0m\u001b[1;33m\u001b[0m\u001b[0m\n\u001b[0;32m    302\u001b[0m                         \u001b[1;31m# If we have a view on v, we need to make a copy because\u001b[0m\u001b[1;33m\u001b[0m\u001b[1;33m\u001b[0m\u001b[1;33m\u001b[0m\u001b[0m\n",
      "\u001b[1;32m<ipython-input-59-a78879d8a2f8>\u001b[0m in \u001b[0;36mCalculateFemale\u001b[1;34m(row)\u001b[0m\n\u001b[0;32m      5\u001b[0m     \u001b[0mfemaleratio\u001b[0m \u001b[1;33m=\u001b[0m \u001b[0mrow\u001b[0m\u001b[1;33m[\u001b[0m\u001b[1;34m\"female_male_ratio\"\u001b[0m\u001b[1;33m]\u001b[0m\u001b[1;33m.\u001b[0m\u001b[0msplit\u001b[0m\u001b[1;33m(\u001b[0m\u001b[1;34m':'\u001b[0m\u001b[1;33m)\u001b[0m\u001b[1;33m[\u001b[0m\u001b[1;36m0\u001b[0m\u001b[1;33m]\u001b[0m\u001b[1;33m\u001b[0m\u001b[1;33m\u001b[0m\u001b[0m\n\u001b[0;32m      6\u001b[0m     \u001b[0mtotalnrStudents\u001b[0m \u001b[1;33m=\u001b[0m \u001b[0mrow\u001b[0m\u001b[1;33m[\u001b[0m\u001b[1;34m\"num_students\"\u001b[0m\u001b[1;33m]\u001b[0m\u001b[1;33m\u001b[0m\u001b[1;33m\u001b[0m\u001b[0m\n\u001b[1;32m----> 7\u001b[1;33m     \u001b[1;32mreturn\u001b[0m \u001b[0mround\u001b[0m\u001b[1;33m(\u001b[0m\u001b[1;33m(\u001b[0m\u001b[0mfemaleratio\u001b[0m\u001b[1;33m/\u001b[0m\u001b[1;36m100\u001b[0m\u001b[1;33m)\u001b[0m \u001b[1;33m*\u001b[0m\u001b[0mtotalnrStudents\u001b[0m\u001b[1;33m,\u001b[0m\u001b[1;36m0\u001b[0m\u001b[1;33m)\u001b[0m\u001b[1;33m\u001b[0m\u001b[1;33m\u001b[0m\u001b[0m\n\u001b[0m\u001b[0;32m      8\u001b[0m \u001b[1;33m\u001b[0m\u001b[0m\n",
      "\u001b[1;31mTypeError\u001b[0m: unsupported operand type(s) for /: 'str' and 'int'"
     ]
    }
   ],
   "source": [
    "times_most_recent_data[\"nr_female\"]= times_most_recent_data.apply(CalculateFemale , axis=1)"
   ]
  },
  {
   "cell_type": "code",
   "execution_count": null,
   "metadata": {},
   "outputs": [],
   "source": [
    "# Il numero di maschi è la differenza tra numero totale e numero di femmine\n",
    "times_most_recent_data[\"nr_male\"]=times_most_recent_data.num_students - times_most_recent_data.nr_female"
   ]
  },
  {
   "cell_type": "code",
   "execution_count": null,
   "metadata": {},
   "outputs": [],
   "source": [
    "times_most_recent_data[[\"country\",\"nr_female\",\"nr_male\",\"num_students\",\"female_male_ratio\"]]"
   ]
  },
  {
   "cell_type": "code",
   "execution_count": null,
   "metadata": {},
   "outputs": [],
   "source": [
    "lista =[\"nr_female\",\"nr_male\",\"num_students\"]"
   ]
  },
  {
   "cell_type": "code",
   "execution_count": null,
   "metadata": {},
   "outputs": [],
   "source": [
    "# raggruppo per country e faccio la somma\n",
    "\n",
    "female_male_df = times_most_recent_data.groupby('country', as_index=False)[lista].sum()"
   ]
  },
  {
   "cell_type": "code",
   "execution_count": null,
   "metadata": {},
   "outputs": [],
   "source": [
    "female_male_df.tail(16)"
   ]
  },
  {
   "cell_type": "markdown",
   "metadata": {},
   "source": [
    "### Note : Vedo che 2 nomi di universita sono scritti male percui gli elimino"
   ]
  },
  {
   "cell_type": "code",
   "execution_count": null,
   "metadata": {},
   "outputs": [],
   "source": [
    "female_male_df.drop([67,71], inplace=True)"
   ]
  },
  {
   "cell_type": "markdown",
   "metadata": {},
   "source": [
    "## 6. Find the universities where the ratio between female and male is below the average ratio (computed over all universities)"
   ]
  },
  {
   "cell_type": "code",
   "execution_count": null,
   "metadata": {},
   "outputs": [],
   "source": [
    "def Calcolate_ratio(row):\n",
    "    if math.isnan(row[\"nr_male\"]) or math.isnan(row[\"nr_female\"]) or row[\"nr_male\"] == 0:\n",
    "        return None\n",
    "    else:\n",
    "        return round((row[\"nr_female\"]/row[\"nr_male\"])*100)"
   ]
  },
  {
   "cell_type": "code",
   "execution_count": null,
   "metadata": {},
   "outputs": [],
   "source": [
    "times_most_recent_data[\"Ratio\"] = times_most_recent_data.apply(Calcolate_ratio,axis=1)"
   ]
  },
  {
   "cell_type": "code",
   "execution_count": null,
   "metadata": {},
   "outputs": [],
   "source": [
    "times_most_recent_data.Ratio"
   ]
  },
  {
   "cell_type": "code",
   "execution_count": null,
   "metadata": {},
   "outputs": [],
   "source": [
    "avarage_ratio = round(times_most_recent_data.Ratio.mean(),2)"
   ]
  },
  {
   "cell_type": "code",
   "execution_count": null,
   "metadata": {},
   "outputs": [],
   "source": [
    "avarage_ratio"
   ]
  },
  {
   "cell_type": "code",
   "execution_count": null,
   "metadata": {},
   "outputs": [],
   "source": [
    "female_male_below_ratio = times_most_recent_data[times_most_recent_data.Ratio < avarage_ratio]"
   ]
  },
  {
   "cell_type": "code",
   "execution_count": null,
   "metadata": {},
   "outputs": [],
   "source": [
    "female_male_below_ratio[[\"university_name\",\"Ratio\"]]"
   ]
  },
  {
   "cell_type": "markdown",
   "metadata": {},
   "source": [
    "## 7. For each country, compute the fraction of the students in the country that are in one of the universities computed in the previous point (that is, the denominator of the ratio is the total number of students over all universities in the country)."
   ]
  },
  {
   "cell_type": "code",
   "execution_count": null,
   "metadata": {},
   "outputs": [],
   "source": [
    "# Number of total student for country i have it from \"female_male_df\"\n",
    "female_male_df.head()"
   ]
  },
  {
   "cell_type": "code",
   "execution_count": null,
   "metadata": {},
   "outputs": [],
   "source": [
    "list_of_columns=[\"num_students\",\"country\"]\n",
    "students_below_ratio=female_male_below_ratio.groupby('country', as_index=False)[list_of_columns].sum()"
   ]
  },
  {
   "cell_type": "code",
   "execution_count": null,
   "metadata": {},
   "outputs": [],
   "source": []
  },
  {
   "cell_type": "code",
   "execution_count": null,
   "metadata": {},
   "outputs": [],
   "source": [
    "ratio_below_and_total = pd.merge(female_male_df, students_below_ratio, how=\"inner\", on=[\"country\"])\n",
    "ratio_below_and_total[\"Ratio\"] = round((ratio_below_and_total.num_students_y/ratio_below_and_total.num_students_x)*100,2)"
   ]
  },
  {
   "cell_type": "code",
   "execution_count": null,
   "metadata": {},
   "outputs": [],
   "source": [
    "#rename \"num_students_x\" to \"num_students_total\"  and \"num_students_y\" to \"num_students_below\"\n",
    "ratio_below_and_total = ratio_below_and_total.rename(columns={'num_students_x': 'num_students_total', 'num_students_y': 'num_students_below'})"
   ]
  },
  {
   "cell_type": "code",
   "execution_count": null,
   "metadata": {},
   "outputs": [],
   "source": [
    "ratio_below_and_total.head(10)"
   ]
  },
  {
   "cell_type": "markdown",
   "metadata": {},
   "source": [
    "## 8. Read the file educational_attainment_supplementary_data.csv, discarding any row with missing country_name or series_name"
   ]
  },
  {
   "cell_type": "code",
   "execution_count": null,
   "metadata": {},
   "outputs": [],
   "source": [
    "educational_attainment_supplementary =readDataSet(educational_attainment_supplementary_data)"
   ]
  },
  {
   "cell_type": "code",
   "execution_count": null,
   "metadata": {},
   "outputs": [],
   "source": [
    "index_to_drop=educational_attainment_supplementary[(educational_attainment_supplementary.country_name.isnull() ==True) | (educational_attainment_supplementary.series_name.isnull() ==True) ].index.values"
   ]
  },
  {
   "cell_type": "code",
   "execution_count": null,
   "metadata": {},
   "outputs": [],
   "source": [
    "educational_attainment_supplementary.drop(index_to_drop, inplace=True)"
   ]
  },
  {
   "cell_type": "markdown",
   "metadata": {},
   "source": [
    "\n",
    "## 9. From attainment build a dataframe with the same data, but with 4 columns: country_name, series_name, year, value"
   ]
  },
  {
   "cell_type": "code",
   "execution_count": null,
   "metadata": {},
   "outputs": [],
   "source": [
    "value_vars= ['1985', '1986', '1987', '1990', '1991',\n",
    "       '1992', '1993', '1995', '1996', '1997', '1998', '1999', '2000', '2001',\n",
    "       '2002', '2003', '2004', '2005', '2006', '2007', '2008', '2009', '2010',\n",
    "       '2011', '2012', '2013', '2015']\n",
    "id_vars=['country_name', 'series_name']"
   ]
  },
  {
   "cell_type": "code",
   "execution_count": null,
   "metadata": {},
   "outputs": [],
   "source": [
    "unpivot_attainment=pd.melt(educational_attainment_supplementary,id_vars=id_vars , value_vars=value_vars, var_name='year', value_name='value')"
   ]
  },
  {
   "cell_type": "code",
   "execution_count": null,
   "metadata": {},
   "outputs": [],
   "source": [
    "unpivot_attainment.head(5)"
   ]
  },
  {
   "cell_type": "markdown",
   "metadata": {},
   "source": [
    "## 10. For each university, find the number of rankings in which they appear (it suffices to appear in one year for each ranking)."
   ]
  },
  {
   "cell_type": "markdown",
   "metadata": {},
   "source": [
    "### nota : normalizo i nomi di universita utilizando la funzione cleanNames"
   ]
  },
  {
   "cell_type": "code",
   "execution_count": null,
   "metadata": {},
   "outputs": [],
   "source": [
    "times_df[\"uni_name_normalazed\"] = times_df.university_name.apply(cleanNames)"
   ]
  },
  {
   "cell_type": "code",
   "execution_count": null,
   "metadata": {},
   "outputs": [],
   "source": [
    "shanghai_df[\"uni_name_normalazed\"]= shanghai_df.university_name.apply(cleanNames)"
   ]
  },
  {
   "cell_type": "code",
   "execution_count": null,
   "metadata": {},
   "outputs": [],
   "source": [
    "world_df[\"uni_name_normalazed\"] = world_df.university_name.apply(cleanNames)"
   ]
  },
  {
   "cell_type": "code",
   "execution_count": null,
   "metadata": {},
   "outputs": [],
   "source": [
    "world_df.uni_name_normalazed"
   ]
  },
  {
   "cell_type": "code",
   "execution_count": null,
   "metadata": {},
   "outputs": [],
   "source": [
    "### procedo a prendere i nomi di universta per ciascun dataframe"
   ]
  },
  {
   "cell_type": "code",
   "execution_count": null,
   "metadata": {},
   "outputs": [],
   "source": [
    "times_df"
   ]
  },
  {
   "cell_type": "code",
   "execution_count": null,
   "metadata": {},
   "outputs": [],
   "source": [
    "times_uni = times_df[[\"university_name\",\"uni_name_normalazed\"]].groupby(\"uni_name_normalazed\").max()"
   ]
  },
  {
   "cell_type": "code",
   "execution_count": null,
   "metadata": {},
   "outputs": [],
   "source": [
    "times_uni"
   ]
  },
  {
   "cell_type": "code",
   "execution_count": null,
   "metadata": {},
   "outputs": [],
   "source": [
    "shanghai_uni = shanghai_df[[\"university_name\",\"uni_name_normalazed\"]].groupby(\"uni_name_normalazed\").max()"
   ]
  },
  {
   "cell_type": "code",
   "execution_count": null,
   "metadata": {},
   "outputs": [],
   "source": [
    "world_uni = world_df[[\"university_name\",\"uni_name_normalazed\"]].groupby(\"uni_name_normalazed\").max()"
   ]
  },
  {
   "cell_type": "code",
   "execution_count": null,
   "metadata": {},
   "outputs": [],
   "source": [
    "all_uni = times_uni.append(shanghai_uni).append(world_uni)"
   ]
  },
  {
   "cell_type": "code",
   "execution_count": null,
   "metadata": {},
   "outputs": [],
   "source": [
    "all_uni_group=all_uni.groupby(\"uni_name_normalazed\").count()"
   ]
  },
  {
   "cell_type": "code",
   "execution_count": null,
   "metadata": {},
   "outputs": [],
   "source": [
    "#i want to take back normal university name so i make a join\n",
    "all_uni_count_merge = pd.merge(all_uni,all_uni_group, on=\"uni_name_normalazed\")"
   ]
  },
  {
   "cell_type": "code",
   "execution_count": null,
   "metadata": {},
   "outputs": [],
   "source": [
    "# i have duplicates so i remove them, take off index, and rename all\n",
    "all_uni_count=all_uni_count_merge.drop_duplicates().reset_index()\\\n",
    "                .drop(\"uni_name_normalazed\" ,axis=1)\\\n",
    "                .rename(columns={'university_name_x': 'university_name','university_name_y':'count'}) "
   ]
  },
  {
   "cell_type": "code",
   "execution_count": null,
   "metadata": {},
   "outputs": [],
   "source": [
    "all_uni_count.head(5)"
   ]
  },
  {
   "cell_type": "markdown",
   "metadata": {},
   "source": [
    "## 11. In the times ranking, compute the number of times each university appears"
   ]
  },
  {
   "cell_type": "code",
   "execution_count": null,
   "metadata": {},
   "outputs": [],
   "source": [
    "times_count_uni=times_df.copy()"
   ]
  },
  {
   "cell_type": "code",
   "execution_count": null,
   "metadata": {},
   "outputs": [],
   "source": [
    "times_count_uni_pc =times_count_uni[[\"university_name\",\"uni_name_normalazed\"]]\\\n",
    "                    .groupby(\"university_name\" , as_index=False).count() \\\n",
    "                     .rename(columns={'uni_name_normalazed': 'count'}) "
   ]
  },
  {
   "cell_type": "code",
   "execution_count": null,
   "metadata": {},
   "outputs": [],
   "source": [
    "times_count_uni_pc.head(10)"
   ]
  },
  {
   "cell_type": "markdown",
   "metadata": {},
   "source": [
    "## 12. Find the universities that appear at most twice in the times ranking."
   ]
  },
  {
   "cell_type": "code",
   "execution_count": null,
   "metadata": {},
   "outputs": [],
   "source": [
    "uni_most_twice = times_count_uni_pc[times_count_uni_pc['count'] >= 2]"
   ]
  },
  {
   "cell_type": "code",
   "execution_count": null,
   "metadata": {},
   "outputs": [],
   "source": [
    "uni_most_twice.head(5)"
   ]
  },
  {
   "cell_type": "markdown",
   "metadata": {},
   "source": [
    "## 13. The universities that, in any year, have the same position in all three rankings (they must have the same position in a year)."
   ]
  },
  {
   "cell_type": "code",
   "execution_count": null,
   "metadata": {},
   "outputs": [],
   "source": [
    "shanghai_no_range = shanghai_df[shanghai_df['world_rank'].str.contains('-')==False]"
   ]
  },
  {
   "cell_type": "code",
   "execution_count": null,
   "metadata": {},
   "outputs": [],
   "source": [
    "times_no_range = times_df[times_df['world_rank'].str.contains('-')==False]"
   ]
  },
  {
   "cell_type": "code",
   "execution_count": null,
   "metadata": {},
   "outputs": [],
   "source": []
  },
  {
   "cell_type": "code",
   "execution_count": null,
   "metadata": {},
   "outputs": [],
   "source": [
    "shanghai_no_range =shanghai_no_range[[\"uni_name_normalazed\",\"university_name\",\"world_rank\",\"year\"]]"
   ]
  },
  {
   "cell_type": "code",
   "execution_count": null,
   "metadata": {},
   "outputs": [],
   "source": [
    "shanghai_no_range.world_rank = shanghai_no_range.world_rank.astype('int')"
   ]
  },
  {
   "cell_type": "code",
   "execution_count": null,
   "metadata": {},
   "outputs": [],
   "source": [
    "times_no_range=times_no_range[[\"uni_name_normalazed\",\"university_name\",\"world_rank\",\"year\"]]"
   ]
  },
  {
   "cell_type": "code",
   "execution_count": null,
   "metadata": {},
   "outputs": [],
   "source": [
    "times_no_range.world_rank=times_no_range.world_rank.astype('int')"
   ]
  },
  {
   "cell_type": "code",
   "execution_count": null,
   "metadata": {},
   "outputs": [],
   "source": [
    "worlddf=world_df[world_df[\"world_rank\"].isnull() == False][[\"uni_name_normalazed\",\"university_name\",\"world_rank\",\"year\"]]"
   ]
  },
  {
   "cell_type": "code",
   "execution_count": null,
   "metadata": {},
   "outputs": [],
   "source": [
    "first_union_df =pd.merge(shanghai_no_range,times_no_range,on=[\"uni_name_normalazed\",\"year\"])\\\n",
    "                            .drop(\"university_name_y\",axis=1)\\\n",
    "                             .rename(columns={'university_name_x': 'university','world_rank_x':'shanghai_rank','world_rank_y':'times_rank'}) "
   ]
  },
  {
   "cell_type": "code",
   "execution_count": null,
   "metadata": {},
   "outputs": [],
   "source": [
    "first_union_df"
   ]
  },
  {
   "cell_type": "code",
   "execution_count": null,
   "metadata": {},
   "outputs": [],
   "source": [
    "same_position = pd.merge(first_union_df,worlddf, on=[\"uni_name_normalazed\",\"year\"] )\\\n",
    "                        .drop(['university_name','uni_name_normalazed'],axis=1)"
   ]
  },
  {
   "cell_type": "code",
   "execution_count": null,
   "metadata": {},
   "outputs": [],
   "source": [
    "result = same_position[(same_position['shanghai_rank'] == same_position['times_rank'])\\\n",
    "                              & (same_position['times_rank'] == same_position['world_rank']) ]"
   ]
  },
  {
   "cell_type": "code",
   "execution_count": null,
   "metadata": {},
   "outputs": [],
   "source": [
    "result"
   ]
  },
  {
   "cell_type": "code",
   "execution_count": null,
   "metadata": {},
   "outputs": [],
   "source": []
  }
 ],
 "metadata": {
  "kernelspec": {
   "display_name": "Python 3",
   "language": "python",
   "name": "python3"
  },
  "language_info": {
   "codemirror_mode": {
    "name": "ipython",
    "version": 3
   },
   "file_extension": ".py",
   "mimetype": "text/x-python",
   "name": "python",
   "nbconvert_exporter": "python",
   "pygments_lexer": "ipython3",
   "version": "3.8.5"
  }
 },
 "nbformat": 4,
 "nbformat_minor": 4
}
