{
 "cells": [
  {
   "cell_type": "code",
   "execution_count": 1,
   "metadata": {},
   "outputs": [],
   "source": [
    "import pandas as pd\n",
    "import re\n",
    "import math\n",
    "import numpy as np"
   ]
  },
  {
   "cell_type": "markdown",
   "metadata": {},
   "source": [
    "## Preprocessing"
   ]
  },
  {
   "cell_type": "code",
   "execution_count": 2,
   "metadata": {},
   "outputs": [],
   "source": [
    "shanghaiDataset = \"https://raw.githubusercontent.com/DNQT/Foundation-of-Computer-Science-Project/main/Reference%20Databases/shanghaiData.csv\"\n",
    "timesDataset = \"https://raw.githubusercontent.com/DNQT/Foundation-of-Computer-Science-Project/main/Reference%20Databases/timesData.csv\"\n",
    "worldDataset=\"https://raw.githubusercontent.com/DNQT/Foundation-of-Computer-Science-Project/main/Reference%20Databases/cwurData.csv\"\n",
    "school_and_country_Dataset=\"https://raw.githubusercontent.com/DNQT/Foundation-of-Computer-Science-Project/main/Reference%20Databases/school_and_country_table.csv\""
   ]
  },
  {
   "cell_type": "code",
   "execution_count": null,
   "metadata": {},
   "outputs": [],
   "source": []
  },
  {
   "cell_type": "code",
   "execution_count": 3,
   "metadata": {},
   "outputs": [],
   "source": [
    "def readDataSet(url , sep =',' , encoding='utf8',header='infer'):\n",
    "    return pd.read_csv(url,sep=sep ,header=header,encoding=encoding)"
   ]
  },
  {
   "cell_type": "code",
   "execution_count": 4,
   "metadata": {},
   "outputs": [],
   "source": [
    "# read datasets\n",
    "shanghai_df=readDataSet(shanghaiDataset)\n",
    "times_df=readDataSet(timesDataset)\n",
    "world_df=readDataSet(worldDataset)\n",
    "school_and_country_df=readDataSet(school_and_country_Dataset)"
   ]
  },
  {
   "cell_type": "code",
   "execution_count": null,
   "metadata": {},
   "outputs": [],
   "source": []
  },
  {
   "cell_type": "code",
   "execution_count": 5,
   "metadata": {},
   "outputs": [],
   "source": [
    "#drop the none row from shanghai datframe\n",
    "\n",
    "index =shanghai_df[shanghai_df['university_name'].isnull()==True]\n",
    "shanghai_df.drop(index.index,inplace = True)\n",
    "shanghai_df.reset_index(drop=True, inplace=True)"
   ]
  },
  {
   "cell_type": "code",
   "execution_count": null,
   "metadata": {},
   "outputs": [],
   "source": []
  },
  {
   "cell_type": "code",
   "execution_count": 6,
   "metadata": {},
   "outputs": [],
   "source": [
    "# rename institution column in university_name\n",
    "\n",
    "world_df.rename(columns={'institution':'university_name'},inplace=True)"
   ]
  },
  {
   "cell_type": "code",
   "execution_count": 7,
   "metadata": {},
   "outputs": [
    {
     "name": "stdout",
     "output_type": "stream",
     "text": [
      "<class 'pandas.core.frame.DataFrame'>\n",
      "RangeIndex: 4896 entries, 0 to 4895\n",
      "Data columns (total 11 columns):\n",
      " #   Column           Non-Null Count  Dtype  \n",
      "---  ------           --------------  -----  \n",
      " 0   world_rank       4896 non-null   object \n",
      " 1   university_name  4896 non-null   object \n",
      " 2   national_rank    4896 non-null   object \n",
      " 3   total_score      1101 non-null   float64\n",
      " 4   alumni           4896 non-null   float64\n",
      " 5   award            4895 non-null   float64\n",
      " 6   hici             4895 non-null   float64\n",
      " 7   ns               4875 non-null   float64\n",
      " 8   pub              4895 non-null   float64\n",
      " 9   pcp              4895 non-null   float64\n",
      " 10  year             4896 non-null   int64  \n",
      "dtypes: float64(7), int64(1), object(3)\n",
      "memory usage: 420.9+ KB\n"
     ]
    }
   ],
   "source": [
    "shanghai_df.info()"
   ]
  },
  {
   "cell_type": "code",
   "execution_count": 8,
   "metadata": {},
   "outputs": [
    {
     "name": "stdout",
     "output_type": "stream",
     "text": [
      "<class 'pandas.core.frame.DataFrame'>\n",
      "RangeIndex: 2603 entries, 0 to 2602\n",
      "Data columns (total 14 columns):\n",
      " #   Column                  Non-Null Count  Dtype  \n",
      "---  ------                  --------------  -----  \n",
      " 0   world_rank              2603 non-null   object \n",
      " 1   university_name         2603 non-null   object \n",
      " 2   country                 2603 non-null   object \n",
      " 3   teaching                2603 non-null   float64\n",
      " 4   international           2603 non-null   object \n",
      " 5   research                2603 non-null   float64\n",
      " 6   citations               2603 non-null   float64\n",
      " 7   income                  2603 non-null   object \n",
      " 8   total_score             2603 non-null   object \n",
      " 9   num_students            2544 non-null   object \n",
      " 10  student_staff_ratio     2544 non-null   float64\n",
      " 11  international_students  2536 non-null   object \n",
      " 12  female_male_ratio       2370 non-null   object \n",
      " 13  year                    2603 non-null   int64  \n",
      "dtypes: float64(4), int64(1), object(9)\n",
      "memory usage: 284.8+ KB\n"
     ]
    }
   ],
   "source": [
    "times_df.info()"
   ]
  },
  {
   "cell_type": "code",
   "execution_count": 9,
   "metadata": {},
   "outputs": [
    {
     "name": "stdout",
     "output_type": "stream",
     "text": [
      "<class 'pandas.core.frame.DataFrame'>\n",
      "RangeIndex: 2200 entries, 0 to 2199\n",
      "Data columns (total 14 columns):\n",
      " #   Column                Non-Null Count  Dtype  \n",
      "---  ------                --------------  -----  \n",
      " 0   world_rank            2200 non-null   int64  \n",
      " 1   university_name       2200 non-null   object \n",
      " 2   country               2200 non-null   object \n",
      " 3   national_rank         2200 non-null   int64  \n",
      " 4   quality_of_education  2200 non-null   int64  \n",
      " 5   alumni_employment     2200 non-null   int64  \n",
      " 6   quality_of_faculty    2200 non-null   int64  \n",
      " 7   publications          2200 non-null   int64  \n",
      " 8   influence             2200 non-null   int64  \n",
      " 9   citations             2200 non-null   int64  \n",
      " 10  broad_impact          2000 non-null   float64\n",
      " 11  patents               2200 non-null   int64  \n",
      " 12  score                 2200 non-null   float64\n",
      " 13  year                  2200 non-null   int64  \n",
      "dtypes: float64(2), int64(10), object(2)\n",
      "memory usage: 240.8+ KB\n"
     ]
    }
   ],
   "source": [
    "world_df.info()"
   ]
  },
  {
   "cell_type": "markdown",
   "metadata": {},
   "source": [
    "## 1. For each university, extract from the times dataset the most recent and the least recent data, obtaining two separate dataframes"
   ]
  },
  {
   "cell_type": "code",
   "execution_count": 10,
   "metadata": {},
   "outputs": [],
   "source": [
    "def extract_dataset_min_max(university_name, year, index ):\n",
    "    '''\n",
    "    find most recent or least recent of data\n",
    "    \n",
    "    @university_name  : column university name \n",
    "    @year : column year\n",
    "    @index : max or min\n",
    "    \n",
    "    '''\n",
    "    dataset = pd.DataFrame()\n",
    "    if(index == 'max'):\n",
    "          dataset = times_df.iloc[times_df.groupby(university_name)[year].idxmax()]\n",
    "            \n",
    "    else: dataset = times_df.iloc[times_df.groupby(university_name)[year].idxmin()]\n",
    "    return dataset"
   ]
  },
  {
   "cell_type": "code",
   "execution_count": null,
   "metadata": {},
   "outputs": [],
   "source": []
  },
  {
   "cell_type": "code",
   "execution_count": 11,
   "metadata": {},
   "outputs": [],
   "source": [
    "times_most_recent_data = extract_dataset_min_max('university_name','year','max')"
   ]
  },
  {
   "cell_type": "code",
   "execution_count": 12,
   "metadata": {},
   "outputs": [],
   "source": [
    "times_least_recent_data = extract_dataset_min_max('university_name','year','min')"
   ]
  },
  {
   "cell_type": "code",
   "execution_count": 13,
   "metadata": {},
   "outputs": [],
   "source": [
    "times_most_recent_data.to_csv(\"times_most_recent_data\")\n",
    "times_least_recent_data.to_csv(\"times_least_recent_data\")"
   ]
  },
  {
   "cell_type": "code",
   "execution_count": 14,
   "metadata": {},
   "outputs": [
    {
     "data": {
      "text/html": [
       "<div>\n",
       "<style scoped>\n",
       "    .dataframe tbody tr th:only-of-type {\n",
       "        vertical-align: middle;\n",
       "    }\n",
       "\n",
       "    .dataframe tbody tr th {\n",
       "        vertical-align: top;\n",
       "    }\n",
       "\n",
       "    .dataframe thead th {\n",
       "        text-align: right;\n",
       "    }\n",
       "</style>\n",
       "<table border=\"1\" class=\"dataframe\">\n",
       "  <thead>\n",
       "    <tr style=\"text-align: right;\">\n",
       "      <th></th>\n",
       "      <th>world_rank</th>\n",
       "      <th>university_name</th>\n",
       "      <th>year</th>\n",
       "    </tr>\n",
       "  </thead>\n",
       "  <tbody>\n",
       "    <tr>\n",
       "      <th>2405</th>\n",
       "      <td>601-800</td>\n",
       "      <td>AGH University of Science and Technology</td>\n",
       "      <td>2016</td>\n",
       "    </tr>\n",
       "    <tr>\n",
       "      <th>2003</th>\n",
       "      <td>201-250</td>\n",
       "      <td>Aalborg University</td>\n",
       "      <td>2016</td>\n",
       "    </tr>\n",
       "    <tr>\n",
       "      <th>2056</th>\n",
       "      <td>251-300</td>\n",
       "      <td>Aalto University</td>\n",
       "      <td>2016</td>\n",
       "    </tr>\n",
       "    <tr>\n",
       "      <th>1908</th>\n",
       "      <td>=106</td>\n",
       "      <td>Aarhus University</td>\n",
       "      <td>2016</td>\n",
       "    </tr>\n",
       "    <tr>\n",
       "      <th>2105</th>\n",
       "      <td>301-350</td>\n",
       "      <td>Aberystwyth University</td>\n",
       "      <td>2016</td>\n",
       "    </tr>\n",
       "    <tr>\n",
       "      <th>2404</th>\n",
       "      <td>601-800</td>\n",
       "      <td>Adam Mickiewicz University</td>\n",
       "      <td>2016</td>\n",
       "    </tr>\n",
       "    <tr>\n",
       "      <th>2057</th>\n",
       "      <td>251-300</td>\n",
       "      <td>Aix-Marseille University</td>\n",
       "      <td>2016</td>\n",
       "    </tr>\n",
       "    <tr>\n",
       "      <th>2406</th>\n",
       "      <td>601-800</td>\n",
       "      <td>Ajou University</td>\n",
       "      <td>2016</td>\n",
       "    </tr>\n",
       "    <tr>\n",
       "      <th>2408</th>\n",
       "      <td>601-800</td>\n",
       "      <td>Alexandria University</td>\n",
       "      <td>2016</td>\n",
       "    </tr>\n",
       "    <tr>\n",
       "      <th>2409</th>\n",
       "      <td>601-800</td>\n",
       "      <td>Alexandru Ioan Cuza University</td>\n",
       "      <td>2016</td>\n",
       "    </tr>\n",
       "  </tbody>\n",
       "</table>\n",
       "</div>"
      ],
      "text/plain": [
       "     world_rank                           university_name  year\n",
       "2405    601-800  AGH University of Science and Technology  2016\n",
       "2003    201-250                        Aalborg University  2016\n",
       "2056    251-300                          Aalto University  2016\n",
       "1908       =106                         Aarhus University  2016\n",
       "2105    301-350                    Aberystwyth University  2016\n",
       "2404    601-800                Adam Mickiewicz University  2016\n",
       "2057    251-300                  Aix-Marseille University  2016\n",
       "2406    601-800                           Ajou University  2016\n",
       "2408    601-800                     Alexandria University  2016\n",
       "2409    601-800            Alexandru Ioan Cuza University  2016"
      ]
     },
     "execution_count": 14,
     "metadata": {},
     "output_type": "execute_result"
    }
   ],
   "source": [
    "times_most_recent_data[['world_rank','university_name','year']].head(10)"
   ]
  },
  {
   "cell_type": "code",
   "execution_count": null,
   "metadata": {},
   "outputs": [],
   "source": []
  },
  {
   "cell_type": "code",
   "execution_count": 15,
   "metadata": {},
   "outputs": [
    {
     "data": {
      "text/html": [
       "<div>\n",
       "<style scoped>\n",
       "    .dataframe tbody tr th:only-of-type {\n",
       "        vertical-align: middle;\n",
       "    }\n",
       "\n",
       "    .dataframe tbody tr th {\n",
       "        vertical-align: top;\n",
       "    }\n",
       "\n",
       "    .dataframe thead th {\n",
       "        text-align: right;\n",
       "    }\n",
       "</style>\n",
       "<table border=\"1\" class=\"dataframe\">\n",
       "  <thead>\n",
       "    <tr style=\"text-align: right;\">\n",
       "      <th></th>\n",
       "      <th>world_rank</th>\n",
       "      <th>university_name</th>\n",
       "      <th>year</th>\n",
       "    </tr>\n",
       "  </thead>\n",
       "  <tbody>\n",
       "    <tr>\n",
       "      <th>2405</th>\n",
       "      <td>601-800</td>\n",
       "      <td>AGH University of Science and Technology</td>\n",
       "      <td>2016</td>\n",
       "    </tr>\n",
       "    <tr>\n",
       "      <th>501</th>\n",
       "      <td>301-350</td>\n",
       "      <td>Aalborg University</td>\n",
       "      <td>2012</td>\n",
       "    </tr>\n",
       "    <tr>\n",
       "      <th>502</th>\n",
       "      <td>301-350</td>\n",
       "      <td>Aalto University</td>\n",
       "      <td>2012</td>\n",
       "    </tr>\n",
       "    <tr>\n",
       "      <th>166</th>\n",
       "      <td>167</td>\n",
       "      <td>Aarhus University</td>\n",
       "      <td>2011</td>\n",
       "    </tr>\n",
       "    <tr>\n",
       "      <th>476</th>\n",
       "      <td>276-300</td>\n",
       "      <td>Aberystwyth University</td>\n",
       "      <td>2012</td>\n",
       "    </tr>\n",
       "    <tr>\n",
       "      <th>2404</th>\n",
       "      <td>601-800</td>\n",
       "      <td>Adam Mickiewicz University</td>\n",
       "      <td>2016</td>\n",
       "    </tr>\n",
       "    <tr>\n",
       "      <th>2057</th>\n",
       "      <td>251-300</td>\n",
       "      <td>Aix-Marseille University</td>\n",
       "      <td>2016</td>\n",
       "    </tr>\n",
       "    <tr>\n",
       "      <th>2406</th>\n",
       "      <td>601-800</td>\n",
       "      <td>Ajou University</td>\n",
       "      <td>2016</td>\n",
       "    </tr>\n",
       "    <tr>\n",
       "      <th>146</th>\n",
       "      <td>147</td>\n",
       "      <td>Alexandria University</td>\n",
       "      <td>2011</td>\n",
       "    </tr>\n",
       "    <tr>\n",
       "      <th>2409</th>\n",
       "      <td>601-800</td>\n",
       "      <td>Alexandru Ioan Cuza University</td>\n",
       "      <td>2016</td>\n",
       "    </tr>\n",
       "  </tbody>\n",
       "</table>\n",
       "</div>"
      ],
      "text/plain": [
       "     world_rank                           university_name  year\n",
       "2405    601-800  AGH University of Science and Technology  2016\n",
       "501     301-350                        Aalborg University  2012\n",
       "502     301-350                          Aalto University  2012\n",
       "166         167                         Aarhus University  2011\n",
       "476     276-300                    Aberystwyth University  2012\n",
       "2404    601-800                Adam Mickiewicz University  2016\n",
       "2057    251-300                  Aix-Marseille University  2016\n",
       "2406    601-800                           Ajou University  2016\n",
       "146         147                     Alexandria University  2011\n",
       "2409    601-800            Alexandru Ioan Cuza University  2016"
      ]
     },
     "execution_count": 15,
     "metadata": {},
     "output_type": "execute_result"
    }
   ],
   "source": [
    "times_least_recent_data[['world_rank','university_name','year']].head(10)"
   ]
  },
  {
   "cell_type": "code",
   "execution_count": null,
   "metadata": {},
   "outputs": [],
   "source": []
  },
  {
   "cell_type": "markdown",
   "metadata": {},
   "source": [
    "\n",
    "## 2. For each university, compute the improvement in income between the least recent and the most recent data points"
   ]
  },
  {
   "cell_type": "markdown",
   "metadata": {},
   "source": [
    "nota : la \"colona\" income contiene valori \"-\" , percui prosego prima alla pulizia e poi lo converto in float"
   ]
  },
  {
   "cell_type": "code",
   "execution_count": 16,
   "metadata": {},
   "outputs": [],
   "source": [
    "def clean_column_income(dataset):\n",
    "    dataset=dataset[dataset.income.str.contains('-') ==False][['university_name','income','year']].copy()\n",
    "    dataset.income=dataset.income.astype(float)\n",
    "    return dataset\n",
    "            "
   ]
  },
  {
   "cell_type": "code",
   "execution_count": 17,
   "metadata": {},
   "outputs": [],
   "source": [
    "times_least_recent_data_clean = clean_column_income(times_least_recent_data)"
   ]
  },
  {
   "cell_type": "code",
   "execution_count": 18,
   "metadata": {},
   "outputs": [],
   "source": [
    "times_most_recent_data_clean= clean_column_income(times_most_recent_data)"
   ]
  },
  {
   "cell_type": "markdown",
   "metadata": {},
   "source": [
    "Unisco i due dataset tramite la colona \"university_name\""
   ]
  },
  {
   "cell_type": "code",
   "execution_count": 19,
   "metadata": {},
   "outputs": [],
   "source": [
    "union_most_and_least_data =pd.merge(times_least_recent_data_clean,times_most_recent_data_clean,on='university_name')"
   ]
  },
  {
   "cell_type": "markdown",
   "metadata": {},
   "source": [
    "rinomino le colone "
   ]
  },
  {
   "cell_type": "code",
   "execution_count": 20,
   "metadata": {},
   "outputs": [
    {
     "data": {
      "text/html": [
       "<div>\n",
       "<style scoped>\n",
       "    .dataframe tbody tr th:only-of-type {\n",
       "        vertical-align: middle;\n",
       "    }\n",
       "\n",
       "    .dataframe tbody tr th {\n",
       "        vertical-align: top;\n",
       "    }\n",
       "\n",
       "    .dataframe thead th {\n",
       "        text-align: right;\n",
       "    }\n",
       "</style>\n",
       "<table border=\"1\" class=\"dataframe\">\n",
       "  <thead>\n",
       "    <tr style=\"text-align: right;\">\n",
       "      <th></th>\n",
       "      <th>university_name</th>\n",
       "      <th>income_level_least_recent</th>\n",
       "      <th>year_least_recent</th>\n",
       "      <th>income_level_most_recent</th>\n",
       "      <th>year_most_recent</th>\n",
       "    </tr>\n",
       "  </thead>\n",
       "  <tbody>\n",
       "    <tr>\n",
       "      <th>0</th>\n",
       "      <td>Aalborg University</td>\n",
       "      <td>36.4</td>\n",
       "      <td>2012</td>\n",
       "      <td>43.7</td>\n",
       "      <td>2016</td>\n",
       "    </tr>\n",
       "    <tr>\n",
       "      <th>1</th>\n",
       "      <td>Aalto University</td>\n",
       "      <td>61.9</td>\n",
       "      <td>2012</td>\n",
       "      <td>61.6</td>\n",
       "      <td>2016</td>\n",
       "    </tr>\n",
       "    <tr>\n",
       "      <th>2</th>\n",
       "      <td>Aarhus University</td>\n",
       "      <td>61.5</td>\n",
       "      <td>2011</td>\n",
       "      <td>68.3</td>\n",
       "      <td>2016</td>\n",
       "    </tr>\n",
       "    <tr>\n",
       "      <th>3</th>\n",
       "      <td>Aberystwyth University</td>\n",
       "      <td>35.5</td>\n",
       "      <td>2012</td>\n",
       "      <td>31.3</td>\n",
       "      <td>2016</td>\n",
       "    </tr>\n",
       "    <tr>\n",
       "      <th>4</th>\n",
       "      <td>Adam Mickiewicz University</td>\n",
       "      <td>28.7</td>\n",
       "      <td>2016</td>\n",
       "      <td>28.7</td>\n",
       "      <td>2016</td>\n",
       "    </tr>\n",
       "    <tr>\n",
       "      <th>...</th>\n",
       "      <td>...</td>\n",
       "      <td>...</td>\n",
       "      <td>...</td>\n",
       "      <td>...</td>\n",
       "      <td>...</td>\n",
       "    </tr>\n",
       "    <tr>\n",
       "      <th>699</th>\n",
       "      <td>Zhejiang University</td>\n",
       "      <td>70.3</td>\n",
       "      <td>2011</td>\n",
       "      <td>96.2</td>\n",
       "      <td>2016</td>\n",
       "    </tr>\n",
       "    <tr>\n",
       "      <th>700</th>\n",
       "      <td>École Normale Supérieure</td>\n",
       "      <td>30.7</td>\n",
       "      <td>2011</td>\n",
       "      <td>37.1</td>\n",
       "      <td>2016</td>\n",
       "    </tr>\n",
       "    <tr>\n",
       "      <th>701</th>\n",
       "      <td>École Normale Supérieure de Lyon</td>\n",
       "      <td>26.1</td>\n",
       "      <td>2011</td>\n",
       "      <td>31.7</td>\n",
       "      <td>2016</td>\n",
       "    </tr>\n",
       "    <tr>\n",
       "      <th>702</th>\n",
       "      <td>École Polytechnique Fédérale de Lausanne</td>\n",
       "      <td>38.0</td>\n",
       "      <td>2011</td>\n",
       "      <td>65.4</td>\n",
       "      <td>2016</td>\n",
       "    </tr>\n",
       "    <tr>\n",
       "      <th>703</th>\n",
       "      <td>Örebro University</td>\n",
       "      <td>29.8</td>\n",
       "      <td>2016</td>\n",
       "      <td>29.8</td>\n",
       "      <td>2016</td>\n",
       "    </tr>\n",
       "  </tbody>\n",
       "</table>\n",
       "<p>704 rows × 5 columns</p>\n",
       "</div>"
      ],
      "text/plain": [
       "                              university_name  income_level_least_recent  \\\n",
       "0                          Aalborg University                       36.4   \n",
       "1                            Aalto University                       61.9   \n",
       "2                           Aarhus University                       61.5   \n",
       "3                      Aberystwyth University                       35.5   \n",
       "4                  Adam Mickiewicz University                       28.7   \n",
       "..                                        ...                        ...   \n",
       "699                       Zhejiang University                       70.3   \n",
       "700                  École Normale Supérieure                       30.7   \n",
       "701          École Normale Supérieure de Lyon                       26.1   \n",
       "702  École Polytechnique Fédérale de Lausanne                       38.0   \n",
       "703                         Örebro University                       29.8   \n",
       "\n",
       "     year_least_recent  income_level_most_recent  year_most_recent  \n",
       "0                 2012                      43.7              2016  \n",
       "1                 2012                      61.6              2016  \n",
       "2                 2011                      68.3              2016  \n",
       "3                 2012                      31.3              2016  \n",
       "4                 2016                      28.7              2016  \n",
       "..                 ...                       ...               ...  \n",
       "699               2011                      96.2              2016  \n",
       "700               2011                      37.1              2016  \n",
       "701               2011                      31.7              2016  \n",
       "702               2011                      65.4              2016  \n",
       "703               2016                      29.8              2016  \n",
       "\n",
       "[704 rows x 5 columns]"
      ]
     },
     "execution_count": 20,
     "metadata": {},
     "output_type": "execute_result"
    }
   ],
   "source": [
    "union_most_and_least_data.rename(columns={'income_x':'income_level_least_recent','year_x':'year_least_recent','income_y':'income_level_most_recent','year_y':'year_most_recent'},inplace=True)\n",
    "union_most_and_least_data"
   ]
  },
  {
   "cell_type": "markdown",
   "metadata": {},
   "source": [
    "##### nota : alcuni universita hanno come year_most_recent e year_most_recent uguale percui non ha senso tenerli"
   ]
  },
  {
   "cell_type": "code",
   "execution_count": 21,
   "metadata": {
    "scrolled": true
   },
   "outputs": [
    {
     "data": {
      "text/html": [
       "<div>\n",
       "<style scoped>\n",
       "    .dataframe tbody tr th:only-of-type {\n",
       "        vertical-align: middle;\n",
       "    }\n",
       "\n",
       "    .dataframe tbody tr th {\n",
       "        vertical-align: top;\n",
       "    }\n",
       "\n",
       "    .dataframe thead th {\n",
       "        text-align: right;\n",
       "    }\n",
       "</style>\n",
       "<table border=\"1\" class=\"dataframe\">\n",
       "  <thead>\n",
       "    <tr style=\"text-align: right;\">\n",
       "      <th></th>\n",
       "      <th>university_name</th>\n",
       "      <th>income_level_least_recent</th>\n",
       "      <th>year_least_recent</th>\n",
       "      <th>income_level_most_recent</th>\n",
       "      <th>year_most_recent</th>\n",
       "    </tr>\n",
       "  </thead>\n",
       "  <tbody>\n",
       "    <tr>\n",
       "      <th>4</th>\n",
       "      <td>Adam Mickiewicz University</td>\n",
       "      <td>28.7</td>\n",
       "      <td>2016</td>\n",
       "      <td>28.7</td>\n",
       "      <td>2016</td>\n",
       "    </tr>\n",
       "    <tr>\n",
       "      <th>5</th>\n",
       "      <td>Aix-Marseille University</td>\n",
       "      <td>33.1</td>\n",
       "      <td>2016</td>\n",
       "      <td>33.1</td>\n",
       "      <td>2016</td>\n",
       "    </tr>\n",
       "    <tr>\n",
       "      <th>6</th>\n",
       "      <td>Ajou University</td>\n",
       "      <td>45.7</td>\n",
       "      <td>2016</td>\n",
       "      <td>45.7</td>\n",
       "      <td>2016</td>\n",
       "    </tr>\n",
       "    <tr>\n",
       "      <th>8</th>\n",
       "      <td>Alexandru Ioan Cuza University</td>\n",
       "      <td>28.2</td>\n",
       "      <td>2016</td>\n",
       "      <td>28.2</td>\n",
       "      <td>2016</td>\n",
       "    </tr>\n",
       "    <tr>\n",
       "      <th>9</th>\n",
       "      <td>Aligarh Muslim University</td>\n",
       "      <td>29.6</td>\n",
       "      <td>2016</td>\n",
       "      <td>29.6</td>\n",
       "      <td>2016</td>\n",
       "    </tr>\n",
       "  </tbody>\n",
       "</table>\n",
       "</div>"
      ],
      "text/plain": [
       "                  university_name  income_level_least_recent  \\\n",
       "4      Adam Mickiewicz University                       28.7   \n",
       "5        Aix-Marseille University                       33.1   \n",
       "6                 Ajou University                       45.7   \n",
       "8  Alexandru Ioan Cuza University                       28.2   \n",
       "9       Aligarh Muslim University                       29.6   \n",
       "\n",
       "   year_least_recent  income_level_most_recent  year_most_recent  \n",
       "4               2016                      28.7              2016  \n",
       "5               2016                      33.1              2016  \n",
       "6               2016                      45.7              2016  \n",
       "8               2016                      28.2              2016  \n",
       "9               2016                      29.6              2016  "
      ]
     },
     "execution_count": 21,
     "metadata": {},
     "output_type": "execute_result"
    }
   ],
   "source": [
    "union_most_and_least_data[union_most_and_least_data['year_least_recent']==union_most_and_least_data['year_most_recent']].head(5)"
   ]
  },
  {
   "cell_type": "markdown",
   "metadata": {},
   "source": [
    "elimino queste colone"
   ]
  },
  {
   "cell_type": "code",
   "execution_count": 22,
   "metadata": {},
   "outputs": [],
   "source": [
    "union_most_and_least_data.drop(union_most_and_least_data[union_most_and_least_data['year_least_recent']==union_most_and_least_data['year_most_recent']].index,inplace=True)"
   ]
  },
  {
   "cell_type": "markdown",
   "metadata": {},
   "source": [
    "calcolo la diferenza"
   ]
  },
  {
   "cell_type": "code",
   "execution_count": 23,
   "metadata": {},
   "outputs": [],
   "source": [
    "union_most_and_least_data[\"diference_income\"] = union_most_and_least_data.income_level_most_recent - union_most_and_least_data.income_level_least_recent"
   ]
  },
  {
   "cell_type": "markdown",
   "metadata": {},
   "source": [
    "creo una colona \"improvement\" che mi indica UP o Down in base se la income è positiva o negativa"
   ]
  },
  {
   "cell_type": "code",
   "execution_count": 24,
   "metadata": {},
   "outputs": [],
   "source": [
    "union_most_and_least_data[\"improvement\"] = np.where(union_most_and_least_data[\"diference_income\"] > 0, \"UP\", \"Down\")"
   ]
  },
  {
   "cell_type": "code",
   "execution_count": 25,
   "metadata": {},
   "outputs": [
    {
     "data": {
      "text/html": [
       "<div>\n",
       "<style scoped>\n",
       "    .dataframe tbody tr th:only-of-type {\n",
       "        vertical-align: middle;\n",
       "    }\n",
       "\n",
       "    .dataframe tbody tr th {\n",
       "        vertical-align: top;\n",
       "    }\n",
       "\n",
       "    .dataframe thead th {\n",
       "        text-align: right;\n",
       "    }\n",
       "</style>\n",
       "<table border=\"1\" class=\"dataframe\">\n",
       "  <thead>\n",
       "    <tr style=\"text-align: right;\">\n",
       "      <th></th>\n",
       "      <th>university_name</th>\n",
       "      <th>income_level_least_recent</th>\n",
       "      <th>year_least_recent</th>\n",
       "      <th>income_level_most_recent</th>\n",
       "      <th>year_most_recent</th>\n",
       "      <th>diference_income</th>\n",
       "      <th>improvement</th>\n",
       "    </tr>\n",
       "  </thead>\n",
       "  <tbody>\n",
       "    <tr>\n",
       "      <th>0</th>\n",
       "      <td>Aalborg University</td>\n",
       "      <td>36.4</td>\n",
       "      <td>2012</td>\n",
       "      <td>43.7</td>\n",
       "      <td>2016</td>\n",
       "      <td>7.3</td>\n",
       "      <td>UP</td>\n",
       "    </tr>\n",
       "    <tr>\n",
       "      <th>1</th>\n",
       "      <td>Aalto University</td>\n",
       "      <td>61.9</td>\n",
       "      <td>2012</td>\n",
       "      <td>61.6</td>\n",
       "      <td>2016</td>\n",
       "      <td>-0.3</td>\n",
       "      <td>Down</td>\n",
       "    </tr>\n",
       "    <tr>\n",
       "      <th>2</th>\n",
       "      <td>Aarhus University</td>\n",
       "      <td>61.5</td>\n",
       "      <td>2011</td>\n",
       "      <td>68.3</td>\n",
       "      <td>2016</td>\n",
       "      <td>6.8</td>\n",
       "      <td>UP</td>\n",
       "    </tr>\n",
       "    <tr>\n",
       "      <th>3</th>\n",
       "      <td>Aberystwyth University</td>\n",
       "      <td>35.5</td>\n",
       "      <td>2012</td>\n",
       "      <td>31.3</td>\n",
       "      <td>2016</td>\n",
       "      <td>-4.2</td>\n",
       "      <td>Down</td>\n",
       "    </tr>\n",
       "    <tr>\n",
       "      <th>7</th>\n",
       "      <td>Alexandria University</td>\n",
       "      <td>36.0</td>\n",
       "      <td>2011</td>\n",
       "      <td>29.7</td>\n",
       "      <td>2016</td>\n",
       "      <td>-6.3</td>\n",
       "      <td>Down</td>\n",
       "    </tr>\n",
       "    <tr>\n",
       "      <th>18</th>\n",
       "      <td>Aston University</td>\n",
       "      <td>26.8</td>\n",
       "      <td>2012</td>\n",
       "      <td>34.6</td>\n",
       "      <td>2016</td>\n",
       "      <td>7.8</td>\n",
       "      <td>UP</td>\n",
       "    </tr>\n",
       "    <tr>\n",
       "      <th>20</th>\n",
       "      <td>Auburn University</td>\n",
       "      <td>47.3</td>\n",
       "      <td>2012</td>\n",
       "      <td>37.2</td>\n",
       "      <td>2016</td>\n",
       "      <td>-10.1</td>\n",
       "      <td>Down</td>\n",
       "    </tr>\n",
       "    <tr>\n",
       "      <th>23</th>\n",
       "      <td>Autonomous University of Barcelona</td>\n",
       "      <td>37.0</td>\n",
       "      <td>2012</td>\n",
       "      <td>34.9</td>\n",
       "      <td>2016</td>\n",
       "      <td>-2.1</td>\n",
       "      <td>Down</td>\n",
       "    </tr>\n",
       "    <tr>\n",
       "      <th>24</th>\n",
       "      <td>Autonomous University of Madrid</td>\n",
       "      <td>32.5</td>\n",
       "      <td>2012</td>\n",
       "      <td>33.0</td>\n",
       "      <td>2016</td>\n",
       "      <td>0.5</td>\n",
       "      <td>UP</td>\n",
       "    </tr>\n",
       "    <tr>\n",
       "      <th>26</th>\n",
       "      <td>Bangor University</td>\n",
       "      <td>29.0</td>\n",
       "      <td>2012</td>\n",
       "      <td>31.0</td>\n",
       "      <td>2016</td>\n",
       "      <td>2.0</td>\n",
       "      <td>UP</td>\n",
       "    </tr>\n",
       "  </tbody>\n",
       "</table>\n",
       "</div>"
      ],
      "text/plain": [
       "                       university_name  income_level_least_recent  \\\n",
       "0                   Aalborg University                       36.4   \n",
       "1                     Aalto University                       61.9   \n",
       "2                    Aarhus University                       61.5   \n",
       "3               Aberystwyth University                       35.5   \n",
       "7                Alexandria University                       36.0   \n",
       "18                    Aston University                       26.8   \n",
       "20                   Auburn University                       47.3   \n",
       "23  Autonomous University of Barcelona                       37.0   \n",
       "24     Autonomous University of Madrid                       32.5   \n",
       "26                   Bangor University                       29.0   \n",
       "\n",
       "    year_least_recent  income_level_most_recent  year_most_recent  \\\n",
       "0                2012                      43.7              2016   \n",
       "1                2012                      61.6              2016   \n",
       "2                2011                      68.3              2016   \n",
       "3                2012                      31.3              2016   \n",
       "7                2011                      29.7              2016   \n",
       "18               2012                      34.6              2016   \n",
       "20               2012                      37.2              2016   \n",
       "23               2012                      34.9              2016   \n",
       "24               2012                      33.0              2016   \n",
       "26               2012                      31.0              2016   \n",
       "\n",
       "    diference_income improvement  \n",
       "0                7.3          UP  \n",
       "1               -0.3        Down  \n",
       "2                6.8          UP  \n",
       "3               -4.2        Down  \n",
       "7               -6.3        Down  \n",
       "18               7.8          UP  \n",
       "20             -10.1        Down  \n",
       "23              -2.1        Down  \n",
       "24               0.5          UP  \n",
       "26               2.0          UP  "
      ]
     },
     "execution_count": 25,
     "metadata": {},
     "output_type": "execute_result"
    }
   ],
   "source": [
    "union_most_and_least_data.head(10)"
   ]
  },
  {
   "cell_type": "markdown",
   "metadata": {},
   "source": [
    "## 3. Find the university with the largest increase computed in the previous point"
   ]
  },
  {
   "cell_type": "code",
   "execution_count": 26,
   "metadata": {},
   "outputs": [
    {
     "data": {
      "text/html": [
       "<div>\n",
       "<style scoped>\n",
       "    .dataframe tbody tr th:only-of-type {\n",
       "        vertical-align: middle;\n",
       "    }\n",
       "\n",
       "    .dataframe tbody tr th {\n",
       "        vertical-align: top;\n",
       "    }\n",
       "\n",
       "    .dataframe thead th {\n",
       "        text-align: right;\n",
       "    }\n",
       "</style>\n",
       "<table border=\"1\" class=\"dataframe\">\n",
       "  <thead>\n",
       "    <tr style=\"text-align: right;\">\n",
       "      <th></th>\n",
       "      <th>university_name</th>\n",
       "      <th>income_level_least_recent</th>\n",
       "      <th>year_least_recent</th>\n",
       "      <th>income_level_most_recent</th>\n",
       "      <th>year_most_recent</th>\n",
       "      <th>diference_income</th>\n",
       "      <th>improvement</th>\n",
       "    </tr>\n",
       "  </thead>\n",
       "  <tbody>\n",
       "    <tr>\n",
       "      <th>373</th>\n",
       "      <td>TU Dresden</td>\n",
       "      <td>31.9</td>\n",
       "      <td>2012</td>\n",
       "      <td>99.7</td>\n",
       "      <td>2016</td>\n",
       "      <td>67.8</td>\n",
       "      <td>UP</td>\n",
       "    </tr>\n",
       "  </tbody>\n",
       "</table>\n",
       "</div>"
      ],
      "text/plain": [
       "    university_name  income_level_least_recent  year_least_recent  \\\n",
       "373      TU Dresden                       31.9               2012   \n",
       "\n",
       "     income_level_most_recent  year_most_recent  diference_income improvement  \n",
       "373                      99.7              2016              67.8          UP  "
      ]
     },
     "execution_count": 26,
     "metadata": {},
     "output_type": "execute_result"
    }
   ],
   "source": [
    " union_most_and_least_data[union_most_and_least_data.diference_income ==union_most_and_least_data.diference_income.max()]"
   ]
  },
  {
   "cell_type": "markdown",
   "metadata": {},
   "source": [
    "## 4. For each ranking, consider only the most recent data point. For each university, compute the maximum difference between the rankings (e.g. for Aarhus University the value is 122-73=49). Notice that some rankings are expressed as a range"
   ]
  },
  {
   "cell_type": "markdown",
   "metadata": {},
   "source": [
    "#### preprocessing "
   ]
  },
  {
   "cell_type": "markdown",
   "metadata": {},
   "source": [
    "nota: dataset shanghai_df , times_df ha alcuni valori espressi in range"
   ]
  },
  {
   "cell_type": "code",
   "execution_count": 27,
   "metadata": {},
   "outputs": [
    {
     "data": {
      "text/plain": [
       "100    101-152\n",
       "101    101-152\n",
       "102    101-152\n",
       "Name: world_rank, dtype: object"
      ]
     },
     "execution_count": 27,
     "metadata": {},
     "output_type": "execute_result"
    }
   ],
   "source": [
    "shanghai_df[shanghai_df['world_rank'].str.contains('-')==True]['world_rank'].head(3)"
   ]
  },
  {
   "cell_type": "markdown",
   "metadata": {},
   "source": [
    "nota : time_df porta con se alcuni valri anomali '='"
   ]
  },
  {
   "cell_type": "code",
   "execution_count": 28,
   "metadata": {},
   "outputs": [
    {
     "data": {
      "text/plain": [
       "1841    =39\n",
       "1842    =39\n",
       "1846    =44\n",
       "Name: world_rank, dtype: object"
      ]
     },
     "execution_count": 28,
     "metadata": {},
     "output_type": "execute_result"
    }
   ],
   "source": [
    "times_df[times_df['world_rank'].str.contains('=')==True]['world_rank'].head(3)"
   ]
  },
  {
   "cell_type": "code",
   "execution_count": 29,
   "metadata": {},
   "outputs": [],
   "source": [
    "times_df['world_rank']=times_df['world_rank'].str.replace('=','')"
   ]
  },
  {
   "cell_type": "markdown",
   "metadata": {},
   "source": [
    "nota: world_df sembra ok , non ha valori in range e valori strani"
   ]
  },
  {
   "cell_type": "code",
   "execution_count": 30,
   "metadata": {},
   "outputs": [
    {
     "data": {
      "text/plain": [
       "dtype('int64')"
      ]
     },
     "execution_count": 30,
     "metadata": {},
     "output_type": "execute_result"
    }
   ],
   "source": [
    "world_df['world_rank'].dtype"
   ]
  },
  {
   "cell_type": "markdown",
   "metadata": {},
   "source": [
    " ### Dati più recenti per le tabelle 'shanghai_ranking', 'times_ranking' e 'world_ranking"
   ]
  },
  {
   "cell_type": "markdown",
   "metadata": {},
   "source": [
    "Shanghai"
   ]
  },
  {
   "cell_type": "code",
   "execution_count": 31,
   "metadata": {},
   "outputs": [],
   "source": [
    "shanghai_most_recent_data = shanghai_df.iloc[shanghai_df.groupby('university_name')['year'].idxmax()].copy()"
   ]
  },
  {
   "cell_type": "code",
   "execution_count": 32,
   "metadata": {},
   "outputs": [
    {
     "data": {
      "text/html": [
       "<div>\n",
       "<style scoped>\n",
       "    .dataframe tbody tr th:only-of-type {\n",
       "        vertical-align: middle;\n",
       "    }\n",
       "\n",
       "    .dataframe tbody tr th {\n",
       "        vertical-align: top;\n",
       "    }\n",
       "\n",
       "    .dataframe thead th {\n",
       "        text-align: right;\n",
       "    }\n",
       "</style>\n",
       "<table border=\"1\" class=\"dataframe\">\n",
       "  <thead>\n",
       "    <tr style=\"text-align: right;\">\n",
       "      <th></th>\n",
       "      <th>world_rank</th>\n",
       "      <th>university_name</th>\n",
       "      <th>national_rank</th>\n",
       "      <th>total_score</th>\n",
       "      <th>alumni</th>\n",
       "      <th>award</th>\n",
       "      <th>hici</th>\n",
       "      <th>ns</th>\n",
       "      <th>pub</th>\n",
       "      <th>pcp</th>\n",
       "      <th>year</th>\n",
       "    </tr>\n",
       "  </thead>\n",
       "  <tbody>\n",
       "    <tr>\n",
       "      <th>4696</th>\n",
       "      <td>301-400</td>\n",
       "      <td>Aalborg University</td>\n",
       "      <td>5</td>\n",
       "      <td>NaN</td>\n",
       "      <td>0.0</td>\n",
       "      <td>0.0</td>\n",
       "      <td>11.2</td>\n",
       "      <td>4.6</td>\n",
       "      <td>30.4</td>\n",
       "      <td>16.8</td>\n",
       "      <td>2015</td>\n",
       "    </tr>\n",
       "    <tr>\n",
       "      <th>4796</th>\n",
       "      <td>401-500</td>\n",
       "      <td>Aalto University</td>\n",
       "      <td>4-6</td>\n",
       "      <td>NaN</td>\n",
       "      <td>0.0</td>\n",
       "      <td>0.0</td>\n",
       "      <td>0.0</td>\n",
       "      <td>10.4</td>\n",
       "      <td>33.4</td>\n",
       "      <td>17.0</td>\n",
       "      <td>2015</td>\n",
       "    </tr>\n",
       "    <tr>\n",
       "      <th>4468</th>\n",
       "      <td>73</td>\n",
       "      <td>Aarhus University</td>\n",
       "      <td>2</td>\n",
       "      <td>27.3</td>\n",
       "      <td>11.5</td>\n",
       "      <td>22.1</td>\n",
       "      <td>12.3</td>\n",
       "      <td>25.8</td>\n",
       "      <td>51.8</td>\n",
       "      <td>31.0</td>\n",
       "      <td>2015</td>\n",
       "    </tr>\n",
       "  </tbody>\n",
       "</table>\n",
       "</div>"
      ],
      "text/plain": [
       "     world_rank     university_name national_rank  total_score  alumni  award  \\\n",
       "4696    301-400  Aalborg University             5          NaN     0.0    0.0   \n",
       "4796    401-500    Aalto University           4-6          NaN     0.0    0.0   \n",
       "4468         73   Aarhus University             2         27.3    11.5   22.1   \n",
       "\n",
       "      hici    ns   pub   pcp  year  \n",
       "4696  11.2   4.6  30.4  16.8  2015  \n",
       "4796   0.0  10.4  33.4  17.0  2015  \n",
       "4468  12.3  25.8  51.8  31.0  2015  "
      ]
     },
     "execution_count": 32,
     "metadata": {},
     "output_type": "execute_result"
    }
   ],
   "source": [
    "shanghai_most_recent_data.head(3)"
   ]
  },
  {
   "cell_type": "markdown",
   "metadata": {},
   "source": [
    "Times"
   ]
  },
  {
   "cell_type": "code",
   "execution_count": 33,
   "metadata": {},
   "outputs": [],
   "source": [
    "times_most_recent_data = times_df.iloc[times_df.groupby('university_name')['year'].idxmax()].copy()"
   ]
  },
  {
   "cell_type": "code",
   "execution_count": 34,
   "metadata": {},
   "outputs": [
    {
     "data": {
      "text/html": [
       "<div>\n",
       "<style scoped>\n",
       "    .dataframe tbody tr th:only-of-type {\n",
       "        vertical-align: middle;\n",
       "    }\n",
       "\n",
       "    .dataframe tbody tr th {\n",
       "        vertical-align: top;\n",
       "    }\n",
       "\n",
       "    .dataframe thead th {\n",
       "        text-align: right;\n",
       "    }\n",
       "</style>\n",
       "<table border=\"1\" class=\"dataframe\">\n",
       "  <thead>\n",
       "    <tr style=\"text-align: right;\">\n",
       "      <th></th>\n",
       "      <th>world_rank</th>\n",
       "      <th>university_name</th>\n",
       "      <th>country</th>\n",
       "      <th>teaching</th>\n",
       "      <th>international</th>\n",
       "      <th>research</th>\n",
       "      <th>citations</th>\n",
       "      <th>income</th>\n",
       "      <th>total_score</th>\n",
       "      <th>num_students</th>\n",
       "      <th>student_staff_ratio</th>\n",
       "      <th>international_students</th>\n",
       "      <th>female_male_ratio</th>\n",
       "      <th>year</th>\n",
       "    </tr>\n",
       "  </thead>\n",
       "  <tbody>\n",
       "    <tr>\n",
       "      <th>2405</th>\n",
       "      <td>601-800</td>\n",
       "      <td>AGH University of Science and Technology</td>\n",
       "      <td>Poland</td>\n",
       "      <td>14.2</td>\n",
       "      <td>17.9</td>\n",
       "      <td>3.7</td>\n",
       "      <td>35.7</td>\n",
       "      <td>-</td>\n",
       "      <td>-</td>\n",
       "      <td>35,569</td>\n",
       "      <td>17.0</td>\n",
       "      <td>1%</td>\n",
       "      <td>-</td>\n",
       "      <td>2016</td>\n",
       "    </tr>\n",
       "    <tr>\n",
       "      <th>2003</th>\n",
       "      <td>201-250</td>\n",
       "      <td>Aalborg University</td>\n",
       "      <td>Denmark</td>\n",
       "      <td>25.1</td>\n",
       "      <td>71.0</td>\n",
       "      <td>28.4</td>\n",
       "      <td>73.8</td>\n",
       "      <td>43.7</td>\n",
       "      <td>-</td>\n",
       "      <td>17,422</td>\n",
       "      <td>15.9</td>\n",
       "      <td>15%</td>\n",
       "      <td>48 : 52</td>\n",
       "      <td>2016</td>\n",
       "    </tr>\n",
       "    <tr>\n",
       "      <th>2056</th>\n",
       "      <td>251-300</td>\n",
       "      <td>Aalto University</td>\n",
       "      <td>Finland</td>\n",
       "      <td>31.1</td>\n",
       "      <td>65.4</td>\n",
       "      <td>32.8</td>\n",
       "      <td>62.1</td>\n",
       "      <td>61.6</td>\n",
       "      <td>-</td>\n",
       "      <td>16,099</td>\n",
       "      <td>24.2</td>\n",
       "      <td>17%</td>\n",
       "      <td>32 : 68</td>\n",
       "      <td>2016</td>\n",
       "    </tr>\n",
       "  </tbody>\n",
       "</table>\n",
       "</div>"
      ],
      "text/plain": [
       "     world_rank                           university_name  country  teaching  \\\n",
       "2405    601-800  AGH University of Science and Technology   Poland      14.2   \n",
       "2003    201-250                        Aalborg University  Denmark      25.1   \n",
       "2056    251-300                          Aalto University  Finland      31.1   \n",
       "\n",
       "     international  research  citations income total_score num_students  \\\n",
       "2405          17.9       3.7       35.7      -           -       35,569   \n",
       "2003          71.0      28.4       73.8   43.7           -       17,422   \n",
       "2056          65.4      32.8       62.1   61.6           -       16,099   \n",
       "\n",
       "      student_staff_ratio international_students female_male_ratio  year  \n",
       "2405                 17.0                     1%                 -  2016  \n",
       "2003                 15.9                    15%           48 : 52  2016  \n",
       "2056                 24.2                    17%           32 : 68  2016  "
      ]
     },
     "execution_count": 34,
     "metadata": {},
     "output_type": "execute_result"
    }
   ],
   "source": [
    "times_most_recent_data.head(3)"
   ]
  },
  {
   "cell_type": "markdown",
   "metadata": {},
   "source": [
    "World  "
   ]
  },
  {
   "cell_type": "code",
   "execution_count": 35,
   "metadata": {},
   "outputs": [],
   "source": [
    "world_most_recent_data = world_df.iloc[world_df.groupby('university_name')['year'].idxmax()].copy()"
   ]
  },
  {
   "cell_type": "code",
   "execution_count": 36,
   "metadata": {},
   "outputs": [
    {
     "data": {
      "text/html": [
       "<div>\n",
       "<style scoped>\n",
       "    .dataframe tbody tr th:only-of-type {\n",
       "        vertical-align: middle;\n",
       "    }\n",
       "\n",
       "    .dataframe tbody tr th {\n",
       "        vertical-align: top;\n",
       "    }\n",
       "\n",
       "    .dataframe thead th {\n",
       "        text-align: right;\n",
       "    }\n",
       "</style>\n",
       "<table border=\"1\" class=\"dataframe\">\n",
       "  <thead>\n",
       "    <tr style=\"text-align: right;\">\n",
       "      <th></th>\n",
       "      <th>world_rank</th>\n",
       "      <th>university_name</th>\n",
       "      <th>country</th>\n",
       "      <th>national_rank</th>\n",
       "      <th>quality_of_education</th>\n",
       "      <th>alumni_employment</th>\n",
       "      <th>quality_of_faculty</th>\n",
       "      <th>publications</th>\n",
       "      <th>influence</th>\n",
       "      <th>citations</th>\n",
       "      <th>broad_impact</th>\n",
       "      <th>patents</th>\n",
       "      <th>score</th>\n",
       "      <th>year</th>\n",
       "    </tr>\n",
       "  </thead>\n",
       "  <tbody>\n",
       "    <tr>\n",
       "      <th>1981</th>\n",
       "      <td>782</td>\n",
       "      <td>AGH University of Science and Technology</td>\n",
       "      <td>Poland</td>\n",
       "      <td>4</td>\n",
       "      <td>267</td>\n",
       "      <td>279</td>\n",
       "      <td>218</td>\n",
       "      <td>708</td>\n",
       "      <td>891</td>\n",
       "      <td>511</td>\n",
       "      <td>896.0</td>\n",
       "      <td>398</td>\n",
       "      <td>44.26</td>\n",
       "      <td>2015</td>\n",
       "    </tr>\n",
       "    <tr>\n",
       "      <th>1764</th>\n",
       "      <td>565</td>\n",
       "      <td>Aalborg University</td>\n",
       "      <td>Denmark</td>\n",
       "      <td>5</td>\n",
       "      <td>367</td>\n",
       "      <td>439</td>\n",
       "      <td>218</td>\n",
       "      <td>596</td>\n",
       "      <td>660</td>\n",
       "      <td>287</td>\n",
       "      <td>520.0</td>\n",
       "      <td>401</td>\n",
       "      <td>44.59</td>\n",
       "      <td>2015</td>\n",
       "    </tr>\n",
       "    <tr>\n",
       "      <th>1620</th>\n",
       "      <td>421</td>\n",
       "      <td>Aalto University</td>\n",
       "      <td>Finland</td>\n",
       "      <td>4</td>\n",
       "      <td>367</td>\n",
       "      <td>224</td>\n",
       "      <td>218</td>\n",
       "      <td>336</td>\n",
       "      <td>403</td>\n",
       "      <td>645</td>\n",
       "      <td>424.0</td>\n",
       "      <td>246</td>\n",
       "      <td>45.10</td>\n",
       "      <td>2015</td>\n",
       "    </tr>\n",
       "  </tbody>\n",
       "</table>\n",
       "</div>"
      ],
      "text/plain": [
       "      world_rank                           university_name  country  \\\n",
       "1981         782  AGH University of Science and Technology   Poland   \n",
       "1764         565                        Aalborg University  Denmark   \n",
       "1620         421                          Aalto University  Finland   \n",
       "\n",
       "      national_rank  quality_of_education  alumni_employment  \\\n",
       "1981              4                   267                279   \n",
       "1764              5                   367                439   \n",
       "1620              4                   367                224   \n",
       "\n",
       "      quality_of_faculty  publications  influence  citations  broad_impact  \\\n",
       "1981                 218           708        891        511         896.0   \n",
       "1764                 218           596        660        287         520.0   \n",
       "1620                 218           336        403        645         424.0   \n",
       "\n",
       "      patents  score  year  \n",
       "1981      398  44.26  2015  \n",
       "1764      401  44.59  2015  \n",
       "1620      246  45.10  2015  "
      ]
     },
     "execution_count": 36,
     "metadata": {},
     "output_type": "execute_result"
    }
   ],
   "source": [
    "world_most_recent_data.head(3)"
   ]
  },
  {
   "cell_type": "markdown",
   "metadata": {},
   "source": [
    "### nota : Bisogna vedere se le universita hanno stesso nome in queste tabele, per questo facio un controllo "
   ]
  },
  {
   "cell_type": "code",
   "execution_count": 37,
   "metadata": {},
   "outputs": [],
   "source": [
    "union_world_times =pd.merge(world_most_recent_data[['world_rank','university_name']],times_most_recent_data[['world_rank','university_name']] ,on='university_name')"
   ]
  },
  {
   "cell_type": "code",
   "execution_count": 38,
   "metadata": {},
   "outputs": [
    {
     "data": {
      "text/html": [
       "<div>\n",
       "<style scoped>\n",
       "    .dataframe tbody tr th:only-of-type {\n",
       "        vertical-align: middle;\n",
       "    }\n",
       "\n",
       "    .dataframe tbody tr th {\n",
       "        vertical-align: top;\n",
       "    }\n",
       "\n",
       "    .dataframe thead th {\n",
       "        text-align: right;\n",
       "    }\n",
       "</style>\n",
       "<table border=\"1\" class=\"dataframe\">\n",
       "  <thead>\n",
       "    <tr style=\"text-align: right;\">\n",
       "      <th></th>\n",
       "      <th>world_rank_x</th>\n",
       "      <th>university_name</th>\n",
       "      <th>world_rank_y</th>\n",
       "    </tr>\n",
       "  </thead>\n",
       "  <tbody>\n",
       "    <tr>\n",
       "      <th>0</th>\n",
       "      <td>782</td>\n",
       "      <td>AGH University of Science and Technology</td>\n",
       "      <td>601-800</td>\n",
       "    </tr>\n",
       "    <tr>\n",
       "      <th>1</th>\n",
       "      <td>565</td>\n",
       "      <td>Aalborg University</td>\n",
       "      <td>201-250</td>\n",
       "    </tr>\n",
       "    <tr>\n",
       "      <th>2</th>\n",
       "      <td>421</td>\n",
       "      <td>Aalto University</td>\n",
       "      <td>251-300</td>\n",
       "    </tr>\n",
       "    <tr>\n",
       "      <th>3</th>\n",
       "      <td>122</td>\n",
       "      <td>Aarhus University</td>\n",
       "      <td>106</td>\n",
       "    </tr>\n",
       "    <tr>\n",
       "      <th>4</th>\n",
       "      <td>814</td>\n",
       "      <td>Aberystwyth University</td>\n",
       "      <td>301-350</td>\n",
       "    </tr>\n",
       "    <tr>\n",
       "      <th>...</th>\n",
       "      <td>...</td>\n",
       "      <td>...</td>\n",
       "      <td>...</td>\n",
       "    </tr>\n",
       "    <tr>\n",
       "      <th>584</th>\n",
       "      <td>337</td>\n",
       "      <td>York University</td>\n",
       "      <td>301-350</td>\n",
       "    </tr>\n",
       "    <tr>\n",
       "      <th>585</th>\n",
       "      <td>979</td>\n",
       "      <td>Yuan Ze University</td>\n",
       "      <td>601-800</td>\n",
       "    </tr>\n",
       "    <tr>\n",
       "      <th>586</th>\n",
       "      <td>191</td>\n",
       "      <td>Zhejiang University</td>\n",
       "      <td>251-300</td>\n",
       "    </tr>\n",
       "    <tr>\n",
       "      <th>587</th>\n",
       "      <td>36</td>\n",
       "      <td>École Polytechnique</td>\n",
       "      <td>101</td>\n",
       "    </tr>\n",
       "    <tr>\n",
       "      <th>588</th>\n",
       "      <td>639</td>\n",
       "      <td>Örebro University</td>\n",
       "      <td>301-350</td>\n",
       "    </tr>\n",
       "  </tbody>\n",
       "</table>\n",
       "<p>589 rows × 3 columns</p>\n",
       "</div>"
      ],
      "text/plain": [
       "     world_rank_x                           university_name world_rank_y\n",
       "0             782  AGH University of Science and Technology      601-800\n",
       "1             565                        Aalborg University      201-250\n",
       "2             421                          Aalto University      251-300\n",
       "3             122                         Aarhus University          106\n",
       "4             814                    Aberystwyth University      301-350\n",
       "..            ...                                       ...          ...\n",
       "584           337                           York University      301-350\n",
       "585           979                        Yuan Ze University      601-800\n",
       "586           191                       Zhejiang University      251-300\n",
       "587            36                       École Polytechnique          101\n",
       "588           639                         Örebro University      301-350\n",
       "\n",
       "[589 rows x 3 columns]"
      ]
     },
     "execution_count": 38,
     "metadata": {},
     "output_type": "execute_result"
    }
   ],
   "source": [
    "union_world_times"
   ]
  },
  {
   "cell_type": "code",
   "execution_count": 39,
   "metadata": {},
   "outputs": [],
   "source": [
    "total_union =pd.merge(union_world_times,shanghai_most_recent_data[['world_rank','university_name']] ,on='university_name')"
   ]
  },
  {
   "cell_type": "code",
   "execution_count": 40,
   "metadata": {},
   "outputs": [
    {
     "data": {
      "text/html": [
       "<div>\n",
       "<style scoped>\n",
       "    .dataframe tbody tr th:only-of-type {\n",
       "        vertical-align: middle;\n",
       "    }\n",
       "\n",
       "    .dataframe tbody tr th {\n",
       "        vertical-align: top;\n",
       "    }\n",
       "\n",
       "    .dataframe thead th {\n",
       "        text-align: right;\n",
       "    }\n",
       "</style>\n",
       "<table border=\"1\" class=\"dataframe\">\n",
       "  <thead>\n",
       "    <tr style=\"text-align: right;\">\n",
       "      <th></th>\n",
       "      <th>world_rank_x</th>\n",
       "      <th>university_name</th>\n",
       "      <th>world_rank_y</th>\n",
       "      <th>world_rank</th>\n",
       "    </tr>\n",
       "  </thead>\n",
       "  <tbody>\n",
       "    <tr>\n",
       "      <th>0</th>\n",
       "      <td>565</td>\n",
       "      <td>Aalborg University</td>\n",
       "      <td>201-250</td>\n",
       "      <td>301-400</td>\n",
       "    </tr>\n",
       "    <tr>\n",
       "      <th>1</th>\n",
       "      <td>421</td>\n",
       "      <td>Aalto University</td>\n",
       "      <td>251-300</td>\n",
       "      <td>401-500</td>\n",
       "    </tr>\n",
       "    <tr>\n",
       "      <th>2</th>\n",
       "      <td>122</td>\n",
       "      <td>Aarhus University</td>\n",
       "      <td>106</td>\n",
       "      <td>73</td>\n",
       "    </tr>\n",
       "    <tr>\n",
       "      <th>3</th>\n",
       "      <td>206</td>\n",
       "      <td>Aix-Marseille University</td>\n",
       "      <td>251-300</td>\n",
       "      <td>102-150</td>\n",
       "    </tr>\n",
       "    <tr>\n",
       "      <th>4</th>\n",
       "      <td>459</td>\n",
       "      <td>Aristotle University of Thessaloniki</td>\n",
       "      <td>601-800</td>\n",
       "      <td>401-500</td>\n",
       "    </tr>\n",
       "    <tr>\n",
       "      <th>...</th>\n",
       "      <td>...</td>\n",
       "      <td>...</td>\n",
       "      <td>...</td>\n",
       "      <td>...</td>\n",
       "    </tr>\n",
       "    <tr>\n",
       "      <th>357</th>\n",
       "      <td>11</td>\n",
       "      <td>Yale University</td>\n",
       "      <td>12</td>\n",
       "      <td>11</td>\n",
       "    </tr>\n",
       "    <tr>\n",
       "      <th>358</th>\n",
       "      <td>171</td>\n",
       "      <td>Yeshiva University</td>\n",
       "      <td>164</td>\n",
       "      <td>201-300</td>\n",
       "    </tr>\n",
       "    <tr>\n",
       "      <th>359</th>\n",
       "      <td>98</td>\n",
       "      <td>Yonsei University</td>\n",
       "      <td>301-350</td>\n",
       "      <td>201-300</td>\n",
       "    </tr>\n",
       "    <tr>\n",
       "      <th>360</th>\n",
       "      <td>337</td>\n",
       "      <td>York University</td>\n",
       "      <td>301-350</td>\n",
       "      <td>401-500</td>\n",
       "    </tr>\n",
       "    <tr>\n",
       "      <th>361</th>\n",
       "      <td>191</td>\n",
       "      <td>Zhejiang University</td>\n",
       "      <td>251-300</td>\n",
       "      <td>101-150</td>\n",
       "    </tr>\n",
       "  </tbody>\n",
       "</table>\n",
       "<p>362 rows × 4 columns</p>\n",
       "</div>"
      ],
      "text/plain": [
       "     world_rank_x                       university_name world_rank_y  \\\n",
       "0             565                    Aalborg University      201-250   \n",
       "1             421                      Aalto University      251-300   \n",
       "2             122                     Aarhus University          106   \n",
       "3             206              Aix-Marseille University      251-300   \n",
       "4             459  Aristotle University of Thessaloniki      601-800   \n",
       "..            ...                                   ...          ...   \n",
       "357            11                       Yale University           12   \n",
       "358           171                    Yeshiva University          164   \n",
       "359            98                     Yonsei University      301-350   \n",
       "360           337                       York University      301-350   \n",
       "361           191                   Zhejiang University      251-300   \n",
       "\n",
       "    world_rank  \n",
       "0      301-400  \n",
       "1      401-500  \n",
       "2           73  \n",
       "3      102-150  \n",
       "4      401-500  \n",
       "..         ...  \n",
       "357         11  \n",
       "358    201-300  \n",
       "359    201-300  \n",
       "360    401-500  \n",
       "361    101-150  \n",
       "\n",
       "[362 rows x 4 columns]"
      ]
     },
     "execution_count": 40,
     "metadata": {},
     "output_type": "execute_result"
    }
   ],
   "source": [
    "total_union"
   ]
  },
  {
   "cell_type": "code",
   "execution_count": 41,
   "metadata": {},
   "outputs": [],
   "source": [
    "school_and_country_df.school_name = school_and_country_df['school_name'].map(str)"
   ]
  },
  {
   "cell_type": "code",
   "execution_count": 42,
   "metadata": {},
   "outputs": [
    {
     "data": {
      "text/plain": [
       "818"
      ]
     },
     "execution_count": 42,
     "metadata": {},
     "output_type": "execute_result"
    }
   ],
   "source": [
    "len(school_and_country_df)"
   ]
  },
  {
   "cell_type": "code",
   "execution_count": 43,
   "metadata": {},
   "outputs": [],
   "source": [
    "lista_universita_asetnti = []\n",
    "\n",
    "for universityworld in school_and_country_df.school_name:\n",
    "    for univesitytimes in world_most_recent_data.university_name:\n",
    "        if (universityworld == univesitytimes):\n",
    "            lista_universita_asetnti.append(universityworld)\n",
    "    \n",
    "        "
   ]
  },
  {
   "cell_type": "code",
   "execution_count": 44,
   "metadata": {},
   "outputs": [
    {
     "data": {
      "text/plain": [
       "589"
      ]
     },
     "execution_count": 44,
     "metadata": {},
     "output_type": "execute_result"
    }
   ],
   "source": [
    "len(lista_universita_asetnti )"
   ]
  },
  {
   "cell_type": "code",
   "execution_count": 45,
   "metadata": {},
   "outputs": [
    {
     "data": {
      "text/plain": [
       "1024"
      ]
     },
     "execution_count": 45,
     "metadata": {},
     "output_type": "execute_result"
    }
   ],
   "source": [
    "len(world_most_recent_data.groupby('university_name'))\n",
    "len(world_most_recent_data.groupby('university_name').max())"
   ]
  },
  {
   "cell_type": "code",
   "execution_count": 46,
   "metadata": {},
   "outputs": [
    {
     "data": {
      "text/plain": [
       "818"
      ]
     },
     "execution_count": 46,
     "metadata": {},
     "output_type": "execute_result"
    }
   ],
   "source": [
    "len(times_most_recent_data.university_name)"
   ]
  },
  {
   "cell_type": "code",
   "execution_count": 47,
   "metadata": {},
   "outputs": [
    {
     "data": {
      "text/plain": [
       "658"
      ]
     },
     "execution_count": 47,
     "metadata": {},
     "output_type": "execute_result"
    }
   ],
   "source": [
    "len(shanghai_most_recent_data.university_name)"
   ]
  },
  {
   "cell_type": "code",
   "execution_count": 48,
   "metadata": {},
   "outputs": [],
   "source": [
    "test =school_and_country_df['school_name'].str.contains(\"Yokohama City University\").any()"
   ]
  },
  {
   "cell_type": "code",
   "execution_count": 49,
   "metadata": {},
   "outputs": [
    {
     "data": {
      "text/plain": [
       "True"
      ]
     },
     "execution_count": 49,
     "metadata": {},
     "output_type": "execute_result"
    }
   ],
   "source": [
    "test"
   ]
  },
  {
   "cell_type": "code",
   "execution_count": null,
   "metadata": {},
   "outputs": [],
   "source": []
  }
 ],
 "metadata": {
  "kernelspec": {
   "display_name": "Python 3",
   "language": "python",
   "name": "python3"
  },
  "language_info": {
   "codemirror_mode": {
    "name": "ipython",
    "version": 3
   },
   "file_extension": ".py",
   "mimetype": "text/x-python",
   "name": "python",
   "nbconvert_exporter": "python",
   "pygments_lexer": "ipython3",
   "version": "3.8.5"
  }
 },
 "nbformat": 4,
 "nbformat_minor": 4
}
