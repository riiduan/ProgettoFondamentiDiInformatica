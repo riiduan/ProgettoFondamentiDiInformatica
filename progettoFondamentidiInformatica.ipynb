{
 "cells": [
  {
   "cell_type": "code",
   "execution_count": 1,
   "metadata": {},
   "outputs": [],
   "source": [
    "import pandas as pd\n",
    "import re\n",
    "import math\n",
    "import numpy as np"
   ]
  },
  {
   "cell_type": "markdown",
   "metadata": {},
   "source": [
    "## Preprocessing"
   ]
  },
  {
   "cell_type": "code",
   "execution_count": 2,
   "metadata": {},
   "outputs": [],
   "source": [
    "shanghaiDataset = \"https://raw.githubusercontent.com/riiduan/ProgettoFondamentiDiInformatica/main/data/shanghai.csv\"\n",
    "timesDataset = \"https://raw.githubusercontent.com/riiduan/ProgettoFondamentiDiInformatica/main/data/times.csv\"\n",
    "worldDataset=\"https://raw.githubusercontent.com/riiduan/ProgettoFondamentiDiInformatica/main/data/world.csv\"\n",
    "educational_attainment_supplementary_data =\"https://raw.githubusercontent.com/riiduan/ProgettoFondamentiDiInformatica/main/data/educational_attainment_supplementary_data.csv\""
   ]
  },
  {
   "cell_type": "code",
   "execution_count": null,
   "metadata": {},
   "outputs": [],
   "source": []
  },
  {
   "cell_type": "code",
   "execution_count": 3,
   "metadata": {},
   "outputs": [],
   "source": [
    "def readDataSet(url , sep =',' , encoding='utf8',header='infer'):\n",
    "    return pd.read_csv(url,sep=sep ,header=header,encoding=encoding)"
   ]
  },
  {
   "cell_type": "code",
   "execution_count": 118,
   "metadata": {},
   "outputs": [],
   "source": [
    "# read datasets\n",
    "shanghai_df=readDataSet(shanghaiDataset)\n",
    "times_df=readDataSet(timesDataset)\n",
    "world_df=readDataSet(worldDataset)\n"
   ]
  },
  {
   "cell_type": "code",
   "execution_count": null,
   "metadata": {},
   "outputs": [],
   "source": []
  },
  {
   "cell_type": "code",
   "execution_count": 5,
   "metadata": {},
   "outputs": [],
   "source": [
    "#drop the none row from shanghai datframe\n",
    "\n",
    "index =shanghai_df[shanghai_df['university_name'].isnull()==True]\n",
    "shanghai_df.drop(index.index,inplace = True)\n",
    "shanghai_df.reset_index(drop=True, inplace=True)"
   ]
  },
  {
   "cell_type": "code",
   "execution_count": null,
   "metadata": {},
   "outputs": [],
   "source": []
  },
  {
   "cell_type": "code",
   "execution_count": 6,
   "metadata": {},
   "outputs": [],
   "source": [
    "# rename institution column in university_name\n",
    "\n",
    "world_df.rename(columns={'institution':'university_name'},inplace=True)"
   ]
  },
  {
   "cell_type": "code",
   "execution_count": 7,
   "metadata": {},
   "outputs": [
    {
     "name": "stdout",
     "output_type": "stream",
     "text": [
      "<class 'pandas.core.frame.DataFrame'>\n",
      "RangeIndex: 4896 entries, 0 to 4895\n",
      "Data columns (total 12 columns):\n",
      " #   Column           Non-Null Count  Dtype  \n",
      "---  ------           --------------  -----  \n",
      " 0   Unnamed: 0       4896 non-null   int64  \n",
      " 1   world_rank       4896 non-null   object \n",
      " 2   university_name  4896 non-null   object \n",
      " 3   national_rank    4896 non-null   object \n",
      " 4   total_score      1101 non-null   float64\n",
      " 5   alumni           4896 non-null   float64\n",
      " 6   award            4895 non-null   float64\n",
      " 7   hici             4895 non-null   float64\n",
      " 8   ns               4875 non-null   float64\n",
      " 9   pub              4895 non-null   float64\n",
      " 10  pcp              4895 non-null   float64\n",
      " 11  year             4896 non-null   int64  \n",
      "dtypes: float64(7), int64(2), object(3)\n",
      "memory usage: 459.1+ KB\n"
     ]
    }
   ],
   "source": [
    "shanghai_df.info()"
   ]
  },
  {
   "cell_type": "code",
   "execution_count": 8,
   "metadata": {},
   "outputs": [
    {
     "name": "stdout",
     "output_type": "stream",
     "text": [
      "<class 'pandas.core.frame.DataFrame'>\n",
      "RangeIndex: 2603 entries, 0 to 2602\n",
      "Data columns (total 15 columns):\n",
      " #   Column                  Non-Null Count  Dtype  \n",
      "---  ------                  --------------  -----  \n",
      " 0   Unnamed: 0              2603 non-null   int64  \n",
      " 1   world_rank              2603 non-null   object \n",
      " 2   university_name         2603 non-null   object \n",
      " 3   country                 2603 non-null   object \n",
      " 4   teaching                2603 non-null   float64\n",
      " 5   international           2603 non-null   object \n",
      " 6   research                2603 non-null   float64\n",
      " 7   citations               2603 non-null   float64\n",
      " 8   income                  2603 non-null   object \n",
      " 9   total_score             2603 non-null   object \n",
      " 10  num_students            2544 non-null   object \n",
      " 11  student_staff_ratio     2544 non-null   float64\n",
      " 12  international_students  2536 non-null   object \n",
      " 13  female_male_ratio       2370 non-null   object \n",
      " 14  year                    2603 non-null   int64  \n",
      "dtypes: float64(4), int64(2), object(9)\n",
      "memory usage: 305.2+ KB\n"
     ]
    }
   ],
   "source": [
    "times_df.info()"
   ]
  },
  {
   "cell_type": "code",
   "execution_count": 9,
   "metadata": {},
   "outputs": [
    {
     "name": "stdout",
     "output_type": "stream",
     "text": [
      "<class 'pandas.core.frame.DataFrame'>\n",
      "RangeIndex: 2200 entries, 0 to 2199\n",
      "Data columns (total 15 columns):\n",
      " #   Column                Non-Null Count  Dtype  \n",
      "---  ------                --------------  -----  \n",
      " 0   Unnamed: 0            2200 non-null   int64  \n",
      " 1   world_rank            2200 non-null   int64  \n",
      " 2   university_name       2200 non-null   object \n",
      " 3   country               2200 non-null   object \n",
      " 4   national_rank         2200 non-null   int64  \n",
      " 5   quality_of_education  2200 non-null   int64  \n",
      " 6   alumni_employment     2200 non-null   int64  \n",
      " 7   quality_of_faculty    2200 non-null   int64  \n",
      " 8   publications          2200 non-null   int64  \n",
      " 9   influence             2200 non-null   int64  \n",
      " 10  citations             2200 non-null   int64  \n",
      " 11  broad_impact          2000 non-null   float64\n",
      " 12  patents               2200 non-null   int64  \n",
      " 13  score                 2200 non-null   float64\n",
      " 14  year                  2200 non-null   int64  \n",
      "dtypes: float64(2), int64(11), object(2)\n",
      "memory usage: 257.9+ KB\n"
     ]
    }
   ],
   "source": [
    "world_df.info()"
   ]
  },
  {
   "cell_type": "markdown",
   "metadata": {},
   "source": [
    "## 1. For each university, extract from the times dataset the most recent and the least recent data, obtaining two separate dataframes"
   ]
  },
  {
   "cell_type": "code",
   "execution_count": 10,
   "metadata": {},
   "outputs": [],
   "source": [
    "def extract_dataset_min_max(university_name, year, index ):\n",
    "    '''\n",
    "    find most recent or least recent of data\n",
    "    \n",
    "    @university_name  : column university name \n",
    "    @year : column year\n",
    "    @index : max or min\n",
    "    \n",
    "    '''\n",
    "    dataset = pd.DataFrame()\n",
    "    if(index == 'max'):\n",
    "          dataset = times_df.iloc[times_df.groupby(university_name)[year].idxmax()]\n",
    "            \n",
    "    else: dataset = times_df.iloc[times_df.groupby(university_name)[year].idxmin()]\n",
    "    return dataset"
   ]
  },
  {
   "cell_type": "code",
   "execution_count": null,
   "metadata": {},
   "outputs": [],
   "source": []
  },
  {
   "cell_type": "code",
   "execution_count": 11,
   "metadata": {},
   "outputs": [],
   "source": [
    "times_most_recent_data = extract_dataset_min_max('university_name','year','max')"
   ]
  },
  {
   "cell_type": "code",
   "execution_count": 12,
   "metadata": {},
   "outputs": [],
   "source": [
    "times_least_recent_data = extract_dataset_min_max('university_name','year','min')"
   ]
  },
  {
   "cell_type": "code",
   "execution_count": 13,
   "metadata": {},
   "outputs": [],
   "source": [
    "times_most_recent_data.to_csv(\"times_most_recent_data\")\n",
    "times_least_recent_data.to_csv(\"times_least_recent_data\")"
   ]
  },
  {
   "cell_type": "code",
   "execution_count": 14,
   "metadata": {},
   "outputs": [
    {
     "data": {
      "text/html": [
       "<div>\n",
       "<style scoped>\n",
       "    .dataframe tbody tr th:only-of-type {\n",
       "        vertical-align: middle;\n",
       "    }\n",
       "\n",
       "    .dataframe tbody tr th {\n",
       "        vertical-align: top;\n",
       "    }\n",
       "\n",
       "    .dataframe thead th {\n",
       "        text-align: right;\n",
       "    }\n",
       "</style>\n",
       "<table border=\"1\" class=\"dataframe\">\n",
       "  <thead>\n",
       "    <tr style=\"text-align: right;\">\n",
       "      <th></th>\n",
       "      <th>world_rank</th>\n",
       "      <th>university_name</th>\n",
       "      <th>year</th>\n",
       "    </tr>\n",
       "  </thead>\n",
       "  <tbody>\n",
       "    <tr>\n",
       "      <th>2405</th>\n",
       "      <td>601-800</td>\n",
       "      <td>AGH University of Science and Technology</td>\n",
       "      <td>2016</td>\n",
       "    </tr>\n",
       "    <tr>\n",
       "      <th>2003</th>\n",
       "      <td>201-250</td>\n",
       "      <td>Aalborg University</td>\n",
       "      <td>2016</td>\n",
       "    </tr>\n",
       "    <tr>\n",
       "      <th>2056</th>\n",
       "      <td>251-300</td>\n",
       "      <td>Aalto University</td>\n",
       "      <td>2016</td>\n",
       "    </tr>\n",
       "    <tr>\n",
       "      <th>1908</th>\n",
       "      <td>=106</td>\n",
       "      <td>Aarhus University</td>\n",
       "      <td>2016</td>\n",
       "    </tr>\n",
       "    <tr>\n",
       "      <th>2105</th>\n",
       "      <td>301-350</td>\n",
       "      <td>Aberystwyth University</td>\n",
       "      <td>2016</td>\n",
       "    </tr>\n",
       "    <tr>\n",
       "      <th>2404</th>\n",
       "      <td>601-800</td>\n",
       "      <td>Adam Mickiewicz University</td>\n",
       "      <td>2016</td>\n",
       "    </tr>\n",
       "    <tr>\n",
       "      <th>2057</th>\n",
       "      <td>251-300</td>\n",
       "      <td>Aix-Marseille University</td>\n",
       "      <td>2016</td>\n",
       "    </tr>\n",
       "    <tr>\n",
       "      <th>2406</th>\n",
       "      <td>601-800</td>\n",
       "      <td>Ajou University</td>\n",
       "      <td>2016</td>\n",
       "    </tr>\n",
       "    <tr>\n",
       "      <th>2408</th>\n",
       "      <td>601-800</td>\n",
       "      <td>Alexandria University</td>\n",
       "      <td>2016</td>\n",
       "    </tr>\n",
       "    <tr>\n",
       "      <th>2409</th>\n",
       "      <td>601-800</td>\n",
       "      <td>Alexandru Ioan Cuza University</td>\n",
       "      <td>2016</td>\n",
       "    </tr>\n",
       "  </tbody>\n",
       "</table>\n",
       "</div>"
      ],
      "text/plain": [
       "     world_rank                           university_name  year\n",
       "2405    601-800  AGH University of Science and Technology  2016\n",
       "2003    201-250                        Aalborg University  2016\n",
       "2056    251-300                          Aalto University  2016\n",
       "1908       =106                         Aarhus University  2016\n",
       "2105    301-350                    Aberystwyth University  2016\n",
       "2404    601-800                Adam Mickiewicz University  2016\n",
       "2057    251-300                  Aix-Marseille University  2016\n",
       "2406    601-800                           Ajou University  2016\n",
       "2408    601-800                     Alexandria University  2016\n",
       "2409    601-800            Alexandru Ioan Cuza University  2016"
      ]
     },
     "execution_count": 14,
     "metadata": {},
     "output_type": "execute_result"
    }
   ],
   "source": [
    "times_most_recent_data[['world_rank','university_name','year']].head(10)"
   ]
  },
  {
   "cell_type": "code",
   "execution_count": null,
   "metadata": {},
   "outputs": [],
   "source": []
  },
  {
   "cell_type": "code",
   "execution_count": 15,
   "metadata": {},
   "outputs": [
    {
     "data": {
      "text/html": [
       "<div>\n",
       "<style scoped>\n",
       "    .dataframe tbody tr th:only-of-type {\n",
       "        vertical-align: middle;\n",
       "    }\n",
       "\n",
       "    .dataframe tbody tr th {\n",
       "        vertical-align: top;\n",
       "    }\n",
       "\n",
       "    .dataframe thead th {\n",
       "        text-align: right;\n",
       "    }\n",
       "</style>\n",
       "<table border=\"1\" class=\"dataframe\">\n",
       "  <thead>\n",
       "    <tr style=\"text-align: right;\">\n",
       "      <th></th>\n",
       "      <th>world_rank</th>\n",
       "      <th>university_name</th>\n",
       "      <th>year</th>\n",
       "    </tr>\n",
       "  </thead>\n",
       "  <tbody>\n",
       "    <tr>\n",
       "      <th>2405</th>\n",
       "      <td>601-800</td>\n",
       "      <td>AGH University of Science and Technology</td>\n",
       "      <td>2016</td>\n",
       "    </tr>\n",
       "    <tr>\n",
       "      <th>501</th>\n",
       "      <td>301-350</td>\n",
       "      <td>Aalborg University</td>\n",
       "      <td>2012</td>\n",
       "    </tr>\n",
       "    <tr>\n",
       "      <th>502</th>\n",
       "      <td>301-350</td>\n",
       "      <td>Aalto University</td>\n",
       "      <td>2012</td>\n",
       "    </tr>\n",
       "    <tr>\n",
       "      <th>166</th>\n",
       "      <td>167</td>\n",
       "      <td>Aarhus University</td>\n",
       "      <td>2011</td>\n",
       "    </tr>\n",
       "    <tr>\n",
       "      <th>476</th>\n",
       "      <td>276-300</td>\n",
       "      <td>Aberystwyth University</td>\n",
       "      <td>2012</td>\n",
       "    </tr>\n",
       "    <tr>\n",
       "      <th>2404</th>\n",
       "      <td>601-800</td>\n",
       "      <td>Adam Mickiewicz University</td>\n",
       "      <td>2016</td>\n",
       "    </tr>\n",
       "    <tr>\n",
       "      <th>2057</th>\n",
       "      <td>251-300</td>\n",
       "      <td>Aix-Marseille University</td>\n",
       "      <td>2016</td>\n",
       "    </tr>\n",
       "    <tr>\n",
       "      <th>2406</th>\n",
       "      <td>601-800</td>\n",
       "      <td>Ajou University</td>\n",
       "      <td>2016</td>\n",
       "    </tr>\n",
       "    <tr>\n",
       "      <th>146</th>\n",
       "      <td>147</td>\n",
       "      <td>Alexandria University</td>\n",
       "      <td>2011</td>\n",
       "    </tr>\n",
       "    <tr>\n",
       "      <th>2409</th>\n",
       "      <td>601-800</td>\n",
       "      <td>Alexandru Ioan Cuza University</td>\n",
       "      <td>2016</td>\n",
       "    </tr>\n",
       "  </tbody>\n",
       "</table>\n",
       "</div>"
      ],
      "text/plain": [
       "     world_rank                           university_name  year\n",
       "2405    601-800  AGH University of Science and Technology  2016\n",
       "501     301-350                        Aalborg University  2012\n",
       "502     301-350                          Aalto University  2012\n",
       "166         167                         Aarhus University  2011\n",
       "476     276-300                    Aberystwyth University  2012\n",
       "2404    601-800                Adam Mickiewicz University  2016\n",
       "2057    251-300                  Aix-Marseille University  2016\n",
       "2406    601-800                           Ajou University  2016\n",
       "146         147                     Alexandria University  2011\n",
       "2409    601-800            Alexandru Ioan Cuza University  2016"
      ]
     },
     "execution_count": 15,
     "metadata": {},
     "output_type": "execute_result"
    }
   ],
   "source": [
    "times_least_recent_data[['world_rank','university_name','year']].head(10)"
   ]
  },
  {
   "cell_type": "code",
   "execution_count": null,
   "metadata": {},
   "outputs": [],
   "source": []
  },
  {
   "cell_type": "markdown",
   "metadata": {},
   "source": [
    "\n",
    "## 2. For each university, compute the improvement in income between the least recent and the most recent data points"
   ]
  },
  {
   "cell_type": "markdown",
   "metadata": {},
   "source": [
    "nota : la colona \"income\" contiene valori \"-\" , percui prosego prima alla pulizia e poi lo converto in float"
   ]
  },
  {
   "cell_type": "code",
   "execution_count": 16,
   "metadata": {},
   "outputs": [],
   "source": [
    "def clean_column_income(dataset):\n",
    "    dataset=dataset[dataset.income.str.contains('-') ==False][['university_name','income','year']].copy()\n",
    "    dataset.income=dataset.income.astype(float)\n",
    "    return dataset\n",
    "            "
   ]
  },
  {
   "cell_type": "code",
   "execution_count": 17,
   "metadata": {},
   "outputs": [],
   "source": [
    "times_least_recent_data_clean = clean_column_income(times_least_recent_data)"
   ]
  },
  {
   "cell_type": "code",
   "execution_count": 18,
   "metadata": {},
   "outputs": [],
   "source": [
    "times_most_recent_data_clean= clean_column_income(times_most_recent_data)"
   ]
  },
  {
   "cell_type": "markdown",
   "metadata": {},
   "source": [
    "Unisco i due dataset tramite la colona \"university_name\""
   ]
  },
  {
   "cell_type": "code",
   "execution_count": 19,
   "metadata": {},
   "outputs": [],
   "source": [
    "union_most_and_least_data =pd.merge(times_least_recent_data_clean,times_most_recent_data_clean,on='university_name')"
   ]
  },
  {
   "cell_type": "markdown",
   "metadata": {},
   "source": [
    "rinomino le colone "
   ]
  },
  {
   "cell_type": "code",
   "execution_count": 20,
   "metadata": {},
   "outputs": [
    {
     "data": {
      "text/html": [
       "<div>\n",
       "<style scoped>\n",
       "    .dataframe tbody tr th:only-of-type {\n",
       "        vertical-align: middle;\n",
       "    }\n",
       "\n",
       "    .dataframe tbody tr th {\n",
       "        vertical-align: top;\n",
       "    }\n",
       "\n",
       "    .dataframe thead th {\n",
       "        text-align: right;\n",
       "    }\n",
       "</style>\n",
       "<table border=\"1\" class=\"dataframe\">\n",
       "  <thead>\n",
       "    <tr style=\"text-align: right;\">\n",
       "      <th></th>\n",
       "      <th>university_name</th>\n",
       "      <th>income_level_least_recent</th>\n",
       "      <th>year_least_recent</th>\n",
       "      <th>income_level_most_recent</th>\n",
       "      <th>year_most_recent</th>\n",
       "    </tr>\n",
       "  </thead>\n",
       "  <tbody>\n",
       "    <tr>\n",
       "      <th>0</th>\n",
       "      <td>Aalborg University</td>\n",
       "      <td>36.4</td>\n",
       "      <td>2012</td>\n",
       "      <td>43.7</td>\n",
       "      <td>2016</td>\n",
       "    </tr>\n",
       "    <tr>\n",
       "      <th>1</th>\n",
       "      <td>Aalto University</td>\n",
       "      <td>61.9</td>\n",
       "      <td>2012</td>\n",
       "      <td>61.6</td>\n",
       "      <td>2016</td>\n",
       "    </tr>\n",
       "    <tr>\n",
       "      <th>2</th>\n",
       "      <td>Aarhus University</td>\n",
       "      <td>61.5</td>\n",
       "      <td>2011</td>\n",
       "      <td>68.3</td>\n",
       "      <td>2016</td>\n",
       "    </tr>\n",
       "    <tr>\n",
       "      <th>3</th>\n",
       "      <td>Aberystwyth University</td>\n",
       "      <td>35.5</td>\n",
       "      <td>2012</td>\n",
       "      <td>31.3</td>\n",
       "      <td>2016</td>\n",
       "    </tr>\n",
       "    <tr>\n",
       "      <th>4</th>\n",
       "      <td>Adam Mickiewicz University</td>\n",
       "      <td>28.7</td>\n",
       "      <td>2016</td>\n",
       "      <td>28.7</td>\n",
       "      <td>2016</td>\n",
       "    </tr>\n",
       "    <tr>\n",
       "      <th>...</th>\n",
       "      <td>...</td>\n",
       "      <td>...</td>\n",
       "      <td>...</td>\n",
       "      <td>...</td>\n",
       "      <td>...</td>\n",
       "    </tr>\n",
       "    <tr>\n",
       "      <th>699</th>\n",
       "      <td>Zhejiang University</td>\n",
       "      <td>70.3</td>\n",
       "      <td>2011</td>\n",
       "      <td>96.2</td>\n",
       "      <td>2016</td>\n",
       "    </tr>\n",
       "    <tr>\n",
       "      <th>700</th>\n",
       "      <td>École Normale Supérieure</td>\n",
       "      <td>30.7</td>\n",
       "      <td>2011</td>\n",
       "      <td>37.1</td>\n",
       "      <td>2016</td>\n",
       "    </tr>\n",
       "    <tr>\n",
       "      <th>701</th>\n",
       "      <td>École Normale Supérieure de Lyon</td>\n",
       "      <td>26.1</td>\n",
       "      <td>2011</td>\n",
       "      <td>31.7</td>\n",
       "      <td>2016</td>\n",
       "    </tr>\n",
       "    <tr>\n",
       "      <th>702</th>\n",
       "      <td>École Polytechnique Fédérale de Lausanne</td>\n",
       "      <td>38.0</td>\n",
       "      <td>2011</td>\n",
       "      <td>65.4</td>\n",
       "      <td>2016</td>\n",
       "    </tr>\n",
       "    <tr>\n",
       "      <th>703</th>\n",
       "      <td>Örebro University</td>\n",
       "      <td>29.8</td>\n",
       "      <td>2016</td>\n",
       "      <td>29.8</td>\n",
       "      <td>2016</td>\n",
       "    </tr>\n",
       "  </tbody>\n",
       "</table>\n",
       "<p>704 rows × 5 columns</p>\n",
       "</div>"
      ],
      "text/plain": [
       "                              university_name  income_level_least_recent  \\\n",
       "0                          Aalborg University                       36.4   \n",
       "1                            Aalto University                       61.9   \n",
       "2                           Aarhus University                       61.5   \n",
       "3                      Aberystwyth University                       35.5   \n",
       "4                  Adam Mickiewicz University                       28.7   \n",
       "..                                        ...                        ...   \n",
       "699                       Zhejiang University                       70.3   \n",
       "700                  École Normale Supérieure                       30.7   \n",
       "701          École Normale Supérieure de Lyon                       26.1   \n",
       "702  École Polytechnique Fédérale de Lausanne                       38.0   \n",
       "703                         Örebro University                       29.8   \n",
       "\n",
       "     year_least_recent  income_level_most_recent  year_most_recent  \n",
       "0                 2012                      43.7              2016  \n",
       "1                 2012                      61.6              2016  \n",
       "2                 2011                      68.3              2016  \n",
       "3                 2012                      31.3              2016  \n",
       "4                 2016                      28.7              2016  \n",
       "..                 ...                       ...               ...  \n",
       "699               2011                      96.2              2016  \n",
       "700               2011                      37.1              2016  \n",
       "701               2011                      31.7              2016  \n",
       "702               2011                      65.4              2016  \n",
       "703               2016                      29.8              2016  \n",
       "\n",
       "[704 rows x 5 columns]"
      ]
     },
     "execution_count": 20,
     "metadata": {},
     "output_type": "execute_result"
    }
   ],
   "source": [
    "union_most_and_least_data.rename(columns={'income_x':'income_level_least_recent','year_x':'year_least_recent','income_y':'income_level_most_recent','year_y':'year_most_recent'},inplace=True)\n",
    "union_most_and_least_data"
   ]
  },
  {
   "cell_type": "markdown",
   "metadata": {},
   "source": [
    "##### nota : alcuni universita hanno come \"year_most_recent\" e \"year_most_recent\" uguale percui non ha senso tenerli"
   ]
  },
  {
   "cell_type": "code",
   "execution_count": 21,
   "metadata": {
    "scrolled": true
   },
   "outputs": [
    {
     "data": {
      "text/html": [
       "<div>\n",
       "<style scoped>\n",
       "    .dataframe tbody tr th:only-of-type {\n",
       "        vertical-align: middle;\n",
       "    }\n",
       "\n",
       "    .dataframe tbody tr th {\n",
       "        vertical-align: top;\n",
       "    }\n",
       "\n",
       "    .dataframe thead th {\n",
       "        text-align: right;\n",
       "    }\n",
       "</style>\n",
       "<table border=\"1\" class=\"dataframe\">\n",
       "  <thead>\n",
       "    <tr style=\"text-align: right;\">\n",
       "      <th></th>\n",
       "      <th>university_name</th>\n",
       "      <th>income_level_least_recent</th>\n",
       "      <th>year_least_recent</th>\n",
       "      <th>income_level_most_recent</th>\n",
       "      <th>year_most_recent</th>\n",
       "    </tr>\n",
       "  </thead>\n",
       "  <tbody>\n",
       "    <tr>\n",
       "      <th>4</th>\n",
       "      <td>Adam Mickiewicz University</td>\n",
       "      <td>28.7</td>\n",
       "      <td>2016</td>\n",
       "      <td>28.7</td>\n",
       "      <td>2016</td>\n",
       "    </tr>\n",
       "    <tr>\n",
       "      <th>5</th>\n",
       "      <td>Aix-Marseille University</td>\n",
       "      <td>33.1</td>\n",
       "      <td>2016</td>\n",
       "      <td>33.1</td>\n",
       "      <td>2016</td>\n",
       "    </tr>\n",
       "    <tr>\n",
       "      <th>6</th>\n",
       "      <td>Ajou University</td>\n",
       "      <td>45.7</td>\n",
       "      <td>2016</td>\n",
       "      <td>45.7</td>\n",
       "      <td>2016</td>\n",
       "    </tr>\n",
       "    <tr>\n",
       "      <th>8</th>\n",
       "      <td>Alexandru Ioan Cuza University</td>\n",
       "      <td>28.2</td>\n",
       "      <td>2016</td>\n",
       "      <td>28.2</td>\n",
       "      <td>2016</td>\n",
       "    </tr>\n",
       "    <tr>\n",
       "      <th>9</th>\n",
       "      <td>Aligarh Muslim University</td>\n",
       "      <td>29.6</td>\n",
       "      <td>2016</td>\n",
       "      <td>29.6</td>\n",
       "      <td>2016</td>\n",
       "    </tr>\n",
       "    <tr>\n",
       "      <th>...</th>\n",
       "      <td>...</td>\n",
       "      <td>...</td>\n",
       "      <td>...</td>\n",
       "      <td>...</td>\n",
       "      <td>...</td>\n",
       "    </tr>\n",
       "    <tr>\n",
       "      <th>179</th>\n",
       "      <td>Khon Kaen University</td>\n",
       "      <td>35.7</td>\n",
       "      <td>2016</td>\n",
       "      <td>35.7</td>\n",
       "      <td>2016</td>\n",
       "    </tr>\n",
       "    <tr>\n",
       "      <th>181</th>\n",
       "      <td>King Fahd University of Petroleum and Minerals</td>\n",
       "      <td>81.2</td>\n",
       "      <td>2016</td>\n",
       "      <td>81.2</td>\n",
       "      <td>2016</td>\n",
       "    </tr>\n",
       "    <tr>\n",
       "      <th>184</th>\n",
       "      <td>Kingston University</td>\n",
       "      <td>28.5</td>\n",
       "      <td>2016</td>\n",
       "      <td>28.5</td>\n",
       "      <td>2016</td>\n",
       "    </tr>\n",
       "    <tr>\n",
       "      <th>186</th>\n",
       "      <td>Kinki University</td>\n",
       "      <td>33.2</td>\n",
       "      <td>2016</td>\n",
       "      <td>33.2</td>\n",
       "      <td>2016</td>\n",
       "    </tr>\n",
       "    <tr>\n",
       "      <th>188</th>\n",
       "      <td>Konkuk University</td>\n",
       "      <td>36.0</td>\n",
       "      <td>2016</td>\n",
       "      <td>36.0</td>\n",
       "      <td>2016</td>\n",
       "    </tr>\n",
       "  </tbody>\n",
       "</table>\n",
       "<p>100 rows × 5 columns</p>\n",
       "</div>"
      ],
      "text/plain": [
       "                                    university_name  \\\n",
       "4                        Adam Mickiewicz University   \n",
       "5                          Aix-Marseille University   \n",
       "6                                   Ajou University   \n",
       "8                    Alexandru Ioan Cuza University   \n",
       "9                         Aligarh Muslim University   \n",
       "..                                              ...   \n",
       "179                            Khon Kaen University   \n",
       "181  King Fahd University of Petroleum and Minerals   \n",
       "184                             Kingston University   \n",
       "186                                Kinki University   \n",
       "188                               Konkuk University   \n",
       "\n",
       "     income_level_least_recent  year_least_recent  income_level_most_recent  \\\n",
       "4                         28.7               2016                      28.7   \n",
       "5                         33.1               2016                      33.1   \n",
       "6                         45.7               2016                      45.7   \n",
       "8                         28.2               2016                      28.2   \n",
       "9                         29.6               2016                      29.6   \n",
       "..                         ...                ...                       ...   \n",
       "179                       35.7               2016                      35.7   \n",
       "181                       81.2               2016                      81.2   \n",
       "184                       28.5               2016                      28.5   \n",
       "186                       33.2               2016                      33.2   \n",
       "188                       36.0               2016                      36.0   \n",
       "\n",
       "     year_most_recent  \n",
       "4                2016  \n",
       "5                2016  \n",
       "6                2016  \n",
       "8                2016  \n",
       "9                2016  \n",
       "..                ...  \n",
       "179              2016  \n",
       "181              2016  \n",
       "184              2016  \n",
       "186              2016  \n",
       "188              2016  \n",
       "\n",
       "[100 rows x 5 columns]"
      ]
     },
     "execution_count": 21,
     "metadata": {},
     "output_type": "execute_result"
    }
   ],
   "source": [
    "union_most_and_least_data[union_most_and_least_data['year_least_recent']==union_most_and_least_data['year_most_recent']].head(100)"
   ]
  },
  {
   "cell_type": "markdown",
   "metadata": {},
   "source": [
    "elimino queste colone"
   ]
  },
  {
   "cell_type": "code",
   "execution_count": 22,
   "metadata": {},
   "outputs": [],
   "source": [
    "union_most_and_least_data.drop(union_most_and_least_data[union_most_and_least_data['year_least_recent']==union_most_and_least_data['year_most_recent']].index,inplace=True)"
   ]
  },
  {
   "cell_type": "markdown",
   "metadata": {},
   "source": [
    "calcolo la diferenza"
   ]
  },
  {
   "cell_type": "code",
   "execution_count": 23,
   "metadata": {},
   "outputs": [],
   "source": [
    "union_most_and_least_data[\"diference_income\"] = union_most_and_least_data.income_level_most_recent - union_most_and_least_data.income_level_least_recent"
   ]
  },
  {
   "cell_type": "markdown",
   "metadata": {},
   "source": [
    "creo una colona \"improvement\" che mi indica UP o Down in base se la income è positiva o negativa"
   ]
  },
  {
   "cell_type": "code",
   "execution_count": 24,
   "metadata": {},
   "outputs": [],
   "source": [
    "union_most_and_least_data[\"improvement\"] = np.where(union_most_and_least_data[\"diference_income\"] >= 0, \"UP\", \"Down\")"
   ]
  },
  {
   "cell_type": "code",
   "execution_count": 25,
   "metadata": {},
   "outputs": [
    {
     "data": {
      "text/html": [
       "<div>\n",
       "<style scoped>\n",
       "    .dataframe tbody tr th:only-of-type {\n",
       "        vertical-align: middle;\n",
       "    }\n",
       "\n",
       "    .dataframe tbody tr th {\n",
       "        vertical-align: top;\n",
       "    }\n",
       "\n",
       "    .dataframe thead th {\n",
       "        text-align: right;\n",
       "    }\n",
       "</style>\n",
       "<table border=\"1\" class=\"dataframe\">\n",
       "  <thead>\n",
       "    <tr style=\"text-align: right;\">\n",
       "      <th></th>\n",
       "      <th>university_name</th>\n",
       "      <th>income_level_least_recent</th>\n",
       "      <th>year_least_recent</th>\n",
       "      <th>income_level_most_recent</th>\n",
       "      <th>year_most_recent</th>\n",
       "      <th>diference_income</th>\n",
       "      <th>improvement</th>\n",
       "    </tr>\n",
       "  </thead>\n",
       "  <tbody>\n",
       "    <tr>\n",
       "      <th>0</th>\n",
       "      <td>Aalborg University</td>\n",
       "      <td>36.4</td>\n",
       "      <td>2012</td>\n",
       "      <td>43.7</td>\n",
       "      <td>2016</td>\n",
       "      <td>7.3</td>\n",
       "      <td>UP</td>\n",
       "    </tr>\n",
       "    <tr>\n",
       "      <th>1</th>\n",
       "      <td>Aalto University</td>\n",
       "      <td>61.9</td>\n",
       "      <td>2012</td>\n",
       "      <td>61.6</td>\n",
       "      <td>2016</td>\n",
       "      <td>-0.3</td>\n",
       "      <td>Down</td>\n",
       "    </tr>\n",
       "    <tr>\n",
       "      <th>2</th>\n",
       "      <td>Aarhus University</td>\n",
       "      <td>61.5</td>\n",
       "      <td>2011</td>\n",
       "      <td>68.3</td>\n",
       "      <td>2016</td>\n",
       "      <td>6.8</td>\n",
       "      <td>UP</td>\n",
       "    </tr>\n",
       "    <tr>\n",
       "      <th>3</th>\n",
       "      <td>Aberystwyth University</td>\n",
       "      <td>35.5</td>\n",
       "      <td>2012</td>\n",
       "      <td>31.3</td>\n",
       "      <td>2016</td>\n",
       "      <td>-4.2</td>\n",
       "      <td>Down</td>\n",
       "    </tr>\n",
       "    <tr>\n",
       "      <th>7</th>\n",
       "      <td>Alexandria University</td>\n",
       "      <td>36.0</td>\n",
       "      <td>2011</td>\n",
       "      <td>29.7</td>\n",
       "      <td>2016</td>\n",
       "      <td>-6.3</td>\n",
       "      <td>Down</td>\n",
       "    </tr>\n",
       "  </tbody>\n",
       "</table>\n",
       "</div>"
      ],
      "text/plain": [
       "          university_name  income_level_least_recent  year_least_recent  \\\n",
       "0      Aalborg University                       36.4               2012   \n",
       "1        Aalto University                       61.9               2012   \n",
       "2       Aarhus University                       61.5               2011   \n",
       "3  Aberystwyth University                       35.5               2012   \n",
       "7   Alexandria University                       36.0               2011   \n",
       "\n",
       "   income_level_most_recent  year_most_recent  diference_income improvement  \n",
       "0                      43.7              2016               7.3          UP  \n",
       "1                      61.6              2016              -0.3        Down  \n",
       "2                      68.3              2016               6.8          UP  \n",
       "3                      31.3              2016              -4.2        Down  \n",
       "7                      29.7              2016              -6.3        Down  "
      ]
     },
     "execution_count": 25,
     "metadata": {},
     "output_type": "execute_result"
    }
   ],
   "source": [
    "union_most_and_least_data.head(5)"
   ]
  },
  {
   "cell_type": "markdown",
   "metadata": {},
   "source": [
    "## 3. Find the university with the largest increase computed in the previous point"
   ]
  },
  {
   "cell_type": "code",
   "execution_count": 26,
   "metadata": {},
   "outputs": [
    {
     "data": {
      "text/html": [
       "<div>\n",
       "<style scoped>\n",
       "    .dataframe tbody tr th:only-of-type {\n",
       "        vertical-align: middle;\n",
       "    }\n",
       "\n",
       "    .dataframe tbody tr th {\n",
       "        vertical-align: top;\n",
       "    }\n",
       "\n",
       "    .dataframe thead th {\n",
       "        text-align: right;\n",
       "    }\n",
       "</style>\n",
       "<table border=\"1\" class=\"dataframe\">\n",
       "  <thead>\n",
       "    <tr style=\"text-align: right;\">\n",
       "      <th></th>\n",
       "      <th>university_name</th>\n",
       "      <th>income_level_least_recent</th>\n",
       "      <th>year_least_recent</th>\n",
       "      <th>income_level_most_recent</th>\n",
       "      <th>year_most_recent</th>\n",
       "      <th>diference_income</th>\n",
       "      <th>improvement</th>\n",
       "    </tr>\n",
       "  </thead>\n",
       "  <tbody>\n",
       "    <tr>\n",
       "      <th>373</th>\n",
       "      <td>TU Dresden</td>\n",
       "      <td>31.9</td>\n",
       "      <td>2012</td>\n",
       "      <td>99.7</td>\n",
       "      <td>2016</td>\n",
       "      <td>67.8</td>\n",
       "      <td>UP</td>\n",
       "    </tr>\n",
       "  </tbody>\n",
       "</table>\n",
       "</div>"
      ],
      "text/plain": [
       "    university_name  income_level_least_recent  year_least_recent  \\\n",
       "373      TU Dresden                       31.9               2012   \n",
       "\n",
       "     income_level_most_recent  year_most_recent  diference_income improvement  \n",
       "373                      99.7              2016              67.8          UP  "
      ]
     },
     "execution_count": 26,
     "metadata": {},
     "output_type": "execute_result"
    }
   ],
   "source": [
    " union_most_and_least_data[union_most_and_least_data.diference_income ==union_most_and_least_data.diference_income.max()]"
   ]
  },
  {
   "cell_type": "markdown",
   "metadata": {},
   "source": [
    "## 4. For each ranking, consider only the most recent data point. For each university, compute the maximum difference between the rankings (e.g. for Aarhus University the value is 122-73=49). Notice that some rankings are expressed as a range"
   ]
  },
  {
   "cell_type": "markdown",
   "metadata": {},
   "source": [
    "#### preprocessing "
   ]
  },
  {
   "cell_type": "markdown",
   "metadata": {},
   "source": [
    "nota: dataset shanghai_df , times_df ha alcuni valori espressi in range"
   ]
  },
  {
   "cell_type": "code",
   "execution_count": 27,
   "metadata": {},
   "outputs": [
    {
     "data": {
      "text/plain": [
       "100    101-152\n",
       "101    101-152\n",
       "102    101-152\n",
       "Name: world_rank, dtype: object"
      ]
     },
     "execution_count": 27,
     "metadata": {},
     "output_type": "execute_result"
    }
   ],
   "source": [
    "shanghai_df[shanghai_df['world_rank'].str.contains('-')==True]['world_rank'].head(3)"
   ]
  },
  {
   "cell_type": "markdown",
   "metadata": {},
   "source": [
    "nota : time_df porta con se alcuni valri con segno '=' davanti, che significa valore uguale, percui se lo tolgo non perde significato"
   ]
  },
  {
   "cell_type": "code",
   "execution_count": 28,
   "metadata": {},
   "outputs": [
    {
     "data": {
      "text/plain": [
       "1841    =39\n",
       "1842    =39\n",
       "1846    =44\n",
       "Name: world_rank, dtype: object"
      ]
     },
     "execution_count": 28,
     "metadata": {},
     "output_type": "execute_result"
    }
   ],
   "source": [
    "times_df[times_df['world_rank'].str.contains('=')==True]['world_rank'].head(3)"
   ]
  },
  {
   "cell_type": "code",
   "execution_count": 29,
   "metadata": {},
   "outputs": [],
   "source": [
    "times_df['world_rank']=times_df['world_rank'].str.replace('=','')"
   ]
  },
  {
   "cell_type": "markdown",
   "metadata": {},
   "source": [
    "nota: world_df sembra ok , non ha valori in range e valori strani"
   ]
  },
  {
   "cell_type": "code",
   "execution_count": 30,
   "metadata": {},
   "outputs": [
    {
     "data": {
      "text/plain": [
       "dtype('int64')"
      ]
     },
     "execution_count": 30,
     "metadata": {},
     "output_type": "execute_result"
    }
   ],
   "source": [
    "world_df['world_rank'].dtype"
   ]
  },
  {
   "cell_type": "markdown",
   "metadata": {},
   "source": [
    " ### Dati più recenti per le tabelle 'shanghai_ranking', 'times_ranking' e 'world_ranking"
   ]
  },
  {
   "cell_type": "markdown",
   "metadata": {},
   "source": [
    "Shanghai"
   ]
  },
  {
   "cell_type": "code",
   "execution_count": 31,
   "metadata": {},
   "outputs": [],
   "source": [
    "shanghai_most_recent_data = shanghai_df.iloc[shanghai_df.groupby('university_name')['year'].idxmax()].copy()"
   ]
  },
  {
   "cell_type": "code",
   "execution_count": 32,
   "metadata": {},
   "outputs": [
    {
     "name": "stdout",
     "output_type": "stream",
     "text": [
      "<class 'pandas.core.frame.DataFrame'>\n",
      "Int64Index: 658 entries, 4696 to 4545\n",
      "Data columns (total 12 columns):\n",
      " #   Column           Non-Null Count  Dtype  \n",
      "---  ------           --------------  -----  \n",
      " 0   Unnamed: 0       658 non-null    int64  \n",
      " 1   world_rank       658 non-null    object \n",
      " 2   university_name  658 non-null    object \n",
      " 3   national_rank    658 non-null    object \n",
      " 4   total_score      112 non-null    float64\n",
      " 5   alumni           658 non-null    float64\n",
      " 6   award            658 non-null    float64\n",
      " 7   hici             658 non-null    float64\n",
      " 8   ns               655 non-null    float64\n",
      " 9   pub              658 non-null    float64\n",
      " 10  pcp              658 non-null    float64\n",
      " 11  year             658 non-null    int64  \n",
      "dtypes: float64(7), int64(2), object(3)\n",
      "memory usage: 66.8+ KB\n"
     ]
    }
   ],
   "source": [
    "shanghai_most_recent_data.info()"
   ]
  },
  {
   "cell_type": "markdown",
   "metadata": {},
   "source": [
    "Times"
   ]
  },
  {
   "cell_type": "code",
   "execution_count": 33,
   "metadata": {},
   "outputs": [],
   "source": [
    "times_most_recent_data = times_df.iloc[times_df.groupby('university_name')['year'].idxmax()].copy()"
   ]
  },
  {
   "cell_type": "code",
   "execution_count": 34,
   "metadata": {},
   "outputs": [
    {
     "name": "stdout",
     "output_type": "stream",
     "text": [
      "<class 'pandas.core.frame.DataFrame'>\n",
      "Int64Index: 818 entries, 2405 to 2134\n",
      "Data columns (total 15 columns):\n",
      " #   Column                  Non-Null Count  Dtype  \n",
      "---  ------                  --------------  -----  \n",
      " 0   Unnamed: 0              818 non-null    int64  \n",
      " 1   world_rank              818 non-null    object \n",
      " 2   university_name         818 non-null    object \n",
      " 3   country                 818 non-null    object \n",
      " 4   teaching                818 non-null    float64\n",
      " 5   international           818 non-null    object \n",
      " 6   research                818 non-null    float64\n",
      " 7   citations               818 non-null    float64\n",
      " 8   income                  818 non-null    object \n",
      " 9   total_score             818 non-null    object \n",
      " 10  num_students            796 non-null    object \n",
      " 11  student_staff_ratio     796 non-null    float64\n",
      " 12  international_students  793 non-null    object \n",
      " 13  female_male_ratio       742 non-null    object \n",
      " 14  year                    818 non-null    int64  \n",
      "dtypes: float64(4), int64(2), object(9)\n",
      "memory usage: 102.2+ KB\n"
     ]
    }
   ],
   "source": [
    "times_most_recent_data.info()"
   ]
  },
  {
   "cell_type": "markdown",
   "metadata": {},
   "source": [
    "World  "
   ]
  },
  {
   "cell_type": "code",
   "execution_count": 35,
   "metadata": {},
   "outputs": [],
   "source": [
    "world_most_recent_data = world_df.iloc[world_df.groupby('university_name')['year'].idxmax()].copy()"
   ]
  },
  {
   "cell_type": "code",
   "execution_count": 36,
   "metadata": {},
   "outputs": [
    {
     "name": "stdout",
     "output_type": "stream",
     "text": [
      "<class 'pandas.core.frame.DataFrame'>\n",
      "Int64Index: 1024 entries, 1981 to 1838\n",
      "Data columns (total 15 columns):\n",
      " #   Column                Non-Null Count  Dtype  \n",
      "---  ------                --------------  -----  \n",
      " 0   Unnamed: 0            1024 non-null   int64  \n",
      " 1   world_rank            1024 non-null   int64  \n",
      " 2   university_name       1024 non-null   object \n",
      " 3   country               1024 non-null   object \n",
      " 4   national_rank         1024 non-null   int64  \n",
      " 5   quality_of_education  1024 non-null   int64  \n",
      " 6   alumni_employment     1024 non-null   int64  \n",
      " 7   quality_of_faculty    1024 non-null   int64  \n",
      " 8   publications          1024 non-null   int64  \n",
      " 9   influence             1024 non-null   int64  \n",
      " 10  citations             1024 non-null   int64  \n",
      " 11  broad_impact          1023 non-null   float64\n",
      " 12  patents               1024 non-null   int64  \n",
      " 13  score                 1024 non-null   float64\n",
      " 14  year                  1024 non-null   int64  \n",
      "dtypes: float64(2), int64(11), object(2)\n",
      "memory usage: 128.0+ KB\n"
     ]
    }
   ],
   "source": [
    "world_most_recent_data.info()\n"
   ]
  },
  {
   "cell_type": "markdown",
   "metadata": {},
   "source": [
    "### Creo nuova colona con nomi di universita puliti (spazi,virgole,tutti minuscoli ect) cosi combaciano"
   ]
  },
  {
   "cell_type": "code",
   "execution_count": 37,
   "metadata": {},
   "outputs": [],
   "source": [
    "def cleanNames(name):\n",
    "    cleanname =name.lower().replace(\"'\", \"\").replace(\" \", \"\").replace(\",\", \"\").replace(\"-\", \"\")\n",
    "    return cleanname"
   ]
  },
  {
   "cell_type": "code",
   "execution_count": 38,
   "metadata": {},
   "outputs": [],
   "source": [
    "shanghai_most_recent_data['CleanUniNames'] = shanghai_most_recent_data.university_name.apply(cleanNames)"
   ]
  },
  {
   "cell_type": "code",
   "execution_count": 39,
   "metadata": {},
   "outputs": [],
   "source": [
    "times_most_recent_data['CleanUniNames'] = times_most_recent_data.university_name.apply(cleanNames)\n"
   ]
  },
  {
   "cell_type": "code",
   "execution_count": 40,
   "metadata": {},
   "outputs": [],
   "source": [
    "world_most_recent_data['CleanUniNames'] = world_most_recent_data.university_name.apply(cleanNames)"
   ]
  },
  {
   "cell_type": "markdown",
   "metadata": {},
   "source": [
    "### Prendo solo le colone che mi interessano"
   ]
  },
  {
   "cell_type": "code",
   "execution_count": 41,
   "metadata": {},
   "outputs": [],
   "source": [
    "shanghai_sh=shanghai_most_recent_data[['CleanUniNames','university_name','world_rank']].rename(columns={\"world_rank\" : \"world_rank_shanghai\"})"
   ]
  },
  {
   "cell_type": "code",
   "execution_count": 42,
   "metadata": {},
   "outputs": [
    {
     "name": "stdout",
     "output_type": "stream",
     "text": [
      "               CleanUniNames           university_name world_rank_shanghai\n",
      "4696       aalborguniversity        Aalborg University             301-400\n",
      "4796         aaltouniversity          Aalto University             401-500\n",
      "4468        aarhusuniversity         Aarhus University                  73\n",
      "4496  aixmarseilleuniversity  Aix Marseille University             101-150\n",
      "3115  aixmarseilleuniversity  Aix-Marseille University             102-150\n",
      "...                      ...                       ...                 ...\n",
      "3512     yamaguchiuniversity      Yamaguchi University             401-500\n",
      "4694       yeshivauniversity        Yeshiva University             201-300\n",
      "4695        yonseiuniversity         Yonsei University             201-300\n",
      "4395          yorkuniversity           York University             401-500\n",
      "4545      zhejianguniversity       Zhejiang University             101-150\n",
      "\n",
      "[658 rows x 3 columns]\n"
     ]
    }
   ],
   "source": [
    "print(shanghai_sh)"
   ]
  },
  {
   "cell_type": "code",
   "execution_count": 43,
   "metadata": {},
   "outputs": [],
   "source": [
    "times_sh=times_most_recent_data[['CleanUniNames','world_rank']].rename(columns={\"world_rank\" : \"world_rank_times\"})"
   ]
  },
  {
   "cell_type": "code",
   "execution_count": 44,
   "metadata": {},
   "outputs": [],
   "source": [
    "world_sh=world_most_recent_data[['CleanUniNames','world_rank']].rename(columns={\"world_rank\" : \"world_rank_world\"})"
   ]
  },
  {
   "cell_type": "markdown",
   "metadata": {},
   "source": [
    "### Inner join, prendo solo i nomi in comune"
   ]
  },
  {
   "cell_type": "code",
   "execution_count": 45,
   "metadata": {},
   "outputs": [],
   "source": [
    "JoinTableFirst = shanghai_sh.join(times_sh.set_index('CleanUniNames'), on='CleanUniNames', how='inner')"
   ]
  },
  {
   "cell_type": "code",
   "execution_count": 46,
   "metadata": {},
   "outputs": [],
   "source": [
    "JoinTable = JoinTableFirst.join(world_sh.set_index('CleanUniNames'), on='CleanUniNames', how='inner')"
   ]
  },
  {
   "cell_type": "code",
   "execution_count": 47,
   "metadata": {},
   "outputs": [
    {
     "data": {
      "text/html": [
       "<div>\n",
       "<style scoped>\n",
       "    .dataframe tbody tr th:only-of-type {\n",
       "        vertical-align: middle;\n",
       "    }\n",
       "\n",
       "    .dataframe tbody tr th {\n",
       "        vertical-align: top;\n",
       "    }\n",
       "\n",
       "    .dataframe thead th {\n",
       "        text-align: right;\n",
       "    }\n",
       "</style>\n",
       "<table border=\"1\" class=\"dataframe\">\n",
       "  <thead>\n",
       "    <tr style=\"text-align: right;\">\n",
       "      <th></th>\n",
       "      <th>CleanUniNames</th>\n",
       "      <th>university_name</th>\n",
       "      <th>world_rank_shanghai</th>\n",
       "      <th>world_rank_times</th>\n",
       "      <th>world_rank_world</th>\n",
       "    </tr>\n",
       "  </thead>\n",
       "  <tbody>\n",
       "    <tr>\n",
       "      <th>4696</th>\n",
       "      <td>aalborguniversity</td>\n",
       "      <td>Aalborg University</td>\n",
       "      <td>301-400</td>\n",
       "      <td>201-250</td>\n",
       "      <td>565</td>\n",
       "    </tr>\n",
       "    <tr>\n",
       "      <th>4796</th>\n",
       "      <td>aaltouniversity</td>\n",
       "      <td>Aalto University</td>\n",
       "      <td>401-500</td>\n",
       "      <td>251-300</td>\n",
       "      <td>421</td>\n",
       "    </tr>\n",
       "    <tr>\n",
       "      <th>4468</th>\n",
       "      <td>aarhusuniversity</td>\n",
       "      <td>Aarhus University</td>\n",
       "      <td>73</td>\n",
       "      <td>106</td>\n",
       "      <td>122</td>\n",
       "    </tr>\n",
       "    <tr>\n",
       "      <th>4496</th>\n",
       "      <td>aixmarseilleuniversity</td>\n",
       "      <td>Aix Marseille University</td>\n",
       "      <td>101-150</td>\n",
       "      <td>251-300</td>\n",
       "      <td>206</td>\n",
       "    </tr>\n",
       "    <tr>\n",
       "      <th>3115</th>\n",
       "      <td>aixmarseilleuniversity</td>\n",
       "      <td>Aix-Marseille University</td>\n",
       "      <td>102-150</td>\n",
       "      <td>251-300</td>\n",
       "      <td>206</td>\n",
       "    </tr>\n",
       "    <tr>\n",
       "      <th>...</th>\n",
       "      <td>...</td>\n",
       "      <td>...</td>\n",
       "      <td>...</td>\n",
       "      <td>...</td>\n",
       "      <td>...</td>\n",
       "    </tr>\n",
       "    <tr>\n",
       "      <th>4406</th>\n",
       "      <td>yaleuniversity</td>\n",
       "      <td>Yale University</td>\n",
       "      <td>11</td>\n",
       "      <td>12</td>\n",
       "      <td>11</td>\n",
       "    </tr>\n",
       "    <tr>\n",
       "      <th>4694</th>\n",
       "      <td>yeshivauniversity</td>\n",
       "      <td>Yeshiva University</td>\n",
       "      <td>201-300</td>\n",
       "      <td>164</td>\n",
       "      <td>171</td>\n",
       "    </tr>\n",
       "    <tr>\n",
       "      <th>4695</th>\n",
       "      <td>yonseiuniversity</td>\n",
       "      <td>Yonsei University</td>\n",
       "      <td>201-300</td>\n",
       "      <td>301-350</td>\n",
       "      <td>98</td>\n",
       "    </tr>\n",
       "    <tr>\n",
       "      <th>4395</th>\n",
       "      <td>yorkuniversity</td>\n",
       "      <td>York University</td>\n",
       "      <td>401-500</td>\n",
       "      <td>301-350</td>\n",
       "      <td>337</td>\n",
       "    </tr>\n",
       "    <tr>\n",
       "      <th>4545</th>\n",
       "      <td>zhejianguniversity</td>\n",
       "      <td>Zhejiang University</td>\n",
       "      <td>101-150</td>\n",
       "      <td>251-300</td>\n",
       "      <td>191</td>\n",
       "    </tr>\n",
       "  </tbody>\n",
       "</table>\n",
       "<p>373 rows × 5 columns</p>\n",
       "</div>"
      ],
      "text/plain": [
       "               CleanUniNames           university_name world_rank_shanghai  \\\n",
       "4696       aalborguniversity        Aalborg University             301-400   \n",
       "4796         aaltouniversity          Aalto University             401-500   \n",
       "4468        aarhusuniversity         Aarhus University                  73   \n",
       "4496  aixmarseilleuniversity  Aix Marseille University             101-150   \n",
       "3115  aixmarseilleuniversity  Aix-Marseille University             102-150   \n",
       "...                      ...                       ...                 ...   \n",
       "4406          yaleuniversity           Yale University                  11   \n",
       "4694       yeshivauniversity        Yeshiva University             201-300   \n",
       "4695        yonseiuniversity         Yonsei University             201-300   \n",
       "4395          yorkuniversity           York University             401-500   \n",
       "4545      zhejianguniversity       Zhejiang University             101-150   \n",
       "\n",
       "     world_rank_times  world_rank_world  \n",
       "4696          201-250               565  \n",
       "4796          251-300               421  \n",
       "4468              106               122  \n",
       "4496          251-300               206  \n",
       "3115          251-300               206  \n",
       "...               ...               ...  \n",
       "4406               12                11  \n",
       "4694              164               171  \n",
       "4695          301-350                98  \n",
       "4395          301-350               337  \n",
       "4545          251-300               191  \n",
       "\n",
       "[373 rows x 5 columns]"
      ]
     },
     "execution_count": 47,
     "metadata": {},
     "output_type": "execute_result"
    }
   ],
   "source": [
    "JoinTable"
   ]
  },
  {
   "cell_type": "markdown",
   "metadata": {},
   "source": [
    "### divido i range in due colone"
   ]
  },
  {
   "cell_type": "code",
   "execution_count": 48,
   "metadata": {},
   "outputs": [],
   "source": [
    "def splitRange(columnValue):\n",
    "      result=columnValue.split('-')\n",
    "      if len(result) >1 :\n",
    "                return [int(result[0]),int(result[1])]\n",
    "      else:\n",
    "                return [int(result[0]),int(result[0])]"
   ]
  },
  {
   "cell_type": "code",
   "execution_count": 49,
   "metadata": {},
   "outputs": [],
   "source": [
    "Mylist =[]\n",
    "def FindDiff(col1,col2,col3):\n",
    "    \n",
    "    Mylist.extend(splitRange(col1))\n",
    "    Mylist.extend(splitRange(col2))\n",
    "    Mylist.extend(splitRange(str(col3)))\n",
    "    Mylist.sort()\n",
    "    min1 = int(Mylist[0])\n",
    "    max1 =int(Mylist[-1])\n",
    "    Mylist.clear()\n",
    "    return max1-min1"
   ]
  },
  {
   "cell_type": "code",
   "execution_count": 50,
   "metadata": {},
   "outputs": [],
   "source": [
    "JoinTable[\"MaxDiff\"]=JoinTable.apply(lambda x: FindDiff(x.world_rank_shanghai, x.world_rank_times,x.world_rank_world), axis=1 )"
   ]
  },
  {
   "cell_type": "code",
   "execution_count": 51,
   "metadata": {},
   "outputs": [],
   "source": [
    "FinalTable = JoinTable[['university_name','world_rank_shanghai','world_rank_times', 'world_rank_world', 'MaxDiff']]"
   ]
  },
  {
   "cell_type": "code",
   "execution_count": 52,
   "metadata": {},
   "outputs": [
    {
     "data": {
      "text/html": [
       "<div>\n",
       "<style scoped>\n",
       "    .dataframe tbody tr th:only-of-type {\n",
       "        vertical-align: middle;\n",
       "    }\n",
       "\n",
       "    .dataframe tbody tr th {\n",
       "        vertical-align: top;\n",
       "    }\n",
       "\n",
       "    .dataframe thead th {\n",
       "        text-align: right;\n",
       "    }\n",
       "</style>\n",
       "<table border=\"1\" class=\"dataframe\">\n",
       "  <thead>\n",
       "    <tr style=\"text-align: right;\">\n",
       "      <th></th>\n",
       "      <th>university_name</th>\n",
       "      <th>world_rank_shanghai</th>\n",
       "      <th>world_rank_times</th>\n",
       "      <th>world_rank_world</th>\n",
       "      <th>MaxDiff</th>\n",
       "    </tr>\n",
       "  </thead>\n",
       "  <tbody>\n",
       "    <tr>\n",
       "      <th>4696</th>\n",
       "      <td>Aalborg University</td>\n",
       "      <td>301-400</td>\n",
       "      <td>201-250</td>\n",
       "      <td>565</td>\n",
       "      <td>364</td>\n",
       "    </tr>\n",
       "    <tr>\n",
       "      <th>4796</th>\n",
       "      <td>Aalto University</td>\n",
       "      <td>401-500</td>\n",
       "      <td>251-300</td>\n",
       "      <td>421</td>\n",
       "      <td>249</td>\n",
       "    </tr>\n",
       "    <tr>\n",
       "      <th>4468</th>\n",
       "      <td>Aarhus University</td>\n",
       "      <td>73</td>\n",
       "      <td>106</td>\n",
       "      <td>122</td>\n",
       "      <td>49</td>\n",
       "    </tr>\n",
       "    <tr>\n",
       "      <th>4496</th>\n",
       "      <td>Aix Marseille University</td>\n",
       "      <td>101-150</td>\n",
       "      <td>251-300</td>\n",
       "      <td>206</td>\n",
       "      <td>199</td>\n",
       "    </tr>\n",
       "    <tr>\n",
       "      <th>3115</th>\n",
       "      <td>Aix-Marseille University</td>\n",
       "      <td>102-150</td>\n",
       "      <td>251-300</td>\n",
       "      <td>206</td>\n",
       "      <td>198</td>\n",
       "    </tr>\n",
       "  </tbody>\n",
       "</table>\n",
       "</div>"
      ],
      "text/plain": [
       "               university_name world_rank_shanghai world_rank_times  \\\n",
       "4696        Aalborg University             301-400          201-250   \n",
       "4796          Aalto University             401-500          251-300   \n",
       "4468         Aarhus University                  73              106   \n",
       "4496  Aix Marseille University             101-150          251-300   \n",
       "3115  Aix-Marseille University             102-150          251-300   \n",
       "\n",
       "      world_rank_world  MaxDiff  \n",
       "4696               565      364  \n",
       "4796               421      249  \n",
       "4468               122       49  \n",
       "4496               206      199  \n",
       "3115               206      198  "
      ]
     },
     "execution_count": 52,
     "metadata": {},
     "output_type": "execute_result"
    }
   ],
   "source": [
    "FinalTable.head(5)"
   ]
  },
  {
   "cell_type": "markdown",
   "metadata": {},
   "source": [
    "\n",
    "## 5. Consider only the most recent data point of the times dataset. Compute the number of male and female students for each country."
   ]
  },
  {
   "cell_type": "code",
   "execution_count": 53,
   "metadata": {},
   "outputs": [
    {
     "data": {
      "text/plain": [
       "2405    35,569\n",
       "2003    17,422\n",
       "2056    16,099\n",
       "1908    23,895\n",
       "2105     9,252\n",
       "         ...  \n",
       "1856     2,400\n",
       "2013     2,218\n",
       "1904     2,429\n",
       "1833     9,666\n",
       "2134     8,788\n",
       "Name: num_students, Length: 818, dtype: object"
      ]
     },
     "execution_count": 53,
     "metadata": {},
     "output_type": "execute_result"
    }
   ],
   "source": [
    "times_most_recent_data.num_students"
   ]
  },
  {
   "cell_type": "code",
   "execution_count": 54,
   "metadata": {},
   "outputs": [
    {
     "data": {
      "text/plain": [
       "True"
      ]
     },
     "execution_count": 54,
     "metadata": {},
     "output_type": "execute_result"
    }
   ],
   "source": [
    "times_most_recent_data.num_students.hasnans"
   ]
  },
  {
   "cell_type": "markdown",
   "metadata": {},
   "source": [
    "#### Nota: vedo che la colona num_students usa la virgoa come seperatore di mille , percui gli tolgo"
   ]
  },
  {
   "cell_type": "code",
   "execution_count": 55,
   "metadata": {},
   "outputs": [],
   "source": [
    "times_most_recent_data['num_students']=times_most_recent_data.num_students.str.replace(',','').astype(float)"
   ]
  },
  {
   "cell_type": "markdown",
   "metadata": {},
   "source": [
    "#### Controllo la collona female_male_ratio"
   ]
  },
  {
   "cell_type": "code",
   "execution_count": 56,
   "metadata": {},
   "outputs": [
    {
     "data": {
      "text/plain": [
       "True"
      ]
     },
     "execution_count": 56,
     "metadata": {},
     "output_type": "execute_result"
    }
   ],
   "source": [
    "times_most_recent_data.female_male_ratio.hasnans"
   ]
  },
  {
   "cell_type": "code",
   "execution_count": 57,
   "metadata": {},
   "outputs": [
    {
     "data": {
      "text/plain": [
       "array(['-', '48 : 52', '32 : 68', '54 : 46', '48 : 52', '71 : 29',\n",
       "       '61 : 39', '33 : 67', '46 : 54', '63 : 37', '17 : 83', '60 : 40',\n",
       "       '51 : 49', '48 : 52', '34 : 66', nan, '78 : 22', '36 : 64',\n",
       "       '52 : 48', '50 : 50', '53 : 47', nan, '47 : 53', '51 : 49',\n",
       "       '58 : 42', '47 : 53', '52 : 48', '59 : 41', '56 : 44', '67 : 33',\n",
       "       '55 : 45', '59 : 41', '23 : 77', '46 : 54', nan, '69 : 31',\n",
       "       '49 : 51', '57 : 43', nan, '48 : 52', '55 : 45', '22 : 78',\n",
       "       '55 : 45', '54 : 46', '58 : 42', '53 : 47', '50 : 50', '55 : 45',\n",
       "       '27 : 73', nan, '46 : 54', '32 : 68', '47 : 53', '33 : 67',\n",
       "       '58 : 42', '70 : 30', '57 : 43', '47 : 53', '43 : 57', '39 : 61',\n",
       "       '48 : 52', nan, '66 : 34', '59 : 41', '30 : 70', '42 : 58',\n",
       "       '64 : 36', '67 : 33', '62 : 38', '19 : 81', '37 : 63', '57 : 43',\n",
       "       '53 : 47', nan, nan, '53 : 47', '45 : 55', nan, '41 : 59',\n",
       "       '59 : 41', '41 : 59', '45 : 55', nan, '55 : 45', '51 : 49',\n",
       "       '50 : 50', '46 : 54', '26 : 74', '52 : 48', nan, '54 : 46',\n",
       "       '62 : 38', '50 : 50', '48 : 52', '48 : 52', '47 : 53', '57 : 43',\n",
       "       '53 : 47', '-', '55 : 45', '33 : 67', '47 : 53', '57 : 43',\n",
       "       '60 : 40', '26 : 74', '48 : 52', '51 : 49', '41 : 59', '49 : 51',\n",
       "       '54 : 46', '31 : 69', '63 : 37', nan, '61 : 39', '39 : 61',\n",
       "       '19 : 81', '56 : 44', '48 : 52', '46 : 54', '100 : 0', nan,\n",
       "       '47 : 53', '53 : 47', '55 : 45', nan, '50 : 50', '54 : 46',\n",
       "       '48 : 52', nan, '70 : 30', '24 : 76', '36 : 64', '63 : 37',\n",
       "       '34 : 66', '56 : 44', '55 : 45', '58 : 42', '59 : 41', '50 : 50',\n",
       "       '39 : 61', '54 : 46', '56 : 44', '53 : 47', nan, '31 : 69',\n",
       "       '59 : 41', '57 : 43', '35 : 65', '60 : 40', '60 : 40', '22 : 78',\n",
       "       nan, '25 : 75', '56 : 44', nan, '29 : 71', nan, '55 : 45',\n",
       "       '55 : 45', '41 : 59', '36 : 64', '29 : 71', '61 : 39', '51 : 49',\n",
       "       nan, '65 : 35', '34 : 66', nan, '43 : 57', '45 : 55', nan,\n",
       "       '37 : 63', '19 : 81', '16 : 84', '18 : 82', '14 : 86', '13 : 87',\n",
       "       '15 : 85', '19 : 81', '17 : 83', '53 : 47', '36 : 64', '27 : 73',\n",
       "       '44 : 56', '24 : 76', '39 : 61', '34 : 66', '44 : 56', '30 : 70',\n",
       "       '67 : 33', '63 : 37', '46 : 54', '58 : 42', '48 : 52', '50 : 50',\n",
       "       '55 : 45', nan, '52 : 48', '62 : 38', '32 : 68', '30 : 70',\n",
       "       '54 : 46', '36 : 64', '50 : 50', '56 : 44', '26 : 74', '70 : 30',\n",
       "       '69 : 31', '55 : 45', '32 : 68', '58 : 42', '62 : 38', '57 : 43',\n",
       "       '-', '42 : 58', nan, '53 : 47', '61 : 39', nan, '33 : 67',\n",
       "       '47 : 53', '20 : 80', nan, '52 : 48', '37 : 63', nan, nan,\n",
       "       '42 : 58', '11 : 89', '28 : 72', '62 : 38', '63 : 37', '52 : 48',\n",
       "       '31 : 69', nan, '44 : 56', '41 : 59', '59 : 41', '41 : 59',\n",
       "       '58 : 42', '52 : 48', '52 : 48', '43 : 57', nan, '38 : 62',\n",
       "       '52 : 48', nan, '56 : 44', '55 : 45', '63 : 37', '50 : 50',\n",
       "       '57 : 43', '45 : 55', '62 : 38', '37 : 63', '62 : 38', '56 : 44',\n",
       "       '53 : 47', '48 : 52', nan, '50 : 50', '59 : 41', '53 : 47',\n",
       "       '51 : 49', nan, '44 : 56', '59 : 41', '28 : 72', '23 : 77',\n",
       "       '56 : 44', '46 : 54', '40 : 60', '51 : 49', nan, '59 : 41',\n",
       "       '36 : 64', '29 : 71', '46 : 54', '48 : 52', '51 : 49', '31 : 69',\n",
       "       '36 : 64', '57 : 43', '27 : 73', nan, '39 : 61', '31 : 69',\n",
       "       '29 : 71', '37 : 63', '25 : 75', '57 : 43', '30 : 70', '39 : 61',\n",
       "       '34 : 66', '36 : 64', '33 : 67', '62 : 38', '56 : 44', '55 : 45',\n",
       "       '43 : 57', '27 : 73', '49 : 51', '48 : 52', '61 : 39', '25 : 75',\n",
       "       '54 : 46', '49 : 51', '55 : 45', '50 : 50', '37 : 63', '44 : 56',\n",
       "       '50 : 50', '55 : 45', '25 : 75', '48 : 52', '46 : 54', '55 : 45',\n",
       "       '52 : 48', '60 : 40', '40 : 60', '49 : 51', '50 : 50', '38 : 62',\n",
       "       '49 : 51', nan, '65 : 35', '47 : 53', '36 : 64', '36 : 64',\n",
       "       '31 : 69', '42 : 58', '57 : 43', '70 : 30', '46 : 54', '59 : 41',\n",
       "       '53 : 47', '63 : 37', '63 : 37', '69 : 31', nan, nan, '46 : 54',\n",
       "       '40 : 60', '48 : 52', '52 : 48', '20 : 80', '12 : 88', '34 : 66',\n",
       "       '29 : 71', '36 : 64', '59 : 41', nan, '1 : 99', '50 : 50',\n",
       "       '49 : 51', '45 : 55', '54 : 46', '69 : 31', '45 : 55', '42 : 58',\n",
       "       '51 : 49', '74 : 26', '53 : 47', '52 : 48', '54 : 46', '58 : 42',\n",
       "       '54 : 46', '47 : 53', '31 : 69', '58 : 42', nan, '30 : 70',\n",
       "       '44 : 56', '46 : 54', '34 : 66', '55 : 45', '57 : 43', '77 : 23',\n",
       "       '48 : 52', '71 : 29', '51 : 49', '39 : 61', '58 : 42', '60 : 40',\n",
       "       '33 : 67', '57 : 43', '59 : 41', '25 : 75', '28 : 72', '35 : 65',\n",
       "       '43 : 57', '64 : 36', nan, '52 : 48', '37 : 63', '48 : 52',\n",
       "       '48 : 52', '27 : 73', '53 : 47', nan, '57 : 43', '48 : 52',\n",
       "       '55 : 45', '31 : 69', '43 : 57', '78 : 22', '53 : 47', '33 : 67',\n",
       "       '66 : 34', '56 : 44', nan, '61 : 39', '42 : 58', '48 : 52',\n",
       "       '51 : 49', '53 : 47', '62 : 38', '50 : 50', '65 : 35', '50 : 50',\n",
       "       '51 : 49', '39 : 61', '50 : 50', '49 : 51', '67 : 33', '44 : 56',\n",
       "       '55 : 45', '52 : 48', '42 : 58', '58 : 42', '44 : 56', '23 : 77',\n",
       "       '45 : 55', nan, '28 : 72', '27 : 73', '47 : 53', '32 : 68',\n",
       "       '33 : 67', '35 : 65', '62 : 38', nan, '51 : 49', '47 : 53',\n",
       "       '46 : 54', '61 : 39', '53 : 47', nan, '49 : 51', '25 : 75',\n",
       "       '27 : 73', '34 : 66', '13 : 87', '51 : 49', '35 : 65', '27 : 73',\n",
       "       '34 : 66', '20 : 80', '39 : 61', '60 : 40', '38 : 62', '34 : 66',\n",
       "       '59 : 41', '9 : 91', '57 : 43', '32 : 68', '54 : 46', '56 : 44',\n",
       "       '60 : 40', '47 : 53', '55 : 45', '60 : 40', '76 : 24', '62 : 38',\n",
       "       '63 : 37', '61 : 39', '65 : 35', '43 : 57', '55 : 45', nan,\n",
       "       '56 : 44', '47 : 53', '52 : 48', '54 : 46', '48 : 52', '53 : 47',\n",
       "       '55 : 45', '53 : 47', '53 : 47', '50 : 50', '56 : 44', '52 : 48',\n",
       "       '50 : 50', '54 : 46', '51 : 49', '62 : 38', '65 : 35', '54 : 46',\n",
       "       '46 : 54', '60 : 40', '60 : 40', '54 : 46', '54 : 46', '56 : 44',\n",
       "       '55 : 45', '58 : 42', '53 : 47', '52 : 48', '50 : 50', '48 : 52',\n",
       "       '58 : 42', '53 : 47', '54 : 46', '70 : 30', '54 : 46', '62 : 38',\n",
       "       nan, '53 : 47', '50 : 50', '54 : 46', '52 : 48', '52 : 48',\n",
       "       '51 : 49', '48 : 52', '52 : 48', '53 : 47', '46 : 54', '54 : 46',\n",
       "       '51 : 49', '53 : 47', '56 : 44', '61 : 39', '57 : 43', '53 : 47',\n",
       "       nan, '42 : 58', '47 : 53', '54 : 46', '55 : 45', '60 : 40',\n",
       "       '45 : 55', '51 : 49', '67 : 33', '63 : 37', '69 : 31', '57 : 43',\n",
       "       '56 : 44', '50 : 50', '34 : 66', '49 : 51', '60 : 40', '58 : 42',\n",
       "       '64 : 36', '58 : 42', '21 : 79', '49 : 51', '55 : 45', '54 : 46',\n",
       "       '56 : 44', '59 : 41', '54 : 46', '52 : 48', '58 : 42', '61 : 39',\n",
       "       '56 : 44', '57 : 43', '41 : 59', '57 : 43', nan, '56 : 44',\n",
       "       '65 : 35', '53 : 47', '55 : 45', '52 : 48', '60 : 40', '51 : 49',\n",
       "       '65 : 35', nan, nan, '66 : 34', '54 : 46', '56 : 44', '53 : 47',\n",
       "       '50 : 50', '54 : 46', '52 : 48', '45 : 55', '66 : 34', '47 : 53',\n",
       "       '53 : 47', '47 : 53', '51 : 49', '54 : 46', '58 : 42', '52 : 48',\n",
       "       '67 : 33', '62 : 38', '36 : 64', nan, '53 : 47', nan, '53 : 47',\n",
       "       '54 : 46', '58 : 42', '58 : 42', '68 : 32', nan, '58 : 42',\n",
       "       '54 : 46', '46 : 54', '54 : 46', '51 : 49', '52 : 48', '54 : 46',\n",
       "       '60 : 40', '50 : 50', '58 : 42', '52 : 48', '55 : 45', '55 : 45',\n",
       "       nan, '46 : 54', '46 : 54', '48 : 52', '49 : 51', nan, '55 : 45',\n",
       "       '50 : 50', '48 : 52', '60 : 40', '60 : 40', '52 : 48', '52 : 48',\n",
       "       '53 : 47', '54 : 46', '54 : 46', '57 : 43', '62 : 38', '53 : 47',\n",
       "       '40 : 60', '56 : 44', nan, '52 : 48', '67 : 33', '46 : 54',\n",
       "       '59 : 41', nan, '47 : 53', '56 : 44', '56 : 44', '58 : 42',\n",
       "       '66 : 34', '44 : 56', '54 : 46', nan, '52 : 48', nan, '57 : 43',\n",
       "       '60 : 40', '49 : 51', '54 : 46', '46 : 54', '56 : 44', '60 : 40',\n",
       "       '55 : 45', '60 : 40', '56 : 44', '46 : 54', '56 : 44', '51 : 49',\n",
       "       '52 : 48', '51 : 49', '54 : 46', '45 : 55', '57 : 43', nan,\n",
       "       '55 : 45', '61 : 39', '50 : 50', '49 : 51', '52 : 48', '59 : 41',\n",
       "       '61 : 39', '58 : 42', '64 : 36', '51 : 49', '63 : 37', '63 : 37',\n",
       "       '39 : 61', '57 : 43', '36 : 64', nan, '36 : 64', '55 : 45',\n",
       "       '50 : 50', '59 : 41', '65 : 35', '65 : 35', '59 : 41', '55 : 45',\n",
       "       '61 : 39', nan, '53 : 47', '52 : 48', '52 : 48', '63 : 37',\n",
       "       '55 : 45', '56 : 44', '32 : 68', '61 : 39', '58 : 42', '50 : 50',\n",
       "       '31 : 69', '55 : 45', '54 : 46', '57 : 43', '58 : 42', '48 : 52',\n",
       "       '66 : 34', '66 : 34', '57 : 43', '53 : 47', '45 : 55', nan,\n",
       "       '60 : 40', '51 : 49', '44 : 56', '54 : 46', '48 : 52', nan,\n",
       "       '50 : 50', nan, '51 : 49', '56 : 44', '38 : 62', '43 : 57',\n",
       "       '62 : 38', '61 : 39', '37 : 63', '58 : 42', nan, '61 : 39',\n",
       "       '45 : 55', '60 : 40', nan, '56 : 44', '67 : 33', '51 : 49',\n",
       "       '52 : 48', '57 : 43', '67 : 33', '48 : 52', '53 : 47', '45 : 55',\n",
       "       '52 : 48', '50 : 50', '54 : 46', '57 : 43', nan, '51 : 49',\n",
       "       '52 : 48', '50 : 50', nan, '57 : 43', nan, '55 : 45', '57 : 43',\n",
       "       '44 : 56', '53 : 47', '53 : 47', '56 : 44', '54 : 46', '54 : 46',\n",
       "       '54 : 46', '61 : 39', '57 : 43', '48 : 52', '59 : 41', '53 : 47',\n",
       "       '56 : 44', '52 : 48', '65 : 35', '55 : 45', '27 : 73', '65 : 35',\n",
       "       '42 : 58', '55 : 45', '49 : 51', '56 : 44', '51 : 49', '34 : 66',\n",
       "       '35 : 65', '50 : 50', nan, '57 : 43', '62 : 38', '56 : 44',\n",
       "       '54 : 46', nan, '31 : 69', '52 : 48', '29 : 71', '34 : 66',\n",
       "       '50 : 50', '53 : 47', '48 : 52', nan, '28 : 72', nan, '59 : 41',\n",
       "       '43 : 57', '36 : 64', '41 : 59', '46 : 54', '49 : 51', '18 : 82',\n",
       "       '27 : 73', '61 : 39'], dtype=object)"
      ]
     },
     "execution_count": 57,
     "metadata": {},
     "output_type": "execute_result"
    }
   ],
   "source": [
    "times_most_recent_data.female_male_ratio.values"
   ]
  },
  {
   "cell_type": "markdown",
   "metadata": {},
   "source": [
    "#### Vedo che ha valori  \"-\" e valori \"nan\" , percui gli devo ignorare"
   ]
  },
  {
   "cell_type": "code",
   "execution_count": 58,
   "metadata": {},
   "outputs": [
    {
     "data": {
      "text/plain": [
       "2405          -\n",
       "2003    48 : 52\n",
       "2056    32 : 68\n",
       "1908    54 : 46\n",
       "2105    48 : 52\n",
       "         ...   \n",
       "1856    46 : 54\n",
       "2013    49 : 51\n",
       "1904    18 : 82\n",
       "1833    27 : 73\n",
       "2134    61 : 39\n",
       "Name: female_male_ratio, Length: 818, dtype: object"
      ]
     },
     "execution_count": 58,
     "metadata": {},
     "output_type": "execute_result"
    }
   ],
   "source": [
    "times_most_recent_data.female_male_ratio"
   ]
  },
  {
   "cell_type": "code",
   "execution_count": 59,
   "metadata": {},
   "outputs": [],
   "source": [
    "times_most_recent_data['first_condition'] = times_most_recent_data['female_male_ratio'].str.contains('-')==True\n",
    "times_most_recent_data['second_condition'] = times_most_recent_data['female_male_ratio'].isnull()\n",
    "times_most_recent_data['third_condition'] = times_most_recent_data['num_students'].isnull()"
   ]
  },
  {
   "cell_type": "markdown",
   "metadata": {},
   "source": [
    "### Costruisco due colone uno per numeri di maschi e uno per numero di femmine"
   ]
  },
  {
   "cell_type": "code",
   "execution_count": 60,
   "metadata": {},
   "outputs": [],
   "source": [
    "def CalculateFemale(row):\n",
    "    if( row[\"first_condition\"] | row[\"second_condition\"] | row[\"third_condition\"]):\n",
    "        return None\n",
    "    \n",
    "    femaleratio = int(row[\"female_male_ratio\"].split(':')[0])\n",
    "    totalnrStudents = row[\"num_students\"]\n",
    "    return round((femaleratio/100) *totalnrStudents,0)\n",
    "    "
   ]
  },
  {
   "cell_type": "code",
   "execution_count": 61,
   "metadata": {},
   "outputs": [],
   "source": [
    "times_most_recent_data[\"nr_female\"]= times_most_recent_data.apply(CalculateFemale , axis=1)"
   ]
  },
  {
   "cell_type": "code",
   "execution_count": 62,
   "metadata": {},
   "outputs": [],
   "source": [
    "# Il numero di maschi è la differenza tra numero totale e numero di femmine\n",
    "times_most_recent_data[\"nr_male\"]=times_most_recent_data.num_students - times_most_recent_data.nr_female"
   ]
  },
  {
   "cell_type": "code",
   "execution_count": 63,
   "metadata": {},
   "outputs": [
    {
     "data": {
      "text/html": [
       "<div>\n",
       "<style scoped>\n",
       "    .dataframe tbody tr th:only-of-type {\n",
       "        vertical-align: middle;\n",
       "    }\n",
       "\n",
       "    .dataframe tbody tr th {\n",
       "        vertical-align: top;\n",
       "    }\n",
       "\n",
       "    .dataframe thead th {\n",
       "        text-align: right;\n",
       "    }\n",
       "</style>\n",
       "<table border=\"1\" class=\"dataframe\">\n",
       "  <thead>\n",
       "    <tr style=\"text-align: right;\">\n",
       "      <th></th>\n",
       "      <th>country</th>\n",
       "      <th>nr_female</th>\n",
       "      <th>nr_male</th>\n",
       "      <th>num_students</th>\n",
       "      <th>female_male_ratio</th>\n",
       "    </tr>\n",
       "  </thead>\n",
       "  <tbody>\n",
       "    <tr>\n",
       "      <th>2405</th>\n",
       "      <td>Poland</td>\n",
       "      <td>NaN</td>\n",
       "      <td>NaN</td>\n",
       "      <td>35569.0</td>\n",
       "      <td>-</td>\n",
       "    </tr>\n",
       "    <tr>\n",
       "      <th>2003</th>\n",
       "      <td>Denmark</td>\n",
       "      <td>8363.0</td>\n",
       "      <td>9059.0</td>\n",
       "      <td>17422.0</td>\n",
       "      <td>48 : 52</td>\n",
       "    </tr>\n",
       "    <tr>\n",
       "      <th>2056</th>\n",
       "      <td>Finland</td>\n",
       "      <td>5152.0</td>\n",
       "      <td>10947.0</td>\n",
       "      <td>16099.0</td>\n",
       "      <td>32 : 68</td>\n",
       "    </tr>\n",
       "    <tr>\n",
       "      <th>1908</th>\n",
       "      <td>Denmark</td>\n",
       "      <td>12903.0</td>\n",
       "      <td>10992.0</td>\n",
       "      <td>23895.0</td>\n",
       "      <td>54 : 46</td>\n",
       "    </tr>\n",
       "    <tr>\n",
       "      <th>2105</th>\n",
       "      <td>United Kingdom</td>\n",
       "      <td>4441.0</td>\n",
       "      <td>4811.0</td>\n",
       "      <td>9252.0</td>\n",
       "      <td>48 : 52</td>\n",
       "    </tr>\n",
       "    <tr>\n",
       "      <th>...</th>\n",
       "      <td>...</td>\n",
       "      <td>...</td>\n",
       "      <td>...</td>\n",
       "      <td>...</td>\n",
       "      <td>...</td>\n",
       "    </tr>\n",
       "    <tr>\n",
       "      <th>1856</th>\n",
       "      <td>France</td>\n",
       "      <td>1104.0</td>\n",
       "      <td>1296.0</td>\n",
       "      <td>2400.0</td>\n",
       "      <td>46 : 54</td>\n",
       "    </tr>\n",
       "    <tr>\n",
       "      <th>2013</th>\n",
       "      <td>France</td>\n",
       "      <td>1087.0</td>\n",
       "      <td>1131.0</td>\n",
       "      <td>2218.0</td>\n",
       "      <td>49 : 51</td>\n",
       "    </tr>\n",
       "    <tr>\n",
       "      <th>1904</th>\n",
       "      <td>France</td>\n",
       "      <td>437.0</td>\n",
       "      <td>1992.0</td>\n",
       "      <td>2429.0</td>\n",
       "      <td>18 : 82</td>\n",
       "    </tr>\n",
       "    <tr>\n",
       "      <th>1833</th>\n",
       "      <td>Switzerland</td>\n",
       "      <td>2610.0</td>\n",
       "      <td>7056.0</td>\n",
       "      <td>9666.0</td>\n",
       "      <td>27 : 73</td>\n",
       "    </tr>\n",
       "    <tr>\n",
       "      <th>2134</th>\n",
       "      <td>Sweden</td>\n",
       "      <td>5361.0</td>\n",
       "      <td>3427.0</td>\n",
       "      <td>8788.0</td>\n",
       "      <td>61 : 39</td>\n",
       "    </tr>\n",
       "  </tbody>\n",
       "</table>\n",
       "<p>818 rows × 5 columns</p>\n",
       "</div>"
      ],
      "text/plain": [
       "             country  nr_female  nr_male  num_students female_male_ratio\n",
       "2405          Poland        NaN      NaN       35569.0                 -\n",
       "2003         Denmark     8363.0   9059.0       17422.0           48 : 52\n",
       "2056         Finland     5152.0  10947.0       16099.0           32 : 68\n",
       "1908         Denmark    12903.0  10992.0       23895.0           54 : 46\n",
       "2105  United Kingdom     4441.0   4811.0        9252.0           48 : 52\n",
       "...              ...        ...      ...           ...               ...\n",
       "1856          France     1104.0   1296.0        2400.0           46 : 54\n",
       "2013          France     1087.0   1131.0        2218.0           49 : 51\n",
       "1904          France      437.0   1992.0        2429.0           18 : 82\n",
       "1833     Switzerland     2610.0   7056.0        9666.0           27 : 73\n",
       "2134          Sweden     5361.0   3427.0        8788.0           61 : 39\n",
       "\n",
       "[818 rows x 5 columns]"
      ]
     },
     "execution_count": 63,
     "metadata": {},
     "output_type": "execute_result"
    }
   ],
   "source": [
    "times_most_recent_data[[\"country\",\"nr_female\",\"nr_male\",\"num_students\",\"female_male_ratio\"]]"
   ]
  },
  {
   "cell_type": "code",
   "execution_count": 64,
   "metadata": {},
   "outputs": [],
   "source": [
    "lista =[\"nr_female\",\"nr_male\",\"num_students\"]"
   ]
  },
  {
   "cell_type": "code",
   "execution_count": 65,
   "metadata": {},
   "outputs": [],
   "source": [
    "# raggruppo per country e faccio la somma\n",
    "\n",
    "female_male_df = times_most_recent_data.groupby('country', as_index=False)[lista].sum()"
   ]
  },
  {
   "cell_type": "code",
   "execution_count": 66,
   "metadata": {},
   "outputs": [
    {
     "data": {
      "text/html": [
       "<div>\n",
       "<style scoped>\n",
       "    .dataframe tbody tr th:only-of-type {\n",
       "        vertical-align: middle;\n",
       "    }\n",
       "\n",
       "    .dataframe tbody tr th {\n",
       "        vertical-align: top;\n",
       "    }\n",
       "\n",
       "    .dataframe thead th {\n",
       "        text-align: right;\n",
       "    }\n",
       "</style>\n",
       "<table border=\"1\" class=\"dataframe\">\n",
       "  <thead>\n",
       "    <tr style=\"text-align: right;\">\n",
       "      <th></th>\n",
       "      <th>country</th>\n",
       "      <th>nr_female</th>\n",
       "      <th>nr_male</th>\n",
       "      <th>num_students</th>\n",
       "    </tr>\n",
       "  </thead>\n",
       "  <tbody>\n",
       "    <tr>\n",
       "      <th>56</th>\n",
       "      <td>Slovenia</td>\n",
       "      <td>29293.0</td>\n",
       "      <td>19528.0</td>\n",
       "      <td>63352.0</td>\n",
       "    </tr>\n",
       "    <tr>\n",
       "      <th>57</th>\n",
       "      <td>South Africa</td>\n",
       "      <td>202378.0</td>\n",
       "      <td>127820.0</td>\n",
       "      <td>330198.0</td>\n",
       "    </tr>\n",
       "    <tr>\n",
       "      <th>58</th>\n",
       "      <td>South Korea</td>\n",
       "      <td>132803.0</td>\n",
       "      <td>160880.0</td>\n",
       "      <td>442372.0</td>\n",
       "    </tr>\n",
       "    <tr>\n",
       "      <th>59</th>\n",
       "      <td>Spain</td>\n",
       "      <td>447480.0</td>\n",
       "      <td>382851.0</td>\n",
       "      <td>830331.0</td>\n",
       "    </tr>\n",
       "    <tr>\n",
       "      <th>60</th>\n",
       "      <td>Sweden</td>\n",
       "      <td>72958.0</td>\n",
       "      <td>59664.0</td>\n",
       "      <td>187293.0</td>\n",
       "    </tr>\n",
       "    <tr>\n",
       "      <th>61</th>\n",
       "      <td>Switzerland</td>\n",
       "      <td>58477.0</td>\n",
       "      <td>60499.0</td>\n",
       "      <td>130940.0</td>\n",
       "    </tr>\n",
       "    <tr>\n",
       "      <th>62</th>\n",
       "      <td>Taiwan</td>\n",
       "      <td>126448.0</td>\n",
       "      <td>170503.0</td>\n",
       "      <td>308940.0</td>\n",
       "    </tr>\n",
       "    <tr>\n",
       "      <th>63</th>\n",
       "      <td>Thailand</td>\n",
       "      <td>111675.0</td>\n",
       "      <td>98447.0</td>\n",
       "      <td>210122.0</td>\n",
       "    </tr>\n",
       "    <tr>\n",
       "      <th>64</th>\n",
       "      <td>Turkey</td>\n",
       "      <td>410518.0</td>\n",
       "      <td>228824.0</td>\n",
       "      <td>639342.0</td>\n",
       "    </tr>\n",
       "    <tr>\n",
       "      <th>65</th>\n",
       "      <td>Uganda</td>\n",
       "      <td>18670.0</td>\n",
       "      <td>18670.0</td>\n",
       "      <td>37340.0</td>\n",
       "    </tr>\n",
       "    <tr>\n",
       "      <th>66</th>\n",
       "      <td>Ukraine</td>\n",
       "      <td>17846.0</td>\n",
       "      <td>19250.0</td>\n",
       "      <td>37096.0</td>\n",
       "    </tr>\n",
       "    <tr>\n",
       "      <th>67</th>\n",
       "      <td>Unisted States of America</td>\n",
       "      <td>0.0</td>\n",
       "      <td>0.0</td>\n",
       "      <td>0.0</td>\n",
       "    </tr>\n",
       "    <tr>\n",
       "      <th>68</th>\n",
       "      <td>United Arab Emirates</td>\n",
       "      <td>9516.0</td>\n",
       "      <td>4931.0</td>\n",
       "      <td>14447.0</td>\n",
       "    </tr>\n",
       "    <tr>\n",
       "      <th>69</th>\n",
       "      <td>United Kingdom</td>\n",
       "      <td>711815.0</td>\n",
       "      <td>613027.0</td>\n",
       "      <td>1324842.0</td>\n",
       "    </tr>\n",
       "    <tr>\n",
       "      <th>70</th>\n",
       "      <td>United States of America</td>\n",
       "      <td>1601453.0</td>\n",
       "      <td>1556322.0</td>\n",
       "      <td>3280303.0</td>\n",
       "    </tr>\n",
       "    <tr>\n",
       "      <th>71</th>\n",
       "      <td>Unted Kingdom</td>\n",
       "      <td>0.0</td>\n",
       "      <td>0.0</td>\n",
       "      <td>0.0</td>\n",
       "    </tr>\n",
       "  </tbody>\n",
       "</table>\n",
       "</div>"
      ],
      "text/plain": [
       "                      country  nr_female    nr_male  num_students\n",
       "56                   Slovenia    29293.0    19528.0       63352.0\n",
       "57               South Africa   202378.0   127820.0      330198.0\n",
       "58                South Korea   132803.0   160880.0      442372.0\n",
       "59                      Spain   447480.0   382851.0      830331.0\n",
       "60                     Sweden    72958.0    59664.0      187293.0\n",
       "61                Switzerland    58477.0    60499.0      130940.0\n",
       "62                     Taiwan   126448.0   170503.0      308940.0\n",
       "63                   Thailand   111675.0    98447.0      210122.0\n",
       "64                     Turkey   410518.0   228824.0      639342.0\n",
       "65                     Uganda    18670.0    18670.0       37340.0\n",
       "66                    Ukraine    17846.0    19250.0       37096.0\n",
       "67  Unisted States of America        0.0        0.0           0.0\n",
       "68       United Arab Emirates     9516.0     4931.0       14447.0\n",
       "69             United Kingdom   711815.0   613027.0     1324842.0\n",
       "70   United States of America  1601453.0  1556322.0     3280303.0\n",
       "71              Unted Kingdom        0.0        0.0           0.0"
      ]
     },
     "execution_count": 66,
     "metadata": {},
     "output_type": "execute_result"
    }
   ],
   "source": [
    "female_male_df.tail(16)"
   ]
  },
  {
   "cell_type": "markdown",
   "metadata": {},
   "source": [
    "### Note : Vedo che 2 nomi di universita sono scritti male percui gli elimino"
   ]
  },
  {
   "cell_type": "code",
   "execution_count": 67,
   "metadata": {},
   "outputs": [],
   "source": [
    "female_male_df.drop([67,71], inplace=True)"
   ]
  },
  {
   "cell_type": "markdown",
   "metadata": {},
   "source": [
    "## 6. Find the universities where the ratio between female and male is below the average ratio (computed over all universities)"
   ]
  },
  {
   "cell_type": "code",
   "execution_count": 68,
   "metadata": {},
   "outputs": [],
   "source": [
    "def Calcolate_ratio(row):\n",
    "    if math.isnan(row[\"nr_male\"]) or math.isnan(row[\"nr_female\"]) or row[\"nr_male\"] == 0:\n",
    "        return None\n",
    "    else:\n",
    "        return round((row[\"nr_female\"]/row[\"nr_male\"])*100)"
   ]
  },
  {
   "cell_type": "code",
   "execution_count": 69,
   "metadata": {},
   "outputs": [],
   "source": [
    "times_most_recent_data[\"Ratio\"] = times_most_recent_data.apply(Calcolate_ratio,axis=1)"
   ]
  },
  {
   "cell_type": "code",
   "execution_count": 70,
   "metadata": {},
   "outputs": [
    {
     "data": {
      "text/plain": [
       "2405      NaN\n",
       "2003     92.0\n",
       "2056     47.0\n",
       "1908    117.0\n",
       "2105     92.0\n",
       "        ...  \n",
       "1856     85.0\n",
       "2013     96.0\n",
       "1904     22.0\n",
       "1833     37.0\n",
       "2134    156.0\n",
       "Name: Ratio, Length: 818, dtype: float64"
      ]
     },
     "execution_count": 70,
     "metadata": {},
     "output_type": "execute_result"
    }
   ],
   "source": [
    "times_most_recent_data.Ratio"
   ]
  },
  {
   "cell_type": "code",
   "execution_count": 71,
   "metadata": {},
   "outputs": [],
   "source": [
    "avarage_ratio = round(times_most_recent_data.Ratio.mean(),2)"
   ]
  },
  {
   "cell_type": "code",
   "execution_count": 72,
   "metadata": {},
   "outputs": [
    {
     "data": {
      "text/plain": [
       "108.05"
      ]
     },
     "execution_count": 72,
     "metadata": {},
     "output_type": "execute_result"
    }
   ],
   "source": [
    "avarage_ratio"
   ]
  },
  {
   "cell_type": "code",
   "execution_count": 73,
   "metadata": {},
   "outputs": [],
   "source": [
    "female_male_below_ratio = times_most_recent_data[times_most_recent_data.Ratio < avarage_ratio]"
   ]
  },
  {
   "cell_type": "code",
   "execution_count": 74,
   "metadata": {},
   "outputs": [
    {
     "data": {
      "text/html": [
       "<div>\n",
       "<style scoped>\n",
       "    .dataframe tbody tr th:only-of-type {\n",
       "        vertical-align: middle;\n",
       "    }\n",
       "\n",
       "    .dataframe tbody tr th {\n",
       "        vertical-align: top;\n",
       "    }\n",
       "\n",
       "    .dataframe thead th {\n",
       "        text-align: right;\n",
       "    }\n",
       "</style>\n",
       "<table border=\"1\" class=\"dataframe\">\n",
       "  <thead>\n",
       "    <tr style=\"text-align: right;\">\n",
       "      <th></th>\n",
       "      <th>university_name</th>\n",
       "      <th>Ratio</th>\n",
       "    </tr>\n",
       "  </thead>\n",
       "  <tbody>\n",
       "    <tr>\n",
       "      <th>2003</th>\n",
       "      <td>Aalborg University</td>\n",
       "      <td>92.0</td>\n",
       "    </tr>\n",
       "    <tr>\n",
       "      <th>2056</th>\n",
       "      <td>Aalto University</td>\n",
       "      <td>47.0</td>\n",
       "    </tr>\n",
       "    <tr>\n",
       "      <th>2105</th>\n",
       "      <td>Aberystwyth University</td>\n",
       "      <td>92.0</td>\n",
       "    </tr>\n",
       "    <tr>\n",
       "      <th>2406</th>\n",
       "      <td>Ajou University</td>\n",
       "      <td>49.0</td>\n",
       "    </tr>\n",
       "    <tr>\n",
       "      <th>2408</th>\n",
       "      <td>Alexandria University</td>\n",
       "      <td>85.0</td>\n",
       "    </tr>\n",
       "    <tr>\n",
       "      <th>...</th>\n",
       "      <td>...</td>\n",
       "      <td>...</td>\n",
       "    </tr>\n",
       "    <tr>\n",
       "      <th>2104</th>\n",
       "      <td>Zhejiang University</td>\n",
       "      <td>69.0</td>\n",
       "    </tr>\n",
       "    <tr>\n",
       "      <th>1856</th>\n",
       "      <td>École Normale Supérieure</td>\n",
       "      <td>85.0</td>\n",
       "    </tr>\n",
       "    <tr>\n",
       "      <th>2013</th>\n",
       "      <td>École Normale Supérieure de Lyon</td>\n",
       "      <td>96.0</td>\n",
       "    </tr>\n",
       "    <tr>\n",
       "      <th>1904</th>\n",
       "      <td>École Polytechnique</td>\n",
       "      <td>22.0</td>\n",
       "    </tr>\n",
       "    <tr>\n",
       "      <th>1833</th>\n",
       "      <td>École Polytechnique Fédérale de Lausanne</td>\n",
       "      <td>37.0</td>\n",
       "    </tr>\n",
       "  </tbody>\n",
       "</table>\n",
       "<p>385 rows × 2 columns</p>\n",
       "</div>"
      ],
      "text/plain": [
       "                               university_name  Ratio\n",
       "2003                        Aalborg University   92.0\n",
       "2056                          Aalto University   47.0\n",
       "2105                    Aberystwyth University   92.0\n",
       "2406                           Ajou University   49.0\n",
       "2408                     Alexandria University   85.0\n",
       "...                                        ...    ...\n",
       "2104                       Zhejiang University   69.0\n",
       "1856                  École Normale Supérieure   85.0\n",
       "2013          École Normale Supérieure de Lyon   96.0\n",
       "1904                       École Polytechnique   22.0\n",
       "1833  École Polytechnique Fédérale de Lausanne   37.0\n",
       "\n",
       "[385 rows x 2 columns]"
      ]
     },
     "execution_count": 74,
     "metadata": {},
     "output_type": "execute_result"
    }
   ],
   "source": [
    "female_male_below_ratio[[\"university_name\",\"Ratio\"]]"
   ]
  },
  {
   "cell_type": "markdown",
   "metadata": {},
   "source": [
    "## 7. For each country, compute the fraction of the students in the country that are in one of the universities computed in the previous point (that is, the denominator of the ratio is the total number of students over all universities in the country)."
   ]
  },
  {
   "cell_type": "code",
   "execution_count": 75,
   "metadata": {},
   "outputs": [
    {
     "data": {
      "text/html": [
       "<div>\n",
       "<style scoped>\n",
       "    .dataframe tbody tr th:only-of-type {\n",
       "        vertical-align: middle;\n",
       "    }\n",
       "\n",
       "    .dataframe tbody tr th {\n",
       "        vertical-align: top;\n",
       "    }\n",
       "\n",
       "    .dataframe thead th {\n",
       "        text-align: right;\n",
       "    }\n",
       "</style>\n",
       "<table border=\"1\" class=\"dataframe\">\n",
       "  <thead>\n",
       "    <tr style=\"text-align: right;\">\n",
       "      <th></th>\n",
       "      <th>country</th>\n",
       "      <th>nr_female</th>\n",
       "      <th>nr_male</th>\n",
       "      <th>num_students</th>\n",
       "    </tr>\n",
       "  </thead>\n",
       "  <tbody>\n",
       "    <tr>\n",
       "      <th>0</th>\n",
       "      <td>Argentina</td>\n",
       "      <td>67191.0</td>\n",
       "      <td>41182.0</td>\n",
       "      <td>108373.0</td>\n",
       "    </tr>\n",
       "    <tr>\n",
       "      <th>1</th>\n",
       "      <td>Australia</td>\n",
       "      <td>391736.0</td>\n",
       "      <td>321640.0</td>\n",
       "      <td>743627.0</td>\n",
       "    </tr>\n",
       "    <tr>\n",
       "      <th>2</th>\n",
       "      <td>Austria</td>\n",
       "      <td>68364.0</td>\n",
       "      <td>66113.0</td>\n",
       "      <td>134477.0</td>\n",
       "    </tr>\n",
       "    <tr>\n",
       "      <th>3</th>\n",
       "      <td>Bangladesh</td>\n",
       "      <td>21323.0</td>\n",
       "      <td>41393.0</td>\n",
       "      <td>62716.0</td>\n",
       "    </tr>\n",
       "    <tr>\n",
       "      <th>4</th>\n",
       "      <td>Belarus</td>\n",
       "      <td>20219.0</td>\n",
       "      <td>9084.0</td>\n",
       "      <td>29303.0</td>\n",
       "    </tr>\n",
       "  </tbody>\n",
       "</table>\n",
       "</div>"
      ],
      "text/plain": [
       "      country  nr_female   nr_male  num_students\n",
       "0   Argentina    67191.0   41182.0      108373.0\n",
       "1   Australia   391736.0  321640.0      743627.0\n",
       "2     Austria    68364.0   66113.0      134477.0\n",
       "3  Bangladesh    21323.0   41393.0       62716.0\n",
       "4     Belarus    20219.0    9084.0       29303.0"
      ]
     },
     "execution_count": 75,
     "metadata": {},
     "output_type": "execute_result"
    }
   ],
   "source": [
    "# Number of total student for country i have it from \"female_male_df\"\n",
    "female_male_df.head()"
   ]
  },
  {
   "cell_type": "code",
   "execution_count": 76,
   "metadata": {},
   "outputs": [],
   "source": [
    "list_of_columns=[\"num_students\",\"country\"]\n",
    "students_below_ratio=female_male_below_ratio.groupby('country', as_index=False)[list_of_columns].sum()"
   ]
  },
  {
   "cell_type": "code",
   "execution_count": null,
   "metadata": {},
   "outputs": [],
   "source": []
  },
  {
   "cell_type": "code",
   "execution_count": 77,
   "metadata": {},
   "outputs": [],
   "source": [
    "ratio_below_and_total = pd.merge(female_male_df, students_below_ratio, how=\"inner\", on=[\"country\"])\n",
    "ratio_below_and_total[\"Ratio\"] = round((ratio_below_and_total.num_students_y/ratio_below_and_total.num_students_x)*100,2)"
   ]
  },
  {
   "cell_type": "code",
   "execution_count": 78,
   "metadata": {},
   "outputs": [],
   "source": [
    "#rename \"num_students_x\" to \"num_students_total\"  and \"num_students_y\" to \"num_students_below\"\n",
    "ratio_below_and_total = ratio_below_and_total.rename(columns={'num_students_x': 'num_students_total', 'num_students_y': 'num_students_below'})"
   ]
  },
  {
   "cell_type": "code",
   "execution_count": 79,
   "metadata": {},
   "outputs": [
    {
     "data": {
      "text/html": [
       "<div>\n",
       "<style scoped>\n",
       "    .dataframe tbody tr th:only-of-type {\n",
       "        vertical-align: middle;\n",
       "    }\n",
       "\n",
       "    .dataframe tbody tr th {\n",
       "        vertical-align: top;\n",
       "    }\n",
       "\n",
       "    .dataframe thead th {\n",
       "        text-align: right;\n",
       "    }\n",
       "</style>\n",
       "<table border=\"1\" class=\"dataframe\">\n",
       "  <thead>\n",
       "    <tr style=\"text-align: right;\">\n",
       "      <th></th>\n",
       "      <th>country</th>\n",
       "      <th>nr_female</th>\n",
       "      <th>nr_male</th>\n",
       "      <th>num_students_total</th>\n",
       "      <th>num_students_below</th>\n",
       "      <th>Ratio</th>\n",
       "    </tr>\n",
       "  </thead>\n",
       "  <tbody>\n",
       "    <tr>\n",
       "      <th>0</th>\n",
       "      <td>Australia</td>\n",
       "      <td>391736.0</td>\n",
       "      <td>321640.0</td>\n",
       "      <td>743627.0</td>\n",
       "      <td>160839.0</td>\n",
       "      <td>21.63</td>\n",
       "    </tr>\n",
       "    <tr>\n",
       "      <th>1</th>\n",
       "      <td>Austria</td>\n",
       "      <td>68364.0</td>\n",
       "      <td>66113.0</td>\n",
       "      <td>134477.0</td>\n",
       "      <td>61033.0</td>\n",
       "      <td>45.39</td>\n",
       "    </tr>\n",
       "    <tr>\n",
       "      <th>2</th>\n",
       "      <td>Bangladesh</td>\n",
       "      <td>21323.0</td>\n",
       "      <td>41393.0</td>\n",
       "      <td>62716.0</td>\n",
       "      <td>62716.0</td>\n",
       "      <td>100.00</td>\n",
       "    </tr>\n",
       "    <tr>\n",
       "      <th>3</th>\n",
       "      <td>Brazil</td>\n",
       "      <td>247271.0</td>\n",
       "      <td>246980.0</td>\n",
       "      <td>534688.0</td>\n",
       "      <td>375248.0</td>\n",
       "      <td>70.18</td>\n",
       "    </tr>\n",
       "    <tr>\n",
       "      <th>4</th>\n",
       "      <td>Canada</td>\n",
       "      <td>344440.0</td>\n",
       "      <td>279189.0</td>\n",
       "      <td>717054.0</td>\n",
       "      <td>86779.0</td>\n",
       "      <td>12.10</td>\n",
       "    </tr>\n",
       "    <tr>\n",
       "      <th>5</th>\n",
       "      <td>Chile</td>\n",
       "      <td>37962.0</td>\n",
       "      <td>52989.0</td>\n",
       "      <td>116026.0</td>\n",
       "      <td>90951.0</td>\n",
       "      <td>78.39</td>\n",
       "    </tr>\n",
       "    <tr>\n",
       "      <th>6</th>\n",
       "      <td>China</td>\n",
       "      <td>427842.0</td>\n",
       "      <td>587308.0</td>\n",
       "      <td>1285619.0</td>\n",
       "      <td>918214.0</td>\n",
       "      <td>71.42</td>\n",
       "    </tr>\n",
       "    <tr>\n",
       "      <th>7</th>\n",
       "      <td>Colombia</td>\n",
       "      <td>26376.0</td>\n",
       "      <td>28269.0</td>\n",
       "      <td>54645.0</td>\n",
       "      <td>54645.0</td>\n",
       "      <td>100.00</td>\n",
       "    </tr>\n",
       "    <tr>\n",
       "      <th>8</th>\n",
       "      <td>Czech Republic</td>\n",
       "      <td>97971.0</td>\n",
       "      <td>77900.0</td>\n",
       "      <td>203321.0</td>\n",
       "      <td>54324.0</td>\n",
       "      <td>26.72</td>\n",
       "    </tr>\n",
       "    <tr>\n",
       "      <th>9</th>\n",
       "      <td>Denmark</td>\n",
       "      <td>62748.0</td>\n",
       "      <td>56607.0</td>\n",
       "      <td>119355.0</td>\n",
       "      <td>67915.0</td>\n",
       "      <td>56.90</td>\n",
       "    </tr>\n",
       "  </tbody>\n",
       "</table>\n",
       "</div>"
      ],
      "text/plain": [
       "          country  nr_female   nr_male  num_students_total  \\\n",
       "0       Australia   391736.0  321640.0            743627.0   \n",
       "1         Austria    68364.0   66113.0            134477.0   \n",
       "2      Bangladesh    21323.0   41393.0             62716.0   \n",
       "3          Brazil   247271.0  246980.0            534688.0   \n",
       "4          Canada   344440.0  279189.0            717054.0   \n",
       "5           Chile    37962.0   52989.0            116026.0   \n",
       "6           China   427842.0  587308.0           1285619.0   \n",
       "7        Colombia    26376.0   28269.0             54645.0   \n",
       "8  Czech Republic    97971.0   77900.0            203321.0   \n",
       "9         Denmark    62748.0   56607.0            119355.0   \n",
       "\n",
       "   num_students_below   Ratio  \n",
       "0            160839.0   21.63  \n",
       "1             61033.0   45.39  \n",
       "2             62716.0  100.00  \n",
       "3            375248.0   70.18  \n",
       "4             86779.0   12.10  \n",
       "5             90951.0   78.39  \n",
       "6            918214.0   71.42  \n",
       "7             54645.0  100.00  \n",
       "8             54324.0   26.72  \n",
       "9             67915.0   56.90  "
      ]
     },
     "execution_count": 79,
     "metadata": {},
     "output_type": "execute_result"
    }
   ],
   "source": [
    "ratio_below_and_total.head(10)"
   ]
  },
  {
   "cell_type": "markdown",
   "metadata": {},
   "source": [
    "## 8. Read the file educational_attainment_supplementary_data.csv, discarding any row with missing country_name or series_name"
   ]
  },
  {
   "cell_type": "code",
   "execution_count": 80,
   "metadata": {},
   "outputs": [],
   "source": [
    "educational_attainment_supplementary =readDataSet(educational_attainment_supplementary_data)"
   ]
  },
  {
   "cell_type": "code",
   "execution_count": 81,
   "metadata": {},
   "outputs": [],
   "source": [
    "index_to_drop=educational_attainment_supplementary[(educational_attainment_supplementary.country_name.isnull() ==True) | (educational_attainment_supplementary.series_name.isnull() ==True) ].index.values"
   ]
  },
  {
   "cell_type": "code",
   "execution_count": 82,
   "metadata": {},
   "outputs": [],
   "source": [
    "educational_attainment_supplementary.drop(index_to_drop, inplace=True)"
   ]
  },
  {
   "cell_type": "markdown",
   "metadata": {},
   "source": [
    "\n",
    "## 9. From attainment build a dataframe with the same data, but with 4 columns: country_name, series_name, year, value"
   ]
  },
  {
   "cell_type": "code",
   "execution_count": 83,
   "metadata": {},
   "outputs": [],
   "source": [
    "value_vars= ['1985', '1986', '1987', '1990', '1991',\n",
    "       '1992', '1993', '1995', '1996', '1997', '1998', '1999', '2000', '2001',\n",
    "       '2002', '2003', '2004', '2005', '2006', '2007', '2008', '2009', '2010',\n",
    "       '2011', '2012', '2013', '2015']\n",
    "id_vars=['country_name', 'series_name']"
   ]
  },
  {
   "cell_type": "code",
   "execution_count": 84,
   "metadata": {},
   "outputs": [],
   "source": [
    "unpivot_attainment=pd.melt(educational_attainment_supplementary,id_vars=id_vars , value_vars=value_vars, var_name='year', value_name='value')"
   ]
  },
  {
   "cell_type": "code",
   "execution_count": 85,
   "metadata": {},
   "outputs": [
    {
     "data": {
      "text/html": [
       "<div>\n",
       "<style scoped>\n",
       "    .dataframe tbody tr th:only-of-type {\n",
       "        vertical-align: middle;\n",
       "    }\n",
       "\n",
       "    .dataframe tbody tr th {\n",
       "        vertical-align: top;\n",
       "    }\n",
       "\n",
       "    .dataframe thead th {\n",
       "        text-align: right;\n",
       "    }\n",
       "</style>\n",
       "<table border=\"1\" class=\"dataframe\">\n",
       "  <thead>\n",
       "    <tr style=\"text-align: right;\">\n",
       "      <th></th>\n",
       "      <th>country_name</th>\n",
       "      <th>series_name</th>\n",
       "      <th>year</th>\n",
       "      <th>value</th>\n",
       "    </tr>\n",
       "  </thead>\n",
       "  <tbody>\n",
       "    <tr>\n",
       "      <th>0</th>\n",
       "      <td>Afghanistan</td>\n",
       "      <td>Barro-Lee: Average years of primary schooling,...</td>\n",
       "      <td>1985</td>\n",
       "      <td>0.33</td>\n",
       "    </tr>\n",
       "    <tr>\n",
       "      <th>1</th>\n",
       "      <td>Afghanistan</td>\n",
       "      <td>Barro-Lee: Average years of primary schooling,...</td>\n",
       "      <td>1985</td>\n",
       "      <td>1.03</td>\n",
       "    </tr>\n",
       "    <tr>\n",
       "      <th>2</th>\n",
       "      <td>Afghanistan</td>\n",
       "      <td>Barro-Lee: Average years of primary schooling,...</td>\n",
       "      <td>1985</td>\n",
       "      <td>0.83</td>\n",
       "    </tr>\n",
       "    <tr>\n",
       "      <th>3</th>\n",
       "      <td>Afghanistan</td>\n",
       "      <td>Barro-Lee: Average years of primary schooling,...</td>\n",
       "      <td>1985</td>\n",
       "      <td>2.34</td>\n",
       "    </tr>\n",
       "    <tr>\n",
       "      <th>4</th>\n",
       "      <td>Afghanistan</td>\n",
       "      <td>Barro-Lee: Average years of primary schooling,...</td>\n",
       "      <td>1985</td>\n",
       "      <td>0.54</td>\n",
       "    </tr>\n",
       "  </tbody>\n",
       "</table>\n",
       "</div>"
      ],
      "text/plain": [
       "  country_name                                        series_name  year  value\n",
       "0  Afghanistan  Barro-Lee: Average years of primary schooling,...  1985   0.33\n",
       "1  Afghanistan  Barro-Lee: Average years of primary schooling,...  1985   1.03\n",
       "2  Afghanistan  Barro-Lee: Average years of primary schooling,...  1985   0.83\n",
       "3  Afghanistan  Barro-Lee: Average years of primary schooling,...  1985   2.34\n",
       "4  Afghanistan  Barro-Lee: Average years of primary schooling,...  1985   0.54"
      ]
     },
     "execution_count": 85,
     "metadata": {},
     "output_type": "execute_result"
    }
   ],
   "source": [
    "unpivot_attainment.head(5)"
   ]
  },
  {
   "cell_type": "markdown",
   "metadata": {},
   "source": [
    "## 10. For each university, find the number of rankings in which they appear (it suffices to appear in one year for each ranking)."
   ]
  },
  {
   "cell_type": "markdown",
   "metadata": {},
   "source": [
    "### nota : normalizo i nomi di universita utilizando la funzione cleanNames"
   ]
  },
  {
   "cell_type": "code",
   "execution_count": 86,
   "metadata": {},
   "outputs": [],
   "source": [
    "times_df[\"uni_name_normalazed\"] = times_df.university_name.apply(cleanNames)"
   ]
  },
  {
   "cell_type": "code",
   "execution_count": 87,
   "metadata": {},
   "outputs": [],
   "source": [
    "shanghai_df[\"uni_name_normalazed\"]= shanghai_df.university_name.apply(cleanNames)"
   ]
  },
  {
   "cell_type": "code",
   "execution_count": 88,
   "metadata": {},
   "outputs": [],
   "source": [
    "world_df[\"uni_name_normalazed\"] = world_df.university_name.apply(cleanNames)"
   ]
  },
  {
   "cell_type": "code",
   "execution_count": 89,
   "metadata": {},
   "outputs": [
    {
     "data": {
      "text/plain": [
       "0                        harvarduniversity\n",
       "1       massachusettsinstituteoftechnology\n",
       "2                       stanforduniversity\n",
       "3                    universityofcambridge\n",
       "4          californiainstituteoftechnology\n",
       "                       ...                \n",
       "2195                universityofthealgarve\n",
       "2196                  alexandriauniversity\n",
       "2197              federaluniversityofceará\n",
       "2198                   universityofacoruña\n",
       "2199         chinapharmaceuticaluniversity\n",
       "Name: uni_name_normalazed, Length: 2200, dtype: object"
      ]
     },
     "execution_count": 89,
     "metadata": {},
     "output_type": "execute_result"
    }
   ],
   "source": [
    "world_df.uni_name_normalazed"
   ]
  },
  {
   "cell_type": "code",
   "execution_count": 90,
   "metadata": {},
   "outputs": [],
   "source": [
    "### procedo a prendere i nomi di universta per ciascun dataframe"
   ]
  },
  {
   "cell_type": "code",
   "execution_count": 91,
   "metadata": {},
   "outputs": [
    {
     "data": {
      "text/html": [
       "<div>\n",
       "<style scoped>\n",
       "    .dataframe tbody tr th:only-of-type {\n",
       "        vertical-align: middle;\n",
       "    }\n",
       "\n",
       "    .dataframe tbody tr th {\n",
       "        vertical-align: top;\n",
       "    }\n",
       "\n",
       "    .dataframe thead th {\n",
       "        text-align: right;\n",
       "    }\n",
       "</style>\n",
       "<table border=\"1\" class=\"dataframe\">\n",
       "  <thead>\n",
       "    <tr style=\"text-align: right;\">\n",
       "      <th></th>\n",
       "      <th>Unnamed: 0</th>\n",
       "      <th>world_rank</th>\n",
       "      <th>university_name</th>\n",
       "      <th>country</th>\n",
       "      <th>teaching</th>\n",
       "      <th>international</th>\n",
       "      <th>research</th>\n",
       "      <th>citations</th>\n",
       "      <th>income</th>\n",
       "      <th>total_score</th>\n",
       "      <th>num_students</th>\n",
       "      <th>student_staff_ratio</th>\n",
       "      <th>international_students</th>\n",
       "      <th>female_male_ratio</th>\n",
       "      <th>year</th>\n",
       "      <th>uni_name_normalazed</th>\n",
       "    </tr>\n",
       "  </thead>\n",
       "  <tbody>\n",
       "    <tr>\n",
       "      <th>0</th>\n",
       "      <td>0</td>\n",
       "      <td>1</td>\n",
       "      <td>Harvard University</td>\n",
       "      <td>United States of America</td>\n",
       "      <td>99.7</td>\n",
       "      <td>72.4</td>\n",
       "      <td>98.7</td>\n",
       "      <td>98.8</td>\n",
       "      <td>34.5</td>\n",
       "      <td>96.1</td>\n",
       "      <td>20,152</td>\n",
       "      <td>8.9</td>\n",
       "      <td>25%</td>\n",
       "      <td>NaN</td>\n",
       "      <td>2011</td>\n",
       "      <td>harvarduniversity</td>\n",
       "    </tr>\n",
       "    <tr>\n",
       "      <th>1</th>\n",
       "      <td>1</td>\n",
       "      <td>2</td>\n",
       "      <td>California Institute of Technology</td>\n",
       "      <td>United States of America</td>\n",
       "      <td>97.7</td>\n",
       "      <td>54.6</td>\n",
       "      <td>98.0</td>\n",
       "      <td>99.9</td>\n",
       "      <td>83.7</td>\n",
       "      <td>96.0</td>\n",
       "      <td>2,243</td>\n",
       "      <td>6.9</td>\n",
       "      <td>27%</td>\n",
       "      <td>33 : 67</td>\n",
       "      <td>2011</td>\n",
       "      <td>californiainstituteoftechnology</td>\n",
       "    </tr>\n",
       "    <tr>\n",
       "      <th>2</th>\n",
       "      <td>2</td>\n",
       "      <td>3</td>\n",
       "      <td>Massachusetts Institute of Technology</td>\n",
       "      <td>United States of America</td>\n",
       "      <td>97.8</td>\n",
       "      <td>82.3</td>\n",
       "      <td>91.4</td>\n",
       "      <td>99.9</td>\n",
       "      <td>87.5</td>\n",
       "      <td>95.6</td>\n",
       "      <td>11,074</td>\n",
       "      <td>9.0</td>\n",
       "      <td>33%</td>\n",
       "      <td>37 : 63</td>\n",
       "      <td>2011</td>\n",
       "      <td>massachusettsinstituteoftechnology</td>\n",
       "    </tr>\n",
       "    <tr>\n",
       "      <th>3</th>\n",
       "      <td>3</td>\n",
       "      <td>4</td>\n",
       "      <td>Stanford University</td>\n",
       "      <td>United States of America</td>\n",
       "      <td>98.3</td>\n",
       "      <td>29.5</td>\n",
       "      <td>98.1</td>\n",
       "      <td>99.2</td>\n",
       "      <td>64.3</td>\n",
       "      <td>94.3</td>\n",
       "      <td>15,596</td>\n",
       "      <td>7.8</td>\n",
       "      <td>22%</td>\n",
       "      <td>42 : 58</td>\n",
       "      <td>2011</td>\n",
       "      <td>stanforduniversity</td>\n",
       "    </tr>\n",
       "    <tr>\n",
       "      <th>4</th>\n",
       "      <td>4</td>\n",
       "      <td>5</td>\n",
       "      <td>Princeton University</td>\n",
       "      <td>United States of America</td>\n",
       "      <td>90.9</td>\n",
       "      <td>70.3</td>\n",
       "      <td>95.4</td>\n",
       "      <td>99.9</td>\n",
       "      <td>-</td>\n",
       "      <td>94.2</td>\n",
       "      <td>7,929</td>\n",
       "      <td>8.4</td>\n",
       "      <td>27%</td>\n",
       "      <td>45 : 55</td>\n",
       "      <td>2011</td>\n",
       "      <td>princetonuniversity</td>\n",
       "    </tr>\n",
       "    <tr>\n",
       "      <th>...</th>\n",
       "      <td>...</td>\n",
       "      <td>...</td>\n",
       "      <td>...</td>\n",
       "      <td>...</td>\n",
       "      <td>...</td>\n",
       "      <td>...</td>\n",
       "      <td>...</td>\n",
       "      <td>...</td>\n",
       "      <td>...</td>\n",
       "      <td>...</td>\n",
       "      <td>...</td>\n",
       "      <td>...</td>\n",
       "      <td>...</td>\n",
       "      <td>...</td>\n",
       "      <td>...</td>\n",
       "      <td>...</td>\n",
       "    </tr>\n",
       "    <tr>\n",
       "      <th>2598</th>\n",
       "      <td>2598</td>\n",
       "      <td>601-800</td>\n",
       "      <td>Yeungnam University</td>\n",
       "      <td>South Korea</td>\n",
       "      <td>18.6</td>\n",
       "      <td>24.3</td>\n",
       "      <td>10.9</td>\n",
       "      <td>26.5</td>\n",
       "      <td>35.4</td>\n",
       "      <td>-</td>\n",
       "      <td>21,958</td>\n",
       "      <td>15.3</td>\n",
       "      <td>3%</td>\n",
       "      <td>48 : 52</td>\n",
       "      <td>2016</td>\n",
       "      <td>yeungnamuniversity</td>\n",
       "    </tr>\n",
       "    <tr>\n",
       "      <th>2599</th>\n",
       "      <td>2599</td>\n",
       "      <td>601-800</td>\n",
       "      <td>Yıldız Technical University</td>\n",
       "      <td>Turkey</td>\n",
       "      <td>14.5</td>\n",
       "      <td>14.9</td>\n",
       "      <td>7.6</td>\n",
       "      <td>19.3</td>\n",
       "      <td>44.0</td>\n",
       "      <td>-</td>\n",
       "      <td>31,268</td>\n",
       "      <td>28.7</td>\n",
       "      <td>2%</td>\n",
       "      <td>36 : 64</td>\n",
       "      <td>2016</td>\n",
       "      <td>yıldıztechnicaluniversity</td>\n",
       "    </tr>\n",
       "    <tr>\n",
       "      <th>2600</th>\n",
       "      <td>2600</td>\n",
       "      <td>601-800</td>\n",
       "      <td>Yokohama City University</td>\n",
       "      <td>Japan</td>\n",
       "      <td>24.0</td>\n",
       "      <td>16.1</td>\n",
       "      <td>10.2</td>\n",
       "      <td>36.4</td>\n",
       "      <td>37.9</td>\n",
       "      <td>-</td>\n",
       "      <td>4,122</td>\n",
       "      <td>3.7</td>\n",
       "      <td>3%</td>\n",
       "      <td>NaN</td>\n",
       "      <td>2016</td>\n",
       "      <td>yokohamacityuniversity</td>\n",
       "    </tr>\n",
       "    <tr>\n",
       "      <th>2601</th>\n",
       "      <td>2601</td>\n",
       "      <td>601-800</td>\n",
       "      <td>Yokohama National University</td>\n",
       "      <td>Japan</td>\n",
       "      <td>20.1</td>\n",
       "      <td>23.3</td>\n",
       "      <td>16.0</td>\n",
       "      <td>13.5</td>\n",
       "      <td>40.4</td>\n",
       "      <td>-</td>\n",
       "      <td>10,117</td>\n",
       "      <td>12.1</td>\n",
       "      <td>8%</td>\n",
       "      <td>28 : 72</td>\n",
       "      <td>2016</td>\n",
       "      <td>yokohamanationaluniversity</td>\n",
       "    </tr>\n",
       "    <tr>\n",
       "      <th>2602</th>\n",
       "      <td>2602</td>\n",
       "      <td>601-800</td>\n",
       "      <td>Yuan Ze University</td>\n",
       "      <td>Taiwan</td>\n",
       "      <td>16.2</td>\n",
       "      <td>17.7</td>\n",
       "      <td>18.3</td>\n",
       "      <td>28.6</td>\n",
       "      <td>39.8</td>\n",
       "      <td>-</td>\n",
       "      <td>8,663</td>\n",
       "      <td>20.6</td>\n",
       "      <td>4%</td>\n",
       "      <td>43 : 57</td>\n",
       "      <td>2016</td>\n",
       "      <td>yuanzeuniversity</td>\n",
       "    </tr>\n",
       "  </tbody>\n",
       "</table>\n",
       "<p>2603 rows × 16 columns</p>\n",
       "</div>"
      ],
      "text/plain": [
       "      Unnamed: 0 world_rank                        university_name  \\\n",
       "0              0          1                     Harvard University   \n",
       "1              1          2     California Institute of Technology   \n",
       "2              2          3  Massachusetts Institute of Technology   \n",
       "3              3          4                    Stanford University   \n",
       "4              4          5                   Princeton University   \n",
       "...          ...        ...                                    ...   \n",
       "2598        2598    601-800                    Yeungnam University   \n",
       "2599        2599    601-800            Yıldız Technical University   \n",
       "2600        2600    601-800               Yokohama City University   \n",
       "2601        2601    601-800           Yokohama National University   \n",
       "2602        2602    601-800                     Yuan Ze University   \n",
       "\n",
       "                       country  teaching international  research  citations  \\\n",
       "0     United States of America      99.7          72.4      98.7       98.8   \n",
       "1     United States of America      97.7          54.6      98.0       99.9   \n",
       "2     United States of America      97.8          82.3      91.4       99.9   \n",
       "3     United States of America      98.3          29.5      98.1       99.2   \n",
       "4     United States of America      90.9          70.3      95.4       99.9   \n",
       "...                        ...       ...           ...       ...        ...   \n",
       "2598               South Korea      18.6          24.3      10.9       26.5   \n",
       "2599                    Turkey      14.5          14.9       7.6       19.3   \n",
       "2600                     Japan      24.0          16.1      10.2       36.4   \n",
       "2601                     Japan      20.1          23.3      16.0       13.5   \n",
       "2602                    Taiwan      16.2          17.7      18.3       28.6   \n",
       "\n",
       "     income total_score num_students  student_staff_ratio  \\\n",
       "0      34.5        96.1       20,152                  8.9   \n",
       "1      83.7        96.0        2,243                  6.9   \n",
       "2      87.5        95.6       11,074                  9.0   \n",
       "3      64.3        94.3       15,596                  7.8   \n",
       "4         -        94.2        7,929                  8.4   \n",
       "...     ...         ...          ...                  ...   \n",
       "2598   35.4           -       21,958                 15.3   \n",
       "2599   44.0           -       31,268                 28.7   \n",
       "2600   37.9           -        4,122                  3.7   \n",
       "2601   40.4           -       10,117                 12.1   \n",
       "2602   39.8           -        8,663                 20.6   \n",
       "\n",
       "     international_students female_male_ratio  year  \\\n",
       "0                       25%               NaN  2011   \n",
       "1                       27%           33 : 67  2011   \n",
       "2                       33%           37 : 63  2011   \n",
       "3                       22%           42 : 58  2011   \n",
       "4                       27%           45 : 55  2011   \n",
       "...                     ...               ...   ...   \n",
       "2598                     3%           48 : 52  2016   \n",
       "2599                     2%           36 : 64  2016   \n",
       "2600                     3%               NaN  2016   \n",
       "2601                     8%           28 : 72  2016   \n",
       "2602                     4%           43 : 57  2016   \n",
       "\n",
       "                     uni_name_normalazed  \n",
       "0                      harvarduniversity  \n",
       "1        californiainstituteoftechnology  \n",
       "2     massachusettsinstituteoftechnology  \n",
       "3                     stanforduniversity  \n",
       "4                    princetonuniversity  \n",
       "...                                  ...  \n",
       "2598                  yeungnamuniversity  \n",
       "2599           yıldıztechnicaluniversity  \n",
       "2600              yokohamacityuniversity  \n",
       "2601          yokohamanationaluniversity  \n",
       "2602                    yuanzeuniversity  \n",
       "\n",
       "[2603 rows x 16 columns]"
      ]
     },
     "execution_count": 91,
     "metadata": {},
     "output_type": "execute_result"
    }
   ],
   "source": [
    "times_df"
   ]
  },
  {
   "cell_type": "code",
   "execution_count": 92,
   "metadata": {},
   "outputs": [],
   "source": [
    "times_uni = times_df[[\"university_name\",\"uni_name_normalazed\"]].groupby(\"uni_name_normalazed\").max()"
   ]
  },
  {
   "cell_type": "code",
   "execution_count": 93,
   "metadata": {},
   "outputs": [
    {
     "data": {
      "text/html": [
       "<div>\n",
       "<style scoped>\n",
       "    .dataframe tbody tr th:only-of-type {\n",
       "        vertical-align: middle;\n",
       "    }\n",
       "\n",
       "    .dataframe tbody tr th {\n",
       "        vertical-align: top;\n",
       "    }\n",
       "\n",
       "    .dataframe thead th {\n",
       "        text-align: right;\n",
       "    }\n",
       "</style>\n",
       "<table border=\"1\" class=\"dataframe\">\n",
       "  <thead>\n",
       "    <tr style=\"text-align: right;\">\n",
       "      <th></th>\n",
       "      <th>university_name</th>\n",
       "    </tr>\n",
       "    <tr>\n",
       "      <th>uni_name_normalazed</th>\n",
       "      <th></th>\n",
       "    </tr>\n",
       "  </thead>\n",
       "  <tbody>\n",
       "    <tr>\n",
       "      <th>aalborguniversity</th>\n",
       "      <td>Aalborg University</td>\n",
       "    </tr>\n",
       "    <tr>\n",
       "      <th>aaltouniversity</th>\n",
       "      <td>Aalto University</td>\n",
       "    </tr>\n",
       "    <tr>\n",
       "      <th>aarhusuniversity</th>\n",
       "      <td>Aarhus University</td>\n",
       "    </tr>\n",
       "    <tr>\n",
       "      <th>aberystwythuniversity</th>\n",
       "      <td>Aberystwyth University</td>\n",
       "    </tr>\n",
       "    <tr>\n",
       "      <th>adammickiewiczuniversity</th>\n",
       "      <td>Adam Mickiewicz University</td>\n",
       "    </tr>\n",
       "    <tr>\n",
       "      <th>...</th>\n",
       "      <td>...</td>\n",
       "    </tr>\n",
       "    <tr>\n",
       "      <th>écolenormalesupérieure</th>\n",
       "      <td>École Normale Supérieure</td>\n",
       "    </tr>\n",
       "    <tr>\n",
       "      <th>écolenormalesupérieuredelyon</th>\n",
       "      <td>École Normale Supérieure de Lyon</td>\n",
       "    </tr>\n",
       "    <tr>\n",
       "      <th>écolepolytechnique</th>\n",
       "      <td>École Polytechnique</td>\n",
       "    </tr>\n",
       "    <tr>\n",
       "      <th>écolepolytechniquefédéraledelausanne</th>\n",
       "      <td>École Polytechnique Fédérale de Lausanne</td>\n",
       "    </tr>\n",
       "    <tr>\n",
       "      <th>örebrouniversity</th>\n",
       "      <td>Örebro University</td>\n",
       "    </tr>\n",
       "  </tbody>\n",
       "</table>\n",
       "<p>818 rows × 1 columns</p>\n",
       "</div>"
      ],
      "text/plain": [
       "                                                               university_name\n",
       "uni_name_normalazed                                                           \n",
       "aalborguniversity                                           Aalborg University\n",
       "aaltouniversity                                               Aalto University\n",
       "aarhusuniversity                                             Aarhus University\n",
       "aberystwythuniversity                                   Aberystwyth University\n",
       "adammickiewiczuniversity                            Adam Mickiewicz University\n",
       "...                                                                        ...\n",
       "écolenormalesupérieure                                École Normale Supérieure\n",
       "écolenormalesupérieuredelyon                  École Normale Supérieure de Lyon\n",
       "écolepolytechnique                                         École Polytechnique\n",
       "écolepolytechniquefédéraledelausanne  École Polytechnique Fédérale de Lausanne\n",
       "örebrouniversity                                             Örebro University\n",
       "\n",
       "[818 rows x 1 columns]"
      ]
     },
     "execution_count": 93,
     "metadata": {},
     "output_type": "execute_result"
    }
   ],
   "source": [
    "times_uni"
   ]
  },
  {
   "cell_type": "code",
   "execution_count": 94,
   "metadata": {},
   "outputs": [],
   "source": [
    "shanghai_uni = shanghai_df[[\"university_name\",\"uni_name_normalazed\"]].groupby(\"uni_name_normalazed\").max()"
   ]
  },
  {
   "cell_type": "code",
   "execution_count": 95,
   "metadata": {},
   "outputs": [],
   "source": [
    "world_uni = world_df[[\"university_name\",\"uni_name_normalazed\"]].groupby(\"uni_name_normalazed\").max()"
   ]
  },
  {
   "cell_type": "code",
   "execution_count": 96,
   "metadata": {},
   "outputs": [],
   "source": [
    "all_uni = times_uni.append(shanghai_uni).append(world_uni)"
   ]
  },
  {
   "cell_type": "code",
   "execution_count": 97,
   "metadata": {},
   "outputs": [],
   "source": [
    "all_uni_group=all_uni.groupby(\"uni_name_normalazed\").count()"
   ]
  },
  {
   "cell_type": "code",
   "execution_count": 98,
   "metadata": {},
   "outputs": [],
   "source": [
    "#i want to take back normal university name so i make a join\n",
    "all_uni_count_merge = pd.merge(all_uni,all_uni_group, on=\"uni_name_normalazed\")"
   ]
  },
  {
   "cell_type": "code",
   "execution_count": 99,
   "metadata": {},
   "outputs": [],
   "source": [
    "# i have duplicates so i remove them, take off index, and rename all\n",
    "all_uni_count=all_uni_count_merge.drop_duplicates().reset_index()\\\n",
    "                .drop(\"uni_name_normalazed\" ,axis=1)\\\n",
    "                .rename(columns={'university_name_x': 'university_name','university_name_y':'count'}) "
   ]
  },
  {
   "cell_type": "code",
   "execution_count": 100,
   "metadata": {},
   "outputs": [
    {
     "data": {
      "text/html": [
       "<div>\n",
       "<style scoped>\n",
       "    .dataframe tbody tr th:only-of-type {\n",
       "        vertical-align: middle;\n",
       "    }\n",
       "\n",
       "    .dataframe tbody tr th {\n",
       "        vertical-align: top;\n",
       "    }\n",
       "\n",
       "    .dataframe thead th {\n",
       "        text-align: right;\n",
       "    }\n",
       "</style>\n",
       "<table border=\"1\" class=\"dataframe\">\n",
       "  <thead>\n",
       "    <tr style=\"text-align: right;\">\n",
       "      <th></th>\n",
       "      <th>university_name</th>\n",
       "      <th>count</th>\n",
       "    </tr>\n",
       "  </thead>\n",
       "  <tbody>\n",
       "    <tr>\n",
       "      <th>0</th>\n",
       "      <td>Aalborg University</td>\n",
       "      <td>3</td>\n",
       "    </tr>\n",
       "    <tr>\n",
       "      <th>1</th>\n",
       "      <td>Aalto University</td>\n",
       "      <td>3</td>\n",
       "    </tr>\n",
       "    <tr>\n",
       "      <th>2</th>\n",
       "      <td>Aarhus University</td>\n",
       "      <td>3</td>\n",
       "    </tr>\n",
       "    <tr>\n",
       "      <th>3</th>\n",
       "      <td>Aberystwyth University</td>\n",
       "      <td>2</td>\n",
       "    </tr>\n",
       "    <tr>\n",
       "      <th>4</th>\n",
       "      <td>Adam Mickiewicz University</td>\n",
       "      <td>1</td>\n",
       "    </tr>\n",
       "  </tbody>\n",
       "</table>\n",
       "</div>"
      ],
      "text/plain": [
       "              university_name  count\n",
       "0          Aalborg University      3\n",
       "1            Aalto University      3\n",
       "2           Aarhus University      3\n",
       "3      Aberystwyth University      2\n",
       "4  Adam Mickiewicz University      1"
      ]
     },
     "execution_count": 100,
     "metadata": {},
     "output_type": "execute_result"
    }
   ],
   "source": [
    "all_uni_count.head(5)"
   ]
  },
  {
   "cell_type": "markdown",
   "metadata": {},
   "source": [
    "## 11. In the times ranking, compute the number of times each university appears"
   ]
  },
  {
   "cell_type": "code",
   "execution_count": 101,
   "metadata": {},
   "outputs": [],
   "source": [
    "times_count_uni=times_df.copy()"
   ]
  },
  {
   "cell_type": "code",
   "execution_count": 102,
   "metadata": {},
   "outputs": [],
   "source": [
    "times_count_uni_pc =times_count_uni[[\"university_name\",\"uni_name_normalazed\"]]\\\n",
    "                    .groupby(\"university_name\" , as_index=False).count() \\\n",
    "                     .rename(columns={'uni_name_normalazed': 'count'}) "
   ]
  },
  {
   "cell_type": "code",
   "execution_count": 103,
   "metadata": {},
   "outputs": [
    {
     "data": {
      "text/html": [
       "<div>\n",
       "<style scoped>\n",
       "    .dataframe tbody tr th:only-of-type {\n",
       "        vertical-align: middle;\n",
       "    }\n",
       "\n",
       "    .dataframe tbody tr th {\n",
       "        vertical-align: top;\n",
       "    }\n",
       "\n",
       "    .dataframe thead th {\n",
       "        text-align: right;\n",
       "    }\n",
       "</style>\n",
       "<table border=\"1\" class=\"dataframe\">\n",
       "  <thead>\n",
       "    <tr style=\"text-align: right;\">\n",
       "      <th></th>\n",
       "      <th>university_name</th>\n",
       "      <th>count</th>\n",
       "    </tr>\n",
       "  </thead>\n",
       "  <tbody>\n",
       "    <tr>\n",
       "      <th>0</th>\n",
       "      <td>AGH University of Science and Technology</td>\n",
       "      <td>1</td>\n",
       "    </tr>\n",
       "    <tr>\n",
       "      <th>1</th>\n",
       "      <td>Aalborg University</td>\n",
       "      <td>5</td>\n",
       "    </tr>\n",
       "    <tr>\n",
       "      <th>2</th>\n",
       "      <td>Aalto University</td>\n",
       "      <td>5</td>\n",
       "    </tr>\n",
       "    <tr>\n",
       "      <th>3</th>\n",
       "      <td>Aarhus University</td>\n",
       "      <td>6</td>\n",
       "    </tr>\n",
       "    <tr>\n",
       "      <th>4</th>\n",
       "      <td>Aberystwyth University</td>\n",
       "      <td>5</td>\n",
       "    </tr>\n",
       "    <tr>\n",
       "      <th>5</th>\n",
       "      <td>Adam Mickiewicz University</td>\n",
       "      <td>1</td>\n",
       "    </tr>\n",
       "    <tr>\n",
       "      <th>6</th>\n",
       "      <td>Aix-Marseille University</td>\n",
       "      <td>1</td>\n",
       "    </tr>\n",
       "    <tr>\n",
       "      <th>7</th>\n",
       "      <td>Ajou University</td>\n",
       "      <td>1</td>\n",
       "    </tr>\n",
       "    <tr>\n",
       "      <th>8</th>\n",
       "      <td>Alexandria University</td>\n",
       "      <td>3</td>\n",
       "    </tr>\n",
       "    <tr>\n",
       "      <th>9</th>\n",
       "      <td>Alexandru Ioan Cuza University</td>\n",
       "      <td>1</td>\n",
       "    </tr>\n",
       "  </tbody>\n",
       "</table>\n",
       "</div>"
      ],
      "text/plain": [
       "                            university_name  count\n",
       "0  AGH University of Science and Technology      1\n",
       "1                        Aalborg University      5\n",
       "2                          Aalto University      5\n",
       "3                         Aarhus University      6\n",
       "4                    Aberystwyth University      5\n",
       "5                Adam Mickiewicz University      1\n",
       "6                  Aix-Marseille University      1\n",
       "7                           Ajou University      1\n",
       "8                     Alexandria University      3\n",
       "9            Alexandru Ioan Cuza University      1"
      ]
     },
     "execution_count": 103,
     "metadata": {},
     "output_type": "execute_result"
    }
   ],
   "source": [
    "times_count_uni_pc.head(10)"
   ]
  },
  {
   "cell_type": "markdown",
   "metadata": {},
   "source": [
    "## 12. Find the universities that appear at most twice in the times ranking."
   ]
  },
  {
   "cell_type": "code",
   "execution_count": 104,
   "metadata": {},
   "outputs": [],
   "source": [
    "uni_most_twice = times_count_uni_pc[times_count_uni_pc['count'] >= 2]"
   ]
  },
  {
   "cell_type": "code",
   "execution_count": 105,
   "metadata": {},
   "outputs": [
    {
     "data": {
      "text/html": [
       "<div>\n",
       "<style scoped>\n",
       "    .dataframe tbody tr th:only-of-type {\n",
       "        vertical-align: middle;\n",
       "    }\n",
       "\n",
       "    .dataframe tbody tr th {\n",
       "        vertical-align: top;\n",
       "    }\n",
       "\n",
       "    .dataframe thead th {\n",
       "        text-align: right;\n",
       "    }\n",
       "</style>\n",
       "<table border=\"1\" class=\"dataframe\">\n",
       "  <thead>\n",
       "    <tr style=\"text-align: right;\">\n",
       "      <th></th>\n",
       "      <th>university_name</th>\n",
       "      <th>count</th>\n",
       "    </tr>\n",
       "  </thead>\n",
       "  <tbody>\n",
       "    <tr>\n",
       "      <th>1</th>\n",
       "      <td>Aalborg University</td>\n",
       "      <td>5</td>\n",
       "    </tr>\n",
       "    <tr>\n",
       "      <th>2</th>\n",
       "      <td>Aalto University</td>\n",
       "      <td>5</td>\n",
       "    </tr>\n",
       "    <tr>\n",
       "      <th>3</th>\n",
       "      <td>Aarhus University</td>\n",
       "      <td>6</td>\n",
       "    </tr>\n",
       "    <tr>\n",
       "      <th>4</th>\n",
       "      <td>Aberystwyth University</td>\n",
       "      <td>5</td>\n",
       "    </tr>\n",
       "    <tr>\n",
       "      <th>8</th>\n",
       "      <td>Alexandria University</td>\n",
       "      <td>3</td>\n",
       "    </tr>\n",
       "  </tbody>\n",
       "</table>\n",
       "</div>"
      ],
      "text/plain": [
       "          university_name  count\n",
       "1      Aalborg University      5\n",
       "2        Aalto University      5\n",
       "3       Aarhus University      6\n",
       "4  Aberystwyth University      5\n",
       "8   Alexandria University      3"
      ]
     },
     "execution_count": 105,
     "metadata": {},
     "output_type": "execute_result"
    }
   ],
   "source": [
    "uni_most_twice.head(5)"
   ]
  },
  {
   "cell_type": "markdown",
   "metadata": {},
   "source": [
    "## 13. The universities that, in any year, have the same position in all three rankings (they must have the same position in a year)."
   ]
  },
  {
   "cell_type": "code",
   "execution_count": 106,
   "metadata": {},
   "outputs": [],
   "source": [
    "shanghai_no_range = shanghai_df[shanghai_df['world_rank'].str.contains('-')==False]"
   ]
  },
  {
   "cell_type": "code",
   "execution_count": 107,
   "metadata": {},
   "outputs": [],
   "source": [
    "times_no_range = times_df[times_df['world_rank'].str.contains('-')==False]"
   ]
  },
  {
   "cell_type": "code",
   "execution_count": null,
   "metadata": {},
   "outputs": [],
   "source": []
  },
  {
   "cell_type": "code",
   "execution_count": 108,
   "metadata": {},
   "outputs": [],
   "source": [
    "shanghai_no_range =shanghai_no_range[[\"uni_name_normalazed\",\"university_name\",\"world_rank\",\"year\"]]"
   ]
  },
  {
   "cell_type": "code",
   "execution_count": 109,
   "metadata": {},
   "outputs": [],
   "source": [
    "shanghai_no_range.world_rank = shanghai_no_range.world_rank.astype('int')"
   ]
  },
  {
   "cell_type": "code",
   "execution_count": 110,
   "metadata": {},
   "outputs": [],
   "source": [
    "times_no_range=times_no_range[[\"uni_name_normalazed\",\"university_name\",\"world_rank\",\"year\"]]"
   ]
  },
  {
   "cell_type": "code",
   "execution_count": 111,
   "metadata": {},
   "outputs": [],
   "source": [
    "times_no_range.world_rank=times_no_range.world_rank.astype('int')"
   ]
  },
  {
   "cell_type": "code",
   "execution_count": 112,
   "metadata": {},
   "outputs": [],
   "source": [
    "worlddf=world_df[world_df[\"world_rank\"].isnull() == False][[\"uni_name_normalazed\",\"university_name\",\"world_rank\",\"year\"]]"
   ]
  },
  {
   "cell_type": "code",
   "execution_count": 113,
   "metadata": {},
   "outputs": [],
   "source": [
    "first_union_df =pd.merge(shanghai_no_range,times_no_range,on=[\"uni_name_normalazed\",\"year\"])\\\n",
    "                            .drop(\"university_name_y\",axis=1)\\\n",
    "                             .rename(columns={'university_name_x': 'university','world_rank_x':'shanghai_rank','world_rank_y':'times_rank'}) "
   ]
  },
  {
   "cell_type": "code",
   "execution_count": 114,
   "metadata": {},
   "outputs": [
    {
     "data": {
      "text/html": [
       "<div>\n",
       "<style scoped>\n",
       "    .dataframe tbody tr th:only-of-type {\n",
       "        vertical-align: middle;\n",
       "    }\n",
       "\n",
       "    .dataframe tbody tr th {\n",
       "        vertical-align: top;\n",
       "    }\n",
       "\n",
       "    .dataframe thead th {\n",
       "        text-align: right;\n",
       "    }\n",
       "</style>\n",
       "<table border=\"1\" class=\"dataframe\">\n",
       "  <thead>\n",
       "    <tr style=\"text-align: right;\">\n",
       "      <th></th>\n",
       "      <th>uni_name_normalazed</th>\n",
       "      <th>university</th>\n",
       "      <th>shanghai_rank</th>\n",
       "      <th>year</th>\n",
       "      <th>times_rank</th>\n",
       "    </tr>\n",
       "  </thead>\n",
       "  <tbody>\n",
       "    <tr>\n",
       "      <th>0</th>\n",
       "      <td>harvarduniversity</td>\n",
       "      <td>Harvard University</td>\n",
       "      <td>1</td>\n",
       "      <td>2011</td>\n",
       "      <td>1</td>\n",
       "    </tr>\n",
       "    <tr>\n",
       "      <th>1</th>\n",
       "      <td>stanforduniversity</td>\n",
       "      <td>Stanford University</td>\n",
       "      <td>2</td>\n",
       "      <td>2011</td>\n",
       "      <td>4</td>\n",
       "    </tr>\n",
       "    <tr>\n",
       "      <th>2</th>\n",
       "      <td>universityofcaliforniaberkeley</td>\n",
       "      <td>University of California, Berkeley</td>\n",
       "      <td>4</td>\n",
       "      <td>2011</td>\n",
       "      <td>8</td>\n",
       "    </tr>\n",
       "    <tr>\n",
       "      <th>3</th>\n",
       "      <td>universityofcambridge</td>\n",
       "      <td>University of Cambridge</td>\n",
       "      <td>5</td>\n",
       "      <td>2011</td>\n",
       "      <td>6</td>\n",
       "    </tr>\n",
       "    <tr>\n",
       "      <th>4</th>\n",
       "      <td>californiainstituteoftechnology</td>\n",
       "      <td>California Institute of Technology</td>\n",
       "      <td>6</td>\n",
       "      <td>2011</td>\n",
       "      <td>2</td>\n",
       "    </tr>\n",
       "    <tr>\n",
       "      <th>...</th>\n",
       "      <td>...</td>\n",
       "      <td>...</td>\n",
       "      <td>...</td>\n",
       "      <td>...</td>\n",
       "      <td>...</td>\n",
       "    </tr>\n",
       "    <tr>\n",
       "      <th>316</th>\n",
       "      <td>mcmasteruniversity</td>\n",
       "      <td>McMaster University</td>\n",
       "      <td>96</td>\n",
       "      <td>2015</td>\n",
       "      <td>94</td>\n",
       "    </tr>\n",
       "    <tr>\n",
       "      <th>317</th>\n",
       "      <td>universityofbonn</td>\n",
       "      <td>University of Bonn</td>\n",
       "      <td>97</td>\n",
       "      <td>2015</td>\n",
       "      <td>195</td>\n",
       "    </tr>\n",
       "    <tr>\n",
       "      <th>318</th>\n",
       "      <td>vuuniversityamsterdam</td>\n",
       "      <td>VU University Amsterdam</td>\n",
       "      <td>98</td>\n",
       "      <td>2015</td>\n",
       "      <td>136</td>\n",
       "    </tr>\n",
       "    <tr>\n",
       "      <th>319</th>\n",
       "      <td>michiganstateuniversity</td>\n",
       "      <td>Michigan State University</td>\n",
       "      <td>99</td>\n",
       "      <td>2015</td>\n",
       "      <td>82</td>\n",
       "    </tr>\n",
       "    <tr>\n",
       "      <th>320</th>\n",
       "      <td>texasa&amp;muniversity</td>\n",
       "      <td>Texas A&amp;M University</td>\n",
       "      <td>100</td>\n",
       "      <td>2015</td>\n",
       "      <td>141</td>\n",
       "    </tr>\n",
       "  </tbody>\n",
       "</table>\n",
       "<p>321 rows × 5 columns</p>\n",
       "</div>"
      ],
      "text/plain": [
       "                 uni_name_normalazed                          university  \\\n",
       "0                  harvarduniversity                  Harvard University   \n",
       "1                 stanforduniversity                 Stanford University   \n",
       "2     universityofcaliforniaberkeley  University of California, Berkeley   \n",
       "3              universityofcambridge             University of Cambridge   \n",
       "4    californiainstituteoftechnology  California Institute of Technology   \n",
       "..                               ...                                 ...   \n",
       "316               mcmasteruniversity                 McMaster University   \n",
       "317                 universityofbonn                  University of Bonn   \n",
       "318            vuuniversityamsterdam             VU University Amsterdam   \n",
       "319          michiganstateuniversity           Michigan State University   \n",
       "320               texasa&muniversity                Texas A&M University   \n",
       "\n",
       "     shanghai_rank  year  times_rank  \n",
       "0                1  2011           1  \n",
       "1                2  2011           4  \n",
       "2                4  2011           8  \n",
       "3                5  2011           6  \n",
       "4                6  2011           2  \n",
       "..             ...   ...         ...  \n",
       "316             96  2015          94  \n",
       "317             97  2015         195  \n",
       "318             98  2015         136  \n",
       "319             99  2015          82  \n",
       "320            100  2015         141  \n",
       "\n",
       "[321 rows x 5 columns]"
      ]
     },
     "execution_count": 114,
     "metadata": {},
     "output_type": "execute_result"
    }
   ],
   "source": [
    "first_union_df"
   ]
  },
  {
   "cell_type": "code",
   "execution_count": 115,
   "metadata": {},
   "outputs": [],
   "source": [
    "same_position = pd.merge(first_union_df,worlddf, on=[\"uni_name_normalazed\",\"year\"] )\\\n",
    "                        .drop(['university_name','uni_name_normalazed'],axis=1)"
   ]
  },
  {
   "cell_type": "code",
   "execution_count": 116,
   "metadata": {},
   "outputs": [],
   "source": [
    "result = same_position[(same_position['shanghai_rank'] == same_position['times_rank'])\\\n",
    "                              & (same_position['times_rank'] == same_position['world_rank']) ]"
   ]
  },
  {
   "cell_type": "code",
   "execution_count": 117,
   "metadata": {},
   "outputs": [
    {
     "data": {
      "text/html": [
       "<div>\n",
       "<style scoped>\n",
       "    .dataframe tbody tr th:only-of-type {\n",
       "        vertical-align: middle;\n",
       "    }\n",
       "\n",
       "    .dataframe tbody tr th {\n",
       "        vertical-align: top;\n",
       "    }\n",
       "\n",
       "    .dataframe thead th {\n",
       "        text-align: right;\n",
       "    }\n",
       "</style>\n",
       "<table border=\"1\" class=\"dataframe\">\n",
       "  <thead>\n",
       "    <tr style=\"text-align: right;\">\n",
       "      <th></th>\n",
       "      <th>university</th>\n",
       "      <th>shanghai_rank</th>\n",
       "      <th>year</th>\n",
       "      <th>times_rank</th>\n",
       "      <th>world_rank</th>\n",
       "    </tr>\n",
       "  </thead>\n",
       "  <tbody>\n",
       "    <tr>\n",
       "      <th>51</th>\n",
       "      <td>Stanford University</td>\n",
       "      <td>2</td>\n",
       "      <td>2013</td>\n",
       "      <td>2</td>\n",
       "      <td>2</td>\n",
       "    </tr>\n",
       "  </tbody>\n",
       "</table>\n",
       "</div>"
      ],
      "text/plain": [
       "             university  shanghai_rank  year  times_rank  world_rank\n",
       "51  Stanford University              2  2013           2           2"
      ]
     },
     "execution_count": 117,
     "metadata": {},
     "output_type": "execute_result"
    }
   ],
   "source": [
    "result"
   ]
  },
  {
   "cell_type": "code",
   "execution_count": null,
   "metadata": {},
   "outputs": [],
   "source": []
  }
 ],
 "metadata": {
  "kernelspec": {
   "display_name": "Python 3",
   "language": "python",
   "name": "python3"
  },
  "language_info": {
   "codemirror_mode": {
    "name": "ipython",
    "version": 3
   },
   "file_extension": ".py",
   "mimetype": "text/x-python",
   "name": "python",
   "nbconvert_exporter": "python",
   "pygments_lexer": "ipython3",
   "version": "3.8.5"
  }
 },
 "nbformat": 4,
 "nbformat_minor": 4
}
